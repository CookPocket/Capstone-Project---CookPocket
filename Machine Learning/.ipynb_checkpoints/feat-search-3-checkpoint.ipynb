{
 "cells": [
  {
   "cell_type": "code",
   "execution_count": 28,
   "id": "609033ba-2ab0-4aba-a1f2-ecf1d6c5a2c3",
   "metadata": {},
   "outputs": [],
   "source": [
    "import pandas as pd\n",
    "import re\n",
    "import nltk\n",
    "from nltk.corpus import stopwords\n",
    "from nltk.stem import WordNetLemmatizer\n",
    "from gensim.models import Word2Vec\n",
    "from sklearn.metrics.pairwise import cosine_similarity\n",
    "from sklearn.feature_extraction.text import TfidfVectorizer\n",
    "import numpy as np\n",
    "\n",
    "# Load dataset\n",
    "file_path = './Data/all_data_resep.csv'\n",
    "data = pd.read_csv(file_path)\n",
    "\n",
    "# Gabungkan kolom-kolom yang relevan menjadi representasi teks tunggal\n",
    "data['Combined_Text'] = data['Title'] + \" \" + data['Ingredients'] + \" \" + data['Steps']\n",
    "\n",
    "# Tambahkan threshold untuk kolom 'Loves'\n",
    "threshold = 100\n",
    "data['Label'] = (data['Loves'] >= threshold).astype(int)"
   ]
  },
  {
   "cell_type": "code",
   "execution_count": 29,
   "id": "bf8787b8-0e34-43b3-ab00-5abd2bc28dac",
   "metadata": {},
   "outputs": [
    {
     "name": "stderr",
     "output_type": "stream",
     "text": [
      "[nltk_data] Downloading package wordnet to C:\\Users\\Santi\n",
      "[nltk_data]     Susanti\\AppData\\Roaming\\nltk_data...\n",
      "[nltk_data]   Package wordnet is already up-to-date!\n",
      "[nltk_data] Downloading package stopwords to C:\\Users\\Santi\n",
      "[nltk_data]     Susanti\\AppData\\Roaming\\nltk_data...\n",
      "[nltk_data]   Package stopwords is already up-to-date!\n"
     ]
    }
   ],
   "source": [
    "# Bersihkan teks\n",
    "nltk.download('wordnet')\n",
    "nltk.download('stopwords')\n",
    "\n",
    "def clean_text(text):\n",
    "    text = text.lower()\n",
    "    text = re.sub(r'[^a-zA-Z\\s]', '', text)\n",
    "    words = text.split()\n",
    "    stop_words = set(stopwords.words('indonesian'))\n",
    "    words = [word for word in words if word not in stop_words]\n",
    "    lemmatizer = WordNetLemmatizer()\n",
    "    words = [lemmatizer.lemmatize(word) for word in words]\n",
    "    return ' '.join(words)\n",
    "\n",
    "data['Cleaned_Text'] = data['Combined_Text'].apply(clean_text)"
   ]
  },
  {
   "cell_type": "code",
   "execution_count": 30,
   "id": "e4a54d99-4295-4c6e-91c3-98cc8ef711de",
   "metadata": {},
   "outputs": [
    {
     "data": {
      "text/html": [
       "<div>\n",
       "<style scoped>\n",
       "    .dataframe tbody tr th:only-of-type {\n",
       "        vertical-align: middle;\n",
       "    }\n",
       "\n",
       "    .dataframe tbody tr th {\n",
       "        vertical-align: top;\n",
       "    }\n",
       "\n",
       "    .dataframe thead th {\n",
       "        text-align: right;\n",
       "    }\n",
       "</style>\n",
       "<table border=\"1\" class=\"dataframe\">\n",
       "  <thead>\n",
       "    <tr style=\"text-align: right;\">\n",
       "      <th></th>\n",
       "      <th>Title</th>\n",
       "      <th>Ingredients</th>\n",
       "      <th>Steps</th>\n",
       "      <th>Loves</th>\n",
       "      <th>URL</th>\n",
       "      <th>Combined_Text</th>\n",
       "      <th>Label</th>\n",
       "      <th>Cleaned_Text</th>\n",
       "    </tr>\n",
       "  </thead>\n",
       "  <tbody>\n",
       "    <tr>\n",
       "      <th>0</th>\n",
       "      <td>Ayam Woku Manado</td>\n",
       "      <td>1 Ekor Ayam Kampung (potong 12)--2 Buah Jeruk ...</td>\n",
       "      <td>Cuci bersih ayam dan tiriskan. Lalu peras jeru...</td>\n",
       "      <td>1</td>\n",
       "      <td>/id/resep/4473027-ayam-woku-manado</td>\n",
       "      <td>Ayam Woku Manado 1 Ekor Ayam Kampung (potong 1...</td>\n",
       "      <td>0</td>\n",
       "      <td>ayam woku manado ekor ayam kampung potong buah...</td>\n",
       "    </tr>\n",
       "  </tbody>\n",
       "</table>\n",
       "</div>"
      ],
      "text/plain": [
       "              Title                                        Ingredients  \\\n",
       "0  Ayam Woku Manado  1 Ekor Ayam Kampung (potong 12)--2 Buah Jeruk ...   \n",
       "\n",
       "                                               Steps  Loves  \\\n",
       "0  Cuci bersih ayam dan tiriskan. Lalu peras jeru...      1   \n",
       "\n",
       "                                  URL  \\\n",
       "0  /id/resep/4473027-ayam-woku-manado   \n",
       "\n",
       "                                       Combined_Text  Label  \\\n",
       "0  Ayam Woku Manado 1 Ekor Ayam Kampung (potong 1...      0   \n",
       "\n",
       "                                        Cleaned_Text  \n",
       "0  ayam woku manado ekor ayam kampung potong buah...  "
      ]
     },
     "execution_count": 30,
     "metadata": {},
     "output_type": "execute_result"
    }
   ],
   "source": [
    "def clean_emoji(text):\n",
    "  if text is not None and isinstance(text, str):\n",
    "    emoji_pattern = re.compile(\"[\"\n",
    "        u\"\\U0001F600-\\U0001F64F\"\n",
    "        u\"\\U0001F300-\\U0001F5FF\"\n",
    "        u\"\\U0001F680-\\U0001F6FF\"\n",
    "        u\"\\U0001F700-\\U0001F77F\"\n",
    "        u\"\\U0001F780-\\U0001F7FF\"\n",
    "        u\"\\U0001F800-\\U0001F8FF\"\n",
    "        u\"\\U0001F900-\\U0001F9FF\"\n",
    "        u\"\\U0001FA00-\\U0001FA6F\"\n",
    "        u\"\\U0001FA70-\\U0001FAFF\"\n",
    "        u\"\\U00002702-\\U000027B0\"\n",
    "        u\"\\U000024C2-\\U0001F251\"\n",
    "        \"]+\", flags=re.UNICODE)\n",
    "    return emoji_pattern.sub(r'', text)\n",
    "\n",
    "for col in ['Ingredients', 'Title', 'Steps']:\n",
    "    data[col] = data[col].fillna('').apply(clean_emoji)\n",
    "data.head(1)"
   ]
  },
  {
   "cell_type": "code",
   "execution_count": 137,
   "id": "fb1a3e48-fb71-45fc-be91-59504c14e9db",
   "metadata": {},
   "outputs": [],
   "source": [
    "from sklearn.model_selection import train_test_split\n",
    "from sklearn.feature_extraction.text import TfidfVectorizer\n",
    "from imblearn.over_sampling import SMOTE\n",
    "\n",
    "# Menggunakan TfidfVectorizer untuk representasi teks\n",
    "tfidf_vectorizer = TfidfVectorizer(max_features=10000) \n",
    "tfidf_matrix = tfidf_vectorizer.fit_transform(data['Cleaned_Text']).toarray()\n",
    "\n",
    "# Membagi data menjadi train dan test\n",
    "X_train, X_val, y_train, y_val = train_test_split(\n",
    "    tfidf_matrix, data['Label'], test_size=0.2, random_state=42\n",
    ")\n",
    "\n",
    "# Oversampling dengan SMOTE untuk menangani ketidakseimbangan kelas\n",
    "smote = SMOTE(random_state=42)\n",
    "X_train_resampled, y_train_resampled = smote.fit_resample(X_train, y_train)\n",
    "\n",
    "# Mengkonversi data menjadi tensor dengan dtype=tf.float32\n",
    "X_train_resampled = tf.convert_to_tensor(X_train_resampled, dtype=tf.float32)\n",
    "X_val = tf.convert_to_tensor(X_val, dtype=tf.float32)\n",
    "y_train_resampled = tf.convert_to_tensor(y_train_resampled, dtype=tf.float32)\n",
    "y_val = tf.convert_to_tensor(y_val, dtype=tf.float32)\n"
   ]
  },
  {
   "cell_type": "code",
   "execution_count": 126,
   "id": "cc153a39-5580-4276-8f0a-5a128b48c02d",
   "metadata": {},
   "outputs": [
    {
     "name": "stderr",
     "output_type": "stream",
     "text": [
      "C:\\Users\\Santi Susanti\\AppData\\Local\\Programs\\Python\\Python312\\Lib\\site-packages\\keras\\src\\layers\\core\\dense.py:87: UserWarning: Do not pass an `input_shape`/`input_dim` argument to a layer. When using Sequential models, prefer using an `Input(shape)` object as the first layer in the model instead.\n",
      "  super().__init__(activity_regularizer=activity_regularizer, **kwargs)\n"
     ]
    },
    {
     "data": {
      "text/html": [
       "<pre style=\"white-space:pre;overflow-x:auto;line-height:normal;font-family:Menlo,'DejaVu Sans Mono',consolas,'Courier New',monospace\"><span style=\"font-weight: bold\">Model: \"sequential_6\"</span>\n",
       "</pre>\n"
      ],
      "text/plain": [
       "\u001b[1mModel: \"sequential_6\"\u001b[0m\n"
      ]
     },
     "metadata": {},
     "output_type": "display_data"
    },
    {
     "data": {
      "text/html": [
       "<pre style=\"white-space:pre;overflow-x:auto;line-height:normal;font-family:Menlo,'DejaVu Sans Mono',consolas,'Courier New',monospace\">┏━━━━━━━━━━━━━━━━━━━━━━━━━━━━━━━━━┳━━━━━━━━━━━━━━━━━━━━━━━━┳━━━━━━━━━━━━━━━┓\n",
       "┃<span style=\"font-weight: bold\"> Layer (type)                    </span>┃<span style=\"font-weight: bold\"> Output Shape           </span>┃<span style=\"font-weight: bold\">       Param # </span>┃\n",
       "┡━━━━━━━━━━━━━━━━━━━━━━━━━━━━━━━━━╇━━━━━━━━━━━━━━━━━━━━━━━━╇━━━━━━━━━━━━━━━┩\n",
       "│ dense_18 (<span style=\"color: #0087ff; text-decoration-color: #0087ff\">Dense</span>)                │ (<span style=\"color: #00d7ff; text-decoration-color: #00d7ff\">None</span>, <span style=\"color: #00af00; text-decoration-color: #00af00\">128</span>)            │     <span style=\"color: #00af00; text-decoration-color: #00af00\">1,280,128</span> │\n",
       "├─────────────────────────────────┼────────────────────────┼───────────────┤\n",
       "│ dropout_12 (<span style=\"color: #0087ff; text-decoration-color: #0087ff\">Dropout</span>)            │ (<span style=\"color: #00d7ff; text-decoration-color: #00d7ff\">None</span>, <span style=\"color: #00af00; text-decoration-color: #00af00\">128</span>)            │             <span style=\"color: #00af00; text-decoration-color: #00af00\">0</span> │\n",
       "├─────────────────────────────────┼────────────────────────┼───────────────┤\n",
       "│ dense_19 (<span style=\"color: #0087ff; text-decoration-color: #0087ff\">Dense</span>)                │ (<span style=\"color: #00d7ff; text-decoration-color: #00d7ff\">None</span>, <span style=\"color: #00af00; text-decoration-color: #00af00\">64</span>)             │         <span style=\"color: #00af00; text-decoration-color: #00af00\">8,256</span> │\n",
       "├─────────────────────────────────┼────────────────────────┼───────────────┤\n",
       "│ dropout_13 (<span style=\"color: #0087ff; text-decoration-color: #0087ff\">Dropout</span>)            │ (<span style=\"color: #00d7ff; text-decoration-color: #00d7ff\">None</span>, <span style=\"color: #00af00; text-decoration-color: #00af00\">64</span>)             │             <span style=\"color: #00af00; text-decoration-color: #00af00\">0</span> │\n",
       "├─────────────────────────────────┼────────────────────────┼───────────────┤\n",
       "│ dense_20 (<span style=\"color: #0087ff; text-decoration-color: #0087ff\">Dense</span>)                │ (<span style=\"color: #00d7ff; text-decoration-color: #00d7ff\">None</span>, <span style=\"color: #00af00; text-decoration-color: #00af00\">1</span>)              │            <span style=\"color: #00af00; text-decoration-color: #00af00\">65</span> │\n",
       "└─────────────────────────────────┴────────────────────────┴───────────────┘\n",
       "</pre>\n"
      ],
      "text/plain": [
       "┏━━━━━━━━━━━━━━━━━━━━━━━━━━━━━━━━━┳━━━━━━━━━━━━━━━━━━━━━━━━┳━━━━━━━━━━━━━━━┓\n",
       "┃\u001b[1m \u001b[0m\u001b[1mLayer (type)                   \u001b[0m\u001b[1m \u001b[0m┃\u001b[1m \u001b[0m\u001b[1mOutput Shape          \u001b[0m\u001b[1m \u001b[0m┃\u001b[1m \u001b[0m\u001b[1m      Param #\u001b[0m\u001b[1m \u001b[0m┃\n",
       "┡━━━━━━━━━━━━━━━━━━━━━━━━━━━━━━━━━╇━━━━━━━━━━━━━━━━━━━━━━━━╇━━━━━━━━━━━━━━━┩\n",
       "│ dense_18 (\u001b[38;5;33mDense\u001b[0m)                │ (\u001b[38;5;45mNone\u001b[0m, \u001b[38;5;34m128\u001b[0m)            │     \u001b[38;5;34m1,280,128\u001b[0m │\n",
       "├─────────────────────────────────┼────────────────────────┼───────────────┤\n",
       "│ dropout_12 (\u001b[38;5;33mDropout\u001b[0m)            │ (\u001b[38;5;45mNone\u001b[0m, \u001b[38;5;34m128\u001b[0m)            │             \u001b[38;5;34m0\u001b[0m │\n",
       "├─────────────────────────────────┼────────────────────────┼───────────────┤\n",
       "│ dense_19 (\u001b[38;5;33mDense\u001b[0m)                │ (\u001b[38;5;45mNone\u001b[0m, \u001b[38;5;34m64\u001b[0m)             │         \u001b[38;5;34m8,256\u001b[0m │\n",
       "├─────────────────────────────────┼────────────────────────┼───────────────┤\n",
       "│ dropout_13 (\u001b[38;5;33mDropout\u001b[0m)            │ (\u001b[38;5;45mNone\u001b[0m, \u001b[38;5;34m64\u001b[0m)             │             \u001b[38;5;34m0\u001b[0m │\n",
       "├─────────────────────────────────┼────────────────────────┼───────────────┤\n",
       "│ dense_20 (\u001b[38;5;33mDense\u001b[0m)                │ (\u001b[38;5;45mNone\u001b[0m, \u001b[38;5;34m1\u001b[0m)              │            \u001b[38;5;34m65\u001b[0m │\n",
       "└─────────────────────────────────┴────────────────────────┴───────────────┘\n"
      ]
     },
     "metadata": {},
     "output_type": "display_data"
    },
    {
     "data": {
      "text/html": [
       "<pre style=\"white-space:pre;overflow-x:auto;line-height:normal;font-family:Menlo,'DejaVu Sans Mono',consolas,'Courier New',monospace\"><span style=\"font-weight: bold\"> Total params: </span><span style=\"color: #00af00; text-decoration-color: #00af00\">1,288,449</span> (4.92 MB)\n",
       "</pre>\n"
      ],
      "text/plain": [
       "\u001b[1m Total params: \u001b[0m\u001b[38;5;34m1,288,449\u001b[0m (4.92 MB)\n"
      ]
     },
     "metadata": {},
     "output_type": "display_data"
    },
    {
     "data": {
      "text/html": [
       "<pre style=\"white-space:pre;overflow-x:auto;line-height:normal;font-family:Menlo,'DejaVu Sans Mono',consolas,'Courier New',monospace\"><span style=\"font-weight: bold\"> Trainable params: </span><span style=\"color: #00af00; text-decoration-color: #00af00\">1,288,449</span> (4.92 MB)\n",
       "</pre>\n"
      ],
      "text/plain": [
       "\u001b[1m Trainable params: \u001b[0m\u001b[38;5;34m1,288,449\u001b[0m (4.92 MB)\n"
      ]
     },
     "metadata": {},
     "output_type": "display_data"
    },
    {
     "data": {
      "text/html": [
       "<pre style=\"white-space:pre;overflow-x:auto;line-height:normal;font-family:Menlo,'DejaVu Sans Mono',consolas,'Courier New',monospace\"><span style=\"font-weight: bold\"> Non-trainable params: </span><span style=\"color: #00af00; text-decoration-color: #00af00\">0</span> (0.00 B)\n",
       "</pre>\n"
      ],
      "text/plain": [
       "\u001b[1m Non-trainable params: \u001b[0m\u001b[38;5;34m0\u001b[0m (0.00 B)\n"
      ]
     },
     "metadata": {},
     "output_type": "display_data"
    }
   ],
   "source": [
    "from tensorflow.keras.models import Sequential\n",
    "from tensorflow.keras.layers import Dense, Dropout, Input\n",
    "\n",
    "# Definisi model\n",
    "model = Sequential([\n",
    "    # Input sesuai dimensi TF-IDF\n",
    "    Dense(128, activation='relu', input_shape=(X_train.shape[1],)),  # Tetapkan input shape\n",
    "    Dropout(0.3),\n",
    "    Dense(64, activation='relu'),\n",
    "    Dropout(0.3),\n",
    "    Dense(1, activation='sigmoid')  \n",
    "])\n",
    "\n",
    "# Compile model\n",
    "model.compile(optimizer='adam', loss='binary_crossentropy', metrics=['accuracy'])\n",
    "\n",
    "# Ringkasan model\n",
    "model.summary()\n"
   ]
  },
  {
   "cell_type": "code",
   "execution_count": 127,
   "id": "15b41f56-a63e-4d91-bf75-44a391116fb1",
   "metadata": {},
   "outputs": [
    {
     "name": "stdout",
     "output_type": "stream",
     "text": [
      "Epoch 1/10\n",
      "\u001b[1m390/390\u001b[0m \u001b[32m━━━━━━━━━━━━━━━━━━━━\u001b[0m\u001b[37m\u001b[0m \u001b[1m21s\u001b[0m 42ms/step - accuracy: 0.9835 - loss: 0.1692 - val_accuracy: 0.9904 - val_loss: 0.0546\n",
      "Epoch 2/10\n",
      "\u001b[1m390/390\u001b[0m \u001b[32m━━━━━━━━━━━━━━━━━━━━\u001b[0m\u001b[37m\u001b[0m \u001b[1m18s\u001b[0m 45ms/step - accuracy: 0.9923 - loss: 0.0379 - val_accuracy: 0.9904 - val_loss: 0.0553\n",
      "Epoch 3/10\n",
      "\u001b[1m390/390\u001b[0m \u001b[32m━━━━━━━━━━━━━━━━━━━━\u001b[0m\u001b[37m\u001b[0m \u001b[1m12s\u001b[0m 31ms/step - accuracy: 0.9916 - loss: 0.0253 - val_accuracy: 0.9901 - val_loss: 0.0651\n",
      "Epoch 4/10\n",
      "\u001b[1m390/390\u001b[0m \u001b[32m━━━━━━━━━━━━━━━━━━━━\u001b[0m\u001b[37m\u001b[0m \u001b[1m13s\u001b[0m 34ms/step - accuracy: 0.9947 - loss: 0.0121 - val_accuracy: 0.9872 - val_loss: 0.0739\n",
      "Epoch 5/10\n",
      "\u001b[1m390/390\u001b[0m \u001b[32m━━━━━━━━━━━━━━━━━━━━\u001b[0m\u001b[37m\u001b[0m \u001b[1m14s\u001b[0m 35ms/step - accuracy: 0.9978 - loss: 0.0083 - val_accuracy: 0.9894 - val_loss: 0.1000\n",
      "Epoch 6/10\n",
      "\u001b[1m390/390\u001b[0m \u001b[32m━━━━━━━━━━━━━━━━━━━━\u001b[0m\u001b[37m\u001b[0m \u001b[1m13s\u001b[0m 34ms/step - accuracy: 0.9996 - loss: 0.0020 - val_accuracy: 0.9885 - val_loss: 0.1064\n",
      "Epoch 7/10\n",
      "\u001b[1m390/390\u001b[0m \u001b[32m━━━━━━━━━━━━━━━━━━━━\u001b[0m\u001b[37m\u001b[0m \u001b[1m13s\u001b[0m 33ms/step - accuracy: 0.9997 - loss: 0.0012 - val_accuracy: 0.9888 - val_loss: 0.1143\n",
      "Epoch 8/10\n",
      "\u001b[1m390/390\u001b[0m \u001b[32m━━━━━━━━━━━━━━━━━━━━\u001b[0m\u001b[37m\u001b[0m \u001b[1m14s\u001b[0m 35ms/step - accuracy: 0.9995 - loss: 0.0013 - val_accuracy: 0.9891 - val_loss: 0.1240\n",
      "Epoch 9/10\n",
      "\u001b[1m390/390\u001b[0m \u001b[32m━━━━━━━━━━━━━━━━━━━━\u001b[0m\u001b[37m\u001b[0m \u001b[1m29s\u001b[0m 56ms/step - accuracy: 0.9999 - loss: 6.8357e-04 - val_accuracy: 0.9878 - val_loss: 0.1252\n",
      "Epoch 10/10\n",
      "\u001b[1m390/390\u001b[0m \u001b[32m━━━━━━━━━━━━━━━━━━━━\u001b[0m\u001b[37m\u001b[0m \u001b[1m18s\u001b[0m 46ms/step - accuracy: 0.9999 - loss: 4.2619e-04 - val_accuracy: 0.9894 - val_loss: 0.1433\n",
      "\u001b[1m98/98\u001b[0m \u001b[32m━━━━━━━━━━━━━━━━━━━━\u001b[0m\u001b[37m\u001b[0m \u001b[1m4s\u001b[0m 37ms/step - accuracy: 0.9907 - loss: 0.1079\n",
      "Validation Loss: 0.1433001309633255\n",
      "Validation Accuracy: 0.98941969871521\n"
     ]
    }
   ],
   "source": [
    "history = model.fit(\n",
    "    X_train, y_train,\n",
    "    validation_data=(X_val, y_val),\n",
    "    epochs=10,  \n",
    "    batch_size=32,\n",
    "    verbose=1\n",
    ")\n",
    "\n",
    "# Evaluasi model\n",
    "loss, accuracy = model.evaluate(X_val, y_val)\n",
    "print(f\"Validation Loss: {loss}\")\n",
    "print(f\"Validation Accuracy: {accuracy}\")\n"
   ]
  },
  {
   "cell_type": "code",
   "execution_count": 128,
   "id": "f9e6399d-138e-40d2-bc4b-95a042dba9a5",
   "metadata": {},
   "outputs": [
    {
     "data": {
      "image/png": "[encoded data removed]",
      "text/plain": [
       "<Figure size 1200x600 with 2 Axes>"
      ]
     },
     "metadata": {},
     "output_type": "display_data"
    }
   ],
   "source": [
    "import matplotlib.pyplot as plt\n",
    "\n",
    "# Plot training history\n",
    "def plot_training_history(history):\n",
    "    plt.figure(figsize=(12, 6))\n",
    "    \n",
    "    # Plot loss\n",
    "    plt.subplot(1, 2, 1)\n",
    "    plt.plot(history.history['loss'], label='Train Loss')\n",
    "    plt.plot(history.history['val_loss'], label='Validation Loss')\n",
    "    plt.title('Loss During Training')\n",
    "    plt.xlabel('Epochs')\n",
    "    plt.ylabel('Loss')\n",
    "    plt.legend()\n",
    "    \n",
    "    # Plot accuracy\n",
    "    plt.subplot(1, 2, 2)\n",
    "    plt.plot(history.history['accuracy'], label='Train Accuracy')\n",
    "    plt.plot(history.history['val_accuracy'], label='Validation Accuracy')\n",
    "    plt.title('Accuracy During Training')\n",
    "    plt.xlabel('Epochs')\n",
    "    plt.ylabel('Accuracy')\n",
    "    plt.legend()\n",
    "    \n",
    "    plt.tight_layout()\n",
    "    plt.show()\n",
    "\n",
    "# Assuming 'history' exists, plot the training history\n",
    "plot_training_history(history)\n"
   ]
  },
  {
   "cell_type": "code",
   "execution_count": 129,
   "id": "24f69895-4a69-4557-a59a-76a4505dc7c0",
   "metadata": {},
   "outputs": [
    {
     "name": "stdout",
     "output_type": "stream",
     "text": [
      "\u001b[1m98/98\u001b[0m \u001b[32m━━━━━━━━━━━━━━━━━━━━\u001b[0m\u001b[37m\u001b[0m \u001b[1m1s\u001b[0m 7ms/step - accuracy: 0.9907 - loss: 0.1079\n",
      "Validation Loss: 0.1433001309633255\n",
      "Validation Accuracy: 0.98941969871521\n",
      "\u001b[1m98/98\u001b[0m \u001b[32m━━━━━━━━━━━━━━━━━━━━\u001b[0m\u001b[37m\u001b[0m \u001b[1m1s\u001b[0m 6ms/step\n",
      "\n",
      "Classification Report:\n",
      "              precision    recall  f1-score   support\n",
      "\n",
      "         0.0       0.99      1.00      0.99      3089\n",
      "         1.0       0.00      0.00      0.00        30\n",
      "\n",
      "    accuracy                           0.99      3119\n",
      "   macro avg       0.50      0.50      0.50      3119\n",
      "weighted avg       0.98      0.99      0.99      3119\n",
      "\n",
      "AUC-ROC Score: 0.6697420956080716\n"
     ]
    }
   ],
   "source": [
    "# Evaluasi model\n",
    "loss, accuracy = model.evaluate(X_val, y_val)\n",
    "print(f\"Validation Loss: {loss}\")\n",
    "print(f\"Validation Accuracy: {accuracy}\")\n",
    "\n",
    "# Evaluasi tambahan: classification report dan AUC-ROC score\n",
    "from sklearn.metrics import classification_report, roc_auc_score\n",
    "\n",
    "y_pred_val = model.predict(X_val).flatten()\n",
    "y_pred_val_binary = (y_pred_val > 0.5).astype(int)\n",
    "\n",
    "print(\"\\nClassification Report:\")\n",
    "print(classification_report(y_val, y_pred_val_binary))\n",
    "\n",
    "roc_auc = roc_auc_score(y_val, y_pred_val)\n",
    "print(f\"AUC-ROC Score: {roc_auc}\")"
   ]
  },
  {
   "cell_type": "code",
   "execution_count": 130,
   "id": "8fd14130-2f1c-4e1e-9c04-ffc7030e7fd3",
   "metadata": {},
   "outputs": [],
   "source": [
    "import numpy as np\n",
    "from sklearn.metrics.pairwise import cosine_similarity\n",
    "\n",
    "def recommend_recipes(query, data, tfidf_vectorizer, model, top_n=5):\n",
    "    # Bersihkan query\n",
    "    query_cleaned = clean_text(query)\n",
    "    query_vector = tfidf_vectorizer.transform([query_cleaned]).toarray()\n",
    "\n",
    "    # Hitung cosine similarity\n",
    "    # Menggunakan tfidf_matrix yang sudah dihitung sebelumnya\n",
    "    cosine_similarities = cosine_similarity(query_vector, tfidf_matrix).flatten()\n",
    "\n",
    "    # Urutkan berdasarkan cosine similarity dan loves\n",
    "    data['Cosine_Similarity'] = cosine_similarities\n",
    "    data_sorted = data.sort_values(by=['Cosine_Similarity', 'Loves'], ascending=[False, False])\n",
    "\n",
    "    # Mengambil rekomendasi teratas\n",
    "    return data_sorted[['Title', 'Ingredients', 'Steps', 'Cosine_Similarity', 'Loves']].head(top_n)\n"
   ]
  },
  {
   "cell_type": "code",
   "execution_count": 134,
   "id": "c2f4e1e9-69de-4b38-9f96-a8ea1490bf52",
   "metadata": {},
   "outputs": [
    {
     "name": "stdout",
     "output_type": "stream",
     "text": [
      "\n",
      "Recommended Recipes:\n",
      "                                         Title  \\\n",
      "3459                           Pindang Bandeng   \n",
      "13880               Udang panggang bumbu kecap   \n",
      "14426                   Udang panggang simple    \n",
      "14497                 Udang Panggang Rasa Madu   \n",
      "356    Salad Sayur Ayam Panggang (Tanpa Kulit)   \n",
      "\n",
      "                                             Ingredients  \\\n",
      "3459   1 Ekor Ikan Bandeng Putih (tidak terlalu bau l...   \n",
      "13880  secukupnya kecap manis--secukupnya margarin--1...   \n",
      "14426  100 gram udang, sekitar 11 udang--1 sdm saos s...   \n",
      "14497  15 ekor udang (aku pakai udang pancet)--1/2 bu...   \n",
      "356    Bahan ayam panggang:--1 potong dada ayam (bers...   \n",
      "\n",
      "                                                   Steps  Cosine_Similarity  \\\n",
      "3459   Masak air sampai mendidih, lalu masukkan bumbu...           0.480138   \n",
      "13880  Haluskan bumbu halus, kemudian tambahkan kecap...           0.461669   \n",
      "14426  Cuci bersih udang, siapkan wadah masukkan saos...           0.454058   \n",
      "14497  Cuci udang, belah punggung lalu bersihkan koto...           0.413602   \n",
      "356    Oleskan bahan-bahan ayam panggang satu per sat...           0.406000   \n",
      "\n",
      "       Loves  \n",
      "3459       3  \n",
      "13880      3  \n",
      "14426     36  \n",
      "14497     24  \n",
      "356        7  \n"
     ]
    }
   ],
   "source": [
    "# Contoh penggunaan fungsi rekomendasi\n",
    "query = \"udang panggang\"\n",
    "recommended_recipes = recommend_recipes(query, data, tfidf_vectorizer, model)\n",
    "print(\"\\nRecommended Recipes:\")\n",
    "print(recommended_recipes)"
   ]
  },
  {
   "cell_type": "code",
   "execution_count": 132,
   "id": "fa146413-641d-4751-8f24-d1d69adf15cb",
   "metadata": {},
   "outputs": [
    {
     "data": {
      "text/html": [
       "<div>\n",
       "<style scoped>\n",
       "    .dataframe tbody tr th:only-of-type {\n",
       "        vertical-align: middle;\n",
       "    }\n",
       "\n",
       "    .dataframe tbody tr th {\n",
       "        vertical-align: top;\n",
       "    }\n",
       "\n",
       "    .dataframe thead th {\n",
       "        text-align: right;\n",
       "    }\n",
       "</style>\n",
       "<table border=\"1\" class=\"dataframe\">\n",
       "  <thead>\n",
       "    <tr style=\"text-align: right;\">\n",
       "      <th></th>\n",
       "      <th>Title</th>\n",
       "      <th>Ingredients</th>\n",
       "      <th>Steps</th>\n",
       "      <th>Loves</th>\n",
       "      <th>URL</th>\n",
       "      <th>Combined_Text</th>\n",
       "      <th>Label</th>\n",
       "      <th>Cleaned_Text</th>\n",
       "      <th>Cosine_Similarity</th>\n",
       "      <th>Score</th>\n",
       "    </tr>\n",
       "  </thead>\n",
       "  <tbody>\n",
       "    <tr>\n",
       "      <th>0</th>\n",
       "      <td>Ayam Woku Manado</td>\n",
       "      <td>1 Ekor Ayam Kampung (potong 12)--2 Buah Jeruk ...</td>\n",
       "      <td>Cuci bersih ayam dan tiriskan. Lalu peras jeru...</td>\n",
       "      <td>1</td>\n",
       "      <td>/id/resep/4473027-ayam-woku-manado</td>\n",
       "      <td>Ayam Woku Manado 1 Ekor Ayam Kampung (potong 1...</td>\n",
       "      <td>0</td>\n",
       "      <td>ayam woku manado ekor ayam kampung potong buah...</td>\n",
       "      <td>0.0</td>\n",
       "      <td>0.108291</td>\n",
       "    </tr>\n",
       "    <tr>\n",
       "      <th>1</th>\n",
       "      <td>Ayam goreng tulang lunak</td>\n",
       "      <td>1 kg ayam (dipotong sesuai selera jangan kecil...</td>\n",
       "      <td>Haluskan bumbu2nya (BaPut, ketumbar, kemiri, k...</td>\n",
       "      <td>1</td>\n",
       "      <td>/id/resep/4471956-ayam-goreng-tulang-lunak</td>\n",
       "      <td>Ayam goreng tulang lunak 1 kg ayam (dipotong s...</td>\n",
       "      <td>0</td>\n",
       "      <td>ayam goreng tulang lunak kg ayam dipotong sesu...</td>\n",
       "      <td>0.0</td>\n",
       "      <td>0.110239</td>\n",
       "    </tr>\n",
       "    <tr>\n",
       "      <th>2</th>\n",
       "      <td>Ayam cabai kawin</td>\n",
       "      <td>1/4 kg ayam--3 buah cabai hijau besar--7 buah ...</td>\n",
       "      <td>Panaskan minyak di dalam wajan. Setelah minyak...</td>\n",
       "      <td>2</td>\n",
       "      <td>/id/resep/4473057-ayam-cabai-kawin</td>\n",
       "      <td>Ayam cabai kawin 1/4 kg ayam--3 buah cabai hij...</td>\n",
       "      <td>0</td>\n",
       "      <td>ayam cabai kawin kg ayam buah cabai hijau buah...</td>\n",
       "      <td>0.0</td>\n",
       "      <td>0.141099</td>\n",
       "    </tr>\n",
       "    <tr>\n",
       "      <th>3</th>\n",
       "      <td>Ayam Geprek</td>\n",
       "      <td>250 gr daging ayam (saya pakai fillet)--Secuku...</td>\n",
       "      <td>Goreng ayam seperti ayam krispi--Ulek semua ba...</td>\n",
       "      <td>10</td>\n",
       "      <td>/id/resep/4473023-ayam-geprek</td>\n",
       "      <td>Ayam Geprek 250 gr daging ayam (saya pakai fil...</td>\n",
       "      <td>0</td>\n",
       "      <td>ayam geprek gr daging ayam pakai filletsecukup...</td>\n",
       "      <td>0.0</td>\n",
       "      <td>0.168306</td>\n",
       "    </tr>\n",
       "    <tr>\n",
       "      <th>4</th>\n",
       "      <td>Minyak Ayam</td>\n",
       "      <td>400 gr kulit ayam &amp; lemaknya--8 siung bawang p...</td>\n",
       "      <td>Cuci bersih kulit ayam. Sisihkan--Ambil 50 ml ...</td>\n",
       "      <td>4</td>\n",
       "      <td>/id/resep/4427438-minyak-ayam</td>\n",
       "      <td>Minyak Ayam 400 gr kulit ayam &amp; lemaknya--8 si...</td>\n",
       "      <td>0</td>\n",
       "      <td>minyak ayam gr kulit ayam lemaknya siung bawan...</td>\n",
       "      <td>0.0</td>\n",
       "      <td>0.149805</td>\n",
       "    </tr>\n",
       "  </tbody>\n",
       "</table>\n",
       "</div>"
      ],
      "text/plain": [
       "                      Title  \\\n",
       "0          Ayam Woku Manado   \n",
       "1  Ayam goreng tulang lunak   \n",
       "2          Ayam cabai kawin   \n",
       "3               Ayam Geprek   \n",
       "4               Minyak Ayam   \n",
       "\n",
       "                                         Ingredients  \\\n",
       "0  1 Ekor Ayam Kampung (potong 12)--2 Buah Jeruk ...   \n",
       "1  1 kg ayam (dipotong sesuai selera jangan kecil...   \n",
       "2  1/4 kg ayam--3 buah cabai hijau besar--7 buah ...   \n",
       "3  250 gr daging ayam (saya pakai fillet)--Secuku...   \n",
       "4  400 gr kulit ayam & lemaknya--8 siung bawang p...   \n",
       "\n",
       "                                               Steps  Loves  \\\n",
       "0  Cuci bersih ayam dan tiriskan. Lalu peras jeru...      1   \n",
       "1  Haluskan bumbu2nya (BaPut, ketumbar, kemiri, k...      1   \n",
       "2  Panaskan minyak di dalam wajan. Setelah minyak...      2   \n",
       "3  Goreng ayam seperti ayam krispi--Ulek semua ba...     10   \n",
       "4  Cuci bersih kulit ayam. Sisihkan--Ambil 50 ml ...      4   \n",
       "\n",
       "                                          URL  \\\n",
       "0          /id/resep/4473027-ayam-woku-manado   \n",
       "1  /id/resep/4471956-ayam-goreng-tulang-lunak   \n",
       "2          /id/resep/4473057-ayam-cabai-kawin   \n",
       "3               /id/resep/4473023-ayam-geprek   \n",
       "4               /id/resep/4427438-minyak-ayam   \n",
       "\n",
       "                                       Combined_Text  Label  \\\n",
       "0  Ayam Woku Manado 1 Ekor Ayam Kampung (potong 1...      0   \n",
       "1  Ayam goreng tulang lunak 1 kg ayam (dipotong s...      0   \n",
       "2  Ayam cabai kawin 1/4 kg ayam--3 buah cabai hij...      0   \n",
       "3  Ayam Geprek 250 gr daging ayam (saya pakai fil...      0   \n",
       "4  Minyak Ayam 400 gr kulit ayam & lemaknya--8 si...      0   \n",
       "\n",
       "                                        Cleaned_Text  Cosine_Similarity  \\\n",
       "0  ayam woku manado ekor ayam kampung potong buah...                0.0   \n",
       "1  ayam goreng tulang lunak kg ayam dipotong sesu...                0.0   \n",
       "2  ayam cabai kawin kg ayam buah cabai hijau buah...                0.0   \n",
       "3  ayam geprek gr daging ayam pakai filletsecukup...                0.0   \n",
       "4  minyak ayam gr kulit ayam lemaknya siung bawan...                0.0   \n",
       "\n",
       "      Score  \n",
       "0  0.108291  \n",
       "1  0.110239  \n",
       "2  0.141099  \n",
       "3  0.168306  \n",
       "4  0.149805  "
      ]
     },
     "execution_count": 132,
     "metadata": {},
     "output_type": "execute_result"
    }
   ],
   "source": [
    "data.head()"
   ]
  },
  {
   "cell_type": "code",
   "execution_count": 133,
   "id": "9cefa4e4-21da-4212-ab73-4f5595253384",
   "metadata": {},
   "outputs": [],
   "source": [
    "# !pip install -r requirements.txt"
   ]
  },
  {
   "cell_type": "code",
   "execution_count": 106,
   "id": "6734946c-1d6a-4998-a860-8b5d1faaa6a0",
   "metadata": {},
   "outputs": [],
   "source": [
    "# !pip install tensorflowjs"
   ]
  },
  {
   "cell_type": "code",
   "execution_count": 107,
   "id": "43998358-d920-419f-a530-0a188d5e666a",
   "metadata": {},
   "outputs": [
    {
     "name": "stderr",
     "output_type": "stream",
     "text": [
      "WARNING:absl:You are saving your model as an HDF5 file via `model.save()` or `keras.saving.save_model(model)`. This file format is considered legacy. We recommend using instead the native Keras format, e.g. `model.save('my_model.keras')` or `keras.saving.save_model(model, 'my_model.keras')`. \n"
     ]
    }
   ],
   "source": [
    "# Save Model ke h5\n",
    "model.save('feat-search.h5')"
   ]
  },
  {
   "cell_type": "code",
   "execution_count": 40,
   "id": "e4af49cd-eed8-47c4-b369-f145b8f0cba9",
   "metadata": {},
   "outputs": [
    {
     "ename": "SyntaxError",
     "evalue": "invalid syntax (2032534986.py, line 2)",
     "output_type": "error",
     "traceback": [
      "\u001b[1;36m  Cell \u001b[1;32mIn[40], line 2\u001b[1;36m\u001b[0m\n\u001b[1;33m    tensorflowjs_converter --input_format keras model_recipes.h5 tfjs_model/\u001b[0m\n\u001b[1;37m                                          ^\u001b[0m\n\u001b[1;31mSyntaxError\u001b[0m\u001b[1;31m:\u001b[0m invalid syntax\n"
     ]
    }
   ],
   "source": [
    "# # Convert to tensorflowjs\n",
    "# tensorflowjs_converter --input_format keras model_recipes.h5 tfjs_model/"
   ]
  },
  {
   "cell_type": "code",
   "execution_count": null,
   "id": "31d8bed3-ee33-4bb6-a1db-bc328d5f9496",
   "metadata": {},
   "outputs": [],
   "source": [
    "# from flask import Flask, request, jsonify\n",
    "\n",
    "# app = Flask(__name__)\n",
    "\n",
    "# # Endpoint untuk mendapatkan rekomendasi\n",
    "# @app.route('/recommend', methods=['POST'])\n",
    "# def recommend():\n",
    "#     query = request.json.get('query', '')\n",
    "#     top_n = int(request.json.get('top_n', 5))\n",
    "#     recommendations = recommend_recipes(query, data, word2vec_model, top_n)\n",
    "#     response = recommendations[['Title', 'Ingredients', 'Steps', 'Loves']].to_dict(orient='records')\n",
    "#     return jsonify(response)\n",
    "\n",
    "# if __name__ == '__main__':\n",
    "#     app.run(debug=True)\n"
   ]
  }
 ],
 "metadata": {
  "kernelspec": {
   "display_name": "Python 3 (ipykernel)",
   "language": "python",
   "name": "python3"
  },
  "language_info": {
   "codemirror_mode": {
    "name": "ipython",
    "version": 3
   },
   "file_extension": ".py",
   "mimetype": "text/x-python",
   "name": "python",
   "nbconvert_exporter": "python",
   "pygments_lexer": "ipython3",
   "version": "3.12.1"
  }
 },
 "nbformat": 4,
 "nbformat_minor": 5
}
