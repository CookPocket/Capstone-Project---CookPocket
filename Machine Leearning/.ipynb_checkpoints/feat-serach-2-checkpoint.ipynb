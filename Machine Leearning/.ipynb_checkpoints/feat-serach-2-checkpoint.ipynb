{
 "cells": [
  {
   "cell_type": "code",
<<<<<<< HEAD
   "execution_count": 203,
=======
   "execution_count": 1,
>>>>>>> 91bb1452e962976921a7ef862507ecfe05c55e9a
   "id": "7ca37852-b52a-4144-aba6-917c16a7f9ed",
   "metadata": {},
   "outputs": [],
   "source": [
<<<<<<< HEAD
    "import json\n",
    "import pandas as pd\n",
    "import re\n",
    "import nltk\n",
    "import tensorflow as tf\n",
    "import numpy as np\n",
=======
    "import pandas as pd\n",
    "import re\n",
    "import nltk\n",
>>>>>>> 91bb1452e962976921a7ef862507ecfe05c55e9a
    "from nltk.corpus import stopwords\n",
    "from nltk.stem import WordNetLemmatizer\n",
    "from gensim.models import Word2Vec\n",
    "from sklearn.metrics.pairwise import cosine_similarity\n",
<<<<<<< HEAD
    "from sklearn.model_selection import train_test_split\n",
    "from tensorflow.keras.models import Sequential\n",
    "from tensorflow.keras.layers import Dense, Dropout\n",
    "from tensorflow.keras import layers, models, regularizers\n",
    "from tensorflow.keras.callbacks import EarlyStopping, ReduceLROnPlateau\n",
    "from Sastrawi.StopWordRemover.StopWordRemoverFactory import StopWordRemoverFactory\n",
=======
    "from sklearn.feature_extraction.text import TfidfVectorizer\n",
    "import numpy as np\n",
>>>>>>> 91bb1452e962976921a7ef862507ecfe05c55e9a
    "\n",
    "# Load dataset\n",
    "file_path = './Data/all_data_resep.csv'\n",
    "data = pd.read_csv(file_path)\n",
    "\n",
<<<<<<< HEAD
    "# Gabungkan kolom-kolom yang relevan \n",
    "data['Combined_Text'] = data['Title'] + \" \" + data['Ingredients'] + \" \" + data['Steps']\n",
    "\n",
    "# Tambahkan threshold untuk kolom 'Loves'\n",
    "threshold = 59\n",
=======
    "# Gabungkan kolom-kolom yang relevan menjadi representasi teks tunggal\n",
    "data['Combined_Text'] = data['Title'] + \" \" + data['Ingredients'] + \" \" + data['Steps']\n",
    "\n",
    "# Tambahkan threshold untuk kolom 'Loves'\n",
    "threshold = 100\n",
>>>>>>> 91bb1452e962976921a7ef862507ecfe05c55e9a
    "data['Label'] = (data['Loves'] >= threshold).astype(int)"
   ]
  },
  {
   "cell_type": "code",
<<<<<<< HEAD
   "execution_count": 226,
=======
   "execution_count": 2,
>>>>>>> 91bb1452e962976921a7ef862507ecfe05c55e9a
   "id": "f9caac9e-5387-4686-8bbf-ebf5e473d541",
   "metadata": {},
   "outputs": [
    {
     "name": "stderr",
     "output_type": "stream",
     "text": [
      "[nltk_data] Downloading package wordnet to C:\\Users\\Santi\n",
      "[nltk_data]     Susanti\\AppData\\Roaming\\nltk_data...\n",
      "[nltk_data]   Package wordnet is already up-to-date!\n",
      "[nltk_data] Downloading package stopwords to C:\\Users\\Santi\n",
      "[nltk_data]     Susanti\\AppData\\Roaming\\nltk_data...\n",
      "[nltk_data]   Package stopwords is already up-to-date!\n"
     ]
    }
   ],
   "source": [
    "# Bersihkan teks\n",
    "nltk.download('wordnet')\n",
    "nltk.download('stopwords')\n",
    "\n",
<<<<<<< HEAD
    "factory = StopWordRemoverFactory()\n",
    "stopword = factory.create_stop_word_remover()\n",
    "\n",
    "def clean_text(text):\n",
    "    text = text.lower()\n",
    "    text = text.replace('--', ',')  \n",
    "    # text = re.sub(r'[^a-zA-Z\\s]', '', text)\n",
    "    text = stopword.remove(text)\n",
    "    words = text.split()\n",
=======
    "def clean_text(text):\n",
    "    text = text.lower()\n",
    "    text = re.sub(r'[^a-zA-Z\\s]', '', text)\n",
    "    words = text.split()\n",
    "    stop_words = set(stopwords.words('indonesian'))\n",
    "    words = [word for word in words if word not in stop_words]\n",
>>>>>>> 91bb1452e962976921a7ef862507ecfe05c55e9a
    "    lemmatizer = WordNetLemmatizer()\n",
    "    words = [lemmatizer.lemmatize(word) for word in words]\n",
    "    return ' '.join(words)\n",
    "\n",
<<<<<<< HEAD
    "# data['Ingredients'] = data['Ingredients'].fillna('').apply(clean_text)\n",
    "data['Ingredients'] = data['Ingredients'].fillna('').apply(clean_text)\n",
    "data['Steps'] = data['Steps'].fillna('').apply(clean_text)\n",
=======
>>>>>>> 91bb1452e962976921a7ef862507ecfe05c55e9a
    "data['Cleaned_Text'] = data['Combined_Text'].apply(clean_text)"
   ]
  },
  {
   "cell_type": "code",
<<<<<<< HEAD
   "execution_count": 227,
=======
   "execution_count": 3,
>>>>>>> 91bb1452e962976921a7ef862507ecfe05c55e9a
   "id": "f63ec4a6-c9b7-47ce-8fe2-642d09ba9767",
   "metadata": {},
   "outputs": [
    {
     "data": {
      "text/html": [
       "<div>\n",
       "<style scoped>\n",
       "    .dataframe tbody tr th:only-of-type {\n",
       "        vertical-align: middle;\n",
       "    }\n",
       "\n",
       "    .dataframe tbody tr th {\n",
       "        vertical-align: top;\n",
       "    }\n",
       "\n",
       "    .dataframe thead th {\n",
       "        text-align: right;\n",
       "    }\n",
       "</style>\n",
       "<table border=\"1\" class=\"dataframe\">\n",
       "  <thead>\n",
       "    <tr style=\"text-align: right;\">\n",
       "      <th></th>\n",
       "      <th>Title</th>\n",
       "      <th>Ingredients</th>\n",
       "      <th>Steps</th>\n",
       "      <th>Loves</th>\n",
       "      <th>URL</th>\n",
       "      <th>Combined_Text</th>\n",
       "      <th>Label</th>\n",
       "      <th>Cleaned_Text</th>\n",
<<<<<<< HEAD
       "      <th>Tokenized_Text</th>\n",
       "      <th>Embedding</th>\n",
=======
>>>>>>> 91bb1452e962976921a7ef862507ecfe05c55e9a
       "    </tr>\n",
       "  </thead>\n",
       "  <tbody>\n",
       "    <tr>\n",
       "      <th>0</th>\n",
       "      <td>Ayam Woku Manado</td>\n",
<<<<<<< HEAD
       "      <td>ekor ayam kampung potong buah jeruk nipis sdm ...</td>\n",
       "      <td>cuci bersih ayam tiriskan lalu peras jeruk nip...</td>\n",
=======
       "      <td>1 Ekor Ayam Kampung (potong 12)--2 Buah Jeruk ...</td>\n",
       "      <td>Cuci bersih ayam dan tiriskan. Lalu peras jeru...</td>\n",
>>>>>>> 91bb1452e962976921a7ef862507ecfe05c55e9a
       "      <td>1</td>\n",
       "      <td>/id/resep/4473027-ayam-woku-manado</td>\n",
       "      <td>Ayam Woku Manado 1 Ekor Ayam Kampung (potong 1...</td>\n",
       "      <td>0</td>\n",
<<<<<<< HEAD
       "      <td>ayam woku manado 1 ekor ayam kampung (potong 1...</td>\n",
       "      <td>[ayam, woku, manado, ekor, ayam, kampung, poto...</td>\n",
       "      <td>[-0.00032549343, -0.29343486, 0.09454221, -0.0...</td>\n",
=======
       "      <td>ayam woku manado ekor ayam kampung potong buah...</td>\n",
>>>>>>> 91bb1452e962976921a7ef862507ecfe05c55e9a
       "    </tr>\n",
       "  </tbody>\n",
       "</table>\n",
       "</div>"
      ],
      "text/plain": [
       "              Title                                        Ingredients  \\\n",
<<<<<<< HEAD
       "0  Ayam Woku Manado  ekor ayam kampung potong buah jeruk nipis sdm ...   \n",
       "\n",
       "                                               Steps  Loves  \\\n",
       "0  cuci bersih ayam tiriskan lalu peras jeruk nip...      1   \n",
=======
       "0  Ayam Woku Manado  1 Ekor Ayam Kampung (potong 12)--2 Buah Jeruk ...   \n",
       "\n",
       "                                               Steps  Loves  \\\n",
       "0  Cuci bersih ayam dan tiriskan. Lalu peras jeru...      1   \n",
>>>>>>> 91bb1452e962976921a7ef862507ecfe05c55e9a
       "\n",
       "                                  URL  \\\n",
       "0  /id/resep/4473027-ayam-woku-manado   \n",
       "\n",
       "                                       Combined_Text  Label  \\\n",
       "0  Ayam Woku Manado 1 Ekor Ayam Kampung (potong 1...      0   \n",
       "\n",
<<<<<<< HEAD
       "                                        Cleaned_Text  \\\n",
       "0  ayam woku manado 1 ekor ayam kampung (potong 1...   \n",
       "\n",
       "                                      Tokenized_Text  \\\n",
       "0  [ayam, woku, manado, ekor, ayam, kampung, poto...   \n",
       "\n",
       "                                           Embedding  \n",
       "0  [-0.00032549343, -0.29343486, 0.09454221, -0.0...  "
      ]
     },
     "execution_count": 227,
=======
       "                                        Cleaned_Text  \n",
       "0  ayam woku manado ekor ayam kampung potong buah...  "
      ]
     },
     "execution_count": 3,
>>>>>>> 91bb1452e962976921a7ef862507ecfe05c55e9a
     "metadata": {},
     "output_type": "execute_result"
    }
   ],
   "source": [
<<<<<<< HEAD
    "# Menghapus emoji \n",
=======
>>>>>>> 91bb1452e962976921a7ef862507ecfe05c55e9a
    "def clean_emoji(text):\n",
    "  if text is not None and isinstance(text, str):\n",
    "    emoji_pattern = re.compile(\"[\"\n",
    "        u\"\\U0001F600-\\U0001F64F\"\n",
    "        u\"\\U0001F300-\\U0001F5FF\"\n",
    "        u\"\\U0001F680-\\U0001F6FF\"\n",
    "        u\"\\U0001F700-\\U0001F77F\"\n",
    "        u\"\\U0001F780-\\U0001F7FF\"\n",
    "        u\"\\U0001F800-\\U0001F8FF\"\n",
    "        u\"\\U0001F900-\\U0001F9FF\"\n",
    "        u\"\\U0001FA00-\\U0001FA6F\"\n",
    "        u\"\\U0001FA70-\\U0001FAFF\"\n",
    "        u\"\\U00002702-\\U000027B0\"\n",
    "        u\"\\U000024C2-\\U0001F251\"\n",
    "        \"]+\", flags=re.UNICODE)\n",
    "    return emoji_pattern.sub(r'', text)\n",
    "\n",
<<<<<<< HEAD
    "data['Title'] = data['Title'].apply(clean_emoji)\n",
    "data['Ingredients'] = data['Ingredients'].apply(clean_emoji)\n",
    "data['Steps'] = data['Steps'].apply(clean_emoji)\n",
    "data['Combined_Text'] = data['Combined_Text'].apply(clean_emoji)\n",
=======
    "for col in ['Ingredients', 'Title', 'Steps']:\n",
    "    data[col] = data[col].fillna('').apply(clean_emoji)\n",
>>>>>>> 91bb1452e962976921a7ef862507ecfe05c55e9a
    "data.head(1)"
   ]
  },
  {
   "cell_type": "code",
<<<<<<< HEAD
   "execution_count": 228,
=======
   "execution_count": 4,
   "id": "57ec950b-27a0-47e3-a39d-c2d58a9b1f8f",
   "metadata": {},
   "outputs": [],
   "source": [
    "import tensorflow as tf\n",
    "\n",
    "# Initialize TF-IDF Vectorizer\n",
    "tfidf_vectorizer = TfidfVectorizer(max_features=500)\n",
    "tfidf_matrix = tfidf_vectorizer.fit_transform(data['Cleaned_Text'])\n",
    "\n",
    "# Convert TF-IDF matrix to TensorFlow tensor\n",
    "tfidf_tensor = tf.convert_to_tensor(tfidf_matrix.toarray(), dtype=tf.float32)"
   ]
  },
  {
   "cell_type": "code",
   "execution_count": 5,
>>>>>>> 91bb1452e962976921a7ef862507ecfe05c55e9a
   "id": "5b3ae9cd-d330-413b-8ae7-433aa602a9ec",
   "metadata": {},
   "outputs": [],
   "source": [
    "# Tokenisasi data teks yang sudah dibersihkan\n",
    "data['Tokenized_Text'] = data['Cleaned_Text'].apply(lambda x: x.split())\n",
    "\n",
<<<<<<< HEAD
=======
    "# Melatih model Word2Vec\n",
>>>>>>> 91bb1452e962976921a7ef862507ecfe05c55e9a
    "word2vec_model = Word2Vec(\n",
    "    sentences=data['Tokenized_Text'], \n",
    "    vector_size=100, \n",
    "    window=5, \n",
    "    min_count=1, \n",
    "    workers=4, \n",
    "    sg=1\n",
    ")\n",
    "\n",
    "# Simpan model untuk digunakan kembali\n",
    "# word2vec_model.save(\"word2vec_resep.model\")"
   ]
  },
  {
   "cell_type": "code",
<<<<<<< HEAD
   "execution_count": 229,
=======
   "execution_count": 6,
>>>>>>> 91bb1452e962976921a7ef862507ecfe05c55e9a
   "id": "996e66b7-0531-4aef-ab8b-d1e78cd64b1b",
   "metadata": {},
   "outputs": [],
   "source": [
    "# Fungsi untuk menghitung rata-rata embedding sebuah dokumen\n",
    "def document_embedding(text, model, vector_size=100):\n",
    "    words = text.split()\n",
    "    word_vectors = [model.wv[word] for word in words if word in model.wv]\n",
    "    if len(word_vectors) > 0:\n",
    "        return np.mean(word_vectors, axis=0)\n",
    "    else:\n",
    "        return np.zeros(vector_size)\n",
    "\n",
<<<<<<< HEAD
=======
    "# Terapkan fungsi ini ke seluruh dataset\n",
>>>>>>> 91bb1452e962976921a7ef862507ecfe05c55e9a
    "data['Embedding'] = data['Cleaned_Text'].apply(\n",
    "    lambda x: document_embedding(x, word2vec_model, vector_size=100)\n",
    ")\n"
   ]
  },
  {
   "cell_type": "code",
<<<<<<< HEAD
   "execution_count": 230,
=======
   "execution_count": 7,
>>>>>>> 91bb1452e962976921a7ef862507ecfe05c55e9a
   "id": "f2acbe26-e852-40f2-950f-a79fc0595036",
   "metadata": {},
   "outputs": [
    {
     "data": {
      "text/html": [
       "<div>\n",
       "<style scoped>\n",
       "    .dataframe tbody tr th:only-of-type {\n",
       "        vertical-align: middle;\n",
       "    }\n",
       "\n",
       "    .dataframe tbody tr th {\n",
       "        vertical-align: top;\n",
       "    }\n",
       "\n",
       "    .dataframe thead th {\n",
       "        text-align: right;\n",
       "    }\n",
       "</style>\n",
       "<table border=\"1\" class=\"dataframe\">\n",
       "  <thead>\n",
       "    <tr style=\"text-align: right;\">\n",
       "      <th></th>\n",
       "      <th>Title</th>\n",
       "      <th>Ingredients</th>\n",
       "      <th>Steps</th>\n",
       "      <th>Loves</th>\n",
       "      <th>URL</th>\n",
       "      <th>Combined_Text</th>\n",
       "      <th>Label</th>\n",
       "      <th>Cleaned_Text</th>\n",
       "      <th>Tokenized_Text</th>\n",
       "      <th>Embedding</th>\n",
       "    </tr>\n",
       "  </thead>\n",
       "  <tbody>\n",
       "    <tr>\n",
       "      <th>0</th>\n",
       "      <td>Ayam Woku Manado</td>\n",
<<<<<<< HEAD
       "      <td>ekor ayam kampung potong buah jeruk nipis sdm ...</td>\n",
       "      <td>cuci bersih ayam tiriskan lalu peras jeruk nip...</td>\n",
=======
       "      <td>1 Ekor Ayam Kampung (potong 12)--2 Buah Jeruk ...</td>\n",
       "      <td>Cuci bersih ayam dan tiriskan. Lalu peras jeru...</td>\n",
>>>>>>> 91bb1452e962976921a7ef862507ecfe05c55e9a
       "      <td>1</td>\n",
       "      <td>/id/resep/4473027-ayam-woku-manado</td>\n",
       "      <td>Ayam Woku Manado 1 Ekor Ayam Kampung (potong 1...</td>\n",
       "      <td>0</td>\n",
<<<<<<< HEAD
       "      <td>ayam woku manado 1 ekor ayam kampung (potong 1...</td>\n",
       "      <td>[ayam, woku, manado, 1, ekor, ayam, kampung, (...</td>\n",
       "      <td>[-0.039545916, 0.3990877, 0.20446321, -0.17988...</td>\n",
=======
       "      <td>ayam woku manado ekor ayam kampung potong buah...</td>\n",
       "      <td>[ayam, woku, manado, ekor, ayam, kampung, poto...</td>\n",
       "      <td>[0.19879414, 0.28789616, 0.20525643, -0.131976...</td>\n",
>>>>>>> 91bb1452e962976921a7ef862507ecfe05c55e9a
       "    </tr>\n",
       "    <tr>\n",
       "      <th>1</th>\n",
       "      <td>Ayam goreng tulang lunak</td>\n",
<<<<<<< HEAD
       "      <td>kg ayam dipotong sesuai selera jangan kecil ba...</td>\n",
       "      <td>haluskan bumbunya baput ketumbar kemiri kunyit...</td>\n",
=======
       "      <td>1 kg ayam (dipotong sesuai selera jangan kecil...</td>\n",
       "      <td>Haluskan bumbu2nya (BaPut, ketumbar, kemiri, k...</td>\n",
>>>>>>> 91bb1452e962976921a7ef862507ecfe05c55e9a
       "      <td>1</td>\n",
       "      <td>/id/resep/4471956-ayam-goreng-tulang-lunak</td>\n",
       "      <td>Ayam goreng tulang lunak 1 kg ayam (dipotong s...</td>\n",
       "      <td>0</td>\n",
<<<<<<< HEAD
       "      <td>ayam goreng tulang lunak 1 kg ayam (dipotong s...</td>\n",
       "      <td>[ayam, goreng, tulang, lunak, 1, kg, ayam, (di...</td>\n",
       "      <td>[-0.036649704, 0.39709675, 0.20317523, -0.1755...</td>\n",
=======
       "      <td>ayam goreng tulang lunak kg ayam dipotong sesu...</td>\n",
       "      <td>[ayam, goreng, tulang, lunak, kg, ayam, dipoto...</td>\n",
       "      <td>[0.26394635, 0.28887516, 0.30466607, -0.176632...</td>\n",
>>>>>>> 91bb1452e962976921a7ef862507ecfe05c55e9a
       "    </tr>\n",
       "    <tr>\n",
       "      <th>2</th>\n",
       "      <td>Ayam cabai kawin</td>\n",
<<<<<<< HEAD
       "      <td>kg ayam buah cabai hijau besar buah cabai mera...</td>\n",
       "      <td>panaskan minyak wajan minyak panas masukkan ay...</td>\n",
=======
       "      <td>1/4 kg ayam--3 buah cabai hijau besar--7 buah ...</td>\n",
       "      <td>Panaskan minyak di dalam wajan. Setelah minyak...</td>\n",
>>>>>>> 91bb1452e962976921a7ef862507ecfe05c55e9a
       "      <td>2</td>\n",
       "      <td>/id/resep/4473057-ayam-cabai-kawin</td>\n",
       "      <td>Ayam cabai kawin 1/4 kg ayam--3 buah cabai hij...</td>\n",
       "      <td>0</td>\n",
<<<<<<< HEAD
       "      <td>ayam cabai kawin 1/4 kg ayam,3 buah cabai hija...</td>\n",
       "      <td>[ayam, cabai, kawin, 1/4, kg, ayam,3, buah, ca...</td>\n",
       "      <td>[-0.040915906, 0.59941554, 0.2732402, -0.06511...</td>\n",
=======
       "      <td>ayam cabai kawin kg ayam buah cabai hijau buah...</td>\n",
       "      <td>[ayam, cabai, kawin, kg, ayam, buah, cabai, hi...</td>\n",
       "      <td>[0.29184574, 0.29585648, 0.35495234, 0.0049463...</td>\n",
>>>>>>> 91bb1452e962976921a7ef862507ecfe05c55e9a
       "    </tr>\n",
       "    <tr>\n",
       "      <th>3</th>\n",
       "      <td>Ayam Geprek</td>\n",
<<<<<<< HEAD
       "      <td>gr daging ayam pakai filletsecukupnya gula gar...</td>\n",
       "      <td>goreng ayam ayam krispiulek semua bahan sambal...</td>\n",
=======
       "      <td>250 gr daging ayam (saya pakai fillet)--Secuku...</td>\n",
       "      <td>Goreng ayam seperti ayam krispi--Ulek semua ba...</td>\n",
>>>>>>> 91bb1452e962976921a7ef862507ecfe05c55e9a
       "      <td>10</td>\n",
       "      <td>/id/resep/4473023-ayam-geprek</td>\n",
       "      <td>Ayam Geprek 250 gr daging ayam (saya pakai fil...</td>\n",
       "      <td>0</td>\n",
<<<<<<< HEAD
       "      <td>ayam geprek 250 gr daging ayam (saya pakai fil...</td>\n",
       "      <td>[ayam, geprek, 250, gr, daging, ayam, (saya, p...</td>\n",
       "      <td>[-0.21806882, 0.4888682, 0.11595681, -0.130565...</td>\n",
=======
       "      <td>ayam geprek gr daging ayam pakai filletsecukup...</td>\n",
       "      <td>[ayam, geprek, gr, daging, ayam, pakai, fillet...</td>\n",
       "      <td>[0.1956072, 0.15803008, 0.4073705, -0.06910594...</td>\n",
>>>>>>> 91bb1452e962976921a7ef862507ecfe05c55e9a
       "    </tr>\n",
       "    <tr>\n",
       "      <th>4</th>\n",
       "      <td>Minyak Ayam</td>\n",
<<<<<<< HEAD
       "      <td>gr kulit ayam lemaknya siung bawang putih kati...</td>\n",
       "      <td>cuci bersih kulit ayam sisihkanambil ml minyak...</td>\n",
=======
       "      <td>400 gr kulit ayam &amp; lemaknya--8 siung bawang p...</td>\n",
       "      <td>Cuci bersih kulit ayam. Sisihkan--Ambil 50 ml ...</td>\n",
>>>>>>> 91bb1452e962976921a7ef862507ecfe05c55e9a
       "      <td>4</td>\n",
       "      <td>/id/resep/4427438-minyak-ayam</td>\n",
       "      <td>Minyak Ayam 400 gr kulit ayam &amp; lemaknya--8 si...</td>\n",
       "      <td>0</td>\n",
<<<<<<< HEAD
       "      <td>minyak ayam 400 gr kulit ayam &amp; lemaknya,8 siu...</td>\n",
       "      <td>[minyak, ayam, 400, gr, kulit, ayam, &amp;, lemakn...</td>\n",
       "      <td>[-0.03594042, 0.46321857, 0.102890916, -0.1635...</td>\n",
=======
       "      <td>minyak ayam gr kulit ayam lemaknya siung bawan...</td>\n",
       "      <td>[minyak, ayam, gr, kulit, ayam, lemaknya, siun...</td>\n",
       "      <td>[0.19096349, 0.3200922, 0.33315367, -0.0807423...</td>\n",
>>>>>>> 91bb1452e962976921a7ef862507ecfe05c55e9a
       "    </tr>\n",
       "  </tbody>\n",
       "</table>\n",
       "</div>"
      ],
      "text/plain": [
       "                      Title  \\\n",
       "0          Ayam Woku Manado   \n",
       "1  Ayam goreng tulang lunak   \n",
       "2          Ayam cabai kawin   \n",
       "3               Ayam Geprek   \n",
       "4               Minyak Ayam   \n",
       "\n",
       "                                         Ingredients  \\\n",
<<<<<<< HEAD
       "0  ekor ayam kampung potong buah jeruk nipis sdm ...   \n",
       "1  kg ayam dipotong sesuai selera jangan kecil ba...   \n",
       "2  kg ayam buah cabai hijau besar buah cabai mera...   \n",
       "3  gr daging ayam pakai filletsecukupnya gula gar...   \n",
       "4  gr kulit ayam lemaknya siung bawang putih kati...   \n",
       "\n",
       "                                               Steps  Loves  \\\n",
       "0  cuci bersih ayam tiriskan lalu peras jeruk nip...      1   \n",
       "1  haluskan bumbunya baput ketumbar kemiri kunyit...      1   \n",
       "2  panaskan minyak wajan minyak panas masukkan ay...      2   \n",
       "3  goreng ayam ayam krispiulek semua bahan sambal...     10   \n",
       "4  cuci bersih kulit ayam sisihkanambil ml minyak...      4   \n",
=======
       "0  1 Ekor Ayam Kampung (potong 12)--2 Buah Jeruk ...   \n",
       "1  1 kg ayam (dipotong sesuai selera jangan kecil...   \n",
       "2  1/4 kg ayam--3 buah cabai hijau besar--7 buah ...   \n",
       "3  250 gr daging ayam (saya pakai fillet)--Secuku...   \n",
       "4  400 gr kulit ayam & lemaknya--8 siung bawang p...   \n",
       "\n",
       "                                               Steps  Loves  \\\n",
       "0  Cuci bersih ayam dan tiriskan. Lalu peras jeru...      1   \n",
       "1  Haluskan bumbu2nya (BaPut, ketumbar, kemiri, k...      1   \n",
       "2  Panaskan minyak di dalam wajan. Setelah minyak...      2   \n",
       "3  Goreng ayam seperti ayam krispi--Ulek semua ba...     10   \n",
       "4  Cuci bersih kulit ayam. Sisihkan--Ambil 50 ml ...      4   \n",
>>>>>>> 91bb1452e962976921a7ef862507ecfe05c55e9a
       "\n",
       "                                          URL  \\\n",
       "0          /id/resep/4473027-ayam-woku-manado   \n",
       "1  /id/resep/4471956-ayam-goreng-tulang-lunak   \n",
       "2          /id/resep/4473057-ayam-cabai-kawin   \n",
       "3               /id/resep/4473023-ayam-geprek   \n",
       "4               /id/resep/4427438-minyak-ayam   \n",
       "\n",
       "                                       Combined_Text  Label  \\\n",
       "0  Ayam Woku Manado 1 Ekor Ayam Kampung (potong 1...      0   \n",
       "1  Ayam goreng tulang lunak 1 kg ayam (dipotong s...      0   \n",
       "2  Ayam cabai kawin 1/4 kg ayam--3 buah cabai hij...      0   \n",
       "3  Ayam Geprek 250 gr daging ayam (saya pakai fil...      0   \n",
       "4  Minyak Ayam 400 gr kulit ayam & lemaknya--8 si...      0   \n",
       "\n",
       "                                        Cleaned_Text  \\\n",
<<<<<<< HEAD
       "0  ayam woku manado 1 ekor ayam kampung (potong 1...   \n",
       "1  ayam goreng tulang lunak 1 kg ayam (dipotong s...   \n",
       "2  ayam cabai kawin 1/4 kg ayam,3 buah cabai hija...   \n",
       "3  ayam geprek 250 gr daging ayam (saya pakai fil...   \n",
       "4  minyak ayam 400 gr kulit ayam & lemaknya,8 siu...   \n",
       "\n",
       "                                      Tokenized_Text  \\\n",
       "0  [ayam, woku, manado, 1, ekor, ayam, kampung, (...   \n",
       "1  [ayam, goreng, tulang, lunak, 1, kg, ayam, (di...   \n",
       "2  [ayam, cabai, kawin, 1/4, kg, ayam,3, buah, ca...   \n",
       "3  [ayam, geprek, 250, gr, daging, ayam, (saya, p...   \n",
       "4  [minyak, ayam, 400, gr, kulit, ayam, &, lemakn...   \n",
       "\n",
       "                                           Embedding  \n",
       "0  [-0.039545916, 0.3990877, 0.20446321, -0.17988...  \n",
       "1  [-0.036649704, 0.39709675, 0.20317523, -0.1755...  \n",
       "2  [-0.040915906, 0.59941554, 0.2732402, -0.06511...  \n",
       "3  [-0.21806882, 0.4888682, 0.11595681, -0.130565...  \n",
       "4  [-0.03594042, 0.46321857, 0.102890916, -0.1635...  "
      ]
     },
     "execution_count": 230,
=======
       "0  ayam woku manado ekor ayam kampung potong buah...   \n",
       "1  ayam goreng tulang lunak kg ayam dipotong sesu...   \n",
       "2  ayam cabai kawin kg ayam buah cabai hijau buah...   \n",
       "3  ayam geprek gr daging ayam pakai filletsecukup...   \n",
       "4  minyak ayam gr kulit ayam lemaknya siung bawan...   \n",
       "\n",
       "                                      Tokenized_Text  \\\n",
       "0  [ayam, woku, manado, ekor, ayam, kampung, poto...   \n",
       "1  [ayam, goreng, tulang, lunak, kg, ayam, dipoto...   \n",
       "2  [ayam, cabai, kawin, kg, ayam, buah, cabai, hi...   \n",
       "3  [ayam, geprek, gr, daging, ayam, pakai, fillet...   \n",
       "4  [minyak, ayam, gr, kulit, ayam, lemaknya, siun...   \n",
       "\n",
       "                                           Embedding  \n",
       "0  [0.19879414, 0.28789616, 0.20525643, -0.131976...  \n",
       "1  [0.26394635, 0.28887516, 0.30466607, -0.176632...  \n",
       "2  [0.29184574, 0.29585648, 0.35495234, 0.0049463...  \n",
       "3  [0.1956072, 0.15803008, 0.4073705, -0.06910594...  \n",
       "4  [0.19096349, 0.3200922, 0.33315367, -0.0807423...  "
      ]
     },
     "execution_count": 7,
>>>>>>> 91bb1452e962976921a7ef862507ecfe05c55e9a
     "metadata": {},
     "output_type": "execute_result"
    }
   ],
   "source": [
    "data.head()"
   ]
  },
  {
   "cell_type": "code",
<<<<<<< HEAD
   "execution_count": 231,
=======
   "execution_count": 8,
>>>>>>> 91bb1452e962976921a7ef862507ecfe05c55e9a
   "id": "a63d93f9-1330-42fb-9caf-3db4c4de496f",
   "metadata": {},
   "outputs": [],
   "source": [
<<<<<<< HEAD
    "X = np.array(data['Embedding'].tolist())  \n",
    "y = data['Label']\n",
    "\n",
    "X_train, X_val, y_train, y_val = train_test_split(X, y, test_size=0.2, random_state=42)\n",
    "\n",
    "# Konversi ke TensorFlow Tensor\n",
    "X_train_tensor = tf.convert_to_tensor(X_train, dtype=tf.int32)\n",
    "X_val_tensor = tf.convert_to_tensor(X_val, dtype=tf.int32)\n",
    "y_train_tensor = tf.convert_to_tensor(y_train.values, dtype=tf.int32)\n",
    "y_val_tensor = tf.convert_to_tensor(y_val.values, dtype=tf.int32)\n"
=======
    "from sklearn.model_selection import train_test_split\n",
    "from tensorflow.keras.models import Sequential\n",
    "from tensorflow.keras.layers import Dense, Dropout\n",
    "import tensorflow as tf\n",
    "from tensorflow.keras import layers, models, regularizers\n",
    "from tensorflow.keras.callbacks import EarlyStopping, ReduceLROnPlateau\n",
    "from sklearn.feature_extraction.text import TfidfVectorizer\n",
    "\n",
    "# Pembagian data\n",
    "X = data['Cleaned_Text']  # Fitur (teks)\n",
    "y = data['Label']         # Label (target)\n",
    "\n",
    "# Membagi data menjadi training dan testing\n",
    "X_train, X_val, y_train, y_val = train_test_split(X, y, test_size=0.2, random_state=42)\n",
    "\n",
    "# Menggunakan TF-IDF untuk representasi teks\n",
    "tfidf_vectorizer = TfidfVectorizer(max_features=500)\n",
    "tfidf_matrix_train = tfidf_vectorizer.fit_transform(X_train)\n",
    "tfidf_matrix_val = tfidf_vectorizer.transform(X_val)\n",
    "\n",
    "# Ubah ke TensorFlow tensor\n",
    "X_train_tensor = tf.convert_to_tensor(tfidf_matrix_train.toarray(), dtype=tf.float32)\n",
    "X_val_tensor = tf.convert_to_tensor(tfidf_matrix_val.toarray(), dtype=tf.float32)\n",
    "y_train_tensor = tf.convert_to_tensor(y_train.values, dtype=tf.float32)  # pastikan y_train dalam bentuk tensor\n",
    "y_val_tensor = tf.convert_to_tensor(y_val.values, dtype=tf.float32)  # pastikan y_val dalam bentuk tensor"
>>>>>>> 91bb1452e962976921a7ef862507ecfe05c55e9a
   ]
  },
  {
   "cell_type": "code",
<<<<<<< HEAD
   "execution_count": 232,
=======
   "execution_count": 9,
>>>>>>> 91bb1452e962976921a7ef862507ecfe05c55e9a
   "id": "ad635995-cf77-425c-b078-3166f89b8870",
   "metadata": {},
   "outputs": [
    {
     "name": "stderr",
     "output_type": "stream",
     "text": [
      "C:\\Users\\Santi Susanti\\AppData\\Local\\Programs\\Python\\Python312\\Lib\\site-packages\\keras\\src\\layers\\core\\dense.py:87: UserWarning: Do not pass an `input_shape`/`input_dim` argument to a layer. When using Sequential models, prefer using an `Input(shape)` object as the first layer in the model instead.\n",
      "  super().__init__(activity_regularizer=activity_regularizer, **kwargs)\n"
     ]
<<<<<<< HEAD
    },
    {
     "data": {
      "text/html": [
       "<pre style=\"white-space:pre;overflow-x:auto;line-height:normal;font-family:Menlo,'DejaVu Sans Mono',consolas,'Courier New',monospace\"><span style=\"font-weight: bold\">Model: \"sequential_14\"</span>\n",
       "</pre>\n"
      ],
      "text/plain": [
       "\u001b[1mModel: \"sequential_14\"\u001b[0m\n"
      ]
     },
     "metadata": {},
     "output_type": "display_data"
    },
    {
     "data": {
      "text/html": [
       "<pre style=\"white-space:pre;overflow-x:auto;line-height:normal;font-family:Menlo,'DejaVu Sans Mono',consolas,'Courier New',monospace\">┏━━━━━━━━━━━━━━━━━━━━━━━━━━━━━━━━━┳━━━━━━━━━━━━━━━━━━━━━━━━┳━━━━━━━━━━━━━━━┓\n",
       "┃<span style=\"font-weight: bold\"> Layer (type)                    </span>┃<span style=\"font-weight: bold\"> Output Shape           </span>┃<span style=\"font-weight: bold\">       Param # </span>┃\n",
       "┡━━━━━━━━━━━━━━━━━━━━━━━━━━━━━━━━━╇━━━━━━━━━━━━━━━━━━━━━━━━╇━━━━━━━━━━━━━━━┩\n",
       "│ dense_43 (<span style=\"color: #0087ff; text-decoration-color: #0087ff\">Dense</span>)                │ (<span style=\"color: #00d7ff; text-decoration-color: #00d7ff\">None</span>, <span style=\"color: #00af00; text-decoration-color: #00af00\">128</span>)            │        <span style=\"color: #00af00; text-decoration-color: #00af00\">12,928</span> │\n",
       "├─────────────────────────────────┼────────────────────────┼───────────────┤\n",
       "│ dropout_29 (<span style=\"color: #0087ff; text-decoration-color: #0087ff\">Dropout</span>)            │ (<span style=\"color: #00d7ff; text-decoration-color: #00d7ff\">None</span>, <span style=\"color: #00af00; text-decoration-color: #00af00\">128</span>)            │             <span style=\"color: #00af00; text-decoration-color: #00af00\">0</span> │\n",
       "├─────────────────────────────────┼────────────────────────┼───────────────┤\n",
       "│ dense_44 (<span style=\"color: #0087ff; text-decoration-color: #0087ff\">Dense</span>)                │ (<span style=\"color: #00d7ff; text-decoration-color: #00d7ff\">None</span>, <span style=\"color: #00af00; text-decoration-color: #00af00\">64</span>)             │         <span style=\"color: #00af00; text-decoration-color: #00af00\">8,256</span> │\n",
       "├─────────────────────────────────┼────────────────────────┼───────────────┤\n",
       "│ dropout_30 (<span style=\"color: #0087ff; text-decoration-color: #0087ff\">Dropout</span>)            │ (<span style=\"color: #00d7ff; text-decoration-color: #00d7ff\">None</span>, <span style=\"color: #00af00; text-decoration-color: #00af00\">64</span>)             │             <span style=\"color: #00af00; text-decoration-color: #00af00\">0</span> │\n",
       "├─────────────────────────────────┼────────────────────────┼───────────────┤\n",
       "│ dense_45 (<span style=\"color: #0087ff; text-decoration-color: #0087ff\">Dense</span>)                │ (<span style=\"color: #00d7ff; text-decoration-color: #00d7ff\">None</span>, <span style=\"color: #00af00; text-decoration-color: #00af00\">32</span>)             │         <span style=\"color: #00af00; text-decoration-color: #00af00\">2,080</span> │\n",
       "├─────────────────────────────────┼────────────────────────┼───────────────┤\n",
       "│ dropout_31 (<span style=\"color: #0087ff; text-decoration-color: #0087ff\">Dropout</span>)            │ (<span style=\"color: #00d7ff; text-decoration-color: #00d7ff\">None</span>, <span style=\"color: #00af00; text-decoration-color: #00af00\">32</span>)             │             <span style=\"color: #00af00; text-decoration-color: #00af00\">0</span> │\n",
       "├─────────────────────────────────┼────────────────────────┼───────────────┤\n",
       "│ dense_46 (<span style=\"color: #0087ff; text-decoration-color: #0087ff\">Dense</span>)                │ (<span style=\"color: #00d7ff; text-decoration-color: #00d7ff\">None</span>, <span style=\"color: #00af00; text-decoration-color: #00af00\">1</span>)              │            <span style=\"color: #00af00; text-decoration-color: #00af00\">33</span> │\n",
       "└─────────────────────────────────┴────────────────────────┴───────────────┘\n",
       "</pre>\n"
      ],
      "text/plain": [
       "┏━━━━━━━━━━━━━━━━━━━━━━━━━━━━━━━━━┳━━━━━━━━━━━━━━━━━━━━━━━━┳━━━━━━━━━━━━━━━┓\n",
       "┃\u001b[1m \u001b[0m\u001b[1mLayer (type)                   \u001b[0m\u001b[1m \u001b[0m┃\u001b[1m \u001b[0m\u001b[1mOutput Shape          \u001b[0m\u001b[1m \u001b[0m┃\u001b[1m \u001b[0m\u001b[1m      Param #\u001b[0m\u001b[1m \u001b[0m┃\n",
       "┡━━━━━━━━━━━━━━━━━━━━━━━━━━━━━━━━━╇━━━━━━━━━━━━━━━━━━━━━━━━╇━━━━━━━━━━━━━━━┩\n",
       "│ dense_43 (\u001b[38;5;33mDense\u001b[0m)                │ (\u001b[38;5;45mNone\u001b[0m, \u001b[38;5;34m128\u001b[0m)            │        \u001b[38;5;34m12,928\u001b[0m │\n",
       "├─────────────────────────────────┼────────────────────────┼───────────────┤\n",
       "│ dropout_29 (\u001b[38;5;33mDropout\u001b[0m)            │ (\u001b[38;5;45mNone\u001b[0m, \u001b[38;5;34m128\u001b[0m)            │             \u001b[38;5;34m0\u001b[0m │\n",
       "├─────────────────────────────────┼────────────────────────┼───────────────┤\n",
       "│ dense_44 (\u001b[38;5;33mDense\u001b[0m)                │ (\u001b[38;5;45mNone\u001b[0m, \u001b[38;5;34m64\u001b[0m)             │         \u001b[38;5;34m8,256\u001b[0m │\n",
       "├─────────────────────────────────┼────────────────────────┼───────────────┤\n",
       "│ dropout_30 (\u001b[38;5;33mDropout\u001b[0m)            │ (\u001b[38;5;45mNone\u001b[0m, \u001b[38;5;34m64\u001b[0m)             │             \u001b[38;5;34m0\u001b[0m │\n",
       "├─────────────────────────────────┼────────────────────────┼───────────────┤\n",
       "│ dense_45 (\u001b[38;5;33mDense\u001b[0m)                │ (\u001b[38;5;45mNone\u001b[0m, \u001b[38;5;34m32\u001b[0m)             │         \u001b[38;5;34m2,080\u001b[0m │\n",
       "├─────────────────────────────────┼────────────────────────┼───────────────┤\n",
       "│ dropout_31 (\u001b[38;5;33mDropout\u001b[0m)            │ (\u001b[38;5;45mNone\u001b[0m, \u001b[38;5;34m32\u001b[0m)             │             \u001b[38;5;34m0\u001b[0m │\n",
       "├─────────────────────────────────┼────────────────────────┼───────────────┤\n",
       "│ dense_46 (\u001b[38;5;33mDense\u001b[0m)                │ (\u001b[38;5;45mNone\u001b[0m, \u001b[38;5;34m1\u001b[0m)              │            \u001b[38;5;34m33\u001b[0m │\n",
       "└─────────────────────────────────┴────────────────────────┴───────────────┘\n"
      ]
     },
     "metadata": {},
     "output_type": "display_data"
    },
    {
     "data": {
      "text/html": [
       "<pre style=\"white-space:pre;overflow-x:auto;line-height:normal;font-family:Menlo,'DejaVu Sans Mono',consolas,'Courier New',monospace\"><span style=\"font-weight: bold\"> Total params: </span><span style=\"color: #00af00; text-decoration-color: #00af00\">23,297</span> (91.00 KB)\n",
       "</pre>\n"
      ],
      "text/plain": [
       "\u001b[1m Total params: \u001b[0m\u001b[38;5;34m23,297\u001b[0m (91.00 KB)\n"
      ]
     },
     "metadata": {},
     "output_type": "display_data"
    },
    {
     "data": {
      "text/html": [
       "<pre style=\"white-space:pre;overflow-x:auto;line-height:normal;font-family:Menlo,'DejaVu Sans Mono',consolas,'Courier New',monospace\"><span style=\"font-weight: bold\"> Trainable params: </span><span style=\"color: #00af00; text-decoration-color: #00af00\">23,297</span> (91.00 KB)\n",
       "</pre>\n"
      ],
      "text/plain": [
       "\u001b[1m Trainable params: \u001b[0m\u001b[38;5;34m23,297\u001b[0m (91.00 KB)\n"
      ]
     },
     "metadata": {},
     "output_type": "display_data"
    },
    {
     "data": {
      "text/html": [
       "<pre style=\"white-space:pre;overflow-x:auto;line-height:normal;font-family:Menlo,'DejaVu Sans Mono',consolas,'Courier New',monospace\"><span style=\"font-weight: bold\"> Non-trainable params: </span><span style=\"color: #00af00; text-decoration-color: #00af00\">0</span> (0.00 B)\n",
       "</pre>\n"
      ],
      "text/plain": [
       "\u001b[1m Non-trainable params: \u001b[0m\u001b[38;5;34m0\u001b[0m (0.00 B)\n"
      ]
     },
     "metadata": {},
     "output_type": "display_data"
    }
   ],
   "source": [
    "def create_embedding_model(input_shape):\n",
    "    model = models.Sequential()\n",
    "    \n",
    "    # Layer pertama (Dense dengan L2 Regularization dan Dropout)\n",
    "    model.add(layers.Dense(128, activation='relu', input_shape=input_shape,\n",
    "                           kernel_regularizer=regularizers.l2(0.01)))\n",
    "    model.add(layers.Dropout(0.5))\n",
    "    \n",
    "    # Layer kedua\n",
    "    model.add(layers.Dense(64, activation='relu', kernel_regularizer=regularizers.l2(0.01)))\n",
    "    model.add(layers.Dropout(0.5))\n",
    "    \n",
    "    # Layer ketiga\n",
    "    model.add(layers.Dense(32, activation='relu', kernel_regularizer=regularizers.l2(0.01)))\n",
    "    model.add(layers.Dropout(0.5))\n",
    "    \n",
    "    # Layer output\n",
    "    model.add(layers.Dense(1, activation='sigmoid'))  # Untuk klasifikasi biner\n",
    "    \n",
    "    # Kompilasi model\n",
    "    model.compile(optimizer=tf.keras.optimizers.Adam(learning_rate=0.001),\n",
    "                  loss='binary_crossentropy',\n",
=======
    }
   ],
   "source": [
    "# Model Neural Network dengan Regularization, Dropout, dan Learning Rate Scheduler\n",
    "def create_model(input_shape):\n",
    "    model = models.Sequential()\n",
    "    \n",
    "    # Layer pertama (Dense dengan L2 Regularization dan Dropout)\n",
    "    model.add(layers.Dense(512, activation='relu', input_shape=input_shape,\n",
    "                           kernel_regularizer=regularizers.l2(0.01)))  # L2 Regularization\n",
    "    model.add(layers.Dropout(0.5))  # Dropout untuk mencegah overfitting\n",
    "    \n",
    "    # Layer kedua\n",
    "    model.add(layers.Dense(256, activation='relu', kernel_regularizer=regularizers.l2(0.01)))\n",
    "    model.add(layers.Dropout(0.5))\n",
    "    \n",
    "    # Layer output\n",
    "    model.add(layers.Dense(1, activation='sigmoid'))  # Sesuaikan dengan output yang Anda inginkan (binary classification)\n",
    "\n",
    "    # Kompilasi model dengan optimizer dan loss function\n",
    "    model.compile(optimizer=tf.keras.optimizers.Adam(learning_rate=0.001), \n",
    "                  loss='binary_crossentropy', \n",
>>>>>>> 91bb1452e962976921a7ef862507ecfe05c55e9a
    "                  metrics=['accuracy'])\n",
    "    \n",
    "    return model\n",
    "\n",
<<<<<<< HEAD
    "# Input shape harus sesuai dengan ukuran embedding (contoh: 100)\n",
    "embedding_model = create_embedding_model((X_train_tensor.shape[1],))\n",
    "embedding_model.summary()"
=======
    "# Membuat model dengan input shape sesuai dengan TF-IDF matrix\n",
    "model = create_model((X_train_tensor.shape[1],))  # X_train_tensor.shape[1] adalah jumlah fitur\n",
    "\n",
    "# EarlyStopping untuk menghentikan pelatihan jika tidak ada peningkatan pada val_loss\n",
    "early_stopping = EarlyStopping(monitor='val_loss', patience=3, restore_best_weights=True)\n",
    "\n",
    "# Learning Rate Scheduler untuk menurunkan learning rate jika val_loss stagnan\n",
    "lr_scheduler = ReduceLROnPlateau(monitor='val_loss', factor=0.2, patience=2, min_lr=1e-5)\n"
>>>>>>> 91bb1452e962976921a7ef862507ecfe05c55e9a
   ]
  },
  {
   "cell_type": "code",
<<<<<<< HEAD
   "execution_count": 233,
=======
   "execution_count": 10,
>>>>>>> 91bb1452e962976921a7ef862507ecfe05c55e9a
   "id": "768b7950-5e75-4d83-b9b2-8397242058d4",
   "metadata": {},
   "outputs": [
    {
     "name": "stdout",
     "output_type": "stream",
     "text": [
<<<<<<< HEAD
      "Epoch 1/50\n",
      "\u001b[1m390/390\u001b[0m \u001b[32m━━━━━━━━━━━━━━━━━━━━\u001b[0m\u001b[37m\u001b[0m \u001b[1m12s\u001b[0m 12ms/step - accuracy: 0.9710 - loss: 1.3598 - val_accuracy: 0.9740 - val_loss: 0.1382 - learning_rate: 0.0010\n",
      "Epoch 2/50\n",
      "\u001b[1m390/390\u001b[0m \u001b[32m━━━━━━━━━━━━━━━━━━━━\u001b[0m\u001b[37m\u001b[0m \u001b[1m4s\u001b[0m 11ms/step - accuracy: 0.9717 - loss: 0.1552 - val_accuracy: 0.9740 - val_loss: 0.1261 - learning_rate: 0.0010\n",
      "Epoch 3/50\n",
      "\u001b[1m390/390\u001b[0m \u001b[32m━━━━━━━━━━━━━━━━━━━━\u001b[0m\u001b[37m\u001b[0m \u001b[1m4s\u001b[0m 10ms/step - accuracy: 0.9750 - loss: 0.1294 - val_accuracy: 0.9740 - val_loss: 0.1245 - learning_rate: 0.0010\n",
      "Epoch 4/50\n",
      "\u001b[1m390/390\u001b[0m \u001b[32m━━━━━━━━━━━━━━━━━━━━\u001b[0m\u001b[37m\u001b[0m \u001b[1m3s\u001b[0m 8ms/step - accuracy: 0.9723 - loss: 0.1361 - val_accuracy: 0.9740 - val_loss: 0.1218 - learning_rate: 0.0010\n",
      "Epoch 5/50\n",
      "\u001b[1m390/390\u001b[0m \u001b[32m━━━━━━━━━━━━━━━━━━━━\u001b[0m\u001b[37m\u001b[0m \u001b[1m4s\u001b[0m 10ms/step - accuracy: 0.9724 - loss: 0.1346 - val_accuracy: 0.9740 - val_loss: 0.1212 - learning_rate: 0.0010\n",
      "Epoch 6/50\n",
      "\u001b[1m390/390\u001b[0m \u001b[32m━━━━━━━━━━━━━━━━━━━━\u001b[0m\u001b[37m\u001b[0m \u001b[1m4s\u001b[0m 10ms/step - accuracy: 0.9752 - loss: 0.1259 - val_accuracy: 0.9740 - val_loss: 0.1217 - learning_rate: 0.0010\n",
      "Epoch 7/50\n",
      "\u001b[1m390/390\u001b[0m \u001b[32m━━━━━━━━━━━━━━━━━━━━\u001b[0m\u001b[37m\u001b[0m \u001b[1m5s\u001b[0m 9ms/step - accuracy: 0.9743 - loss: 0.1275 - val_accuracy: 0.9740 - val_loss: 0.1209 - learning_rate: 0.0010\n",
      "Epoch 8/50\n",
      "\u001b[1m390/390\u001b[0m \u001b[32m━━━━━━━━━━━━━━━━━━━━\u001b[0m\u001b[37m\u001b[0m \u001b[1m4s\u001b[0m 9ms/step - accuracy: 0.9714 - loss: 0.1397 - val_accuracy: 0.9740 - val_loss: 0.1210 - learning_rate: 0.0010\n",
      "Epoch 9/50\n",
      "\u001b[1m390/390\u001b[0m \u001b[32m━━━━━━━━━━━━━━━━━━━━\u001b[0m\u001b[37m\u001b[0m \u001b[1m4s\u001b[0m 10ms/step - accuracy: 0.9729 - loss: 0.1318 - val_accuracy: 0.9740 - val_loss: 0.1209 - learning_rate: 0.0010\n",
      "Epoch 10/50\n",
      "\u001b[1m390/390\u001b[0m \u001b[32m━━━━━━━━━━━━━━━━━━━━\u001b[0m\u001b[37m\u001b[0m \u001b[1m3s\u001b[0m 6ms/step - accuracy: 0.9725 - loss: 0.1329 - val_accuracy: 0.9740 - val_loss: 0.1207 - learning_rate: 2.0000e-04\n",
      "Epoch 11/50\n",
      "\u001b[1m390/390\u001b[0m \u001b[32m━━━━━━━━━━━━━━━━━━━━\u001b[0m\u001b[37m\u001b[0m \u001b[1m3s\u001b[0m 7ms/step - accuracy: 0.9734 - loss: 0.1290 - val_accuracy: 0.9740 - val_loss: 0.1206 - learning_rate: 2.0000e-04\n",
      "Epoch 12/50\n",
      "\u001b[1m390/390\u001b[0m \u001b[32m━━━━━━━━━━━━━━━━━━━━\u001b[0m\u001b[37m\u001b[0m \u001b[1m5s\u001b[0m 7ms/step - accuracy: 0.9698 - loss: 0.1427 - val_accuracy: 0.9740 - val_loss: 0.1206 - learning_rate: 2.0000e-04\n",
      "Epoch 13/50\n",
      "\u001b[1m390/390\u001b[0m \u001b[32m━━━━━━━━━━━━━━━━━━━━\u001b[0m\u001b[37m\u001b[0m \u001b[1m3s\u001b[0m 8ms/step - accuracy: 0.9724 - loss: 0.1330 - val_accuracy: 0.9740 - val_loss: 0.1206 - learning_rate: 4.0000e-05\n",
      "Epoch 14/50\n",
      "\u001b[1m390/390\u001b[0m \u001b[32m━━━━━━━━━━━━━━━━━━━━\u001b[0m\u001b[37m\u001b[0m \u001b[1m3s\u001b[0m 7ms/step - accuracy: 0.9714 - loss: 0.1385 - val_accuracy: 0.9740 - val_loss: 0.1206 - learning_rate: 4.0000e-05\n",
      "Epoch 15/50\n",
      "\u001b[1m390/390\u001b[0m \u001b[32m━━━━━━━━━━━━━━━━━━━━\u001b[0m\u001b[37m\u001b[0m \u001b[1m3s\u001b[0m 8ms/step - accuracy: 0.9733 - loss: 0.1292 - val_accuracy: 0.9740 - val_loss: 0.1205 - learning_rate: 4.0000e-05\n",
      "Epoch 16/50\n",
      "\u001b[1m390/390\u001b[0m \u001b[32m━━━━━━━━━━━━━━━━━━━━\u001b[0m\u001b[37m\u001b[0m \u001b[1m3s\u001b[0m 7ms/step - accuracy: 0.9733 - loss: 0.1289 - val_accuracy: 0.9740 - val_loss: 0.1205 - learning_rate: 4.0000e-05\n",
      "Epoch 17/50\n",
      "\u001b[1m390/390\u001b[0m \u001b[32m━━━━━━━━━━━━━━━━━━━━\u001b[0m\u001b[37m\u001b[0m \u001b[1m3s\u001b[0m 8ms/step - accuracy: 0.9728 - loss: 0.1327 - val_accuracy: 0.9740 - val_loss: 0.1205 - learning_rate: 1.0000e-05\n",
      "Epoch 18/50\n",
      "\u001b[1m390/390\u001b[0m \u001b[32m━━━━━━━━━━━━━━━━━━━━\u001b[0m\u001b[37m\u001b[0m \u001b[1m3s\u001b[0m 8ms/step - accuracy: 0.9750 - loss: 0.1227 - val_accuracy: 0.9740 - val_loss: 0.1205 - learning_rate: 1.0000e-05\n",
      "Epoch 19/50\n",
      "\u001b[1m390/390\u001b[0m \u001b[32m━━━━━━━━━━━━━━━━━━━━\u001b[0m\u001b[37m\u001b[0m \u001b[1m3s\u001b[0m 7ms/step - accuracy: 0.9725 - loss: 0.1310 - val_accuracy: 0.9740 - val_loss: 0.1205 - learning_rate: 1.0000e-05\n",
      "Epoch 20/50\n",
      "\u001b[1m390/390\u001b[0m \u001b[32m━━━━━━━━━━━━━━━━━━━━\u001b[0m\u001b[37m\u001b[0m \u001b[1m6s\u001b[0m 10ms/step - accuracy: 0.9756 - loss: 0.1205 - val_accuracy: 0.9740 - val_loss: 0.1205 - learning_rate: 1.0000e-05\n",
      "Epoch 21/50\n",
      "\u001b[1m390/390\u001b[0m \u001b[32m━━━━━━━━━━━━━━━━━━━━\u001b[0m\u001b[37m\u001b[0m \u001b[1m6s\u001b[0m 11ms/step - accuracy: 0.9755 - loss: 0.1235 - val_accuracy: 0.9740 - val_loss: 0.1205 - learning_rate: 1.0000e-05\n",
      "Epoch 22/50\n",
      "\u001b[1m390/390\u001b[0m \u001b[32m━━━━━━━━━━━━━━━━━━━━\u001b[0m\u001b[37m\u001b[0m \u001b[1m4s\u001b[0m 9ms/step - accuracy: 0.9714 - loss: 0.1350 - val_accuracy: 0.9740 - val_loss: 0.1205 - learning_rate: 1.0000e-05\n",
      "Epoch 23/50\n",
      "\u001b[1m390/390\u001b[0m \u001b[32m━━━━━━━━━━━━━━━━━━━━\u001b[0m\u001b[37m\u001b[0m \u001b[1m4s\u001b[0m 11ms/step - accuracy: 0.9726 - loss: 0.1370 - val_accuracy: 0.9740 - val_loss: 0.1205 - learning_rate: 1.0000e-05\n",
      "Epoch 24/50\n",
      "\u001b[1m390/390\u001b[0m \u001b[32m━━━━━━━━━━━━━━━━━━━━\u001b[0m\u001b[37m\u001b[0m \u001b[1m4s\u001b[0m 9ms/step - accuracy: 0.9708 - loss: 0.1366 - val_accuracy: 0.9740 - val_loss: 0.1205 - learning_rate: 1.0000e-05\n",
      "Epoch 25/50\n",
      "\u001b[1m390/390\u001b[0m \u001b[32m━━━━━━━━━━━━━━━━━━━━\u001b[0m\u001b[37m\u001b[0m \u001b[1m4s\u001b[0m 9ms/step - accuracy: 0.9731 - loss: 0.1321 - val_accuracy: 0.9740 - val_loss: 0.1205 - learning_rate: 1.0000e-05\n",
      "Epoch 26/50\n",
      "\u001b[1m390/390\u001b[0m \u001b[32m━━━━━━━━━━━━━━━━━━━━\u001b[0m\u001b[37m\u001b[0m \u001b[1m5s\u001b[0m 8ms/step - accuracy: 0.9700 - loss: 0.1423 - val_accuracy: 0.9740 - val_loss: 0.1205 - learning_rate: 1.0000e-05\n",
      "Epoch 27/50\n",
      "\u001b[1m390/390\u001b[0m \u001b[32m━━━━━━━━━━━━━━━━━━━━\u001b[0m\u001b[37m\u001b[0m \u001b[1m3s\u001b[0m 8ms/step - accuracy: 0.9734 - loss: 0.1301 - val_accuracy: 0.9740 - val_loss: 0.1205 - learning_rate: 1.0000e-05\n",
      "Epoch 28/50\n",
      "\u001b[1m390/390\u001b[0m \u001b[32m━━━━━━━━━━━━━━━━━━━━\u001b[0m\u001b[37m\u001b[0m \u001b[1m3s\u001b[0m 8ms/step - accuracy: 0.9744 - loss: 0.1278 - val_accuracy: 0.9740 - val_loss: 0.1205 - learning_rate: 1.0000e-05\n",
      "Epoch 29/50\n",
      "\u001b[1m390/390\u001b[0m \u001b[32m━━━━━━━━━━━━━━━━━━━━\u001b[0m\u001b[37m\u001b[0m \u001b[1m3s\u001b[0m 8ms/step - accuracy: 0.9739 - loss: 0.1267 - val_accuracy: 0.9740 - val_loss: 0.1205 - learning_rate: 1.0000e-05\n",
      "Epoch 30/50\n",
      "\u001b[1m390/390\u001b[0m \u001b[32m━━━━━━━━━━━━━━━━━━━━\u001b[0m\u001b[37m\u001b[0m \u001b[1m4s\u001b[0m 11ms/step - accuracy: 0.9748 - loss: 0.1238 - val_accuracy: 0.9740 - val_loss: 0.1205 - learning_rate: 1.0000e-05\n",
      "Epoch 31/50\n",
      "\u001b[1m390/390\u001b[0m \u001b[32m━━━━━━━━━━━━━━━━━━━━\u001b[0m\u001b[37m\u001b[0m \u001b[1m3s\u001b[0m 9ms/step - accuracy: 0.9706 - loss: 0.1406 - val_accuracy: 0.9740 - val_loss: 0.1205 - learning_rate: 1.0000e-05\n",
      "Epoch 32/50\n",
      "\u001b[1m390/390\u001b[0m \u001b[32m━━━━━━━━━━━━━━━━━━━━\u001b[0m\u001b[37m\u001b[0m \u001b[1m3s\u001b[0m 8ms/step - accuracy: 0.9737 - loss: 0.1286 - val_accuracy: 0.9740 - val_loss: 0.1205 - learning_rate: 1.0000e-05\n",
      "Epoch 33/50\n",
      "\u001b[1m390/390\u001b[0m \u001b[32m━━━━━━━━━━━━━━━━━━━━\u001b[0m\u001b[37m\u001b[0m \u001b[1m6s\u001b[0m 11ms/step - accuracy: 0.9715 - loss: 0.1354 - val_accuracy: 0.9740 - val_loss: 0.1205 - learning_rate: 1.0000e-05\n",
      "Epoch 34/50\n",
      "\u001b[1m390/390\u001b[0m \u001b[32m━━━━━━━━━━━━━━━━━━━━\u001b[0m\u001b[37m\u001b[0m \u001b[1m5s\u001b[0m 12ms/step - accuracy: 0.9719 - loss: 0.1383 - val_accuracy: 0.9740 - val_loss: 0.1205 - learning_rate: 1.0000e-05\n",
      "Epoch 35/50\n",
      "\u001b[1m390/390\u001b[0m \u001b[32m━━━━━━━━━━━━━━━━━━━━\u001b[0m\u001b[37m\u001b[0m \u001b[1m5s\u001b[0m 11ms/step - accuracy: 0.9740 - loss: 0.1277 - val_accuracy: 0.9740 - val_loss: 0.1205 - learning_rate: 1.0000e-05\n",
      "Epoch 36/50\n",
      "\u001b[1m390/390\u001b[0m \u001b[32m━━━━━━━━━━━━━━━━━━━━\u001b[0m\u001b[37m\u001b[0m \u001b[1m4s\u001b[0m 10ms/step - accuracy: 0.9729 - loss: 0.1337 - val_accuracy: 0.9740 - val_loss: 0.1205 - learning_rate: 1.0000e-05\n",
      "Epoch 37/50\n",
      "\u001b[1m390/390\u001b[0m \u001b[32m━━━━━━━━━━━━━━━━━━━━\u001b[0m\u001b[37m\u001b[0m \u001b[1m4s\u001b[0m 10ms/step - accuracy: 0.9702 - loss: 0.1383 - val_accuracy: 0.9740 - val_loss: 0.1205 - learning_rate: 1.0000e-05\n",
      "Epoch 38/50\n",
      "\u001b[1m390/390\u001b[0m \u001b[32m━━━━━━━━━━━━━━━━━━━━\u001b[0m\u001b[37m\u001b[0m \u001b[1m6s\u001b[0m 13ms/step - accuracy: 0.9736 - loss: 0.1282 - val_accuracy: 0.9740 - val_loss: 0.1205 - learning_rate: 1.0000e-05\n",
      "Epoch 39/50\n",
      "\u001b[1m390/390\u001b[0m \u001b[32m━━━━━━━━━━━━━━━━━━━━\u001b[0m\u001b[37m\u001b[0m \u001b[1m5s\u001b[0m 11ms/step - accuracy: 0.9697 - loss: 0.1427 - val_accuracy: 0.9740 - val_loss: 0.1205 - learning_rate: 1.0000e-05\n",
      "Epoch 40/50\n",
      "\u001b[1m390/390\u001b[0m \u001b[32m━━━━━━━━━━━━━━━━━━━━\u001b[0m\u001b[37m\u001b[0m \u001b[1m3s\u001b[0m 8ms/step - accuracy: 0.9720 - loss: 0.1337 - val_accuracy: 0.9740 - val_loss: 0.1205 - learning_rate: 1.0000e-05\n",
      "Epoch 41/50\n",
      "\u001b[1m390/390\u001b[0m \u001b[32m━━━━━━━━━━━━━━━━━━━━\u001b[0m\u001b[37m\u001b[0m \u001b[1m6s\u001b[0m 9ms/step - accuracy: 0.9725 - loss: 0.1320 - val_accuracy: 0.9740 - val_loss: 0.1205 - learning_rate: 1.0000e-05\n",
      "Epoch 42/50\n",
      "\u001b[1m390/390\u001b[0m \u001b[32m━━━━━━━━━━━━━━━━━━━━\u001b[0m\u001b[37m\u001b[0m \u001b[1m7s\u001b[0m 15ms/step - accuracy: 0.9729 - loss: 0.1339 - val_accuracy: 0.9740 - val_loss: 0.1205 - learning_rate: 1.0000e-05\n",
      "Epoch 43/50\n",
      "\u001b[1m390/390\u001b[0m \u001b[32m━━━━━━━━━━━━━━━━━━━━\u001b[0m\u001b[37m\u001b[0m \u001b[1m4s\u001b[0m 11ms/step - accuracy: 0.9726 - loss: 0.1324 - val_accuracy: 0.9740 - val_loss: 0.1205 - learning_rate: 1.0000e-05\n",
      "Epoch 44/50\n",
      "\u001b[1m390/390\u001b[0m \u001b[32m━━━━━━━━━━━━━━━━━━━━\u001b[0m\u001b[37m\u001b[0m \u001b[1m5s\u001b[0m 10ms/step - accuracy: 0.9739 - loss: 0.1293 - val_accuracy: 0.9740 - val_loss: 0.1205 - learning_rate: 1.0000e-05\n",
      "Epoch 45/50\n",
      "\u001b[1m390/390\u001b[0m \u001b[32m━━━━━━━━━━━━━━━━━━━━\u001b[0m\u001b[37m\u001b[0m \u001b[1m5s\u001b[0m 10ms/step - accuracy: 0.9708 - loss: 0.1401 - val_accuracy: 0.9740 - val_loss: 0.1205 - learning_rate: 1.0000e-05\n",
      "Epoch 46/50\n",
      "\u001b[1m390/390\u001b[0m \u001b[32m━━━━━━━━━━━━━━━━━━━━\u001b[0m\u001b[37m\u001b[0m \u001b[1m6s\u001b[0m 12ms/step - accuracy: 0.9710 - loss: 0.1393 - val_accuracy: 0.9740 - val_loss: 0.1205 - learning_rate: 1.0000e-05\n",
      "Epoch 47/50\n",
      "\u001b[1m390/390\u001b[0m \u001b[32m━━━━━━━━━━━━━━━━━━━━\u001b[0m\u001b[37m\u001b[0m \u001b[1m5s\u001b[0m 11ms/step - accuracy: 0.9716 - loss: 0.1371 - val_accuracy: 0.9740 - val_loss: 0.1205 - learning_rate: 1.0000e-05\n",
      "Epoch 48/50\n",
      "\u001b[1m390/390\u001b[0m \u001b[32m━━━━━━━━━━━━━━━━━━━━\u001b[0m\u001b[37m\u001b[0m \u001b[1m5s\u001b[0m 10ms/step - accuracy: 0.9726 - loss: 0.1308 - val_accuracy: 0.9740 - val_loss: 0.1205 - learning_rate: 1.0000e-05\n",
      "Epoch 49/50\n",
      "\u001b[1m390/390\u001b[0m \u001b[32m━━━━━━━━━━━━━━━━━━━━\u001b[0m\u001b[37m\u001b[0m \u001b[1m4s\u001b[0m 9ms/step - accuracy: 0.9720 - loss: 0.1366 - val_accuracy: 0.9740 - val_loss: 0.1205 - learning_rate: 1.0000e-05\n",
      "Epoch 50/50\n",
      "\u001b[1m390/390\u001b[0m \u001b[32m━━━━━━━━━━━━━━━━━━━━\u001b[0m\u001b[37m\u001b[0m \u001b[1m5s\u001b[0m 8ms/step - accuracy: 0.9732 - loss: 0.1313 - val_accuracy: 0.9740 - val_loss: 0.1205 - learning_rate: 1.0000e-05\n"
=======
      "Epoch 1/10\n",
      "\u001b[1m390/390\u001b[0m \u001b[32m━━━━━━━━━━━━━━━━━━━━\u001b[0m\u001b[37m\u001b[0m \u001b[1m13s\u001b[0m 22ms/step - accuracy: 0.9827 - loss: 1.9825 - val_accuracy: 0.9904 - val_loss: 0.0633 - learning_rate: 0.0010\n",
      "Epoch 2/10\n",
      "\u001b[1m390/390\u001b[0m \u001b[32m━━━━━━━━━━━━━━━━━━━━\u001b[0m\u001b[37m\u001b[0m \u001b[1m5s\u001b[0m 14ms/step - accuracy: 0.9923 - loss: 0.0548 - val_accuracy: 0.9904 - val_loss: 0.0610 - learning_rate: 0.0010\n",
      "Epoch 3/10\n",
      "\u001b[1m390/390\u001b[0m \u001b[32m━━━━━━━━━━━━━━━━━━━━\u001b[0m\u001b[37m\u001b[0m \u001b[1m10s\u001b[0m 13ms/step - accuracy: 0.9913 - loss: 0.0575 - val_accuracy: 0.9904 - val_loss: 0.0675 - learning_rate: 0.0010\n",
      "Epoch 4/10\n",
      "\u001b[1m390/390\u001b[0m \u001b[32m━━━━━━━━━━━━━━━━━━━━\u001b[0m\u001b[37m\u001b[0m \u001b[1m5s\u001b[0m 13ms/step - accuracy: 0.9910 - loss: 0.0577 - val_accuracy: 0.9904 - val_loss: 0.0566 - learning_rate: 0.0010\n",
      "Epoch 5/10\n",
      "\u001b[1m390/390\u001b[0m \u001b[32m━━━━━━━━━━━━━━━━━━━━\u001b[0m\u001b[37m\u001b[0m \u001b[1m5s\u001b[0m 12ms/step - accuracy: 0.9921 - loss: 0.0496 - val_accuracy: 0.9904 - val_loss: 0.0572 - learning_rate: 0.0010\n",
      "Epoch 6/10\n",
      "\u001b[1m390/390\u001b[0m \u001b[32m━━━━━━━━━━━━━━━━━━━━\u001b[0m\u001b[37m\u001b[0m \u001b[1m5s\u001b[0m 13ms/step - accuracy: 0.9881 - loss: 0.0694 - val_accuracy: 0.9904 - val_loss: 0.0560 - learning_rate: 0.0010\n",
      "Epoch 7/10\n",
      "\u001b[1m390/390\u001b[0m \u001b[32m━━━━━━━━━━━━━━━━━━━━\u001b[0m\u001b[37m\u001b[0m \u001b[1m5s\u001b[0m 13ms/step - accuracy: 0.9923 - loss: 0.0484 - val_accuracy: 0.9904 - val_loss: 0.0553 - learning_rate: 0.0010\n",
      "Epoch 8/10\n",
      "\u001b[1m390/390\u001b[0m \u001b[32m━━━━━━━━━━━━━━━━━━━━\u001b[0m\u001b[37m\u001b[0m \u001b[1m7s\u001b[0m 18ms/step - accuracy: 0.9911 - loss: 0.0533 - val_accuracy: 0.9904 - val_loss: 0.0552 - learning_rate: 0.0010\n",
      "Epoch 9/10\n",
      "\u001b[1m390/390\u001b[0m \u001b[32m━━━━━━━━━━━━━━━━━━━━\u001b[0m\u001b[37m\u001b[0m \u001b[1m9s\u001b[0m 14ms/step - accuracy: 0.9913 - loss: 0.0513 - val_accuracy: 0.9904 - val_loss: 0.0551 - learning_rate: 0.0010\n",
      "Epoch 10/10\n",
      "\u001b[1m390/390\u001b[0m \u001b[32m━━━━━━━━━━━━━━━━━━━━\u001b[0m\u001b[37m\u001b[0m \u001b[1m7s\u001b[0m 17ms/step - accuracy: 0.9912 - loss: 0.0518 - val_accuracy: 0.9904 - val_loss: 0.0548 - learning_rate: 0.0010\n"
>>>>>>> 91bb1452e962976921a7ef862507ecfe05c55e9a
     ]
    }
   ],
   "source": [
<<<<<<< HEAD
    "early_stopping = EarlyStopping(monitor='val_loss', patience=3, restore_best_weights=True)\n",
    "lr_scheduler = ReduceLROnPlateau(monitor='val_loss', factor=0.2, patience=2, min_lr=1e-5)\n",
    "\n",
    "history = embedding_model.fit(\n",
    "    X_train_tensor, \n",
    "    y_train_tensor,\n",
    "    epochs=50,\n",
    "    batch_size=32,\n",
    "    validation_data=(X_val_tensor, y_val_tensor),\n",
    "    callbacks=[early_stopping, lr_scheduler]\n",
    ")\n"
=======
    "# Melatih model\n",
    "history = model.fit(\n",
    "    X_train_tensor,  # Data latih\n",
    "    y_train_tensor,  # Label latih\n",
    "    epochs=10, \n",
    "    batch_size=32, \n",
    "    validation_data=(X_val_tensor, y_val_tensor),  # Data validasi\n",
    "    callbacks=[early_stopping, lr_scheduler]  # Menambahkan callbacks\n",
    ")"
>>>>>>> 91bb1452e962976921a7ef862507ecfe05c55e9a
   ]
  },
  {
   "cell_type": "code",
<<<<<<< HEAD
   "execution_count": 234,
=======
   "execution_count": 11,
>>>>>>> 91bb1452e962976921a7ef862507ecfe05c55e9a
   "id": "ad1befd9-9fd5-4c27-9581-c477c42866a8",
   "metadata": {},
   "outputs": [
    {
     "data": {
<<<<<<< HEAD
      "image/png": "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",
=======
      "image/png": "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",
>>>>>>> 91bb1452e962976921a7ef862507ecfe05c55e9a
      "text/plain": [
       "<Figure size 1200x400 with 2 Axes>"
      ]
     },
     "metadata": {},
     "output_type": "display_data"
<<<<<<< HEAD
=======
    },
    {
     "name": "stdout",
     "output_type": "stream",
     "text": [
      "\u001b[1m98/98\u001b[0m \u001b[32m━━━━━━━━━━━━━━━━━━━━\u001b[0m\u001b[37m\u001b[0m \u001b[1m1s\u001b[0m 10ms/step - accuracy: 0.9926 - loss: 0.0444\n",
      "Validation Loss: 0.05478161573410034\n",
      "Validation Accuracy: 0.9903815388679504\n"
     ]
>>>>>>> 91bb1452e962976921a7ef862507ecfe05c55e9a
    }
   ],
   "source": [
    "# Menampilkan hasil pelatihan\n",
    "import matplotlib.pyplot as plt\n",
    "\n",
    "# Ploting loss dan accuracy\n",
    "plt.figure(figsize=(12, 4))\n",
    "\n",
    "# Plot Loss\n",
    "plt.subplot(1, 2, 1)\n",
    "plt.plot(history.history['loss'], label='Training Loss')\n",
    "plt.plot(history.history['val_loss'], label='Validation Loss')\n",
    "plt.title('Loss Curve')\n",
    "plt.xlabel('Epochs')\n",
    "plt.ylabel('Loss')\n",
    "plt.legend()\n",
    "\n",
    "# Plot Accuracy\n",
    "plt.subplot(1, 2, 2)\n",
    "plt.plot(history.history['accuracy'], label='Training Accuracy')\n",
    "plt.plot(history.history['val_accuracy'], label='Validation Accuracy')\n",
    "plt.title('Accuracy Curve')\n",
    "plt.xlabel('Epochs')\n",
    "plt.ylabel('Accuracy')\n",
    "plt.legend()\n",
    "\n",
    "plt.show()\n",
    "\n",
<<<<<<< HEAD
    "# # Evaluasi model pada data validasi\n",
    "# val_loss, val_accuracy = model.evaluate(X_val_tensor, y_val_tensor)\n",
    "# print(f'Validation Loss: {val_loss}')\n",
    "# print(f'Validation Accuracy: {val_accuracy}')"
=======
    "# Evaluasi model pada data validasi\n",
    "val_loss, val_accuracy = model.evaluate(X_val_tensor, y_val_tensor)\n",
    "print(f'Validation Loss: {val_loss}')\n",
    "print(f'Validation Accuracy: {val_accuracy}')"
>>>>>>> 91bb1452e962976921a7ef862507ecfe05c55e9a
   ]
  },
  {
   "cell_type": "code",
<<<<<<< HEAD
   "execution_count": 235,
   "id": "ceefdde0-6ca8-4eee-a37f-da28d192cf81",
   "metadata": {},
   "outputs": [],
   "source": [
    "def recommend_recipes_with_embedding_sorted(query, word2vec_model, data, top_n=10, vector_size=100):\n",
    "    \"\"\"\n",
    "    Memberikan rekomendasi berdasarkan query menggunakan cosine similarity dari Word2Vec embedding,\n",
    "    dan mengurutkan berdasarkan jumlah Loves secara descending.\n",
    "    \n",
    "    Parameters:\n",
    "        query (str): Input teks query (misal: \"ayam bakar\").\n",
    "        word2vec_model: Model Word2Vec yang digunakan untuk embedding.\n",
    "        data (DataFrame): Dataframe yang berisi kolom 'Embedding' dan 'Cleaned_Text'.\n",
    "        top_n (int): Jumlah rekomendasi yang diinginkan.\n",
    "        vector_size (int): Dimensi embedding Word2Vec.\n",
    "    \n",
    "    Returns:\n",
    "        List[Dict]: Rekomendasi dalam format list of dictionaries.\n",
    "    \"\"\"\n",
    "    # Preprocess query\n",
    "    query_cleaned = clean_text(query)\n",
    "    \n",
    "    # Generate embedding untuk query\n",
    "    query_embedding = document_embedding(query_cleaned, word2vec_model, vector_size=vector_size)\n",
    "    \n",
    "    # Hitung cosine similarity antara query dan semua embedding dalam dataset\n",
    "    doc_embeddings = np.array(data['Embedding'].tolist())\n",
    "    similarities = cosine_similarity([query_embedding], doc_embeddings)[0]\n",
    "    \n",
    "    # Ambil top N rekomendasi berdasarkan similarity\n",
    "    top_indices = similarities.argsort()[-top_n:][::-1] \n",
    "    recommended_recipes = data.iloc[top_indices]\n",
    "    \n",
    "    # Urutkan berdasarkan 'Loves' secara descending\n",
    "    recommended_recipes = recommended_recipes.sort_values(by=['Loves'], ascending=False)\n",
    "    \n",
    "    # Convert hasil ke JSON format serializable\n",
    "    recommendations_json = recommended_recipes[['Title', 'Ingredients', 'Steps', 'Loves']].to_dict(orient='records')\n",
    "    \n",
    "    return recommendations_json\n",
    "    "
   ]
  },
  {
   "cell_type": "code",
   "execution_count": 236,
   "id": "0bb9a294-2352-42bb-abbe-9f60bd6a9ce7",
   "metadata": {},
=======
   "execution_count": 17,
   "id": "ceefdde0-6ca8-4eee-a37f-da28d192cf81",
   "metadata": {},
>>>>>>> 91bb1452e962976921a7ef862507ecfe05c55e9a
   "outputs": [
    {
     "name": "stdout",
     "output_type": "stream",
     "text": [
      "[\n",
      "    {\n",
<<<<<<< HEAD
      "        \"Title\": \"Udang goreng garlic\",\n",
      "        \"Ingredients\": \"gr udang pake tiger prawn ukuran sedang siung bawang putih haluskansecukupnya garamsecukupnya ladaperasan jeruk nipisminyak menggoreng\",\n",
      "        \"Steps\": \"bersihkan udang buang kotoran kepala belah punggung potong kumis duri kepala n ekorkucurkan perasan air jeruk nipis taburkan garam lada bumbu halus ratakan diamkan minimal menitpanaskan minyak goreng udang hingga matang seberapa keringnya tergantung selera yaa\",\n",
      "        \"Loves\": 33\n",
      "    },\n",
      "    {\n",
      "        \"Title\": \"Udang goreng simple\",\n",
      "        \"Ingredients\": \"kg udang segar siung bawang putih mata asam jawasecukupnya garam\",\n",
      "        \"Steps\": \"cuci bersih udang buang kepalanya sisihkanhaluskan bawang putih garam asam jawabalurkan bumbu udang diamkan menit lalu gorengsisa udang yg berbumbu disimpan kulkas goreng sesaat makan\",\n",
      "        \"Loves\": 18\n",
      "    },\n",
      "    {\n",
      "        \"Title\": \"Udang goreng ala kadar\",\n",
      "        \"Ingredients\": \"kg udangbuang kepala ekor sdt garam sdt penyedapminyak menggoreng\",\n",
      "        \"Steps\": \"cuci udang yg sdh bersihkanlalu mskkan garam penyedappnskan minyaklalu goreng udang smpi matang\",\n",
      "        \"Loves\": 13\n",
      "    },\n",
      "    {\n",
      "        \"Title\": \"Tumis bawang rambut udang pape\",\n",
      "        \"Ingredients\": \"ikat bawang rambut gram udang pape buah cabegaram kaldu\",\n",
      "        \"Steps\": \"rendam sebentar udang cuci bersih potong daun bawang cabetumis semua bahan hingga harum tambah kan sedikit air berikan garam kaldu masak hingga air berkurang\",\n",
      "        \"Loves\": 12\n",
      "    },\n",
      "    {\n",
      "        \"Title\": \"Goreng udang guriiiih\",\n",
      "        \"Ingredients\": \"gr udang buang kepala ml minyak sayur siung bawang putihsejumput garam\",\n",
      "        \"Steps\": \"buang kepala udang lalu cuci bersih tiriskan beri garam aduk rata diamkanpanaskan ml minyaktumis bawang putih harummasukan udang aduk aduk udang berubah warna matangangkat lalu tiriskansajikan udang gurih jd perlu penambahan msg\",\n",
      "        \"Loves\": 9\n",
      "    },\n",
      "    {\n",
      "        \"Title\": \"Memanfaatkan sampah udang\",\n",
      "        \"Ingredients\": \"gr kepala udang bakal sampahsecukupnya garam\",\n",
      "        \"Steps\": \"cuci bersih kepala udang rebus kepala udang gelas keluar saripatinya matikan kompor airnya simpan wadah buat kuah kaldu udang mpasi tomyumkepala udang tadi tiriskan kemudian sangrai kepala udang benarbenar kering kaku garing biarkan dinginblender halus kepala udang tadi sejumput garamtaruh wadah kering dibuat menjadi olahan ebi campuran nasi goreng lauk lainnya terasa makan seafood nah mudah kan jadi dirumah bebas sampah udang deh\",\n",
      "        \"Loves\": 8\n",
      "    },\n",
      "    {\n",
      "        \"Title\": \"Cah brokoli udang saus mentega (saori)\",\n",
      "        \"Ingredients\": \"gr udang brokoli sachet saori saos mentega bawang bombay bawang putihmargarin\",\n",
      "        \"Steps\": \"cuci bersih udang kupas kulit buang kepala lalu goreng sebentar warna udang kemerahancuci bersih brokoli rebus matangcincang bawang bombay geprek bawang putih lalu goreng margarin harummasukan udang brokoli aduk ratamasukan saos saori lalu beri sedikit airmasak kuah mengentalsiap disajikan\",\n",
      "        \"Loves\": 7\n",
      "    },\n",
      "    {\n",
      "        \"Title\": \"88. Udang Goreng Garlic\",\n",
      "        \"Ingredients\": \"ekor udang galah bersihkan buang kumis kotoran bonggol bawang putih geprek asal siung bawang putih haluskan sdt garam ml air merebusminyak menggoreng\",\n",
      "        \"Steps\": \"lumuri udang galah yg dibersihkan garam bawang putih geprek bawang putih yg dihaluskan diamkan mntdidihkan air masukkan udang galah beserta bumbu bawang putih kemerahan angkat tiriskan step udang makanpanaskan minyak goreng udang galah bawang putihnya sajikan\",\n",
      "        \"Loves\": 7\n",
      "    },\n",
      "    {\n",
      "        \"Title\": \"Oseng udang tanpa cabe\",\n",
      "        \"Ingredients\": \"grm udang buang kepala ekor cm jahe buah bawang putih buah bawang merahsecukupny garamgula\",\n",
      "        \"Steps\": \"iris semua bumbu tumis harummasukkan udang masak smpai berubah warnatambahkan airgulagaramcek rasa sajikan\",\n",
      "        \"Loves\": 6\n",
      "    },\n",
      "    {\n",
      "        \"Title\": \"Udang galah goreng\",\n",
      "        \"Ingredients\": \"gr udang galah siung bawang putihminyak gorengsecukupnya garam\",\n",
      "        \"Steps\": \"bersihkan udangbuang kotoran dikepala udangdan cuci bersihhaluskan bawang putih garamcampurkan udang bumbuaduk bumbu tercampur ratabiarkan bumbu resap dulu selama menitpanaskan penggorengan masukan udanggoreng kemerahanangkat tiriskanudang galah goreng siap dihidangkan\",\n",
      "        \"Loves\": 2\n",
=======
      "        \"Title\": \"Orek tahu telur\",\n",
      "        \"Ingredients\": \"2 butir telur (kocok lepas)--2 tahu putih (potong dadu kecil)--Kol (iris tipis)--Kecap--Penyedap rasa--Gula--Garam--Minyak goreng--Bumbu halus :--5 siung Bawang merah--5 siung Bawang putih--Merica--\",\n",
      "        \"Steps\": \"Goreng tahu setengah matang jangan sampai kering setelah itu tiris kan--Tumis bumbu halus sampai bau nya keluar--Masukkan telur lalu di orek sampai agak matang--Campurkan tahu yg tadi digoreng--Baru masukkan kol.. Tambah kan kecap, penyedap rasa, sedikit gula, garam dan sedikit air--Koreksi rasa--Tunggu hingga matang--Siap di sajikan--\",\n",
      "        \"Loves\": 5\n",
      "    },\n",
      "    {\n",
      "        \"Title\": \"Orek tahu telur\",\n",
      "        \"Ingredients\": \"2 butir telur (kocok lepas)--2 tahu putih (potong dadu kecil)--Kol (iris tipis)--Kecap--Penyedap rasa--Gula--Garam--Minyak goreng--Bumbu halus :--5 siung Bawang merah--5 siung Bawang putih--Merica--\",\n",
      "        \"Steps\": \"Goreng tahu setengah matang jangan sampai kering setelah itu tiris kan--Tumis bumbu halus sampai bau nya keluar--Masukkan telur lalu di orek sampai agak matang--Campurkan tahu yg tadi digoreng--Baru masukkan kol.. Tambah kan kecap, penyedap rasa, sedikit gula, garam dan sedikit air--Koreksi rasa--Tunggu hingga matang--Siap di sajikan--\",\n",
      "        \"Loves\": 5\n",
      "    },\n",
      "    {\n",
      "        \"Title\": \"Tahu geprek sambal bawang\",\n",
      "        \"Ingredients\": \"2 bh tahu ukuran sedang (goreng)--Bumbu sambal:--5 bh rawit (sesuai selera)--1 siung bawang putih--secukupnya Garam--1 sdm minyak panas--\",\n",
      "        \"Steps\": \"Haluskan semua bumbu lalu tambahkan minyak panas.--Penyet tahu dg bumbu.--Tahu geprek siap dinikmati bersama nasi hangat dan krupuk--\",\n",
      "        \"Loves\": 10\n",
      "    },\n",
      "    {\n",
      "        \"Title\": \"Tempe Mendoan\",\n",
      "        \"Ingredients\": \"1 papan tempe--Tepung terigu--Daun bawang--Garam--Penyedap rasa--Air (secukupnya)--Minyak goreng--Bumbu yg dihaluskan :--1 sdm ketumbar--3 siung bawang putih--\",\n",
      "        \"Steps\": \"Potong tempe tipis2--Iris daun bawang. Sisihkan--Masukan tepung terigu, daun bawang, bumbu yg sudah di haluskan, garam, penyedap rasa dan air (saya pke air dingin biar crispy)aduk rata.--Siapkan minyak goreng panas, api.nya jngan trlalu besar sedang saja.--Lalu goreng deh, tiriskan dan siap di hidangkan --\",\n",
      "        \"Loves\": 8\n",
      "    },\n",
      "    {\n",
      "        \"Title\": \"Kering tempe,teri,kacang\",\n",
      "        \"Ingredients\": \"1 papan tempe (ukuran 20X20 cm) iris tipis.goreng kering--secukupnya Kacang tanah (goreng)--secukupnya Ikan teri (goreng)--Bumbu halus :--10 butir bawang merah--5 butir bawang putih--sesuai selera Cabe rawit--Bumbu pelengkap :--Daun jeruk--Gula merah--Garam--Sedikit Terasi--\",\n",
      "        \"Steps\": \"Tumis bumbu halus,daun jeruk,gula merah, garam,terasi hingga harum.matikan apinya--Masukkan tempe yg sudah d goreng kering,kacang,teri.aduk rata. Koreksi rasa..--Selamat mencoba--\",\n",
      "        \"Loves\": 25\n",
>>>>>>> 91bb1452e962976921a7ef862507ecfe05c55e9a
      "    }\n",
      "]\n"
     ]
    }
   ],
   "source": [
<<<<<<< HEAD
    "query = \"udang rebus\"\n",
    "recommended_recipes_json = recommend_recipes_with_embedding_sorted(query, word2vec_model, data, top_n=10)\n",
    "\n",
    "# Simpan hasil dalam format JSON\n",
    "with open('recommended_recipes_embedding.json', 'w', encoding='utf-8') as json_file:\n",
    "    json.dump(recommended_recipes_json, json_file, ensure_ascii=False, indent=4)\n",
    "\n",
    "# Tampilkan hasil\n",
    "print(json.dumps(recommended_recipes_json, ensure_ascii=False, indent=4))\n"
=======
    "import json\n",
    "def recommend_recipes(query, tfidf_tensor, tfidf_vectorizer, data, top_n=5):\n",
    "    # Preprocess the query\n",
    "    query_cleaned = clean_text(query)\n",
    "    query_vector = tfidf_vectorizer.transform([query_cleaned]).toarray()\n",
    "    query_tensor = tf.convert_to_tensor(query_vector, dtype=tf.float32)\n",
    "\n",
    "    # Hitung cosine similarity\n",
    "    query_norm = tf.linalg.norm(query_tensor, axis=1)\n",
    "    tfidf_norm = tf.linalg.norm(tfidf_tensor, axis=1)\n",
    "    dot_product = tf.matmul(query_tensor, tf.transpose(tfidf_tensor))\n",
    "    similarities = dot_product / (query_norm * tfidf_norm)\n",
    "\n",
    "    # Mendapatkan top N rekomendasi\n",
    "    similarities = tf.squeeze(similarities).numpy()\n",
    "    top_indices = similarities.argsort()[-top_n:][::-1]\n",
    "    recommended_recipes = data.iloc[top_indices]\n",
    "\n",
    "    # Convert hasil ke JSON format serializable \n",
    "    recommendations_json = recommended_recipes[['Title', 'Ingredients', 'Steps', 'Loves']].to_dict(orient='records')\n",
    "    \n",
    "    return recommendations_json\n",
    "\n",
    "# Contoh query\n",
    "query = \"goreng\"\n",
    "recommended_recipes_json = recommend_recipes(query, tfidf_tensor, tfidf_vectorizer, data, top_n=5)\n",
    "\n",
    "# Simpan hasil rekomendasi dalam format JSON\n",
    "with open('recommended_recipes.json', 'w') as json_file:\n",
    "    json.dump(recommended_recipes_json, json_file, indent=4)\n",
    "\n",
    "# Output JSON sebagai contoh\n",
    "print(json.dumps(recommended_recipes_json, indent=4))"
>>>>>>> 91bb1452e962976921a7ef862507ecfe05c55e9a
   ]
  },
  {
   "cell_type": "code",
<<<<<<< HEAD
   "execution_count": 215,
=======
   "execution_count": 13,
>>>>>>> 91bb1452e962976921a7ef862507ecfe05c55e9a
   "id": "eca90cc6-607e-4b7a-9c1e-55f01f9c5b26",
   "metadata": {},
   "outputs": [],
   "source": [
    "# !pip install tensorflowjs"
   ]
  },
  {
   "cell_type": "code",
<<<<<<< HEAD
   "execution_count": 216,
   "id": "20a39ccc-1d60-4458-9039-6f1e605464d0",
   "metadata": {},
   "outputs": [],
=======
   "execution_count": 14,
   "id": "20a39ccc-1d60-4458-9039-6f1e605464d0",
   "metadata": {},
   "outputs": [
    {
     "name": "stderr",
     "output_type": "stream",
     "text": [
      "WARNING:absl:You are saving your model as an HDF5 file via `model.save()` or `keras.saving.save_model(model)`. This file format is considered legacy. We recommend using instead the native Keras format, e.g. `model.save('my_model.keras')` or `keras.saving.save_model(model, 'my_model.keras')`. \n"
     ]
    }
   ],
>>>>>>> 91bb1452e962976921a7ef862507ecfe05c55e9a
   "source": [
    "# Save Model ke h5\n",
    "model.save('feat-search-2.h5')"
   ]
  },
  {
   "cell_type": "code",
<<<<<<< HEAD
   "execution_count": 217,
=======
   "execution_count": 15,
>>>>>>> 91bb1452e962976921a7ef862507ecfe05c55e9a
   "id": "5082c504-d0b9-4666-89ae-0c404883f36a",
   "metadata": {},
   "outputs": [],
   "source": [
    "# # Convert to tensorflowjs\n",
    "# tensorflowjs_converter --input_format keras model_recipes.h5 tfjs_model/"
   ]
  },
  {
   "cell_type": "code",
<<<<<<< HEAD
   "execution_count": 218,
=======
   "execution_count": 16,
>>>>>>> 91bb1452e962976921a7ef862507ecfe05c55e9a
   "id": "e459b031-28e6-44ee-93c3-eb6f1de915cc",
   "metadata": {},
   "outputs": [],
   "source": [
    "# from flask import Flask, request, jsonify\n",
    "\n",
    "# app = Flask(__name__)\n",
    "\n",
    "# # Endpoint untuk mendapatkan rekomendasi\n",
    "# @app.route('/recommend', methods=['POST'])\n",
    "# def recommend():\n",
    "#     query = request.json.get('query', '')\n",
    "#     top_n = int(request.json.get('top_n', 5))\n",
    "#     recommendations = recommend_recipes(query, data, word2vec_model, top_n)\n",
    "#     response = recommendations[['Title', 'Ingredients', 'Steps', 'Loves']].to_dict(orient='records')\n",
    "#     return jsonify(response)\n",
    "\n",
    "# if __name__ == '__main__':\n",
    "#     app.run(debug=True)\n"
   ]
  },
  {
   "cell_type": "code",
   "execution_count": null,
   "id": "05487870-1b5f-4140-9451-4dc456e798df",
   "metadata": {},
   "outputs": [],
   "source": []
  }
 ],
 "metadata": {
  "kernelspec": {
   "display_name": "Python 3 (ipykernel)",
   "language": "python",
   "name": "python3"
  },
  "language_info": {
   "codemirror_mode": {
    "name": "ipython",
    "version": 3
   },
   "file_extension": ".py",
   "mimetype": "text/x-python",
   "name": "python",
   "nbconvert_exporter": "python",
   "pygments_lexer": "ipython3",
   "version": "3.12.1"
  }
 },
 "nbformat": 4,
 "nbformat_minor": 5
}
