{
 "cells": [
  {
   "cell_type": "markdown",
   "metadata": {
    "id": "S1WYYHpp64Tf"
   },
   "source": [
    "# Import Library\n",
    "\n",
    "Proses NLP :\n",
    "- EDA\n",
    "- Pembersihan (Hapus tanda baca, ubah ke lowercase)\n",
    "- Tokenisasi\n",
    "- Penghapusan stopwords\n",
    "- Stemming atau Lemmatization\n",
    "- Vektorisasi teks (misalnya, TF-IDF, BoW)\n",
    "- Pembagian data (Training, Validation, Test)\n",
    "- Pembangunan dan pelatihan model"
   ]
  },
  {
   "cell_type": "code",
   "execution_count": 1,
   "metadata": {
    "id": "DTKtXBwv63mh"
   },
   "outputs": [],
   "source": [
    "import pandas as pd\n",
    "import numpy as np\n",
    "import matplotlib.pyplot as plt\n",
    "import seaborn as sns\n",
    "import tensorflow as tf"
   ]
  },
  {
   "cell_type": "code",
   "execution_count": 2,
   "metadata": {
    "colab": {
     "base_uri": "https://localhost:8080/",
     "height": 206
    },
    "id": "pZPBDoay6usB",
    "outputId": "8979a205-f64f-4b25-ec6f-491f4fc21f59"
   },
   "outputs": [
    {
     "data": {
      "text/html": [
       "<div>\n",
       "<style scoped>\n",
       "    .dataframe tbody tr th:only-of-type {\n",
       "        vertical-align: middle;\n",
       "    }\n",
       "\n",
       "    .dataframe tbody tr th {\n",
       "        vertical-align: top;\n",
       "    }\n",
       "\n",
       "    .dataframe thead th {\n",
       "        text-align: right;\n",
       "    }\n",
       "</style>\n",
       "<table border=\"1\" class=\"dataframe\">\n",
       "  <thead>\n",
       "    <tr style=\"text-align: right;\">\n",
       "      <th></th>\n",
       "      <th>Title</th>\n",
       "      <th>Ingredients</th>\n",
       "      <th>Steps</th>\n",
       "      <th>Loves</th>\n",
       "      <th>URL</th>\n",
       "    </tr>\n",
       "  </thead>\n",
       "  <tbody>\n",
       "    <tr>\n",
       "      <th>0</th>\n",
       "      <td>Ayam Woku Manado</td>\n",
       "      <td>1 Ekor Ayam Kampung (potong 12)--2 Buah Jeruk ...</td>\n",
       "      <td>Cuci bersih ayam dan tiriskan. Lalu peras jeru...</td>\n",
       "      <td>1</td>\n",
       "      <td>/id/resep/4473027-ayam-woku-manado</td>\n",
       "    </tr>\n",
       "    <tr>\n",
       "      <th>1</th>\n",
       "      <td>Ayam goreng tulang lunak</td>\n",
       "      <td>1 kg ayam (dipotong sesuai selera jangan kecil...</td>\n",
       "      <td>Haluskan bumbu2nya (BaPut, ketumbar, kemiri, k...</td>\n",
       "      <td>1</td>\n",
       "      <td>/id/resep/4471956-ayam-goreng-tulang-lunak</td>\n",
       "    </tr>\n",
       "    <tr>\n",
       "      <th>2</th>\n",
       "      <td>Ayam cabai kawin</td>\n",
       "      <td>1/4 kg ayam--3 buah cabai hijau besar--7 buah ...</td>\n",
       "      <td>Panaskan minyak di dalam wajan. Setelah minyak...</td>\n",
       "      <td>2</td>\n",
       "      <td>/id/resep/4473057-ayam-cabai-kawin</td>\n",
       "    </tr>\n",
       "    <tr>\n",
       "      <th>3</th>\n",
       "      <td>Ayam Geprek</td>\n",
       "      <td>250 gr daging ayam (saya pakai fillet)--Secuku...</td>\n",
       "      <td>Goreng ayam seperti ayam krispi--Ulek semua ba...</td>\n",
       "      <td>10</td>\n",
       "      <td>/id/resep/4473023-ayam-geprek</td>\n",
       "    </tr>\n",
       "    <tr>\n",
       "      <th>4</th>\n",
       "      <td>Minyak Ayam</td>\n",
       "      <td>400 gr kulit ayam &amp; lemaknya--8 siung bawang p...</td>\n",
       "      <td>Cuci bersih kulit ayam. Sisihkan--Ambil 50 ml ...</td>\n",
       "      <td>4</td>\n",
       "      <td>/id/resep/4427438-minyak-ayam</td>\n",
       "    </tr>\n",
       "  </tbody>\n",
       "</table>\n",
       "</div>"
      ],
      "text/plain": [
       "                      Title  \\\n",
       "0          Ayam Woku Manado   \n",
       "1  Ayam goreng tulang lunak   \n",
       "2          Ayam cabai kawin   \n",
       "3               Ayam Geprek   \n",
       "4               Minyak Ayam   \n",
       "\n",
       "                                         Ingredients  \\\n",
       "0  1 Ekor Ayam Kampung (potong 12)--2 Buah Jeruk ...   \n",
       "1  1 kg ayam (dipotong sesuai selera jangan kecil...   \n",
       "2  1/4 kg ayam--3 buah cabai hijau besar--7 buah ...   \n",
       "3  250 gr daging ayam (saya pakai fillet)--Secuku...   \n",
       "4  400 gr kulit ayam & lemaknya--8 siung bawang p...   \n",
       "\n",
       "                                               Steps  Loves  \\\n",
       "0  Cuci bersih ayam dan tiriskan. Lalu peras jeru...      1   \n",
       "1  Haluskan bumbu2nya (BaPut, ketumbar, kemiri, k...      1   \n",
       "2  Panaskan minyak di dalam wajan. Setelah minyak...      2   \n",
       "3  Goreng ayam seperti ayam krispi--Ulek semua ba...     10   \n",
       "4  Cuci bersih kulit ayam. Sisihkan--Ambil 50 ml ...      4   \n",
       "\n",
       "                                          URL  \n",
       "0          /id/resep/4473027-ayam-woku-manado  \n",
       "1  /id/resep/4471956-ayam-goreng-tulang-lunak  \n",
       "2          /id/resep/4473057-ayam-cabai-kawin  \n",
       "3               /id/resep/4473023-ayam-geprek  \n",
       "4               /id/resep/4427438-minyak-ayam  "
      ]
     },
     "execution_count": 2,
     "metadata": {},
     "output_type": "execute_result"
    }
   ],
   "source": [
    "df = pd.read_csv(\"./Data/all_data_resep.csv\")\n",
    "df.head()"
   ]
  },
  {
   "cell_type": "code",
   "execution_count": 3,
   "metadata": {
    "colab": {
     "base_uri": "https://localhost:8080/",
     "height": 259
    },
    "id": "uhA4mVec7Eeb",
    "outputId": "92610e5c-0acc-4ded-930d-c8f52af28f47"
   },
   "outputs": [
    {
     "name": "stdout",
     "output_type": "stream",
     "text": [
      "Duplicated :  642\n",
      "\n",
      "Missing Values:\n"
     ]
    },
    {
     "data": {
      "text/plain": [
       "Title          0\n",
       "Ingredients    0\n",
       "Steps          0\n",
       "Loves          0\n",
       "URL            0\n",
       "dtype: int64"
      ]
     },
     "execution_count": 3,
     "metadata": {},
     "output_type": "execute_result"
    }
   ],
   "source": [
    "# Duplicated Check\n",
    "print(\"Duplicated : \", df.duplicated().sum())\n",
    "print(\"\\nMissing Values:\")\n",
    "df.isna().sum()"
   ]
  },
  {
   "cell_type": "code",
   "execution_count": 4,
   "metadata": {},
   "outputs": [],
   "source": [
    "# Drop Column URL\n",
    "df = df.drop(columns=['URL'])"
   ]
  },
  {
   "cell_type": "code",
   "execution_count": 5,
   "metadata": {
    "colab": {
     "base_uri": "https://localhost:8080/",
     "height": 301
    },
    "id": "9z0cYDqV7Q3f",
    "outputId": "c97f21f8-e6c4-4244-ba2f-105aeab567f5"
   },
   "outputs": [
    {
     "name": "stdout",
     "output_type": "stream",
     "text": [
      "\n",
      "Statistik Deskriptif:\n",
      "              Loves\n",
      "count  15593.000000\n",
      "mean      11.779901\n",
      "std       21.549629\n",
      "min        0.000000\n",
      "25%        3.000000\n",
      "50%        6.000000\n",
      "75%       11.000000\n",
      "max      939.000000\n",
      "\n",
      "Statistic Data Text:\n",
      "                   Title                                        Ingredients  \\\n",
      "count              15593                                              15593   \n",
      "unique             12468                                              14940   \n",
      "top     Tongseng Kambing  1 papan tempe, potong kubus--5 buah tahu putih...   \n",
      "freq                  55                                                  3   \n",
      "\n",
      "                                                    Steps  \n",
      "count                                               15593  \n",
      "unique                                              14940  \n",
      "top     Tumis bumbu halus, masukan salam, jahe, dan le...  \n",
      "freq                                                    3  \n"
     ]
    }
   ],
   "source": [
    "# Statistic descriptive for data numeric\n",
    "print(\"\\nStatistik Deskriptif:\")\n",
    "print(df.describe())\n",
    "\n",
    "# Statistic descriptive for data text\n",
    "print(\"\\nStatistic Data Text:\")\n",
    "print(df[['Title', 'Ingredients', 'Steps']].describe(include=[object]))\n"
   ]
  },
  {
   "cell_type": "code",
   "execution_count": 6,
   "metadata": {
    "colab": {
     "base_uri": "https://localhost:8080/",
     "height": 597
    },
    "id": "GaF010_cD180",
    "outputId": "e7ff341e-b85e-412b-c8d4-4047b2e4866d"
   },
   "outputs": [
    {
     "data": {
      "text/html": [
       "<div>\n",
       "<style scoped>\n",
       "    .dataframe tbody tr th:only-of-type {\n",
       "        vertical-align: middle;\n",
       "    }\n",
       "\n",
       "    .dataframe tbody tr th {\n",
       "        vertical-align: top;\n",
       "    }\n",
       "\n",
       "    .dataframe thead th {\n",
       "        text-align: right;\n",
       "    }\n",
       "</style>\n",
       "<table border=\"1\" class=\"dataframe\">\n",
       "  <thead>\n",
       "    <tr style=\"text-align: right;\">\n",
       "      <th></th>\n",
       "      <th>Title</th>\n",
       "      <th>Ingredients</th>\n",
       "      <th>Steps</th>\n",
       "      <th>Loves</th>\n",
       "    </tr>\n",
       "  </thead>\n",
       "  <tbody>\n",
       "    <tr>\n",
       "      <th>5324</th>\n",
       "      <td>Ayam goreng super duper simple</td>\n",
       "      <td>Ayam, bisa diganti ati ampela/daging kambing--...</td>\n",
       "      <td>Cuci bersih ayam--Rebus ayam dengan asem dan g...</td>\n",
       "      <td>7</td>\n",
       "    </tr>\n",
       "    <tr>\n",
       "      <th>5326</th>\n",
       "      <td>Gulai ayam arya</td>\n",
       "      <td>Bahan halus;--5 ekor Ayam--5 bulat Bawang puti...</td>\n",
       "      <td>Bersihkan ayam potong sesuai selera. Setelah a...</td>\n",
       "      <td>9</td>\n",
       "    </tr>\n",
       "    <tr>\n",
       "      <th>5329</th>\n",
       "      <td>Gurame Bakar</td>\n",
       "      <td>1 ekor gurame (sy pakai berat 700 gr)--Bumbu h...</td>\n",
       "      <td>Cuci bersih ikan, lalu belah punggung,dan saya...</td>\n",
       "      <td>12</td>\n",
       "    </tr>\n",
       "    <tr>\n",
       "      <th>5802</th>\n",
       "      <td>Pare ayam daging sapi</td>\n",
       "      <td>2 buah pare ayam--200 gr daging sapi (potong d...</td>\n",
       "      <td>Potong agak tebal pare lalu taburi garam,remas...</td>\n",
       "      <td>3</td>\n",
       "    </tr>\n",
       "    <tr>\n",
       "      <th>5875</th>\n",
       "      <td>Iga sapi &amp; ayam bakar madu</td>\n",
       "      <td>1/2 kg iga sapi--1/2 ayam (bagian paha potong ...</td>\n",
       "      <td>Cuci bersih iga &amp; ayam--Rebus daging sapi meng...</td>\n",
       "      <td>8</td>\n",
       "    </tr>\n",
       "    <tr>\n",
       "      <th>...</th>\n",
       "      <td>...</td>\n",
       "      <td>...</td>\n",
       "      <td>...</td>\n",
       "      <td>...</td>\n",
       "    </tr>\n",
       "    <tr>\n",
       "      <th>15077</th>\n",
       "      <td>Telur balado kentang + udang</td>\n",
       "      <td>1/4 telur (rebus)--1/4 kentang (pot kotak gore...</td>\n",
       "      <td>Rebus telur hingga matang,, kentang kupas (gor...</td>\n",
       "      <td>6</td>\n",
       "    </tr>\n",
       "    <tr>\n",
       "      <th>15105</th>\n",
       "      <td>Sambal lado telur puyu terong udang</td>\n",
       "      <td>10 btih telur puyu--semper empat udang--1 buah...</td>\n",
       "      <td>Rebus telur puyuh kups sisikn--Berdikn udang d...</td>\n",
       "      <td>11</td>\n",
       "    </tr>\n",
       "    <tr>\n",
       "      <th>15186</th>\n",
       "      <td>Rolade Telur Udang Saus Asam Manis</td>\n",
       "      <td>2 butir telur--1/2 batang wortel--2-3 batang d...</td>\n",
       "      <td>Campur telur, daun bawang, serta wortel yg sud...</td>\n",
       "      <td>5</td>\n",
       "    </tr>\n",
       "    <tr>\n",
       "      <th>15203</th>\n",
       "      <td>Udang bungkus telur</td>\n",
       "      <td>1/4 udang--5 butir telur--1/6 kol--daun bawang...</td>\n",
       "      <td>Dadar telur secukupnya untuk bungkus--Oseng ba...</td>\n",
       "      <td>13</td>\n",
       "    </tr>\n",
       "    <tr>\n",
       "      <th>15391</th>\n",
       "      <td>Udang sosis bakso sapi masak pedas manis</td>\n",
       "      <td>4 biji sosis sapi--1 ons udang--6 biji bakso s...</td>\n",
       "      <td>Bersihhkan udang buang kepalanya,cuci semua ba...</td>\n",
       "      <td>4</td>\n",
       "    </tr>\n",
       "  </tbody>\n",
       "</table>\n",
       "<p>642 rows × 4 columns</p>\n",
       "</div>"
      ],
      "text/plain": [
       "                                          Title  \\\n",
       "5324             Ayam goreng super duper simple   \n",
       "5326                            Gulai ayam arya   \n",
       "5329                               Gurame Bakar   \n",
       "5802                      Pare ayam daging sapi   \n",
       "5875                 Iga sapi & ayam bakar madu   \n",
       "...                                         ...   \n",
       "15077              Telur balado kentang + udang   \n",
       "15105       Sambal lado telur puyu terong udang   \n",
       "15186        Rolade Telur Udang Saus Asam Manis   \n",
       "15203                       Udang bungkus telur   \n",
       "15391  Udang sosis bakso sapi masak pedas manis   \n",
       "\n",
       "                                             Ingredients  \\\n",
       "5324   Ayam, bisa diganti ati ampela/daging kambing--...   \n",
       "5326   Bahan halus;--5 ekor Ayam--5 bulat Bawang puti...   \n",
       "5329   1 ekor gurame (sy pakai berat 700 gr)--Bumbu h...   \n",
       "5802   2 buah pare ayam--200 gr daging sapi (potong d...   \n",
       "5875   1/2 kg iga sapi--1/2 ayam (bagian paha potong ...   \n",
       "...                                                  ...   \n",
       "15077  1/4 telur (rebus)--1/4 kentang (pot kotak gore...   \n",
       "15105  10 btih telur puyu--semper empat udang--1 buah...   \n",
       "15186  2 butir telur--1/2 batang wortel--2-3 batang d...   \n",
       "15203  1/4 udang--5 butir telur--1/6 kol--daun bawang...   \n",
       "15391  4 biji sosis sapi--1 ons udang--6 biji bakso s...   \n",
       "\n",
       "                                                   Steps  Loves  \n",
       "5324   Cuci bersih ayam--Rebus ayam dengan asem dan g...      7  \n",
       "5326   Bersihkan ayam potong sesuai selera. Setelah a...      9  \n",
       "5329   Cuci bersih ikan, lalu belah punggung,dan saya...     12  \n",
       "5802   Potong agak tebal pare lalu taburi garam,remas...      3  \n",
       "5875   Cuci bersih iga & ayam--Rebus daging sapi meng...      8  \n",
       "...                                                  ...    ...  \n",
       "15077  Rebus telur hingga matang,, kentang kupas (gor...      6  \n",
       "15105  Rebus telur puyuh kups sisikn--Berdikn udang d...     11  \n",
       "15186  Campur telur, daun bawang, serta wortel yg sud...      5  \n",
       "15203  Dadar telur secukupnya untuk bungkus--Oseng ba...     13  \n",
       "15391  Bersihhkan udang buang kepalanya,cuci semua ba...      4  \n",
       "\n",
       "[642 rows x 4 columns]"
      ]
     },
     "execution_count": 6,
     "metadata": {},
     "output_type": "execute_result"
    }
   ],
   "source": [
    "duplicates = df[df.duplicated()]\n",
    "duplicates"
   ]
  },
  {
   "cell_type": "code",
   "execution_count": 7,
   "metadata": {},
   "outputs": [
    {
     "data": {
      "image/png": "[encoded data removed]",
      "text/plain": [
       "<Figure size 1200x600 with 1 Axes>"
      ]
     },
     "metadata": {},
     "output_type": "display_data"
    }
   ],
   "source": [
    "# Distribution of text length in the Ingredients column\n",
    "df['Ingredients_length'] = df['Ingredients'].apply(lambda x: len(str(x)))\n",
    "df['Steps_length'] = df['Steps'].apply(lambda x: len(str(x)))\n",
    "\n",
    "# Visualization of text length distribution\n",
    "plt.figure(figsize=(12, 6))\n",
    "sns.histplot(df['Ingredients_length'], kde=True, bins=30, color='blue', label='Ingredients Length')\n",
    "sns.histplot(df['Steps_length'], kde=True, bins=30, color='green', label='Steps Length')\n",
    "plt.title('Text Length Distribution')\n",
    "plt.xlabel('Number of Characters')\n",
    "plt.ylabel('Frequency')\n",
    "plt.legend()\n",
    "plt.show()\n"
   ]
  },
  {
   "cell_type": "code",
   "execution_count": 8,
   "metadata": {},
   "outputs": [
    {
     "name": "stdout",
     "output_type": "stream",
     "text": [
      "\n",
      "Distribution Loves Value:\n",
      "Loves\n",
      "6      1513\n",
      "5      1319\n",
      "3      1317\n",
      "4      1304\n",
      "7      1211\n",
      "       ... \n",
      "171       1\n",
      "145       1\n",
      "195       1\n",
      "99        1\n",
      "109       1\n",
      "Name: count, Length: 185, dtype: int64\n"
     ]
    }
   ],
   "source": [
    "# Analysis of the distribution of 'Loves' values\n",
    "print(\"\\nDistribution Loves Value:\")\n",
    "print(df['Loves'].value_counts())"
   ]
  },
  {
   "cell_type": "markdown",
   "metadata": {
    "id": "KdlOEZLwaN6L"
   },
   "source": [
    "# Preprocessing Data"
   ]
  },
  {
   "cell_type": "code",
   "execution_count": 9,
   "metadata": {
    "id": "dqJ0uQhbeReY"
   },
   "outputs": [],
   "source": [
    "# import re\n",
    "# import string\n",
    "# import nltk"
   ]
  },
  {
   "cell_type": "markdown",
   "metadata": {
    "id": "KOySdbQlN92Z"
   },
   "source": [
    "Changce Column Title, Ingredients and Steps to lower text"
   ]
  },
  {
   "cell_type": "code",
   "execution_count": 86,
   "metadata": {
    "colab": {
     "base_uri": "https://localhost:8080/",
     "height": 81
    },
    "id": "nF4OBpGbaLMO",
    "outputId": "37e77167-4145-40f8-c4f9-c074b4baf147"
   },
   "outputs": [
    {
     "data": {
      "text/html": [
       "<div>\n",
       "<style scoped>\n",
       "    .dataframe tbody tr th:only-of-type {\n",
       "        vertical-align: middle;\n",
       "    }\n",
       "\n",
       "    .dataframe tbody tr th {\n",
       "        vertical-align: top;\n",
       "    }\n",
       "\n",
       "    .dataframe thead th {\n",
       "        text-align: right;\n",
       "    }\n",
       "</style>\n",
       "<table border=\"1\" class=\"dataframe\">\n",
       "  <thead>\n",
       "    <tr style=\"text-align: right;\">\n",
       "      <th></th>\n",
       "      <th>Title</th>\n",
       "      <th>Ingredients</th>\n",
       "      <th>Steps</th>\n",
       "      <th>Loves</th>\n",
       "      <th>Ingredients_length</th>\n",
       "      <th>Steps_length</th>\n",
       "      <th>combine_text</th>\n",
       "      <th>Combined_Text</th>\n",
       "      <th>Cleaned_Text</th>\n",
       "    </tr>\n",
       "  </thead>\n",
       "  <tbody>\n",
       "    <tr>\n",
       "      <th>0</th>\n",
       "      <td>None</td>\n",
       "      <td>1 Ekor Ayam Kampung (potong 12)--2 Buah Jeruk ...</td>\n",
       "      <td>Cuci bersih ayam dan tiriskan. Lalu peras jeru...</td>\n",
       "      <td>1</td>\n",
       "      <td>271</td>\n",
       "      <td>1127</td>\n",
       "      <td>Ayam Woku Manado 1 Ekor Ayam Kampung (potong 1...</td>\n",
       "      <td>Ayam Woku Manado 1 Ekor Ayam Kampung (potong 1...</td>\n",
       "      <td>ayam woku manado ekor ayam kampung potong buah...</td>\n",
       "    </tr>\n",
       "  </tbody>\n",
       "</table>\n",
       "</div>"
      ],
      "text/plain": [
       "  Title                                        Ingredients  \\\n",
       "0  None  1 Ekor Ayam Kampung (potong 12)--2 Buah Jeruk ...   \n",
       "\n",
       "                                               Steps  Loves  \\\n",
       "0  Cuci bersih ayam dan tiriskan. Lalu peras jeru...      1   \n",
       "\n",
       "   Ingredients_length  Steps_length  \\\n",
       "0                 271          1127   \n",
       "\n",
       "                                        combine_text  \\\n",
       "0  Ayam Woku Manado 1 Ekor Ayam Kampung (potong 1...   \n",
       "\n",
       "                                       Combined_Text  \\\n",
       "0  Ayam Woku Manado 1 Ekor Ayam Kampung (potong 1...   \n",
       "\n",
       "                                        Cleaned_Text  \n",
       "0  ayam woku manado ekor ayam kampung potong buah...  "
      ]
     },
     "execution_count": 86,
     "metadata": {},
     "output_type": "execute_result"
    }
   ],
   "source": [
    "# def clean_emoji(text):\n",
    "#   if text is not None and isinstance(text, str):\n",
    "#     emoji_pattern = re.compile(\"[\"\n",
    "#         u\"\\U0001F600-\\U0001F64F\"\n",
    "#         u\"\\U0001F300-\\U0001F5FF\"\n",
    "#         u\"\\U0001F680-\\U0001F6FF\"\n",
    "#         u\"\\U0001F700-\\U0001F77F\"\n",
    "#         u\"\\U0001F780-\\U0001F7FF\"\n",
    "#         u\"\\U0001F800-\\U0001F8FF\"\n",
    "#         u\"\\U0001F900-\\U0001F9FF\"\n",
    "#         u\"\\U0001FA00-\\U0001FA6F\"\n",
    "#         u\"\\U0001FA70-\\U0001FAFF\"\n",
    "#         u\"\\U00002702-\\U000027B0\"\n",
    "#         u\"\\U000024C2-\\U0001F251\"\n",
    "#         \"]+\", flags=re.UNICODE)\n",
    "#     return emoji_pattern.sub(r'', text)\n",
    "\n",
    "# for col in ['Ingredients', 'Title', 'Steps']:\n",
    "#     df[col] = df[col].fillna('').apply(clean_emoji)\n",
    "# df.head(1)"
   ]
  },
  {
   "cell_type": "code",
   "execution_count": 87,
   "metadata": {},
   "outputs": [],
   "source": [
    "# # Merge Title, Ingredients, and Steps columns into 1\n",
    "# df[\"Combined_Text\"] = (\n",
    "#     df[\"Title\"].fillna('') + ' ' +\n",
    "#     df[\"Ingredients\"].fillna('') + ' ' +\n",
    "#     df[\"Steps\"].fillna('')\n",
    "# )"
   ]
  },
  {
   "cell_type": "code",
   "execution_count": 19,
   "metadata": {
    "colab": {
     "base_uri": "https://localhost:8080/",
     "height": 424
    },
    "id": "NRFGAwQKO8vV",
    "outputId": "a8db6234-ba64-4d63-8d6a-f3fbbfeb8cb0"
   },
   "outputs": [
    {
     "name": "stderr",
     "output_type": "stream",
     "text": [
      "[nltk_data] Downloading package wordnet to C:\\Users\\Santi\n",
      "[nltk_data]     Susanti\\AppData\\Roaming\\nltk_data...\n",
      "[nltk_data]   Package wordnet is already up-to-date!\n",
      "[nltk_data] Downloading package stopwords to C:\\Users\\Santi\n",
      "[nltk_data]     Susanti\\AppData\\Roaming\\nltk_data...\n",
      "[nltk_data]   Package stopwords is already up-to-date!\n"
     ]
    },
    {
     "data": {
      "text/html": [
       "<div>\n",
       "<style scoped>\n",
       "    .dataframe tbody tr th:only-of-type {\n",
       "        vertical-align: middle;\n",
       "    }\n",
       "\n",
       "    .dataframe tbody tr th {\n",
       "        vertical-align: top;\n",
       "    }\n",
       "\n",
       "    .dataframe thead th {\n",
       "        text-align: right;\n",
       "    }\n",
       "</style>\n",
       "<table border=\"1\" class=\"dataframe\">\n",
       "  <thead>\n",
       "    <tr style=\"text-align: right;\">\n",
       "      <th></th>\n",
       "      <th>Title</th>\n",
       "      <th>Combined_Text</th>\n",
       "      <th>Cleaned_Text</th>\n",
       "    </tr>\n",
       "  </thead>\n",
       "  <tbody>\n",
       "    <tr>\n",
       "      <th>0</th>\n",
       "      <td>Ayam Woku Manado</td>\n",
       "      <td>Ayam Woku Manado 1 Ekor Ayam Kampung (potong 1...</td>\n",
       "      <td>ayam woku manado ekor ayam kampung potong buah...</td>\n",
       "    </tr>\n",
       "    <tr>\n",
       "      <th>1</th>\n",
       "      <td>Ayam goreng tulang lunak</td>\n",
       "      <td>Ayam goreng tulang lunak 1 kg ayam (dipotong s...</td>\n",
       "      <td>ayam goreng tulang lunak kg ayam dipotong sesu...</td>\n",
       "    </tr>\n",
       "    <tr>\n",
       "      <th>2</th>\n",
       "      <td>Ayam cabai kawin</td>\n",
       "      <td>Ayam cabai kawin 1/4 kg ayam--3 buah cabai hij...</td>\n",
       "      <td>ayam cabai kawin kg ayam buah cabai hijau besa...</td>\n",
       "    </tr>\n",
       "    <tr>\n",
       "      <th>3</th>\n",
       "      <td>Ayam Geprek</td>\n",
       "      <td>Ayam Geprek 250 gr daging ayam (saya pakai fil...</td>\n",
       "      <td>ayam geprek gr daging ayam saya pakai filletse...</td>\n",
       "    </tr>\n",
       "    <tr>\n",
       "      <th>4</th>\n",
       "      <td>Minyak Ayam</td>\n",
       "      <td>Minyak Ayam 400 gr kulit ayam &amp; lemaknya--8 si...</td>\n",
       "      <td>minyak ayam gr kulit ayam lemaknya siung bawan...</td>\n",
       "    </tr>\n",
       "  </tbody>\n",
       "</table>\n",
       "</div>"
      ],
      "text/plain": [
       "                      Title  \\\n",
       "0          Ayam Woku Manado   \n",
       "1  Ayam goreng tulang lunak   \n",
       "2          Ayam cabai kawin   \n",
       "3               Ayam Geprek   \n",
       "4               Minyak Ayam   \n",
       "\n",
       "                                       Combined_Text  \\\n",
       "0  Ayam Woku Manado 1 Ekor Ayam Kampung (potong 1...   \n",
       "1  Ayam goreng tulang lunak 1 kg ayam (dipotong s...   \n",
       "2  Ayam cabai kawin 1/4 kg ayam--3 buah cabai hij...   \n",
       "3  Ayam Geprek 250 gr daging ayam (saya pakai fil...   \n",
       "4  Minyak Ayam 400 gr kulit ayam & lemaknya--8 si...   \n",
       "\n",
       "                                        Cleaned_Text  \n",
       "0  ayam woku manado ekor ayam kampung potong buah...  \n",
       "1  ayam goreng tulang lunak kg ayam dipotong sesu...  \n",
       "2  ayam cabai kawin kg ayam buah cabai hijau besa...  \n",
       "3  ayam geprek gr daging ayam saya pakai filletse...  \n",
       "4  minyak ayam gr kulit ayam lemaknya siung bawan...  "
      ]
     },
     "execution_count": 19,
     "metadata": {},
     "output_type": "execute_result"
    }
   ],
   "source": [
    "# from nltk.stem import WordNetLemmatizer\n",
    "\n",
    "# nltk.download('wordnet')\n",
    "# nltk.download('stopwords')\n",
    "# # Bersihkan teks: huruf kecil, hapus karakter khusus, dan hapus spasi\n",
    "# def clean_text(text):\n",
    "#     # Konversi ke huruf kecil\n",
    "#     text = text.lower()\n",
    "    \n",
    "#     # Menghapus tanda baca dan karakter non-huruf\n",
    "#     text = re.sub(r'[^a-zA-Z\\s]', '', text)\n",
    "    \n",
    "#     # Tokenisasi (memisah kata-kata)\n",
    "#     words = text.split()\n",
    "    \n",
    "#     # Stemming atau Lemmatization\n",
    "#     lemmatizer = WordNetLemmatizer()\n",
    "#     words = [lemmatizer.lemmatize(word) for word in words]\n",
    "    \n",
    "#     return ' '.join(words)\n",
    "\n",
    "# df['Cleaned_Text'] = df['Combined_Text'].apply(clean_text)\n",
    "\n",
    "# # Menampilkan dataset yang telah dibersihkan dengan kolom baru\n",
    "# df[['Title', 'Combined_Text', 'Cleaned_Text']].head()"
   ]
  },
  {
   "cell_type": "markdown",
   "metadata": {},
   "source": [
    "Tokenization and Padding"
   ]
  },
  {
   "cell_type": "code",
   "execution_count": 17,
   "metadata": {},
   "outputs": [
    {
     "name": "stdout",
     "output_type": "stream",
     "text": [
      "Requirement already satisfied: Sastrawi in c:\\users\\santi susanti\\appdata\\local\\programs\\python\\python312\\lib\\site-packages (1.0.1)\n"
     ]
    }
   ],
   "source": [
    "# !pip install Sastrawi"
   ]
  },
  {
   "cell_type": "code",
   "execution_count": 20,
   "metadata": {},
   "outputs": [
    {
     "data": {
      "text/html": [
       "<div>\n",
       "<style scoped>\n",
       "    .dataframe tbody tr th:only-of-type {\n",
       "        vertical-align: middle;\n",
       "    }\n",
       "\n",
       "    .dataframe tbody tr th {\n",
       "        vertical-align: top;\n",
       "    }\n",
       "\n",
       "    .dataframe thead th {\n",
       "        text-align: right;\n",
       "    }\n",
       "</style>\n",
       "<table border=\"1\" class=\"dataframe\">\n",
       "  <thead>\n",
       "    <tr style=\"text-align: right;\">\n",
       "      <th></th>\n",
       "      <th>adonan</th>\n",
       "      <th>aduk</th>\n",
       "      <th>adukaduk</th>\n",
       "      <th>air</th>\n",
       "      <th>airbumbu</th>\n",
       "      <th>airnya</th>\n",
       "      <th>airsecukupnya</th>\n",
       "      <th>aja</th>\n",
       "      <th>aku</th>\n",
       "      <th>ala</th>\n",
       "      <th>...</th>\n",
       "      <th>utk</th>\n",
       "      <th>utuh</th>\n",
       "      <th>wadah</th>\n",
       "      <th>wajan</th>\n",
       "      <th>wangi</th>\n",
       "      <th>warna</th>\n",
       "      <th>wijen</th>\n",
       "      <th>wortel</th>\n",
       "      <th>yaa</th>\n",
       "      <th>yg</th>\n",
       "    </tr>\n",
       "  </thead>\n",
       "  <tbody>\n",
       "    <tr>\n",
       "      <th>0</th>\n",
       "      <td>0.0</td>\n",
       "      <td>0.035814</td>\n",
       "      <td>0.0</td>\n",
       "      <td>0.056092</td>\n",
       "      <td>0.0</td>\n",
       "      <td>0.0</td>\n",
       "      <td>0.000000</td>\n",
       "      <td>0.159673</td>\n",
       "      <td>0.0</td>\n",
       "      <td>0.0</td>\n",
       "      <td>...</td>\n",
       "      <td>0.0</td>\n",
       "      <td>0.0</td>\n",
       "      <td>0.000000</td>\n",
       "      <td>0.000000</td>\n",
       "      <td>0.000000</td>\n",
       "      <td>0.071526</td>\n",
       "      <td>0.0</td>\n",
       "      <td>0.0</td>\n",
       "      <td>0.204422</td>\n",
       "      <td>0.000000</td>\n",
       "    </tr>\n",
       "    <tr>\n",
       "      <th>1</th>\n",
       "      <td>0.0</td>\n",
       "      <td>0.000000</td>\n",
       "      <td>0.0</td>\n",
       "      <td>0.061460</td>\n",
       "      <td>0.0</td>\n",
       "      <td>0.0</td>\n",
       "      <td>0.000000</td>\n",
       "      <td>0.000000</td>\n",
       "      <td>0.0</td>\n",
       "      <td>0.0</td>\n",
       "      <td>...</td>\n",
       "      <td>0.0</td>\n",
       "      <td>0.0</td>\n",
       "      <td>0.000000</td>\n",
       "      <td>0.000000</td>\n",
       "      <td>0.000000</td>\n",
       "      <td>0.000000</td>\n",
       "      <td>0.0</td>\n",
       "      <td>0.0</td>\n",
       "      <td>0.000000</td>\n",
       "      <td>0.044903</td>\n",
       "    </tr>\n",
       "    <tr>\n",
       "      <th>2</th>\n",
       "      <td>0.0</td>\n",
       "      <td>0.000000</td>\n",
       "      <td>0.0</td>\n",
       "      <td>0.047729</td>\n",
       "      <td>0.0</td>\n",
       "      <td>0.0</td>\n",
       "      <td>0.134085</td>\n",
       "      <td>0.000000</td>\n",
       "      <td>0.0</td>\n",
       "      <td>0.0</td>\n",
       "      <td>...</td>\n",
       "      <td>0.0</td>\n",
       "      <td>0.0</td>\n",
       "      <td>0.000000</td>\n",
       "      <td>0.225341</td>\n",
       "      <td>0.128665</td>\n",
       "      <td>0.000000</td>\n",
       "      <td>0.0</td>\n",
       "      <td>0.0</td>\n",
       "      <td>0.000000</td>\n",
       "      <td>0.000000</td>\n",
       "    </tr>\n",
       "    <tr>\n",
       "      <th>3</th>\n",
       "      <td>0.0</td>\n",
       "      <td>0.000000</td>\n",
       "      <td>0.0</td>\n",
       "      <td>0.000000</td>\n",
       "      <td>0.0</td>\n",
       "      <td>0.0</td>\n",
       "      <td>0.000000</td>\n",
       "      <td>0.000000</td>\n",
       "      <td>0.0</td>\n",
       "      <td>0.0</td>\n",
       "      <td>...</td>\n",
       "      <td>0.0</td>\n",
       "      <td>0.0</td>\n",
       "      <td>0.000000</td>\n",
       "      <td>0.000000</td>\n",
       "      <td>0.000000</td>\n",
       "      <td>0.000000</td>\n",
       "      <td>0.0</td>\n",
       "      <td>0.0</td>\n",
       "      <td>0.000000</td>\n",
       "      <td>0.000000</td>\n",
       "    </tr>\n",
       "    <tr>\n",
       "      <th>4</th>\n",
       "      <td>0.0</td>\n",
       "      <td>0.050728</td>\n",
       "      <td>0.0</td>\n",
       "      <td>0.000000</td>\n",
       "      <td>0.0</td>\n",
       "      <td>0.0</td>\n",
       "      <td>0.000000</td>\n",
       "      <td>0.000000</td>\n",
       "      <td>0.0</td>\n",
       "      <td>0.0</td>\n",
       "      <td>...</td>\n",
       "      <td>0.0</td>\n",
       "      <td>0.0</td>\n",
       "      <td>0.108066</td>\n",
       "      <td>0.000000</td>\n",
       "      <td>0.000000</td>\n",
       "      <td>0.000000</td>\n",
       "      <td>0.0</td>\n",
       "      <td>0.0</td>\n",
       "      <td>0.000000</td>\n",
       "      <td>0.116094</td>\n",
       "    </tr>\n",
       "  </tbody>\n",
       "</table>\n",
       "<p>5 rows × 500 columns</p>\n",
       "</div>"
      ],
      "text/plain": [
       "   adonan      aduk  adukaduk       air  airbumbu  airnya  airsecukupnya  \\\n",
       "0     0.0  0.035814       0.0  0.056092       0.0     0.0       0.000000   \n",
       "1     0.0  0.000000       0.0  0.061460       0.0     0.0       0.000000   \n",
       "2     0.0  0.000000       0.0  0.047729       0.0     0.0       0.134085   \n",
       "3     0.0  0.000000       0.0  0.000000       0.0     0.0       0.000000   \n",
       "4     0.0  0.050728       0.0  0.000000       0.0     0.0       0.000000   \n",
       "\n",
       "        aja  aku  ala  ...  utk  utuh     wadah     wajan     wangi     warna  \\\n",
       "0  0.159673  0.0  0.0  ...  0.0   0.0  0.000000  0.000000  0.000000  0.071526   \n",
       "1  0.000000  0.0  0.0  ...  0.0   0.0  0.000000  0.000000  0.000000  0.000000   \n",
       "2  0.000000  0.0  0.0  ...  0.0   0.0  0.000000  0.225341  0.128665  0.000000   \n",
       "3  0.000000  0.0  0.0  ...  0.0   0.0  0.000000  0.000000  0.000000  0.000000   \n",
       "4  0.000000  0.0  0.0  ...  0.0   0.0  0.108066  0.000000  0.000000  0.000000   \n",
       "\n",
       "   wijen  wortel       yaa        yg  \n",
       "0    0.0     0.0  0.204422  0.000000  \n",
       "1    0.0     0.0  0.000000  0.044903  \n",
       "2    0.0     0.0  0.000000  0.000000  \n",
       "3    0.0     0.0  0.000000  0.000000  \n",
       "4    0.0     0.0  0.000000  0.116094  \n",
       "\n",
       "[5 rows x 500 columns]"
      ]
     },
     "execution_count": 20,
     "metadata": {},
     "output_type": "execute_result"
    }
   ],
   "source": [
    "# from Sastrawi.StopWordRemover.StopWordRemoverFactory import StopWordRemoverFactory\n",
    "# from sklearn.feature_extraction.text import TfidfVectorizer\n",
    "\n",
    "# factory = StopWordRemoverFactory()\n",
    "# stopword_remover = factory.create_stop_word_remover()\n",
    "# df['Cleaned_Text'] = df['Cleaned_Text'].apply(stopword_remover.remove)\n",
    "\n",
    "# # Access the internal stop words list (this might be implementation-specific)\n",
    "# sastrawi_stop_words = factory.get_stop_words() \n",
    "\n",
    "# tfidf_vectorizer = TfidfVectorizer(max_features=500, stop_words=sastrawi_stop_words) \n",
    "\n",
    "# # Fit and transform the cleaned text\n",
    "# tfidf_matrix = tfidf_vectorizer.fit_transform(df['Cleaned_Text'])\n",
    "\n",
    "# # Convert the TF-IDF matrix to a DataFrame for better readability\n",
    "# tfidf_df = pd.DataFrame(tfidf_matrix.toarray(), columns=tfidf_vectorizer.get_feature_names_out())\n",
    "\n",
    "# # Display the first few rows of the TF-IDF representation\n",
    "# tfidf_df.head()"
   ]
  },
  {
   "cell_type": "code",
   "execution_count": 89,
   "metadata": {},
   "outputs": [],
   "source": [
    "# VOCAB_SIZE = 10000\n",
    "# PADDING_TYPE = 'post'\n",
    "# EMBEDDING_DIM = 16\n",
    "# MAX_LENGTH = 500"
   ]
  },
  {
   "cell_type": "code",
   "execution_count": 90,
   "metadata": {},
   "outputs": [],
   "source": [
    "# from tensorflow.keras.preprocessing.text import Tokenizer\n",
    "# from tensorflow.keras.preprocessing.sequence import pad_sequences\n",
    "# from tensorflow.keras.layers import Embedding\n",
    "\n",
    "# # Tokenizer\n",
    "# tokenizer = Tokenizer(num_words=VOCAB_SIZE, oov_token='<OOV>')\n",
    "# tokenizer.fit_on_texts(df['Cleaned_Text'])\n",
    "\n",
    "# # Convert text to a sequence of numbers using padding\n",
    "# sequence = tokenizer.texts_to_sequences(df['Cleaned_Text'])\n",
    "# padded_sequence = tf.keras.utils.pad_sequences(sequence, maxlen=MAX_LENGTH, padding=PADDING_TYPE)\n",
    "\n",
    "# # Embedding\n",
    "# embedding = Embedding(input_dim=VOCAB_SIZE, output_dim=EMBEDDING_DIM)\n",
    "# embedded_vector = embedding(padded_sequence)"
   ]
  },
  {
   "cell_type": "code",
   "execution_count": 91,
   "metadata": {},
   "outputs": [
    {
     "name": "stdout",
     "output_type": "stream",
     "text": [
      "0    ayam woku manado ekor ayam kampung potong buah...\n",
      "1    ayam goreng tulang lunak kg ayam dipotong sesu...\n",
      "2    ayam cabai kawin kg ayam buah cabai hijau besa...\n",
      "3    ayam geprek gr daging ayam pakai filletsecukup...\n",
      "4    minyak ayam gr kulit ayam lemaknya siung bawan...\n",
      "Name: Cleaned_Text, dtype: object\n"
     ]
    }
   ],
   "source": [
    "# print(df['Cleaned_Text'].head())"
   ]
  },
  {
   "cell_type": "code",
   "execution_count": 92,
   "metadata": {},
   "outputs": [
    {
     "name": "stdout",
     "output_type": "stream",
     "text": [
      "Tokenized Sequences:\n",
      "Sample 1: [18, 1866, 5089, 177, 18, 635, 23, 8, 38, 123, 14, 11, 55, 90, 2, 3, 2, 4, 12, 3, 12, 37, 3, 45, 50, 42, 97, 74, 127, 58, 6, 51, 271, 6, 1, 39, 222, 5, 68, 83, 18, 192, 13, 759, 38, 123, 247, 362, 38, 123, 166, 528, 67, 11, 21, 10, 260, 135, 143, 94, 159, 18, 362, 367, 6718, 18, 650, 121, 35, 13, 850, 7, 234, 231, 2, 3, 2, 4, 12, 3, 12, 37, 97, 90, 2949, 369, 22, 41, 497, 159, 231, 127, 118, 96, 242, 332, 224, 1, 7, 102, 3307, 32, 116, 210, 127, 6, 6719, 1339, 32, 32, 181, 191, 36, 18, 75, 15, 121, 35, 108, 7, 75, 32, 135, 94, 270, 159, 7, 133, 13, 483, 222, 5, 13, 34, 71, 39, 24, 45, 50, 107, 39, 159, 219, 779, 546, 87, 13, 36, 6, 212, 75, 23, 23, 49, 1867, 94, 1011, 1, 156, 412, 18, 1866, 1, 10757, 247, 312, 92, 34, 178, 40, 3, 403, 1957, 45, 50, 242, 497, 1]\n",
      "Sample 2: [18, 15, 246, 560, 82, 18, 189, 45, 50, 116, 56, 74, 120, 353, 58, 6, 38, 42, 2, 4, 102, 14, 99, 102, 55, 168, 298, 102, 55, 168, 90, 102, 42, 97, 1171, 105, 5, 2362, 2591, 561, 22, 15, 102, 449, 1185, 99, 97, 90, 298, 11, 10, 26, 1564, 219, 7, 26, 141, 18, 29, 443, 83, 75, 189, 851, 193, 401, 812, 216, 503, 5, 10, 18, 1530, 65, 17, 120, 6, 38, 118, 158, 565, 18, 249, 193, 401, 63, 2591, 401, 315, 94, 77, 2514, 875, 2591, 401, 487, 98, 760, 334, 1868, 13, 15, 18, 22, 15, 77, 124, 18, 425, 10758, 79, 18, 164, 167, 101, 4, 95, 109, 227, 38, 123, 1097]\n"
     ]
    }
   ],
   "source": [
    "# print(\"Tokenized Sequences:\")\n",
    "# for i, seq in enumerate(sequence[:2]): \n",
    "#     print(f\"Sample {i+1}: {seq}\")\n"
   ]
  },
  {
   "cell_type": "code",
   "execution_count": 93,
   "metadata": {},
   "outputs": [
    {
     "name": "stdout",
     "output_type": "stream",
     "text": [
      "\n",
      "Padded Sequences:\n",
      "Sample 1: [   18  1866  5089   177    18   635    23     8    38   123    14    11\n",
      "    55    90     2     3     2     4    12     3    12    37     3    45\n",
      "    50    42    97    74   127    58     6    51   271     6     1    39\n",
      "   222     5    68    83    18   192    13   759    38   123   247   362\n",
      "    38   123   166   528    67    11    21    10   260   135   143    94\n",
      "   159    18   362   367  6718    18   650   121    35    13   850     7\n",
      "   234   231     2     3     2     4    12     3    12    37    97    90\n",
      "  2949   369    22    41   497   159   231   127   118    96   242   332\n",
      "   224     1     7   102  3307    32   116   210   127     6  6719  1339\n",
      "    32    32   181   191    36    18    75    15   121    35   108     7\n",
      "    75    32   135    94   270   159     7   133    13   483   222     5\n",
      "    13    34    71    39    24    45    50   107    39   159   219   779\n",
      "   546    87    13    36     6   212    75    23    23    49  1867    94\n",
      "  1011     1   156   412    18  1866     1 10757   247   312    92    34\n",
      "   178    40     3   403  1957    45    50   242   497     1     0     0\n",
      "     0     0     0     0     0     0     0     0     0     0     0     0\n",
      "     0     0     0     0     0     0     0     0     0     0     0     0\n",
      "     0     0     0     0     0     0     0     0     0     0     0     0\n",
      "     0     0     0     0     0     0     0     0     0     0     0     0\n",
      "     0     0     0     0     0     0     0     0     0     0     0     0\n",
      "     0     0     0     0     0     0     0     0     0     0     0     0\n",
      "     0     0     0     0     0     0     0     0     0     0     0     0\n",
      "     0     0     0     0     0     0     0     0     0     0     0     0\n",
      "     0     0     0     0     0     0     0     0     0     0     0     0\n",
      "     0     0     0     0     0     0     0     0     0     0     0     0\n",
      "     0     0     0     0     0     0     0     0     0     0     0     0\n",
      "     0     0     0     0     0     0     0     0     0     0     0     0\n",
      "     0     0     0     0     0     0     0     0     0     0     0     0\n",
      "     0     0     0     0     0     0     0     0     0     0     0     0\n",
      "     0     0     0     0     0     0     0     0     0     0     0     0\n",
      "     0     0     0     0     0     0     0     0     0     0     0     0\n",
      "     0     0     0     0     0     0     0     0     0     0     0     0\n",
      "     0     0     0     0     0     0     0     0     0     0     0     0\n",
      "     0     0     0     0     0     0     0     0     0     0     0     0\n",
      "     0     0     0     0     0     0     0     0     0     0     0     0\n",
      "     0     0     0     0     0     0     0     0     0     0     0     0\n",
      "     0     0     0     0     0     0     0     0     0     0     0     0\n",
      "     0     0     0     0     0     0     0     0     0     0     0     0\n",
      "     0     0     0     0     0     0     0     0     0     0     0     0\n",
      "     0     0     0     0     0     0     0     0     0     0     0     0\n",
      "     0     0     0     0     0     0     0     0     0     0     0     0\n",
      "     0     0     0     0     0     0     0     0]\n",
      "Sample 2: [   18    15   246   560    82    18   189    45    50   116    56    74\n",
      "   120   353    58     6    38    42     2     4   102    14    99   102\n",
      "    55   168   298   102    55   168    90   102    42    97  1171   105\n",
      "     5  2362  2591   561    22    15   102   449  1185    99    97    90\n",
      "   298    11    10    26  1564   219     7    26   141    18    29   443\n",
      "    83    75   189   851   193   401   812   216   503     5    10    18\n",
      "  1530    65    17   120     6    38   118   158   565    18   249   193\n",
      "   401    63  2591   401   315    94    77  2514   875  2591   401   487\n",
      "    98   760   334  1868    13    15    18    22    15    77   124    18\n",
      "   425 10758    79    18   164   167   101     4    95   109   227    38\n",
      "   123  1097     0     0     0     0     0     0     0     0     0     0\n",
      "     0     0     0     0     0     0     0     0     0     0     0     0\n",
      "     0     0     0     0     0     0     0     0     0     0     0     0\n",
      "     0     0     0     0     0     0     0     0     0     0     0     0\n",
      "     0     0     0     0     0     0     0     0     0     0     0     0\n",
      "     0     0     0     0     0     0     0     0     0     0     0     0\n",
      "     0     0     0     0     0     0     0     0     0     0     0     0\n",
      "     0     0     0     0     0     0     0     0     0     0     0     0\n",
      "     0     0     0     0     0     0     0     0     0     0     0     0\n",
      "     0     0     0     0     0     0     0     0     0     0     0     0\n",
      "     0     0     0     0     0     0     0     0     0     0     0     0\n",
      "     0     0     0     0     0     0     0     0     0     0     0     0\n",
      "     0     0     0     0     0     0     0     0     0     0     0     0\n",
      "     0     0     0     0     0     0     0     0     0     0     0     0\n",
      "     0     0     0     0     0     0     0     0     0     0     0     0\n",
      "     0     0     0     0     0     0     0     0     0     0     0     0\n",
      "     0     0     0     0     0     0     0     0     0     0     0     0\n",
      "     0     0     0     0     0     0     0     0     0     0     0     0\n",
      "     0     0     0     0     0     0     0     0     0     0     0     0\n",
      "     0     0     0     0     0     0     0     0     0     0     0     0\n",
      "     0     0     0     0     0     0     0     0     0     0     0     0\n",
      "     0     0     0     0     0     0     0     0     0     0     0     0\n",
      "     0     0     0     0     0     0     0     0     0     0     0     0\n",
      "     0     0     0     0     0     0     0     0     0     0     0     0\n",
      "     0     0     0     0     0     0     0     0     0     0     0     0\n",
      "     0     0     0     0     0     0     0     0     0     0     0     0\n",
      "     0     0     0     0     0     0     0     0     0     0     0     0\n",
      "     0     0     0     0     0     0     0     0     0     0     0     0\n",
      "     0     0     0     0     0     0     0     0     0     0     0     0\n",
      "     0     0     0     0     0     0     0     0     0     0     0     0\n",
      "     0     0     0     0     0     0     0     0     0     0     0     0\n",
      "     0     0     0     0     0     0     0     0]\n"
     ]
    }
   ],
   "source": [
    "# print(\"\\nPadded Sequences:\")\n",
    "# for i, seq in enumerate(padded_sequence[:2]):  \n",
    "#     print(f\"Sample {i+1}: {seq}\")\n"
   ]
  },
  {
   "cell_type": "code",
   "execution_count": 94,
   "metadata": {},
   "outputs": [
    {
     "name": "stdout",
     "output_type": "stream",
     "text": [
      "\n",
      "Embedded Vectors:\n",
      "Sample 1:\n",
      "[[-0.01616306 -0.03993429  0.01229359 ... -0.03448034  0.02706996\n",
      "  -0.01806061]\n",
      " [ 0.01566619 -0.01693641  0.02426196 ...  0.00908266 -0.00722082\n",
      "  -0.04980585]\n",
      " [ 0.00398676  0.01218498  0.02174259 ...  0.01176051 -0.01890273\n",
      "  -0.040957  ]\n",
      " ...\n",
      " [-0.00214047 -0.04616908 -0.02825512 ...  0.00414996  0.01676795\n",
      "   0.01059289]\n",
      " [-0.00214047 -0.04616908 -0.02825512 ...  0.00414996  0.01676795\n",
      "   0.01059289]\n",
      " [-0.00214047 -0.04616908 -0.02825512 ...  0.00414996  0.01676795\n",
      "   0.01059289]]\n",
      "Sample 2:\n",
      "[[-0.01616306 -0.03993429  0.01229359 ... -0.03448034  0.02706996\n",
      "  -0.01806061]\n",
      " [-0.00917219 -0.01988534 -0.01968758 ...  0.0038636   0.00906172\n",
      "   0.03541472]\n",
      " [-0.02778639 -0.01079283 -0.01092653 ...  0.02534932 -0.03322385\n",
      "  -0.02034642]\n",
      " ...\n",
      " [-0.00214047 -0.04616908 -0.02825512 ...  0.00414996  0.01676795\n",
      "   0.01059289]\n",
      " [-0.00214047 -0.04616908 -0.02825512 ...  0.00414996  0.01676795\n",
      "   0.01059289]\n",
      " [-0.00214047 -0.04616908 -0.02825512 ...  0.00414996  0.01676795\n",
      "   0.01059289]]\n"
     ]
    }
   ],
   "source": [
    "# print(\"\\nEmbedded Vectors:\")\n",
    "# for i in range(2):  \n",
    "#     print(f\"Sample {i+1}:\")\n",
    "#     print(embedded_vector[i].numpy())  \n"
   ]
  },
  {
   "cell_type": "markdown",
   "metadata": {},
   "source": [
    "# Train and Validation "
   ]
  },
  {
   "cell_type": "code",
   "execution_count": 100,
   "metadata": {},
   "outputs": [
    {
     "name": "stdout",
     "output_type": "stream",
     "text": [
      "Jumlah data training: 12474\n",
      "Jumlah data validation: 3119\n"
     ]
    }
   ],
   "source": [
    "# from sklearn.preprocessing import LabelEncoder\n",
    "# from tensorflow.keras.utils import to_categorical\n",
    "# from sklearn.model_selection import train_test_split\n",
    "# import numpy as np\n",
    "\n",
    "# labels = np.random.randint(0, 2, size=(padded_sequence.shape[0],))\n",
    "# # # Encode target using LabelEncoder\n",
    "# # label_encoder = LabelEncoder()\n",
    "# # df['Title'] = label_encoder.fit_transform(df['Title'])\n",
    "\n",
    "# # # One-hot encoding for target\n",
    "# # num_classes = df['Title'].max() + 1\n",
    "# # Y = to_categorical(df['Title'], num_classes=num_classes)\n",
    "\n",
    "# # Split data into training and validation\n",
    "# # X_train, X_val, Y_train, Y_val = train_test_split(\n",
    "# #     padded_sequence, Y, test_size=0.2, random_state=42\n",
    "# # )\n",
    "# X_train, X_val, y_train, y_val = train_test_split(padded_sequence, labels, test_size=0.2, random_state=42)\n",
    "\n",
    "# # print(\"Jumlah kelas:\", num_classes)\n",
    "# print(\"Jumlah data training:\", len(X_train))\n",
    "# print(\"Jumlah data validation:\", len(X_val))"
   ]
  },
  {
   "cell_type": "markdown",
   "metadata": {},
   "source": [
    "# Create a Model"
   ]
  },
  {
   "cell_type": "code",
   "execution_count": 103,
   "metadata": {},
   "outputs": [
    {
     "data": {
      "text/html": [
       "<pre style=\"white-space:pre;overflow-x:auto;line-height:normal;font-family:Menlo,'DejaVu Sans Mono',consolas,'Courier New',monospace\"><span style=\"font-weight: bold\">Model: \"sequential_8\"</span>\n",
       "</pre>\n"
      ],
      "text/plain": [
       "\u001b[1mModel: \"sequential_8\"\u001b[0m\n"
      ]
     },
     "metadata": {},
     "output_type": "display_data"
    },
    {
     "data": {
      "text/html": [
       "<pre style=\"white-space:pre;overflow-x:auto;line-height:normal;font-family:Menlo,'DejaVu Sans Mono',consolas,'Courier New',monospace\">┏━━━━━━━━━━━━━━━━━━━━━━━━━━━━━━━━━┳━━━━━━━━━━━━━━━━━━━━━━━━┳━━━━━━━━━━━━━━━┓\n",
       "┃<span style=\"font-weight: bold\"> Layer (type)                    </span>┃<span style=\"font-weight: bold\"> Output Shape           </span>┃<span style=\"font-weight: bold\">       Param # </span>┃\n",
       "┡━━━━━━━━━━━━━━━━━━━━━━━━━━━━━━━━━╇━━━━━━━━━━━━━━━━━━━━━━━━╇━━━━━━━━━━━━━━━┩\n",
       "│ embedding_8 (<span style=\"color: #0087ff; text-decoration-color: #0087ff\">Embedding</span>)         │ (<span style=\"color: #00d7ff; text-decoration-color: #00d7ff\">None</span>, <span style=\"color: #00af00; text-decoration-color: #00af00\">500</span>, <span style=\"color: #00af00; text-decoration-color: #00af00\">16</span>)        │       <span style=\"color: #00af00; text-decoration-color: #00af00\">199,584</span> │\n",
       "├─────────────────────────────────┼────────────────────────┼───────────────┤\n",
       "│ global_average_pooling1d_1      │ (<span style=\"color: #00d7ff; text-decoration-color: #00d7ff\">None</span>, <span style=\"color: #00af00; text-decoration-color: #00af00\">16</span>)             │             <span style=\"color: #00af00; text-decoration-color: #00af00\">0</span> │\n",
       "│ (<span style=\"color: #0087ff; text-decoration-color: #0087ff\">GlobalAveragePooling1D</span>)        │                        │               │\n",
       "├─────────────────────────────────┼────────────────────────┼───────────────┤\n",
       "│ dense_24 (<span style=\"color: #0087ff; text-decoration-color: #0087ff\">Dense</span>)                │ (<span style=\"color: #00d7ff; text-decoration-color: #00d7ff\">None</span>, <span style=\"color: #00af00; text-decoration-color: #00af00\">64</span>)             │         <span style=\"color: #00af00; text-decoration-color: #00af00\">1,088</span> │\n",
       "├─────────────────────────────────┼────────────────────────┼───────────────┤\n",
       "│ dropout_16 (<span style=\"color: #0087ff; text-decoration-color: #0087ff\">Dropout</span>)            │ (<span style=\"color: #00d7ff; text-decoration-color: #00d7ff\">None</span>, <span style=\"color: #00af00; text-decoration-color: #00af00\">64</span>)             │             <span style=\"color: #00af00; text-decoration-color: #00af00\">0</span> │\n",
       "├─────────────────────────────────┼────────────────────────┼───────────────┤\n",
       "│ dense_25 (<span style=\"color: #0087ff; text-decoration-color: #0087ff\">Dense</span>)                │ (<span style=\"color: #00d7ff; text-decoration-color: #00d7ff\">None</span>, <span style=\"color: #00af00; text-decoration-color: #00af00\">32</span>)             │         <span style=\"color: #00af00; text-decoration-color: #00af00\">2,080</span> │\n",
       "├─────────────────────────────────┼────────────────────────┼───────────────┤\n",
       "│ dropout_17 (<span style=\"color: #0087ff; text-decoration-color: #0087ff\">Dropout</span>)            │ (<span style=\"color: #00d7ff; text-decoration-color: #00d7ff\">None</span>, <span style=\"color: #00af00; text-decoration-color: #00af00\">32</span>)             │             <span style=\"color: #00af00; text-decoration-color: #00af00\">0</span> │\n",
       "├─────────────────────────────────┼────────────────────────┼───────────────┤\n",
       "│ dense_26 (<span style=\"color: #0087ff; text-decoration-color: #0087ff\">Dense</span>)                │ (<span style=\"color: #00d7ff; text-decoration-color: #00d7ff\">None</span>, <span style=\"color: #00af00; text-decoration-color: #00af00\">1</span>)              │            <span style=\"color: #00af00; text-decoration-color: #00af00\">33</span> │\n",
       "└─────────────────────────────────┴────────────────────────┴───────────────┘\n",
       "</pre>\n"
      ],
      "text/plain": [
       "┏━━━━━━━━━━━━━━━━━━━━━━━━━━━━━━━━━┳━━━━━━━━━━━━━━━━━━━━━━━━┳━━━━━━━━━━━━━━━┓\n",
       "┃\u001b[1m \u001b[0m\u001b[1mLayer (type)                   \u001b[0m\u001b[1m \u001b[0m┃\u001b[1m \u001b[0m\u001b[1mOutput Shape          \u001b[0m\u001b[1m \u001b[0m┃\u001b[1m \u001b[0m\u001b[1m      Param #\u001b[0m\u001b[1m \u001b[0m┃\n",
       "┡━━━━━━━━━━━━━━━━━━━━━━━━━━━━━━━━━╇━━━━━━━━━━━━━━━━━━━━━━━━╇━━━━━━━━━━━━━━━┩\n",
       "│ embedding_8 (\u001b[38;5;33mEmbedding\u001b[0m)         │ (\u001b[38;5;45mNone\u001b[0m, \u001b[38;5;34m500\u001b[0m, \u001b[38;5;34m16\u001b[0m)        │       \u001b[38;5;34m199,584\u001b[0m │\n",
       "├─────────────────────────────────┼────────────────────────┼───────────────┤\n",
       "│ global_average_pooling1d_1      │ (\u001b[38;5;45mNone\u001b[0m, \u001b[38;5;34m16\u001b[0m)             │             \u001b[38;5;34m0\u001b[0m │\n",
       "│ (\u001b[38;5;33mGlobalAveragePooling1D\u001b[0m)        │                        │               │\n",
       "├─────────────────────────────────┼────────────────────────┼───────────────┤\n",
       "│ dense_24 (\u001b[38;5;33mDense\u001b[0m)                │ (\u001b[38;5;45mNone\u001b[0m, \u001b[38;5;34m64\u001b[0m)             │         \u001b[38;5;34m1,088\u001b[0m │\n",
       "├─────────────────────────────────┼────────────────────────┼───────────────┤\n",
       "│ dropout_16 (\u001b[38;5;33mDropout\u001b[0m)            │ (\u001b[38;5;45mNone\u001b[0m, \u001b[38;5;34m64\u001b[0m)             │             \u001b[38;5;34m0\u001b[0m │\n",
       "├─────────────────────────────────┼────────────────────────┼───────────────┤\n",
       "│ dense_25 (\u001b[38;5;33mDense\u001b[0m)                │ (\u001b[38;5;45mNone\u001b[0m, \u001b[38;5;34m32\u001b[0m)             │         \u001b[38;5;34m2,080\u001b[0m │\n",
       "├─────────────────────────────────┼────────────────────────┼───────────────┤\n",
       "│ dropout_17 (\u001b[38;5;33mDropout\u001b[0m)            │ (\u001b[38;5;45mNone\u001b[0m, \u001b[38;5;34m32\u001b[0m)             │             \u001b[38;5;34m0\u001b[0m │\n",
       "├─────────────────────────────────┼────────────────────────┼───────────────┤\n",
       "│ dense_26 (\u001b[38;5;33mDense\u001b[0m)                │ (\u001b[38;5;45mNone\u001b[0m, \u001b[38;5;34m1\u001b[0m)              │            \u001b[38;5;34m33\u001b[0m │\n",
       "└─────────────────────────────────┴────────────────────────┴───────────────┘\n"
      ]
     },
     "metadata": {},
     "output_type": "display_data"
    },
    {
     "data": {
      "text/html": [
       "<pre style=\"white-space:pre;overflow-x:auto;line-height:normal;font-family:Menlo,'DejaVu Sans Mono',consolas,'Courier New',monospace\"><span style=\"font-weight: bold\"> Total params: </span><span style=\"color: #00af00; text-decoration-color: #00af00\">202,785</span> (792.13 KB)\n",
       "</pre>\n"
      ],
      "text/plain": [
       "\u001b[1m Total params: \u001b[0m\u001b[38;5;34m202,785\u001b[0m (792.13 KB)\n"
      ]
     },
     "metadata": {},
     "output_type": "display_data"
    },
    {
     "data": {
      "text/html": [
       "<pre style=\"white-space:pre;overflow-x:auto;line-height:normal;font-family:Menlo,'DejaVu Sans Mono',consolas,'Courier New',monospace\"><span style=\"font-weight: bold\"> Trainable params: </span><span style=\"color: #00af00; text-decoration-color: #00af00\">202,785</span> (792.13 KB)\n",
       "</pre>\n"
      ],
      "text/plain": [
       "\u001b[1m Trainable params: \u001b[0m\u001b[38;5;34m202,785\u001b[0m (792.13 KB)\n"
      ]
     },
     "metadata": {},
     "output_type": "display_data"
    },
    {
     "data": {
      "text/html": [
       "<pre style=\"white-space:pre;overflow-x:auto;line-height:normal;font-family:Menlo,'DejaVu Sans Mono',consolas,'Courier New',monospace\"><span style=\"font-weight: bold\"> Non-trainable params: </span><span style=\"color: #00af00; text-decoration-color: #00af00\">0</span> (0.00 B)\n",
       "</pre>\n"
      ],
      "text/plain": [
       "\u001b[1m Non-trainable params: \u001b[0m\u001b[38;5;34m0\u001b[0m (0.00 B)\n"
      ]
     },
     "metadata": {},
     "output_type": "display_data"
    }
   ],
   "source": [
    "# from tensorflow.keras import layers, models\n",
    "\n",
    "# # Tentukan bentuk input berdasarkan fitur TF-IDF\n",
    "# input_shape = tfidf_matrix.shape[1]\n",
    "\n",
    "# # Membangun model\n",
    "# model = models.Sequential([\n",
    "#     # layers.InputLayer(input_shape=(input_shape,)),\n",
    "#     # layers.Dense(64, activation='relu'),  \n",
    "#     # layers.Dropout(0.3),  \n",
    "#     # layers.Dense(32, activation='relu'),\n",
    "#     # layers.Dropout(0.3),\n",
    "#     # layers.Dense(1, activation='sigmoid') \n",
    "#     layers.InputLayer(input_shape=(MAX_LENGTH,)),  # Input layer eksplisit\n",
    "#     layers.Embedding(input_dim=VOCAB_SIZE, output_dim=EMBEDDING_DIM, input_length=MAX_LENGTH),\n",
    "#     layers.GlobalAveragePooling1D(),\n",
    "#     layers.Dense(64, activation='relu'),\n",
    "#     layers.Dropout(0.3),\n",
    "#     layers.Dense(32, activation='relu'),\n",
    "#     layers.Dropout(0.3),\n",
    "#     layers.Dense(1, activation='sigmoid')\n",
    "# # ])\n",
    "# ])\n",
    "\n",
    "# # Compile model\n",
    "# model.compile(optimizer='adam', loss='binary_crossentropy', metrics=['accuracy'])\n",
    "\n",
    "# model.summary()"
   ]
  },
  {
   "cell_type": "code",
   "execution_count": 97,
   "metadata": {},
   "outputs": [],
   "source": [
    "# class StopTrainingCallback(tf.keras.callbacks.Callback):\n",
    "#     def on_epoch_end(self, epoch, logs=None):\n",
    "#         # Check accuracy value\n",
    "#         accuracy = logs.get('accuracy')\n",
    "#         if accuracy is not None and accuracy >= 0.85:\n",
    "#             print(f\"\\nAkurasi telah mencapai {accuracy * 100:.2f}%. Pelatihan dihentikan pada epoch {epoch + 1}.\")\n",
    "#             self.model.stop_training = True\n"
   ]
  },
  {
   "cell_type": "code",
   "execution_count": 104,
   "metadata": {},
   "outputs": [
    {
     "name": "stdout",
     "output_type": "stream",
     "text": [
      "Shape X_train: (12474, 500)\n",
      "Shape y_train: (12474,)\n"
     ]
    }
   ],
   "source": [
    "# print(\"Shape X_train:\", X_train.shape)\n",
    "# print(\"Shape y_train:\", y_train.shape)"
   ]
  },
  {
   "cell_type": "code",
   "execution_count": 105,
   "metadata": {},
   "outputs": [
    {
     "name": "stdout",
     "output_type": "stream",
     "text": [
      "Epoch 1/10\n"
     ]
    },
    {
     "ename": "ValueError",
     "evalue": "Arguments `target` and `output` must have the same shape. Received: target.shape=(None, 12442), output.shape=(None, 1)",
     "output_type": "error",
     "traceback": [
      "\u001b[1;31m---------------------------------------------------------------------------\u001b[0m",
      "\u001b[1;31mValueError\u001b[0m                                Traceback (most recent call last)",
      "Cell \u001b[1;32mIn[105], line 4\u001b[0m\n\u001b[0;32m      1\u001b[0m \u001b[38;5;66;03m# Training model\u001b[39;00m\n\u001b[0;32m      2\u001b[0m stop_training_callback \u001b[38;5;241m=\u001b[39m StopTrainingCallback()\n\u001b[1;32m----> 4\u001b[0m history \u001b[38;5;241m=\u001b[39m \u001b[43mmodel\u001b[49m\u001b[38;5;241;43m.\u001b[39;49m\u001b[43mfit\u001b[49m\u001b[43m(\u001b[49m\n\u001b[0;32m      5\u001b[0m \u001b[43m    \u001b[49m\u001b[43mX_train\u001b[49m\u001b[43m,\u001b[49m\u001b[43m \u001b[49m\u001b[43mY_train\u001b[49m\u001b[43m,\u001b[49m\n\u001b[0;32m      6\u001b[0m \u001b[43m    \u001b[49m\u001b[43mvalidation_data\u001b[49m\u001b[38;5;241;43m=\u001b[39;49m\u001b[43m(\u001b[49m\u001b[43mX_val\u001b[49m\u001b[43m,\u001b[49m\u001b[43m \u001b[49m\u001b[43mY_val\u001b[49m\u001b[43m)\u001b[49m\u001b[43m,\u001b[49m\n\u001b[0;32m      7\u001b[0m \u001b[43m    \u001b[49m\u001b[43mepochs\u001b[49m\u001b[38;5;241;43m=\u001b[39;49m\u001b[38;5;241;43m10\u001b[39;49m\u001b[43m,\u001b[49m\n\u001b[0;32m      8\u001b[0m \u001b[43m    \u001b[49m\u001b[43mbatch_size\u001b[49m\u001b[38;5;241;43m=\u001b[39;49m\u001b[38;5;241;43m32\u001b[39;49m\u001b[43m,\u001b[49m\n\u001b[0;32m      9\u001b[0m \u001b[43m    \u001b[49m\u001b[43mcallbacks\u001b[49m\u001b[38;5;241;43m=\u001b[39;49m\u001b[43m[\u001b[49m\u001b[43mstop_training_callback\u001b[49m\u001b[43m]\u001b[49m\u001b[43m  \u001b[49m\n\u001b[0;32m     10\u001b[0m \u001b[43m)\u001b[49m\n",
      "File \u001b[1;32m~\\AppData\\Local\\Programs\\Python\\Python312\\Lib\\site-packages\\keras\\src\\utils\\traceback_utils.py:122\u001b[0m, in \u001b[0;36mfilter_traceback.<locals>.error_handler\u001b[1;34m(*args, **kwargs)\u001b[0m\n\u001b[0;32m    119\u001b[0m     filtered_tb \u001b[38;5;241m=\u001b[39m _process_traceback_frames(e\u001b[38;5;241m.\u001b[39m__traceback__)\n\u001b[0;32m    120\u001b[0m     \u001b[38;5;66;03m# To get the full stack trace, call:\u001b[39;00m\n\u001b[0;32m    121\u001b[0m     \u001b[38;5;66;03m# `keras.config.disable_traceback_filtering()`\u001b[39;00m\n\u001b[1;32m--> 122\u001b[0m     \u001b[38;5;28;01mraise\u001b[39;00m e\u001b[38;5;241m.\u001b[39mwith_traceback(filtered_tb) \u001b[38;5;28;01mfrom\u001b[39;00m \u001b[38;5;28;01mNone\u001b[39;00m\n\u001b[0;32m    123\u001b[0m \u001b[38;5;28;01mfinally\u001b[39;00m:\n\u001b[0;32m    124\u001b[0m     \u001b[38;5;28;01mdel\u001b[39;00m filtered_tb\n",
      "File \u001b[1;32m~\\AppData\\Local\\Programs\\Python\\Python312\\Lib\\site-packages\\keras\\src\\backend\\tensorflow\\nn.py:744\u001b[0m, in \u001b[0;36mbinary_crossentropy\u001b[1;34m(target, output, from_logits)\u001b[0m\n\u001b[0;32m    742\u001b[0m \u001b[38;5;28;01mfor\u001b[39;00m e1, e2 \u001b[38;5;129;01min\u001b[39;00m \u001b[38;5;28mzip\u001b[39m(target\u001b[38;5;241m.\u001b[39mshape, output\u001b[38;5;241m.\u001b[39mshape):\n\u001b[0;32m    743\u001b[0m     \u001b[38;5;28;01mif\u001b[39;00m e1 \u001b[38;5;129;01mis\u001b[39;00m \u001b[38;5;129;01mnot\u001b[39;00m \u001b[38;5;28;01mNone\u001b[39;00m \u001b[38;5;129;01mand\u001b[39;00m e2 \u001b[38;5;129;01mis\u001b[39;00m \u001b[38;5;129;01mnot\u001b[39;00m \u001b[38;5;28;01mNone\u001b[39;00m \u001b[38;5;129;01mand\u001b[39;00m e1 \u001b[38;5;241m!=\u001b[39m e2:\n\u001b[1;32m--> 744\u001b[0m         \u001b[38;5;28;01mraise\u001b[39;00m \u001b[38;5;167;01mValueError\u001b[39;00m(\n\u001b[0;32m    745\u001b[0m             \u001b[38;5;124m\"\u001b[39m\u001b[38;5;124mArguments `target` and `output` must have the same shape. \u001b[39m\u001b[38;5;124m\"\u001b[39m\n\u001b[0;32m    746\u001b[0m             \u001b[38;5;124m\"\u001b[39m\u001b[38;5;124mReceived: \u001b[39m\u001b[38;5;124m\"\u001b[39m\n\u001b[0;32m    747\u001b[0m             \u001b[38;5;124mf\u001b[39m\u001b[38;5;124m\"\u001b[39m\u001b[38;5;124mtarget.shape=\u001b[39m\u001b[38;5;132;01m{\u001b[39;00mtarget\u001b[38;5;241m.\u001b[39mshape\u001b[38;5;132;01m}\u001b[39;00m\u001b[38;5;124m, output.shape=\u001b[39m\u001b[38;5;132;01m{\u001b[39;00moutput\u001b[38;5;241m.\u001b[39mshape\u001b[38;5;132;01m}\u001b[39;00m\u001b[38;5;124m\"\u001b[39m\n\u001b[0;32m    748\u001b[0m         )\n\u001b[0;32m    750\u001b[0m output, from_logits \u001b[38;5;241m=\u001b[39m _get_logits(\n\u001b[0;32m    751\u001b[0m     output, from_logits, \u001b[38;5;124m\"\u001b[39m\u001b[38;5;124mSigmoid\u001b[39m\u001b[38;5;124m\"\u001b[39m, \u001b[38;5;124m\"\u001b[39m\u001b[38;5;124mbinary_crossentropy\u001b[39m\u001b[38;5;124m\"\u001b[39m\n\u001b[0;32m    752\u001b[0m )\n\u001b[0;32m    754\u001b[0m \u001b[38;5;28;01mif\u001b[39;00m from_logits:\n",
      "\u001b[1;31mValueError\u001b[0m: Arguments `target` and `output` must have the same shape. Received: target.shape=(None, 12442), output.shape=(None, 1)"
     ]
    }
   ],
   "source": [
    "# # Training model\n",
    "# stop_training_callback = StopTrainingCallback()\n",
    "\n",
    "# history = model.fit(\n",
    "#     X_train, Y_train,\n",
    "#     validation_data=(X_val, Y_val),\n",
    "#     epochs=10,\n",
    "#     batch_size=32,\n",
    "#     callbacks=[stop_training_callback]  \n",
    "# )"
   ]
  },
  {
   "cell_type": "code",
   "execution_count": null,
   "metadata": {},
   "outputs": [],
   "source": [
    "# # Test the model with a query\n",
    "# def search_recipes_cnn(query):\n",
    "#     query_cleaned = re.sub(r'[^\\w\\s]', '', query.lower())\n",
    "#     query_cleaned = \" \".join([word for word in word_tokenize(query_cleaned) if word not in stop_words])\n",
    "#     query_sequence = tokenizer.texts_to_sequences([query_cleaned])\n",
    "#     query_padded = pad_sequences(query_sequence, maxlen=MAX_LENGTH, padding=PADDING_TYPE)\n",
    "#     prediction = model.predict(query_padded)\n",
    "#     top_indices = prediction[0].argsort()[-5:][::-1]  \n",
    "#     top_recipes = df[df['label'].isin(top_indices)]\n",
    "#     return top_recipes[['Title', 'Ingredients', 'Steps']]\n",
    "\n",
    "# # Example query\n",
    "# query = \"ayam goreng\"\n",
    "# results = search_recipes_cnn(query)\n",
    "# print(\"Top Recipes for Query:\", query)\n",
    "# print(results)"
   ]
  },
  {
   "cell_type": "code",
   "execution_count": null,
   "metadata": {},
   "outputs": [],
   "source": [
    "# # Plot the result\n",
    "# def plot_graph(history, string):\n",
    "#     plt.plot(history.history['accuracy'], label='Train Accuracy')\n",
    "#     plt.plot(history.history['val_accuracy'], label='Validation Accuracy')\n",
    "#     plt.xlabel('Epoch')\n",
    "#     plt.ylabel('Accuracy')\n",
    "#     plt.legend()\n",
    "#     plt.show()\n",
    "\n",
    "\n",
    "# plot_graph(history, \"accuracy\")\n",
    "# plot_graph(history, \"loss\")"
   ]
  },
  {
   "cell_type": "markdown",
   "metadata": {},
   "source": [
    "# RONDE KEDUA"
   ]
  },
  {
   "cell_type": "code",
   "execution_count": 3,
   "metadata": {},
   "outputs": [
    {
     "name": "stdout",
     "output_type": "stream",
     "text": [
      "<class 'pandas.core.frame.DataFrame'>\n",
      "RangeIndex: 15593 entries, 0 to 15592\n",
      "Data columns (total 5 columns):\n",
      " #   Column       Non-Null Count  Dtype \n",
      "---  ------       --------------  ----- \n",
      " 0   Title        15593 non-null  object\n",
      " 1   Ingredients  15593 non-null  object\n",
      " 2   Steps        15593 non-null  object\n",
      " 3   Loves        15593 non-null  int64 \n",
      " 4   URL          15593 non-null  object\n",
      "dtypes: int64(1), object(4)\n",
      "memory usage: 609.2+ KB\n"
     ]
    },
    {
     "data": {
      "text/plain": [
       "(                      Title  \\\n",
       " 0          Ayam Woku Manado   \n",
       " 1  Ayam goreng tulang lunak   \n",
       " 2          Ayam cabai kawin   \n",
       " 3               Ayam Geprek   \n",
       " 4               Minyak Ayam   \n",
       " \n",
       "                                          Ingredients  \\\n",
       " 0  1 Ekor Ayam Kampung (potong 12)--2 Buah Jeruk ...   \n",
       " 1  1 kg ayam (dipotong sesuai selera jangan kecil...   \n",
       " 2  1/4 kg ayam--3 buah cabai hijau besar--7 buah ...   \n",
       " 3  250 gr daging ayam (saya pakai fillet)--Secuku...   \n",
       " 4  400 gr kulit ayam & lemaknya--8 siung bawang p...   \n",
       " \n",
       "                                                Steps  Loves  \\\n",
       " 0  Cuci bersih ayam dan tiriskan. Lalu peras jeru...      1   \n",
       " 1  Haluskan bumbu2nya (BaPut, ketumbar, kemiri, k...      1   \n",
       " 2  Panaskan minyak di dalam wajan. Setelah minyak...      2   \n",
       " 3  Goreng ayam seperti ayam krispi--Ulek semua ba...     10   \n",
       " 4  Cuci bersih kulit ayam. Sisihkan--Ambil 50 ml ...      4   \n",
       " \n",
       "                                           URL  \n",
       " 0          /id/resep/4473027-ayam-woku-manado  \n",
       " 1  /id/resep/4471956-ayam-goreng-tulang-lunak  \n",
       " 2          /id/resep/4473057-ayam-cabai-kawin  \n",
       " 3               /id/resep/4473023-ayam-geprek  \n",
       " 4               /id/resep/4427438-minyak-ayam  ,\n",
       " None)"
      ]
     },
     "execution_count": 3,
     "metadata": {},
     "output_type": "execute_result"
    }
   ],
   "source": [
    "import pandas as pd\n",
    "\n",
    "# Load dataset to understand its structure\n",
    "file_path = './Data/all_data_resep.csv'\n",
    "dataset = pd.read_csv(file_path)\n",
    "\n",
    "# Display the first few rows of the dataset and its structure\n",
    "dataset.head(), dataset.info()\n"
   ]
  },
  {
   "cell_type": "code",
   "execution_count": 4,
   "metadata": {},
   "outputs": [
    {
     "name": "stdout",
     "output_type": "stream",
     "text": [
      "<class 'pandas.core.frame.DataFrame'>\n",
      "Index: 14951 entries, 0 to 15592\n",
      "Data columns (total 5 columns):\n",
      " #   Column       Non-Null Count  Dtype \n",
      "---  ------       --------------  ----- \n",
      " 0   Title        14951 non-null  object\n",
      " 1   Ingredients  14951 non-null  object\n",
      " 2   Steps        14951 non-null  object\n",
      " 3   Loves        14951 non-null  int64 \n",
      " 4   URL          14951 non-null  object\n",
      "dtypes: int64(1), object(4)\n",
      "memory usage: 700.8+ KB\n"
     ]
    },
    {
     "data": {
      "text/plain": [
       "(None,\n",
       "                       Title  \\\n",
       " 0          ayam woku manado   \n",
       " 1  ayam goreng tulang lunak   \n",
       " 2          ayam cabai kawin   \n",
       " 3               ayam geprek   \n",
       " 4               minyak ayam   \n",
       " \n",
       "                                          Ingredients  \\\n",
       " 0  1 ekor ayam kampung potong 122 buah jeruk nipi...   \n",
       " 1  1 kg ayam dipotong sesuai selera jangan kecil2...   \n",
       " 2  14 kg ayam3 buah cabai hijau besar7 buah cabai...   \n",
       " 3  250 gr daging ayam saya pakai filletsecukupnya...   \n",
       " 4  400 gr kulit ayam  lemaknya8 siung bawang puti...   \n",
       " \n",
       "                                                Steps  Loves  \\\n",
       " 0  cuci bersih ayam dan tiriskan lalu peras jeruk...      1   \n",
       " 1  haluskan bumbu2nya baput ketumbar kemiri kunyi...      1   \n",
       " 2  panaskan minyak di dalam wajan setelah minyak ...      2   \n",
       " 3  goreng ayam seperti ayam krispiulek semua baha...     10   \n",
       " 4  cuci bersih kulit ayam sisihkanambil 50 ml min...      4   \n",
       " \n",
       "                                           URL  \n",
       " 0          /id/resep/4473027-ayam-woku-manado  \n",
       " 1  /id/resep/4471956-ayam-goreng-tulang-lunak  \n",
       " 2          /id/resep/4473057-ayam-cabai-kawin  \n",
       " 3               /id/resep/4473023-ayam-geprek  \n",
       " 4               /id/resep/4427438-minyak-ayam  )"
      ]
     },
     "execution_count": 4,
     "metadata": {},
     "output_type": "execute_result"
    }
   ],
   "source": [
    "import string\n",
    "\n",
    "# Step 1: Remove duplicates and check for missing values\n",
    "dataset_cleaned = dataset.drop_duplicates().dropna()\n",
    "\n",
    "# Function to clean text by removing punctuation and converting to lowercase\n",
    "def clean_text(text):\n",
    "    text = text.lower()  # Convert to lowercase\n",
    "    text = text.translate(str.maketrans('', '', string.punctuation))  # Remove punctuation\n",
    "    return text\n",
    "\n",
    "# Apply text cleaning to relevant columns\n",
    "columns_to_clean = ['Title', 'Ingredients', 'Steps']\n",
    "for column in columns_to_clean:\n",
    "    dataset_cleaned[column] = dataset_cleaned[column].apply(clean_text)\n",
    "\n",
    "# Check cleaned data\n",
    "dataset_cleaned.info(), dataset_cleaned.head()\n"
   ]
  },
  {
   "cell_type": "code",
   "execution_count": 5,
   "metadata": {},
   "outputs": [
    {
     "data": {
      "text/html": [
       "<div>\n",
       "<style scoped>\n",
       "    .dataframe tbody tr th:only-of-type {\n",
       "        vertical-align: middle;\n",
       "    }\n",
       "\n",
       "    .dataframe tbody tr th {\n",
       "        vertical-align: top;\n",
       "    }\n",
       "\n",
       "    .dataframe thead th {\n",
       "        text-align: right;\n",
       "    }\n",
       "</style>\n",
       "<table border=\"1\" class=\"dataframe\">\n",
       "  <thead>\n",
       "    <tr style=\"text-align: right;\">\n",
       "      <th></th>\n",
       "      <th>Title</th>\n",
       "      <th>Ingredients</th>\n",
       "      <th>Steps</th>\n",
       "      <th>Recipe Description</th>\n",
       "    </tr>\n",
       "  </thead>\n",
       "  <tbody>\n",
       "    <tr>\n",
       "      <th>0</th>\n",
       "      <td>ayam woku manado</td>\n",
       "      <td>1 ekor ayam kampung potong 122 buah jeruk nipi...</td>\n",
       "      <td>cuci bersih ayam dan tiriskan lalu peras jeruk...</td>\n",
       "      <td>ayam woku manado 1 ekor ayam kampung potong 12...</td>\n",
       "    </tr>\n",
       "    <tr>\n",
       "      <th>1</th>\n",
       "      <td>ayam goreng tulang lunak</td>\n",
       "      <td>1 kg ayam dipotong sesuai selera jangan kecil2...</td>\n",
       "      <td>haluskan bumbu2nya baput ketumbar kemiri kunyi...</td>\n",
       "      <td>ayam goreng tulang lunak 1 kg ayam dipotong se...</td>\n",
       "    </tr>\n",
       "    <tr>\n",
       "      <th>2</th>\n",
       "      <td>ayam cabai kawin</td>\n",
       "      <td>14 kg ayam3 buah cabai hijau besar7 buah cabai...</td>\n",
       "      <td>panaskan minyak di dalam wajan setelah minyak ...</td>\n",
       "      <td>ayam cabai kawin 14 kg ayam3 buah cabai hijau ...</td>\n",
       "    </tr>\n",
       "    <tr>\n",
       "      <th>3</th>\n",
       "      <td>ayam geprek</td>\n",
       "      <td>250 gr daging ayam saya pakai filletsecukupnya...</td>\n",
       "      <td>goreng ayam seperti ayam krispiulek semua baha...</td>\n",
       "      <td>ayam geprek 250 gr daging ayam saya pakai fill...</td>\n",
       "    </tr>\n",
       "    <tr>\n",
       "      <th>4</th>\n",
       "      <td>minyak ayam</td>\n",
       "      <td>400 gr kulit ayam  lemaknya8 siung bawang puti...</td>\n",
       "      <td>cuci bersih kulit ayam sisihkanambil 50 ml min...</td>\n",
       "      <td>minyak ayam 400 gr kulit ayam  lemaknya8 siung...</td>\n",
       "    </tr>\n",
       "  </tbody>\n",
       "</table>\n",
       "</div>"
      ],
      "text/plain": [
       "                      Title  \\\n",
       "0          ayam woku manado   \n",
       "1  ayam goreng tulang lunak   \n",
       "2          ayam cabai kawin   \n",
       "3               ayam geprek   \n",
       "4               minyak ayam   \n",
       "\n",
       "                                         Ingredients  \\\n",
       "0  1 ekor ayam kampung potong 122 buah jeruk nipi...   \n",
       "1  1 kg ayam dipotong sesuai selera jangan kecil2...   \n",
       "2  14 kg ayam3 buah cabai hijau besar7 buah cabai...   \n",
       "3  250 gr daging ayam saya pakai filletsecukupnya...   \n",
       "4  400 gr kulit ayam  lemaknya8 siung bawang puti...   \n",
       "\n",
       "                                               Steps  \\\n",
       "0  cuci bersih ayam dan tiriskan lalu peras jeruk...   \n",
       "1  haluskan bumbu2nya baput ketumbar kemiri kunyi...   \n",
       "2  panaskan minyak di dalam wajan setelah minyak ...   \n",
       "3  goreng ayam seperti ayam krispiulek semua baha...   \n",
       "4  cuci bersih kulit ayam sisihkanambil 50 ml min...   \n",
       "\n",
       "                                  Recipe Description  \n",
       "0  ayam woku manado 1 ekor ayam kampung potong 12...  \n",
       "1  ayam goreng tulang lunak 1 kg ayam dipotong se...  \n",
       "2  ayam cabai kawin 14 kg ayam3 buah cabai hijau ...  \n",
       "3  ayam geprek 250 gr daging ayam saya pakai fill...  \n",
       "4  minyak ayam 400 gr kulit ayam  lemaknya8 siung...  "
      ]
     },
     "execution_count": 5,
     "metadata": {},
     "output_type": "execute_result"
    }
   ],
   "source": [
    "# Step 2: Combine text from Title, Ingredients, and Steps into a single 'Recipe Description' column\n",
    "dataset_cleaned['Recipe Description'] = dataset_cleaned['Title'] + ' ' + dataset_cleaned['Ingredients'] + ' ' + dataset_cleaned['Steps']\n",
    "\n",
    "# Check the updated dataset with the new column\n",
    "dataset_cleaned[['Title', 'Ingredients', 'Steps', 'Recipe Description']].head()\n"
   ]
  },
  {
   "cell_type": "code",
   "execution_count": 6,
   "metadata": {},
   "outputs": [
    {
     "data": {
      "text/html": [
       "<div>\n",
       "<style scoped>\n",
       "    .dataframe tbody tr th:only-of-type {\n",
       "        vertical-align: middle;\n",
       "    }\n",
       "\n",
       "    .dataframe tbody tr th {\n",
       "        vertical-align: top;\n",
       "    }\n",
       "\n",
       "    .dataframe thead th {\n",
       "        text-align: right;\n",
       "    }\n",
       "</style>\n",
       "<table border=\"1\" class=\"dataframe\">\n",
       "  <thead>\n",
       "    <tr style=\"text-align: right;\">\n",
       "      <th></th>\n",
       "      <th>Title</th>\n",
       "      <th>Ingredients</th>\n",
       "      <th>Steps</th>\n",
       "      <th>Loves</th>\n",
       "      <th>URL</th>\n",
       "      <th>Recipe Description</th>\n",
       "    </tr>\n",
       "  </thead>\n",
       "  <tbody>\n",
       "    <tr>\n",
       "      <th>0</th>\n",
       "      <td>tahu lada garam</td>\n",
       "      <td>bahan4 kotak tahu kuning ukuran 4x4 cm15 sdt g...</td>\n",
       "      <td>potong dadu tahu ukuran 15x15 cm rebus tahu de...</td>\n",
       "      <td>1</td>\n",
       "      <td>/id/resep/4038600-tahu-lada-garam</td>\n",
       "      <td>tahu lada garam bahan4 kotak tahu kuning ukura...</td>\n",
       "    </tr>\n",
       "    <tr>\n",
       "      <th>1</th>\n",
       "      <td>tahu gejrot</td>\n",
       "      <td>tahu pong2 siung bawang putih4 siung bawang me...</td>\n",
       "      <td>masak saos jangan lupa tes rasaulek cabai rawi...</td>\n",
       "      <td>2</td>\n",
       "      <td>/id/resep/4044621-tahu-gejrot</td>\n",
       "      <td>tahu gejrot tahu pong2 siung bawang putih4 siu...</td>\n",
       "    </tr>\n",
       "    <tr>\n",
       "      <th>2</th>\n",
       "      <td>10mahshoos lahma rendang kambing arab</td>\n",
       "      <td>1 kg daging kambing beserta tulang dan lemakny...</td>\n",
       "      <td>daging kambing potong2 pisahkan lemaknya sisih...</td>\n",
       "      <td>17</td>\n",
       "      <td>/id/resep/1786713-10_mahshoos-lahma-rendang-ka...</td>\n",
       "      <td>10mahshoos lahma rendang kambing arab 1 kg dag...</td>\n",
       "    </tr>\n",
       "    <tr>\n",
       "      <th>3</th>\n",
       "      <td>sate kambing</td>\n",
       "      <td>sesuai selera daging kambing cincangtusukan sa...</td>\n",
       "      <td>campur daging kambing yang sudah dipotong deng...</td>\n",
       "      <td>7</td>\n",
       "      <td>/id/resep/3264718-sate-kambing</td>\n",
       "      <td>sate kambing sesuai selera daging kambing cinc...</td>\n",
       "    </tr>\n",
       "    <tr>\n",
       "      <th>4</th>\n",
       "      <td>oseng kacang wortel udang</td>\n",
       "      <td>kacang panjang 5 lanjar1 buah wortel ukuran be...</td>\n",
       "      <td>potong2 kacang panjang kupas dan potong2 worte...</td>\n",
       "      <td>5</td>\n",
       "      <td>/id/resep/4365652-oseng-kacang-wortel-udang</td>\n",
       "      <td>oseng kacang wortel udang kacang panjang 5 lan...</td>\n",
       "    </tr>\n",
       "  </tbody>\n",
       "</table>\n",
       "</div>"
      ],
      "text/plain": [
       "                                   Title  \\\n",
       "0                        tahu lada garam   \n",
       "1                            tahu gejrot   \n",
       "2  10mahshoos lahma rendang kambing arab   \n",
       "3                           sate kambing   \n",
       "4              oseng kacang wortel udang   \n",
       "\n",
       "                                         Ingredients  \\\n",
       "0  bahan4 kotak tahu kuning ukuran 4x4 cm15 sdt g...   \n",
       "1  tahu pong2 siung bawang putih4 siung bawang me...   \n",
       "2  1 kg daging kambing beserta tulang dan lemakny...   \n",
       "3  sesuai selera daging kambing cincangtusukan sa...   \n",
       "4  kacang panjang 5 lanjar1 buah wortel ukuran be...   \n",
       "\n",
       "                                               Steps  Loves  \\\n",
       "0  potong dadu tahu ukuran 15x15 cm rebus tahu de...      1   \n",
       "1  masak saos jangan lupa tes rasaulek cabai rawi...      2   \n",
       "2  daging kambing potong2 pisahkan lemaknya sisih...     17   \n",
       "3  campur daging kambing yang sudah dipotong deng...      7   \n",
       "4  potong2 kacang panjang kupas dan potong2 worte...      5   \n",
       "\n",
       "                                                 URL  \\\n",
       "0                  /id/resep/4038600-tahu-lada-garam   \n",
       "1                      /id/resep/4044621-tahu-gejrot   \n",
       "2  /id/resep/1786713-10_mahshoos-lahma-rendang-ka...   \n",
       "3                     /id/resep/3264718-sate-kambing   \n",
       "4        /id/resep/4365652-oseng-kacang-wortel-udang   \n",
       "\n",
       "                                  Recipe Description  \n",
       "0  tahu lada garam bahan4 kotak tahu kuning ukura...  \n",
       "1  tahu gejrot tahu pong2 siung bawang putih4 siu...  \n",
       "2  10mahshoos lahma rendang kambing arab 1 kg dag...  \n",
       "3  sate kambing sesuai selera daging kambing cinc...  \n",
       "4  oseng kacang wortel udang kacang panjang 5 lan...  "
      ]
     },
     "execution_count": 6,
     "metadata": {},
     "output_type": "execute_result"
    }
   ],
   "source": [
    "# Step 3: Shuffle data to ensure randomness before training\n",
    "dataset_shuffled = dataset_cleaned.sample(frac=1, random_state=42).reset_index(drop=True)\n",
    "\n",
    "# Check the first few rows after shuffling\n",
    "dataset_shuffled.head()\n"
   ]
  },
  {
   "cell_type": "code",
   "execution_count": 17,
   "metadata": {},
   "outputs": [],
   "source": [
    "dataset_shuffled.to_csv('dataset_shuffled.csv', index=False)"
   ]
  },
  {
   "cell_type": "code",
   "execution_count": 7,
   "metadata": {},
   "outputs": [
    {
     "data": {
      "text/plain": [
       "((11960, 6), (2991, 6))"
      ]
     },
     "execution_count": 7,
     "metadata": {},
     "output_type": "execute_result"
    }
   ],
   "source": [
    "from sklearn.model_selection import train_test_split\n",
    "\n",
    "# Step 4: Split the data into training and testing sets (80% training, 20% testing)\n",
    "train_data, test_data = train_test_split(dataset_shuffled, test_size=0.2, random_state=42)\n",
    "\n",
    "# Check the number of records in the split datasets\n",
    "train_data.shape, test_data.shape\n"
   ]
  },
  {
   "cell_type": "code",
   "execution_count": 15,
   "metadata": {},
   "outputs": [
    {
     "data": {
      "text/html": [
       "<pre style=\"white-space:pre;overflow-x:auto;line-height:normal;font-family:Menlo,'DejaVu Sans Mono',consolas,'Courier New',monospace\"><span style=\"font-weight: bold\">Model: \"sequential_5\"</span>\n",
       "</pre>\n"
      ],
      "text/plain": [
       "\u001b[1mModel: \"sequential_5\"\u001b[0m\n"
      ]
     },
     "metadata": {},
     "output_type": "display_data"
    },
    {
     "data": {
      "text/html": [
       "<pre style=\"white-space:pre;overflow-x:auto;line-height:normal;font-family:Menlo,'DejaVu Sans Mono',consolas,'Courier New',monospace\">┏━━━━━━━━━━━━━━━━━━━━━━━━━━━━━━━━━┳━━━━━━━━━━━━━━━━━━━━━━━━┳━━━━━━━━━━━━━━━┓\n",
       "┃<span style=\"font-weight: bold\"> Layer (type)                    </span>┃<span style=\"font-weight: bold\"> Output Shape           </span>┃<span style=\"font-weight: bold\">       Param # </span>┃\n",
       "┡━━━━━━━━━━━━━━━━━━━━━━━━━━━━━━━━━╇━━━━━━━━━━━━━━━━━━━━━━━━╇━━━━━━━━━━━━━━━┩\n",
       "│ embedding_5 (<span style=\"color: #0087ff; text-decoration-color: #0087ff\">Embedding</span>)         │ (<span style=\"color: #00d7ff; text-decoration-color: #00d7ff\">None</span>, <span style=\"color: #00af00; text-decoration-color: #00af00\">100</span>, <span style=\"color: #00af00; text-decoration-color: #00af00\">50</span>)        │       <span style=\"color: #00af00; text-decoration-color: #00af00\">250,000</span> │\n",
       "├─────────────────────────────────┼────────────────────────┼───────────────┤\n",
       "│ global_average_pooling1d_5      │ (<span style=\"color: #00d7ff; text-decoration-color: #00d7ff\">None</span>, <span style=\"color: #00af00; text-decoration-color: #00af00\">50</span>)             │             <span style=\"color: #00af00; text-decoration-color: #00af00\">0</span> │\n",
       "│ (<span style=\"color: #0087ff; text-decoration-color: #0087ff\">GlobalAveragePooling1D</span>)        │                        │               │\n",
       "├─────────────────────────────────┼────────────────────────┼───────────────┤\n",
       "│ dense_10 (<span style=\"color: #0087ff; text-decoration-color: #0087ff\">Dense</span>)                │ (<span style=\"color: #00d7ff; text-decoration-color: #00d7ff\">None</span>, <span style=\"color: #00af00; text-decoration-color: #00af00\">128</span>)            │         <span style=\"color: #00af00; text-decoration-color: #00af00\">6,528</span> │\n",
       "├─────────────────────────────────┼────────────────────────┼───────────────┤\n",
       "│ dense_11 (<span style=\"color: #0087ff; text-decoration-color: #0087ff\">Dense</span>)                │ (<span style=\"color: #00d7ff; text-decoration-color: #00d7ff\">None</span>, <span style=\"color: #00af00; text-decoration-color: #00af00\">1</span>)              │           <span style=\"color: #00af00; text-decoration-color: #00af00\">129</span> │\n",
       "└─────────────────────────────────┴────────────────────────┴───────────────┘\n",
       "</pre>\n"
      ],
      "text/plain": [
       "┏━━━━━━━━━━━━━━━━━━━━━━━━━━━━━━━━━┳━━━━━━━━━━━━━━━━━━━━━━━━┳━━━━━━━━━━━━━━━┓\n",
       "┃\u001b[1m \u001b[0m\u001b[1mLayer (type)                   \u001b[0m\u001b[1m \u001b[0m┃\u001b[1m \u001b[0m\u001b[1mOutput Shape          \u001b[0m\u001b[1m \u001b[0m┃\u001b[1m \u001b[0m\u001b[1m      Param #\u001b[0m\u001b[1m \u001b[0m┃\n",
       "┡━━━━━━━━━━━━━━━━━━━━━━━━━━━━━━━━━╇━━━━━━━━━━━━━━━━━━━━━━━━╇━━━━━━━━━━━━━━━┩\n",
       "│ embedding_5 (\u001b[38;5;33mEmbedding\u001b[0m)         │ (\u001b[38;5;45mNone\u001b[0m, \u001b[38;5;34m100\u001b[0m, \u001b[38;5;34m50\u001b[0m)        │       \u001b[38;5;34m250,000\u001b[0m │\n",
       "├─────────────────────────────────┼────────────────────────┼───────────────┤\n",
       "│ global_average_pooling1d_5      │ (\u001b[38;5;45mNone\u001b[0m, \u001b[38;5;34m50\u001b[0m)             │             \u001b[38;5;34m0\u001b[0m │\n",
       "│ (\u001b[38;5;33mGlobalAveragePooling1D\u001b[0m)        │                        │               │\n",
       "├─────────────────────────────────┼────────────────────────┼───────────────┤\n",
       "│ dense_10 (\u001b[38;5;33mDense\u001b[0m)                │ (\u001b[38;5;45mNone\u001b[0m, \u001b[38;5;34m128\u001b[0m)            │         \u001b[38;5;34m6,528\u001b[0m │\n",
       "├─────────────────────────────────┼────────────────────────┼───────────────┤\n",
       "│ dense_11 (\u001b[38;5;33mDense\u001b[0m)                │ (\u001b[38;5;45mNone\u001b[0m, \u001b[38;5;34m1\u001b[0m)              │           \u001b[38;5;34m129\u001b[0m │\n",
       "└─────────────────────────────────┴────────────────────────┴───────────────┘\n"
      ]
     },
     "metadata": {},
     "output_type": "display_data"
    },
    {
     "data": {
      "text/html": [
       "<pre style=\"white-space:pre;overflow-x:auto;line-height:normal;font-family:Menlo,'DejaVu Sans Mono',consolas,'Courier New',monospace\"><span style=\"font-weight: bold\"> Total params: </span><span style=\"color: #00af00; text-decoration-color: #00af00\">256,657</span> (1002.57 KB)\n",
       "</pre>\n"
      ],
      "text/plain": [
       "\u001b[1m Total params: \u001b[0m\u001b[38;5;34m256,657\u001b[0m (1002.57 KB)\n"
      ]
     },
     "metadata": {},
     "output_type": "display_data"
    },
    {
     "data": {
      "text/html": [
       "<pre style=\"white-space:pre;overflow-x:auto;line-height:normal;font-family:Menlo,'DejaVu Sans Mono',consolas,'Courier New',monospace\"><span style=\"font-weight: bold\"> Trainable params: </span><span style=\"color: #00af00; text-decoration-color: #00af00\">256,657</span> (1002.57 KB)\n",
       "</pre>\n"
      ],
      "text/plain": [
       "\u001b[1m Trainable params: \u001b[0m\u001b[38;5;34m256,657\u001b[0m (1002.57 KB)\n"
      ]
     },
     "metadata": {},
     "output_type": "display_data"
    },
    {
     "data": {
      "text/html": [
       "<pre style=\"white-space:pre;overflow-x:auto;line-height:normal;font-family:Menlo,'DejaVu Sans Mono',consolas,'Courier New',monospace\"><span style=\"font-weight: bold\"> Non-trainable params: </span><span style=\"color: #00af00; text-decoration-color: #00af00\">0</span> (0.00 B)\n",
       "</pre>\n"
      ],
      "text/plain": [
       "\u001b[1m Non-trainable params: \u001b[0m\u001b[38;5;34m0\u001b[0m (0.00 B)\n"
      ]
     },
     "metadata": {},
     "output_type": "display_data"
    }
   ],
   "source": [
    "import tensorflow as tf\n",
    "from tensorflow.keras.preprocessing.text import Tokenizer\n",
    "from tensorflow.keras.preprocessing.sequence import pad_sequences\n",
    "\n",
    "# # Step 1: Tokenization and padding\n",
    "# tokenizer = Tokenizer()\n",
    "# tokenizer.fit_on_texts(train_data['Recipe Description'])  # Fit tokenizer on the training data\n",
    "\n",
    "# # Convert texts to sequences of integers (tokens)\n",
    "# train_sequences = tokenizer.texts_to_sequences(train_data['Recipe Description'])\n",
    "# test_sequences = tokenizer.texts_to_sequences(test_data['Recipe Description'])\n",
    "\n",
    "# # Padding sequences to make them the same length\n",
    "# max_sequence_length = 100  # You can adjust this based on your data\n",
    "# train_padded = pad_sequences(train_sequences, maxlen=max_sequence_length, padding='post', truncating='post')\n",
    "# test_padded = pad_sequences(test_sequences, maxlen=max_sequence_length, padding='post', truncating='post')\n",
    "\n",
    "# Membuat tokenizer\n",
    "tokenizer = Tokenizer(num_words=vocab_size, oov_token='<OOV>')  # <OOV> adalah token untuk kata yang tidak ditemukan\n",
    "\n",
    "# Fit tokenizer dengan data latih\n",
    "tokenizer.fit_on_texts(train_data)  # training_data adalah kumpulan teks latih\n",
    "\n",
    "# Konversi teks menjadi sequence\n",
    "sequences = tokenizer.texts_to_sequences(test_data)  # test_data adalah data uji\n",
    "\n",
    "# Padding agar panjang input sesuai\n",
    "padded_sequences = pad_sequences(sequences, maxlen=max_sequence_length)\n",
    "\n",
    "# Step 2: Create the embedding layer\n",
    "vocab_size = 5000  # Jumlah kata dalam vocabulary\n",
    "embedding_dim = 50  # Dimensi untuk embedding\n",
    "max_sequence_length = 100  \n",
    "\n",
    "# Build the model with an embedding layer\n",
    "model = tf.keras.Sequential([\n",
    "    tf.keras.layers.Input(shape=(max_sequence_length,)),  \n",
    "    tf.keras.layers.Embedding(input_dim=vocab_size, output_dim=embedding_dim, input_length=max_sequence_length),\n",
    "    tf.keras.layers.GlobalAveragePooling1D(),\n",
    "    tf.keras.layers.Dense(128, activation='relu'),\n",
    "    tf.keras.layers.Dense(1, activation='sigmoid')  \n",
    "])\n",
    "\n",
    "# Print the model summary to see the architecture\n",
    "model.summary()\n"
   ]
  },
  {
   "cell_type": "code",
   "execution_count": 16,
   "metadata": {},
   "outputs": [
    {
     "name": "stdout",
     "output_type": "stream",
     "text": [
      "Epoch 1/5\n"
     ]
    },
    {
     "ename": "InvalidArgumentError",
     "evalue": "Graph execution error:\n\nDetected at node sequential_5_1/embedding_5_1/GatherV2 defined at (most recent call last):\n  File \"<frozen runpy>\", line 198, in _run_module_as_main\n\n  File \"<frozen runpy>\", line 88, in _run_code\n\n  File \"C:\\Users\\Santi Susanti\\AppData\\Local\\Programs\\Python\\Python312\\Lib\\site-packages\\ipykernel_launcher.py\", line 17, in <module>\n\n  File \"C:\\Users\\Santi Susanti\\AppData\\Local\\Programs\\Python\\Python312\\Lib\\site-packages\\traitlets\\config\\application.py\", line 1075, in launch_instance\n\n  File \"C:\\Users\\Santi Susanti\\AppData\\Local\\Programs\\Python\\Python312\\Lib\\site-packages\\ipykernel\\kernelapp.py\", line 701, in start\n\n  File \"C:\\Users\\Santi Susanti\\AppData\\Local\\Programs\\Python\\Python312\\Lib\\site-packages\\tornado\\platform\\asyncio.py\", line 205, in start\n\n  File \"C:\\Users\\Santi Susanti\\AppData\\Local\\Programs\\Python\\Python312\\Lib\\asyncio\\windows_events.py\", line 321, in run_forever\n\n  File \"C:\\Users\\Santi Susanti\\AppData\\Local\\Programs\\Python\\Python312\\Lib\\asyncio\\base_events.py\", line 638, in run_forever\n\n  File \"C:\\Users\\Santi Susanti\\AppData\\Local\\Programs\\Python\\Python312\\Lib\\asyncio\\base_events.py\", line 1971, in _run_once\n\n  File \"C:\\Users\\Santi Susanti\\AppData\\Local\\Programs\\Python\\Python312\\Lib\\asyncio\\events.py\", line 84, in _run\n\n  File \"C:\\Users\\Santi Susanti\\AppData\\Local\\Programs\\Python\\Python312\\Lib\\site-packages\\ipykernel\\kernelbase.py\", line 534, in dispatch_queue\n\n  File \"C:\\Users\\Santi Susanti\\AppData\\Local\\Programs\\Python\\Python312\\Lib\\site-packages\\ipykernel\\kernelbase.py\", line 523, in process_one\n\n  File \"C:\\Users\\Santi Susanti\\AppData\\Local\\Programs\\Python\\Python312\\Lib\\site-packages\\ipykernel\\kernelbase.py\", line 429, in dispatch_shell\n\n  File \"C:\\Users\\Santi Susanti\\AppData\\Local\\Programs\\Python\\Python312\\Lib\\site-packages\\ipykernel\\kernelbase.py\", line 767, in execute_request\n\n  File \"C:\\Users\\Santi Susanti\\AppData\\Local\\Programs\\Python\\Python312\\Lib\\site-packages\\ipykernel\\ipkernel.py\", line 429, in do_execute\n\n  File \"C:\\Users\\Santi Susanti\\AppData\\Local\\Programs\\Python\\Python312\\Lib\\site-packages\\ipykernel\\zmqshell.py\", line 549, in run_cell\n\n  File \"C:\\Users\\Santi Susanti\\AppData\\Local\\Programs\\Python\\Python312\\Lib\\site-packages\\IPython\\core\\interactiveshell.py\", line 3051, in run_cell\n\n  File \"C:\\Users\\Santi Susanti\\AppData\\Local\\Programs\\Python\\Python312\\Lib\\site-packages\\IPython\\core\\interactiveshell.py\", line 3106, in _run_cell\n\n  File \"C:\\Users\\Santi Susanti\\AppData\\Local\\Programs\\Python\\Python312\\Lib\\site-packages\\IPython\\core\\async_helpers.py\", line 129, in _pseudo_sync_runner\n\n  File \"C:\\Users\\Santi Susanti\\AppData\\Local\\Programs\\Python\\Python312\\Lib\\site-packages\\IPython\\core\\interactiveshell.py\", line 3311, in run_cell_async\n\n  File \"C:\\Users\\Santi Susanti\\AppData\\Local\\Programs\\Python\\Python312\\Lib\\site-packages\\IPython\\core\\interactiveshell.py\", line 3493, in run_ast_nodes\n\n  File \"C:\\Users\\Santi Susanti\\AppData\\Local\\Programs\\Python\\Python312\\Lib\\site-packages\\IPython\\core\\interactiveshell.py\", line 3553, in run_code\n\n  File \"C:\\Users\\Santi Susanti\\AppData\\Local\\Temp\\ipykernel_8420\\2629178071.py\", line 5, in <module>\n\n  File \"C:\\Users\\Santi Susanti\\AppData\\Local\\Programs\\Python\\Python312\\Lib\\site-packages\\keras\\src\\utils\\traceback_utils.py\", line 117, in error_handler\n\n  File \"C:\\Users\\Santi Susanti\\AppData\\Local\\Programs\\Python\\Python312\\Lib\\site-packages\\keras\\src\\backend\\tensorflow\\trainer.py\", line 368, in fit\n\n  File \"C:\\Users\\Santi Susanti\\AppData\\Local\\Programs\\Python\\Python312\\Lib\\site-packages\\keras\\src\\backend\\tensorflow\\trainer.py\", line 216, in function\n\n  File \"C:\\Users\\Santi Susanti\\AppData\\Local\\Programs\\Python\\Python312\\Lib\\site-packages\\keras\\src\\backend\\tensorflow\\trainer.py\", line 129, in multi_step_on_iterator\n\n  File \"C:\\Users\\Santi Susanti\\AppData\\Local\\Programs\\Python\\Python312\\Lib\\site-packages\\keras\\src\\backend\\tensorflow\\trainer.py\", line 110, in one_step_on_data\n\n  File \"C:\\Users\\Santi Susanti\\AppData\\Local\\Programs\\Python\\Python312\\Lib\\site-packages\\keras\\src\\backend\\tensorflow\\trainer.py\", line 56, in train_step\n\n  File \"C:\\Users\\Santi Susanti\\AppData\\Local\\Programs\\Python\\Python312\\Lib\\site-packages\\keras\\src\\utils\\traceback_utils.py\", line 117, in error_handler\n\n  File \"C:\\Users\\Santi Susanti\\AppData\\Local\\Programs\\Python\\Python312\\Lib\\site-packages\\keras\\src\\layers\\layer.py\", line 899, in __call__\n\n  File \"C:\\Users\\Santi Susanti\\AppData\\Local\\Programs\\Python\\Python312\\Lib\\site-packages\\keras\\src\\utils\\traceback_utils.py\", line 117, in error_handler\n\n  File \"C:\\Users\\Santi Susanti\\AppData\\Local\\Programs\\Python\\Python312\\Lib\\site-packages\\keras\\src\\ops\\operation.py\", line 46, in __call__\n\n  File \"C:\\Users\\Santi Susanti\\AppData\\Local\\Programs\\Python\\Python312\\Lib\\site-packages\\keras\\src\\utils\\traceback_utils.py\", line 156, in error_handler\n\n  File \"C:\\Users\\Santi Susanti\\AppData\\Local\\Programs\\Python\\Python312\\Lib\\site-packages\\keras\\src\\models\\sequential.py\", line 213, in call\n\n  File \"C:\\Users\\Santi Susanti\\AppData\\Local\\Programs\\Python\\Python312\\Lib\\site-packages\\keras\\src\\models\\functional.py\", line 182, in call\n\n  File \"C:\\Users\\Santi Susanti\\AppData\\Local\\Programs\\Python\\Python312\\Lib\\site-packages\\keras\\src\\ops\\function.py\", line 171, in _run_through_graph\n\n  File \"C:\\Users\\Santi Susanti\\AppData\\Local\\Programs\\Python\\Python312\\Lib\\site-packages\\keras\\src\\models\\functional.py\", line 632, in call\n\n  File \"C:\\Users\\Santi Susanti\\AppData\\Local\\Programs\\Python\\Python312\\Lib\\site-packages\\keras\\src\\utils\\traceback_utils.py\", line 117, in error_handler\n\n  File \"C:\\Users\\Santi Susanti\\AppData\\Local\\Programs\\Python\\Python312\\Lib\\site-packages\\keras\\src\\layers\\layer.py\", line 899, in __call__\n\n  File \"C:\\Users\\Santi Susanti\\AppData\\Local\\Programs\\Python\\Python312\\Lib\\site-packages\\keras\\src\\utils\\traceback_utils.py\", line 117, in error_handler\n\n  File \"C:\\Users\\Santi Susanti\\AppData\\Local\\Programs\\Python\\Python312\\Lib\\site-packages\\keras\\src\\ops\\operation.py\", line 46, in __call__\n\n  File \"C:\\Users\\Santi Susanti\\AppData\\Local\\Programs\\Python\\Python312\\Lib\\site-packages\\keras\\src\\utils\\traceback_utils.py\", line 156, in error_handler\n\n  File \"C:\\Users\\Santi Susanti\\AppData\\Local\\Programs\\Python\\Python312\\Lib\\site-packages\\keras\\src\\layers\\core\\embedding.py\", line 140, in call\n\n  File \"C:\\Users\\Santi Susanti\\AppData\\Local\\Programs\\Python\\Python312\\Lib\\site-packages\\keras\\src\\ops\\numpy.py\", line 5239, in take\n\n  File \"C:\\Users\\Santi Susanti\\AppData\\Local\\Programs\\Python\\Python312\\Lib\\site-packages\\keras\\src\\backend\\tensorflow\\numpy.py\", line 2063, in take\n\nindices[60,12] = 6891 is not in [0, 5000)\n\t [[{{node sequential_5_1/embedding_5_1/GatherV2}}]] [Op:__inference_multi_step_on_iterator_2694]",
     "output_type": "error",
     "traceback": [
      "\u001b[1;31m---------------------------------------------------------------------------\u001b[0m",
      "\u001b[1;31mInvalidArgumentError\u001b[0m                      Traceback (most recent call last)",
      "Cell \u001b[1;32mIn[16], line 5\u001b[0m\n\u001b[0;32m      2\u001b[0m model\u001b[38;5;241m.\u001b[39mcompile(optimizer\u001b[38;5;241m=\u001b[39m\u001b[38;5;124m'\u001b[39m\u001b[38;5;124madam\u001b[39m\u001b[38;5;124m'\u001b[39m, loss\u001b[38;5;241m=\u001b[39m\u001b[38;5;124m'\u001b[39m\u001b[38;5;124mbinary_crossentropy\u001b[39m\u001b[38;5;124m'\u001b[39m, metrics\u001b[38;5;241m=\u001b[39m[\u001b[38;5;124m'\u001b[39m\u001b[38;5;124maccuracy\u001b[39m\u001b[38;5;124m'\u001b[39m])\n\u001b[0;32m      4\u001b[0m \u001b[38;5;66;03m# Step 4: Train the model\u001b[39;00m\n\u001b[1;32m----> 5\u001b[0m history \u001b[38;5;241m=\u001b[39m \u001b[43mmodel\u001b[49m\u001b[38;5;241;43m.\u001b[39;49m\u001b[43mfit\u001b[49m\u001b[43m(\u001b[49m\u001b[43mtrain_padded\u001b[49m\u001b[43m,\u001b[49m\u001b[43m \u001b[49m\u001b[43mtrain_data\u001b[49m\u001b[43m[\u001b[49m\u001b[38;5;124;43m'\u001b[39;49m\u001b[38;5;124;43mLoves\u001b[39;49m\u001b[38;5;124;43m'\u001b[39;49m\u001b[43m]\u001b[49m\u001b[43m,\u001b[49m\u001b[43m \u001b[49m\u001b[43mepochs\u001b[49m\u001b[38;5;241;43m=\u001b[39;49m\u001b[38;5;241;43m5\u001b[39;49m\u001b[43m,\u001b[49m\u001b[43m \u001b[49m\u001b[43mbatch_size\u001b[49m\u001b[38;5;241;43m=\u001b[39;49m\u001b[38;5;241;43m64\u001b[39;49m\u001b[43m,\u001b[49m\u001b[43m \u001b[49m\u001b[43mvalidation_data\u001b[49m\u001b[38;5;241;43m=\u001b[39;49m\u001b[43m(\u001b[49m\u001b[43mtest_padded\u001b[49m\u001b[43m,\u001b[49m\u001b[43m \u001b[49m\u001b[43mtest_data\u001b[49m\u001b[43m[\u001b[49m\u001b[38;5;124;43m'\u001b[39;49m\u001b[38;5;124;43mLoves\u001b[39;49m\u001b[38;5;124;43m'\u001b[39;49m\u001b[43m]\u001b[49m\u001b[43m)\u001b[49m\u001b[43m)\u001b[49m\n\u001b[0;32m      7\u001b[0m \u001b[38;5;66;03m# Visualize the training history (optional)\u001b[39;00m\n\u001b[0;32m      8\u001b[0m \u001b[38;5;28;01mimport\u001b[39;00m \u001b[38;5;21;01mmatplotlib\u001b[39;00m\u001b[38;5;21;01m.\u001b[39;00m\u001b[38;5;21;01mpyplot\u001b[39;00m \u001b[38;5;28;01mas\u001b[39;00m \u001b[38;5;21;01mplt\u001b[39;00m\n",
      "File \u001b[1;32m~\\AppData\\Local\\Programs\\Python\\Python312\\Lib\\site-packages\\keras\\src\\utils\\traceback_utils.py:122\u001b[0m, in \u001b[0;36mfilter_traceback.<locals>.error_handler\u001b[1;34m(*args, **kwargs)\u001b[0m\n\u001b[0;32m    119\u001b[0m     filtered_tb \u001b[38;5;241m=\u001b[39m _process_traceback_frames(e\u001b[38;5;241m.\u001b[39m__traceback__)\n\u001b[0;32m    120\u001b[0m     \u001b[38;5;66;03m# To get the full stack trace, call:\u001b[39;00m\n\u001b[0;32m    121\u001b[0m     \u001b[38;5;66;03m# `keras.config.disable_traceback_filtering()`\u001b[39;00m\n\u001b[1;32m--> 122\u001b[0m     \u001b[38;5;28;01mraise\u001b[39;00m e\u001b[38;5;241m.\u001b[39mwith_traceback(filtered_tb) \u001b[38;5;28;01mfrom\u001b[39;00m \u001b[38;5;28;01mNone\u001b[39;00m\n\u001b[0;32m    123\u001b[0m \u001b[38;5;28;01mfinally\u001b[39;00m:\n\u001b[0;32m    124\u001b[0m     \u001b[38;5;28;01mdel\u001b[39;00m filtered_tb\n",
      "File \u001b[1;32m~\\AppData\\Local\\Programs\\Python\\Python312\\Lib\\site-packages\\tensorflow\\python\\eager\\execute.py:53\u001b[0m, in \u001b[0;36mquick_execute\u001b[1;34m(op_name, num_outputs, inputs, attrs, ctx, name)\u001b[0m\n\u001b[0;32m     51\u001b[0m \u001b[38;5;28;01mtry\u001b[39;00m:\n\u001b[0;32m     52\u001b[0m   ctx\u001b[38;5;241m.\u001b[39mensure_initialized()\n\u001b[1;32m---> 53\u001b[0m   tensors \u001b[38;5;241m=\u001b[39m pywrap_tfe\u001b[38;5;241m.\u001b[39mTFE_Py_Execute(ctx\u001b[38;5;241m.\u001b[39m_handle, device_name, op_name,\n\u001b[0;32m     54\u001b[0m                                       inputs, attrs, num_outputs)\n\u001b[0;32m     55\u001b[0m \u001b[38;5;28;01mexcept\u001b[39;00m core\u001b[38;5;241m.\u001b[39m_NotOkStatusException \u001b[38;5;28;01mas\u001b[39;00m e:\n\u001b[0;32m     56\u001b[0m   \u001b[38;5;28;01mif\u001b[39;00m name \u001b[38;5;129;01mis\u001b[39;00m \u001b[38;5;129;01mnot\u001b[39;00m \u001b[38;5;28;01mNone\u001b[39;00m:\n",
      "\u001b[1;31mInvalidArgumentError\u001b[0m: Graph execution error:\n\nDetected at node sequential_5_1/embedding_5_1/GatherV2 defined at (most recent call last):\n  File \"<frozen runpy>\", line 198, in _run_module_as_main\n\n  File \"<frozen runpy>\", line 88, in _run_code\n\n  File \"C:\\Users\\Santi Susanti\\AppData\\Local\\Programs\\Python\\Python312\\Lib\\site-packages\\ipykernel_launcher.py\", line 17, in <module>\n\n  File \"C:\\Users\\Santi Susanti\\AppData\\Local\\Programs\\Python\\Python312\\Lib\\site-packages\\traitlets\\config\\application.py\", line 1075, in launch_instance\n\n  File \"C:\\Users\\Santi Susanti\\AppData\\Local\\Programs\\Python\\Python312\\Lib\\site-packages\\ipykernel\\kernelapp.py\", line 701, in start\n\n  File \"C:\\Users\\Santi Susanti\\AppData\\Local\\Programs\\Python\\Python312\\Lib\\site-packages\\tornado\\platform\\asyncio.py\", line 205, in start\n\n  File \"C:\\Users\\Santi Susanti\\AppData\\Local\\Programs\\Python\\Python312\\Lib\\asyncio\\windows_events.py\", line 321, in run_forever\n\n  File \"C:\\Users\\Santi Susanti\\AppData\\Local\\Programs\\Python\\Python312\\Lib\\asyncio\\base_events.py\", line 638, in run_forever\n\n  File \"C:\\Users\\Santi Susanti\\AppData\\Local\\Programs\\Python\\Python312\\Lib\\asyncio\\base_events.py\", line 1971, in _run_once\n\n  File \"C:\\Users\\Santi Susanti\\AppData\\Local\\Programs\\Python\\Python312\\Lib\\asyncio\\events.py\", line 84, in _run\n\n  File \"C:\\Users\\Santi Susanti\\AppData\\Local\\Programs\\Python\\Python312\\Lib\\site-packages\\ipykernel\\kernelbase.py\", line 534, in dispatch_queue\n\n  File \"C:\\Users\\Santi Susanti\\AppData\\Local\\Programs\\Python\\Python312\\Lib\\site-packages\\ipykernel\\kernelbase.py\", line 523, in process_one\n\n  File \"C:\\Users\\Santi Susanti\\AppData\\Local\\Programs\\Python\\Python312\\Lib\\site-packages\\ipykernel\\kernelbase.py\", line 429, in dispatch_shell\n\n  File \"C:\\Users\\Santi Susanti\\AppData\\Local\\Programs\\Python\\Python312\\Lib\\site-packages\\ipykernel\\kernelbase.py\", line 767, in execute_request\n\n  File \"C:\\Users\\Santi Susanti\\AppData\\Local\\Programs\\Python\\Python312\\Lib\\site-packages\\ipykernel\\ipkernel.py\", line 429, in do_execute\n\n  File \"C:\\Users\\Santi Susanti\\AppData\\Local\\Programs\\Python\\Python312\\Lib\\site-packages\\ipykernel\\zmqshell.py\", line 549, in run_cell\n\n  File \"C:\\Users\\Santi Susanti\\AppData\\Local\\Programs\\Python\\Python312\\Lib\\site-packages\\IPython\\core\\interactiveshell.py\", line 3051, in run_cell\n\n  File \"C:\\Users\\Santi Susanti\\AppData\\Local\\Programs\\Python\\Python312\\Lib\\site-packages\\IPython\\core\\interactiveshell.py\", line 3106, in _run_cell\n\n  File \"C:\\Users\\Santi Susanti\\AppData\\Local\\Programs\\Python\\Python312\\Lib\\site-packages\\IPython\\core\\async_helpers.py\", line 129, in _pseudo_sync_runner\n\n  File \"C:\\Users\\Santi Susanti\\AppData\\Local\\Programs\\Python\\Python312\\Lib\\site-packages\\IPython\\core\\interactiveshell.py\", line 3311, in run_cell_async\n\n  File \"C:\\Users\\Santi Susanti\\AppData\\Local\\Programs\\Python\\Python312\\Lib\\site-packages\\IPython\\core\\interactiveshell.py\", line 3493, in run_ast_nodes\n\n  File \"C:\\Users\\Santi Susanti\\AppData\\Local\\Programs\\Python\\Python312\\Lib\\site-packages\\IPython\\core\\interactiveshell.py\", line 3553, in run_code\n\n  File \"C:\\Users\\Santi Susanti\\AppData\\Local\\Temp\\ipykernel_8420\\2629178071.py\", line 5, in <module>\n\n  File \"C:\\Users\\Santi Susanti\\AppData\\Local\\Programs\\Python\\Python312\\Lib\\site-packages\\keras\\src\\utils\\traceback_utils.py\", line 117, in error_handler\n\n  File \"C:\\Users\\Santi Susanti\\AppData\\Local\\Programs\\Python\\Python312\\Lib\\site-packages\\keras\\src\\backend\\tensorflow\\trainer.py\", line 368, in fit\n\n  File \"C:\\Users\\Santi Susanti\\AppData\\Local\\Programs\\Python\\Python312\\Lib\\site-packages\\keras\\src\\backend\\tensorflow\\trainer.py\", line 216, in function\n\n  File \"C:\\Users\\Santi Susanti\\AppData\\Local\\Programs\\Python\\Python312\\Lib\\site-packages\\keras\\src\\backend\\tensorflow\\trainer.py\", line 129, in multi_step_on_iterator\n\n  File \"C:\\Users\\Santi Susanti\\AppData\\Local\\Programs\\Python\\Python312\\Lib\\site-packages\\keras\\src\\backend\\tensorflow\\trainer.py\", line 110, in one_step_on_data\n\n  File \"C:\\Users\\Santi Susanti\\AppData\\Local\\Programs\\Python\\Python312\\Lib\\site-packages\\keras\\src\\backend\\tensorflow\\trainer.py\", line 56, in train_step\n\n  File \"C:\\Users\\Santi Susanti\\AppData\\Local\\Programs\\Python\\Python312\\Lib\\site-packages\\keras\\src\\utils\\traceback_utils.py\", line 117, in error_handler\n\n  File \"C:\\Users\\Santi Susanti\\AppData\\Local\\Programs\\Python\\Python312\\Lib\\site-packages\\keras\\src\\layers\\layer.py\", line 899, in __call__\n\n  File \"C:\\Users\\Santi Susanti\\AppData\\Local\\Programs\\Python\\Python312\\Lib\\site-packages\\keras\\src\\utils\\traceback_utils.py\", line 117, in error_handler\n\n  File \"C:\\Users\\Santi Susanti\\AppData\\Local\\Programs\\Python\\Python312\\Lib\\site-packages\\keras\\src\\ops\\operation.py\", line 46, in __call__\n\n  File \"C:\\Users\\Santi Susanti\\AppData\\Local\\Programs\\Python\\Python312\\Lib\\site-packages\\keras\\src\\utils\\traceback_utils.py\", line 156, in error_handler\n\n  File \"C:\\Users\\Santi Susanti\\AppData\\Local\\Programs\\Python\\Python312\\Lib\\site-packages\\keras\\src\\models\\sequential.py\", line 213, in call\n\n  File \"C:\\Users\\Santi Susanti\\AppData\\Local\\Programs\\Python\\Python312\\Lib\\site-packages\\keras\\src\\models\\functional.py\", line 182, in call\n\n  File \"C:\\Users\\Santi Susanti\\AppData\\Local\\Programs\\Python\\Python312\\Lib\\site-packages\\keras\\src\\ops\\function.py\", line 171, in _run_through_graph\n\n  File \"C:\\Users\\Santi Susanti\\AppData\\Local\\Programs\\Python\\Python312\\Lib\\site-packages\\keras\\src\\models\\functional.py\", line 632, in call\n\n  File \"C:\\Users\\Santi Susanti\\AppData\\Local\\Programs\\Python\\Python312\\Lib\\site-packages\\keras\\src\\utils\\traceback_utils.py\", line 117, in error_handler\n\n  File \"C:\\Users\\Santi Susanti\\AppData\\Local\\Programs\\Python\\Python312\\Lib\\site-packages\\keras\\src\\layers\\layer.py\", line 899, in __call__\n\n  File \"C:\\Users\\Santi Susanti\\AppData\\Local\\Programs\\Python\\Python312\\Lib\\site-packages\\keras\\src\\utils\\traceback_utils.py\", line 117, in error_handler\n\n  File \"C:\\Users\\Santi Susanti\\AppData\\Local\\Programs\\Python\\Python312\\Lib\\site-packages\\keras\\src\\ops\\operation.py\", line 46, in __call__\n\n  File \"C:\\Users\\Santi Susanti\\AppData\\Local\\Programs\\Python\\Python312\\Lib\\site-packages\\keras\\src\\utils\\traceback_utils.py\", line 156, in error_handler\n\n  File \"C:\\Users\\Santi Susanti\\AppData\\Local\\Programs\\Python\\Python312\\Lib\\site-packages\\keras\\src\\layers\\core\\embedding.py\", line 140, in call\n\n  File \"C:\\Users\\Santi Susanti\\AppData\\Local\\Programs\\Python\\Python312\\Lib\\site-packages\\keras\\src\\ops\\numpy.py\", line 5239, in take\n\n  File \"C:\\Users\\Santi Susanti\\AppData\\Local\\Programs\\Python\\Python312\\Lib\\site-packages\\keras\\src\\backend\\tensorflow\\numpy.py\", line 2063, in take\n\nindices[60,12] = 6891 is not in [0, 5000)\n\t [[{{node sequential_5_1/embedding_5_1/GatherV2}}]] [Op:__inference_multi_step_on_iterator_2694]"
     ]
    }
   ],
   "source": [
    "# Step 3: Compile the model\n",
    "model.compile(optimizer='adam', loss='binary_crossentropy', metrics=['accuracy'])\n",
    "\n",
    "# Step 4: Train the model\n",
    "history = model.fit(train_padded, train_data['Loves'], epochs=5, batch_size=64, validation_data=(test_padded, test_data['Loves']))\n",
    "\n",
    "# Visualize the training history (optional)\n",
    "import matplotlib.pyplot as plt\n",
    "plt.plot(history.history['accuracy'], label='accuracy')\n",
    "plt.plot(history.history['val_accuracy'], label = 'val_accuracy')\n",
    "plt.xlabel('Epoch')\n",
    "plt.ylabel('Accuracy')\n",
    "plt.legend(loc='lower right')\n",
    "plt.show()\n"
   ]
  },
  {
   "cell_type": "code",
   "execution_count": null,
   "metadata": {},
   "outputs": [],
   "source": [
    "# Step 5: Evaluate the model on test data\n",
    "test_loss, test_accuracy = model.evaluate(test_padded, test_data['Loves'])\n",
    "print(f\"Test Accuracy: {test_accuracy}\")\n",
    "print(f\"Test Loss: {test_loss}\")\n"
   ]
  },
  {
   "cell_type": "code",
   "execution_count": null,
   "metadata": {},
   "outputs": [],
   "source": [
    "# Step 6: Function to predict and recommend recipes\n",
    "def recommend_recipe(user_input, tokenizer, model, max_sequence_length=100):\n",
    "    # Clean and tokenize the user input\n",
    "    user_input_cleaned = clean_text(user_input)\n",
    "    user_input_seq = tokenizer.texts_to_sequences([user_input_cleaned])\n",
    "    user_input_padded = pad_sequences(user_input_seq, maxlen=max_sequence_length, padding='post', truncating='post')\n",
    "    \n",
    "    # Predict using the trained model\n",
    "    prediction = model.predict(user_input_padded)\n",
    "    \n",
    "    # Return the most relevant recipe based on the prediction\n",
    "    recommended_index = prediction.argmax()  # Index of the highest prediction value\n",
    "    recommended_recipe = dataset.iloc[recommended_index]  # Get the recipe\n",
    "    return recommended_recipe['Title'], recommended_recipe['Recipe Description']\n",
    "\n",
    "# Example of using the function\n",
    "user_query = \"ayam woku\"\n",
    "recipe_title, recipe_description = recommend_recipe(user_query, tokenizer, model)\n",
    "print(f\"Recommended Recipe: {recipe_title}\")\n",
    "print(f\"Recipe Description: {recipe_description}\")\n"
   ]
  }
 ],
 "metadata": {
  "colab": {
   "provenance": []
  },
  "kernelspec": {
   "display_name": "Python 3 (ipykernel)",
   "language": "python",
   "name": "python3"
  },
  "language_info": {
   "codemirror_mode": {
    "name": "ipython",
    "version": 3
   },
   "file_extension": ".py",
   "mimetype": "text/x-python",
   "name": "python",
   "nbconvert_exporter": "python",
   "pygments_lexer": "ipython3",
   "version": "3.12.1"
  }
 },
 "nbformat": 4,
 "nbformat_minor": 4
}
