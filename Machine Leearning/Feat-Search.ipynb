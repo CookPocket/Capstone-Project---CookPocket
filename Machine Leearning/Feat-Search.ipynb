{
 "cells": [
  {
   "cell_type": "markdown",
   "metadata": {
    "id": "S1WYYHpp64Tf"
   },
   "source": [
    "# Import Library\n",
    "\n",
    "Proses NLP :\n",
    "- EDA\n",
    "- Pembersihan (Hapus tanda baca, ubah ke lowercase)\n",
    "- Tokenisasi\n",
    "- Penghapusan stopwords\n",
    "- Stemming atau Lemmatization\n",
    "- Vektorisasi teks (misalnya, TF-IDF, BoW)\n",
    "- Pembagian data (Training, Validation, Test)\n",
    "- Pembangunan dan pelatihan model"
   ]
  },
  {
   "cell_type": "code",
   "execution_count": 27,
   "metadata": {
    "id": "DTKtXBwv63mh"
   },
   "outputs": [],
   "source": [
    "import pandas as pd\n",
    "import numpy as np\n",
    "import matplotlib.pyplot as plt\n",
    "import seaborn as sns\n",
    "import tensorflow as tf"
   ]
  },
  {
   "cell_type": "code",
   "execution_count": 28,
   "metadata": {
    "colab": {
     "base_uri": "https://localhost:8080/",
     "height": 206
    },
    "id": "pZPBDoay6usB",
    "outputId": "8979a205-f64f-4b25-ec6f-491f4fc21f59"
   },
   "outputs": [
    {
     "data": {
      "text/html": [
       "<div>\n",
       "<style scoped>\n",
       "    .dataframe tbody tr th:only-of-type {\n",
       "        vertical-align: middle;\n",
       "    }\n",
       "\n",
       "    .dataframe tbody tr th {\n",
       "        vertical-align: top;\n",
       "    }\n",
       "\n",
       "    .dataframe thead th {\n",
       "        text-align: right;\n",
       "    }\n",
       "</style>\n",
       "<table border=\"1\" class=\"dataframe\">\n",
       "  <thead>\n",
       "    <tr style=\"text-align: right;\">\n",
       "      <th></th>\n",
       "      <th>Title</th>\n",
       "      <th>Ingredients</th>\n",
       "      <th>Steps</th>\n",
       "      <th>Loves</th>\n",
       "      <th>URL</th>\n",
       "    </tr>\n",
       "  </thead>\n",
       "  <tbody>\n",
       "    <tr>\n",
       "      <th>0</th>\n",
       "      <td>Ayam Woku Manado</td>\n",
       "      <td>1 Ekor Ayam Kampung (potong 12)--2 Buah Jeruk ...</td>\n",
       "      <td>Cuci bersih ayam dan tiriskan. Lalu peras jeru...</td>\n",
       "      <td>1</td>\n",
       "      <td>/id/resep/4473027-ayam-woku-manado</td>\n",
       "    </tr>\n",
       "    <tr>\n",
       "      <th>1</th>\n",
       "      <td>Ayam goreng tulang lunak</td>\n",
       "      <td>1 kg ayam (dipotong sesuai selera jangan kecil...</td>\n",
       "      <td>Haluskan bumbu2nya (BaPut, ketumbar, kemiri, k...</td>\n",
       "      <td>1</td>\n",
       "      <td>/id/resep/4471956-ayam-goreng-tulang-lunak</td>\n",
       "    </tr>\n",
       "    <tr>\n",
       "      <th>2</th>\n",
       "      <td>Ayam cabai kawin</td>\n",
       "      <td>1/4 kg ayam--3 buah cabai hijau besar--7 buah ...</td>\n",
       "      <td>Panaskan minyak di dalam wajan. Setelah minyak...</td>\n",
       "      <td>2</td>\n",
       "      <td>/id/resep/4473057-ayam-cabai-kawin</td>\n",
       "    </tr>\n",
       "    <tr>\n",
       "      <th>3</th>\n",
       "      <td>Ayam Geprek</td>\n",
       "      <td>250 gr daging ayam (saya pakai fillet)--Secuku...</td>\n",
       "      <td>Goreng ayam seperti ayam krispi--Ulek semua ba...</td>\n",
       "      <td>10</td>\n",
       "      <td>/id/resep/4473023-ayam-geprek</td>\n",
       "    </tr>\n",
       "    <tr>\n",
       "      <th>4</th>\n",
       "      <td>Minyak Ayam</td>\n",
       "      <td>400 gr kulit ayam &amp; lemaknya--8 siung bawang p...</td>\n",
       "      <td>Cuci bersih kulit ayam. Sisihkan--Ambil 50 ml ...</td>\n",
       "      <td>4</td>\n",
       "      <td>/id/resep/4427438-minyak-ayam</td>\n",
       "    </tr>\n",
       "  </tbody>\n",
       "</table>\n",
       "</div>"
      ],
      "text/plain": [
       "                      Title  \\\n",
       "0          Ayam Woku Manado   \n",
       "1  Ayam goreng tulang lunak   \n",
       "2          Ayam cabai kawin   \n",
       "3               Ayam Geprek   \n",
       "4               Minyak Ayam   \n",
       "\n",
       "                                         Ingredients  \\\n",
       "0  1 Ekor Ayam Kampung (potong 12)--2 Buah Jeruk ...   \n",
       "1  1 kg ayam (dipotong sesuai selera jangan kecil...   \n",
       "2  1/4 kg ayam--3 buah cabai hijau besar--7 buah ...   \n",
       "3  250 gr daging ayam (saya pakai fillet)--Secuku...   \n",
       "4  400 gr kulit ayam & lemaknya--8 siung bawang p...   \n",
       "\n",
       "                                               Steps  Loves  \\\n",
       "0  Cuci bersih ayam dan tiriskan. Lalu peras jeru...      1   \n",
       "1  Haluskan bumbu2nya (BaPut, ketumbar, kemiri, k...      1   \n",
       "2  Panaskan minyak di dalam wajan. Setelah minyak...      2   \n",
       "3  Goreng ayam seperti ayam krispi--Ulek semua ba...     10   \n",
       "4  Cuci bersih kulit ayam. Sisihkan--Ambil 50 ml ...      4   \n",
       "\n",
       "                                          URL  \n",
       "0          /id/resep/4473027-ayam-woku-manado  \n",
       "1  /id/resep/4471956-ayam-goreng-tulang-lunak  \n",
       "2          /id/resep/4473057-ayam-cabai-kawin  \n",
       "3               /id/resep/4473023-ayam-geprek  \n",
       "4               /id/resep/4427438-minyak-ayam  "
      ]
     },
     "execution_count": 28,
     "metadata": {},
     "output_type": "execute_result"
    }
   ],
   "source": [
    "df = pd.read_csv(\"all_data_resep.csv\")\n",
    "df.head()"
   ]
  },
  {
   "cell_type": "code",
   "execution_count": 29,
   "metadata": {
    "colab": {
     "base_uri": "https://localhost:8080/",
     "height": 259
    },
    "id": "uhA4mVec7Eeb",
    "outputId": "92610e5c-0acc-4ded-930d-c8f52af28f47"
   },
   "outputs": [
    {
     "name": "stdout",
     "output_type": "stream",
     "text": [
      "Duplicated :  642\n",
      "\n",
      "Missing Values:\n"
     ]
    },
    {
     "data": {
      "text/plain": [
       "Title          0\n",
       "Ingredients    0\n",
       "Steps          0\n",
       "Loves          0\n",
       "URL            0\n",
       "dtype: int64"
      ]
     },
     "execution_count": 29,
     "metadata": {},
     "output_type": "execute_result"
    }
   ],
   "source": [
    "# Duplicated Check\n",
    "print(\"Duplicated : \", df.duplicated().sum())\n",
    "print(\"\\nMissing Values:\")\n",
    "df.isna().sum()"
   ]
  },
  {
   "cell_type": "code",
   "execution_count": 30,
   "metadata": {},
   "outputs": [],
   "source": [
    "# Drop Column URL\n",
    "df = df.drop(columns=['URL'])"
   ]
  },
  {
   "cell_type": "code",
   "execution_count": 31,
   "metadata": {
    "colab": {
     "base_uri": "https://localhost:8080/",
     "height": 301
    },
    "id": "9z0cYDqV7Q3f",
    "outputId": "c97f21f8-e6c4-4244-ba2f-105aeab567f5"
   },
   "outputs": [
    {
     "name": "stdout",
     "output_type": "stream",
     "text": [
      "\n",
      "Statistik Deskriptif:\n",
      "              Loves\n",
      "count  15593.000000\n",
      "mean      11.779901\n",
      "std       21.549629\n",
      "min        0.000000\n",
      "25%        3.000000\n",
      "50%        6.000000\n",
      "75%       11.000000\n",
      "max      939.000000\n",
      "\n",
      "Statistic Data Text:\n",
      "                   Title                                        Ingredients  \\\n",
      "count              15593                                              15593   \n",
      "unique             12468                                              14940   \n",
      "top     Tongseng Kambing  1 papan tempe, potong kubus--5 buah tahu putih...   \n",
      "freq                  55                                                  3   \n",
      "\n",
      "                                                    Steps  \n",
      "count                                               15593  \n",
      "unique                                              14940  \n",
      "top     Tumis bumbu halus, masukan salam, jahe, dan le...  \n",
      "freq                                                    3  \n"
     ]
    }
   ],
   "source": [
    "# Statistic descriptive for data numeric\n",
    "print(\"\\nStatistik Deskriptif:\")\n",
    "print(df.describe())\n",
    "\n",
    "# Statistic descriptive for data text\n",
    "print(\"\\nStatistic Data Text:\")\n",
    "print(df[['Title', 'Ingredients', 'Steps']].describe(include=[object]))\n"
   ]
  },
  {
   "cell_type": "code",
   "execution_count": 32,
   "metadata": {
    "colab": {
     "base_uri": "https://localhost:8080/",
     "height": 597
    },
    "id": "GaF010_cD180",
    "outputId": "e7ff341e-b85e-412b-c8d4-4047b2e4866d"
   },
   "outputs": [
    {
     "data": {
      "text/html": [
       "<div>\n",
       "<style scoped>\n",
       "    .dataframe tbody tr th:only-of-type {\n",
       "        vertical-align: middle;\n",
       "    }\n",
       "\n",
       "    .dataframe tbody tr th {\n",
       "        vertical-align: top;\n",
       "    }\n",
       "\n",
       "    .dataframe thead th {\n",
       "        text-align: right;\n",
       "    }\n",
       "</style>\n",
       "<table border=\"1\" class=\"dataframe\">\n",
       "  <thead>\n",
       "    <tr style=\"text-align: right;\">\n",
       "      <th></th>\n",
       "      <th>Title</th>\n",
       "      <th>Ingredients</th>\n",
       "      <th>Steps</th>\n",
       "      <th>Loves</th>\n",
       "    </tr>\n",
       "  </thead>\n",
       "  <tbody>\n",
       "    <tr>\n",
       "      <th>5324</th>\n",
       "      <td>Ayam goreng super duper simple</td>\n",
       "      <td>Ayam, bisa diganti ati ampela/daging kambing--...</td>\n",
       "      <td>Cuci bersih ayam--Rebus ayam dengan asem dan g...</td>\n",
       "      <td>7</td>\n",
       "    </tr>\n",
       "    <tr>\n",
       "      <th>5326</th>\n",
       "      <td>Gulai ayam arya</td>\n",
       "      <td>Bahan halus;--5 ekor Ayam--5 bulat Bawang puti...</td>\n",
       "      <td>Bersihkan ayam potong sesuai selera. Setelah a...</td>\n",
       "      <td>9</td>\n",
       "    </tr>\n",
       "    <tr>\n",
       "      <th>5329</th>\n",
       "      <td>Gurame Bakar</td>\n",
       "      <td>1 ekor gurame (sy pakai berat 700 gr)--Bumbu h...</td>\n",
       "      <td>Cuci bersih ikan, lalu belah punggung,dan saya...</td>\n",
       "      <td>12</td>\n",
       "    </tr>\n",
       "    <tr>\n",
       "      <th>5802</th>\n",
       "      <td>Pare ayam daging sapi</td>\n",
       "      <td>2 buah pare ayam--200 gr daging sapi (potong d...</td>\n",
       "      <td>Potong agak tebal pare lalu taburi garam,remas...</td>\n",
       "      <td>3</td>\n",
       "    </tr>\n",
       "    <tr>\n",
       "      <th>5875</th>\n",
       "      <td>Iga sapi &amp; ayam bakar madu</td>\n",
       "      <td>1/2 kg iga sapi--1/2 ayam (bagian paha potong ...</td>\n",
       "      <td>Cuci bersih iga &amp; ayam--Rebus daging sapi meng...</td>\n",
       "      <td>8</td>\n",
       "    </tr>\n",
       "    <tr>\n",
       "      <th>...</th>\n",
       "      <td>...</td>\n",
       "      <td>...</td>\n",
       "      <td>...</td>\n",
       "      <td>...</td>\n",
       "    </tr>\n",
       "    <tr>\n",
       "      <th>15077</th>\n",
       "      <td>Telur balado kentang + udang</td>\n",
       "      <td>1/4 telur (rebus)--1/4 kentang (pot kotak gore...</td>\n",
       "      <td>Rebus telur hingga matang,, kentang kupas (gor...</td>\n",
       "      <td>6</td>\n",
       "    </tr>\n",
       "    <tr>\n",
       "      <th>15105</th>\n",
       "      <td>Sambal lado telur puyu terong udang</td>\n",
       "      <td>10 btih telur puyu--semper empat udang--1 buah...</td>\n",
       "      <td>Rebus telur puyuh kups sisikn--Berdikn udang d...</td>\n",
       "      <td>11</td>\n",
       "    </tr>\n",
       "    <tr>\n",
       "      <th>15186</th>\n",
       "      <td>Rolade Telur Udang Saus Asam Manis</td>\n",
       "      <td>2 butir telur--1/2 batang wortel--2-3 batang d...</td>\n",
       "      <td>Campur telur, daun bawang, serta wortel yg sud...</td>\n",
       "      <td>5</td>\n",
       "    </tr>\n",
       "    <tr>\n",
       "      <th>15203</th>\n",
       "      <td>Udang bungkus telur</td>\n",
       "      <td>1/4 udang--5 butir telur--1/6 kol--daun bawang...</td>\n",
       "      <td>Dadar telur secukupnya untuk bungkus--Oseng ba...</td>\n",
       "      <td>13</td>\n",
       "    </tr>\n",
       "    <tr>\n",
       "      <th>15391</th>\n",
       "      <td>Udang sosis bakso sapi masak pedas manis</td>\n",
       "      <td>4 biji sosis sapi--1 ons udang--6 biji bakso s...</td>\n",
       "      <td>Bersihhkan udang buang kepalanya,cuci semua ba...</td>\n",
       "      <td>4</td>\n",
       "    </tr>\n",
       "  </tbody>\n",
       "</table>\n",
       "<p>642 rows × 4 columns</p>\n",
       "</div>"
      ],
      "text/plain": [
       "                                          Title  \\\n",
       "5324             Ayam goreng super duper simple   \n",
       "5326                            Gulai ayam arya   \n",
       "5329                               Gurame Bakar   \n",
       "5802                      Pare ayam daging sapi   \n",
       "5875                 Iga sapi & ayam bakar madu   \n",
       "...                                         ...   \n",
       "15077              Telur balado kentang + udang   \n",
       "15105       Sambal lado telur puyu terong udang   \n",
       "15186        Rolade Telur Udang Saus Asam Manis   \n",
       "15203                       Udang bungkus telur   \n",
       "15391  Udang sosis bakso sapi masak pedas manis   \n",
       "\n",
       "                                             Ingredients  \\\n",
       "5324   Ayam, bisa diganti ati ampela/daging kambing--...   \n",
       "5326   Bahan halus;--5 ekor Ayam--5 bulat Bawang puti...   \n",
       "5329   1 ekor gurame (sy pakai berat 700 gr)--Bumbu h...   \n",
       "5802   2 buah pare ayam--200 gr daging sapi (potong d...   \n",
       "5875   1/2 kg iga sapi--1/2 ayam (bagian paha potong ...   \n",
       "...                                                  ...   \n",
       "15077  1/4 telur (rebus)--1/4 kentang (pot kotak gore...   \n",
       "15105  10 btih telur puyu--semper empat udang--1 buah...   \n",
       "15186  2 butir telur--1/2 batang wortel--2-3 batang d...   \n",
       "15203  1/4 udang--5 butir telur--1/6 kol--daun bawang...   \n",
       "15391  4 biji sosis sapi--1 ons udang--6 biji bakso s...   \n",
       "\n",
       "                                                   Steps  Loves  \n",
       "5324   Cuci bersih ayam--Rebus ayam dengan asem dan g...      7  \n",
       "5326   Bersihkan ayam potong sesuai selera. Setelah a...      9  \n",
       "5329   Cuci bersih ikan, lalu belah punggung,dan saya...     12  \n",
       "5802   Potong agak tebal pare lalu taburi garam,remas...      3  \n",
       "5875   Cuci bersih iga & ayam--Rebus daging sapi meng...      8  \n",
       "...                                                  ...    ...  \n",
       "15077  Rebus telur hingga matang,, kentang kupas (gor...      6  \n",
       "15105  Rebus telur puyuh kups sisikn--Berdikn udang d...     11  \n",
       "15186  Campur telur, daun bawang, serta wortel yg sud...      5  \n",
       "15203  Dadar telur secukupnya untuk bungkus--Oseng ba...     13  \n",
       "15391  Bersihhkan udang buang kepalanya,cuci semua ba...      4  \n",
       "\n",
       "[642 rows x 4 columns]"
      ]
     },
     "execution_count": 32,
     "metadata": {},
     "output_type": "execute_result"
    }
   ],
   "source": [
    "duplicates = df[df.duplicated()]\n",
    "duplicates"
   ]
  },
  {
   "cell_type": "code",
   "execution_count": 33,
   "metadata": {},
   "outputs": [
    {
     "data": {
      "image/png": "[encoded data removed]",
      "text/plain": [
       "<Figure size 1200x600 with 1 Axes>"
      ]
     },
     "metadata": {},
     "output_type": "display_data"
    }
   ],
   "source": [
    "# Distribution of text length in the Ingredients column\n",
    "df['Ingredients_length'] = df['Ingredients'].apply(lambda x: len(str(x)))\n",
    "df['Steps_length'] = df['Steps'].apply(lambda x: len(str(x)))\n",
    "\n",
    "# Visualization of text length distribution\n",
    "plt.figure(figsize=(12, 6))\n",
    "sns.histplot(df['Ingredients_length'], kde=True, bins=30, color='blue', label='Ingredients Length')\n",
    "sns.histplot(df['Steps_length'], kde=True, bins=30, color='green', label='Steps Length')\n",
    "plt.title('Text Length Distribution')\n",
    "plt.xlabel('Number of Characters')\n",
    "plt.ylabel('Frequency')\n",
    "plt.legend()\n",
    "plt.show()\n"
   ]
  },
  {
   "cell_type": "code",
   "execution_count": 34,
   "metadata": {},
   "outputs": [
    {
     "name": "stdout",
     "output_type": "stream",
     "text": [
      "\n",
      "Distribution Loves Value:\n",
      "Loves\n",
      "6      1513\n",
      "5      1319\n",
      "3      1317\n",
      "4      1304\n",
      "7      1211\n",
      "       ... \n",
      "171       1\n",
      "145       1\n",
      "195       1\n",
      "99        1\n",
      "109       1\n",
      "Name: count, Length: 185, dtype: int64\n"
     ]
    }
   ],
   "source": [
    "# Analysis of the distribution of 'Loves' values\n",
    "print(\"\\nDistribution Loves Value:\")\n",
    "print(df['Loves'].value_counts())"
   ]
  },
  {
   "cell_type": "markdown",
   "metadata": {
    "id": "KdlOEZLwaN6L"
   },
   "source": [
    "# Preprocessing Data"
   ]
  },
  {
   "cell_type": "code",
   "execution_count": 35,
   "metadata": {
    "id": "dqJ0uQhbeReY"
   },
   "outputs": [],
   "source": [
    "import re\n",
    "import string\n",
    "import nltk"
   ]
  },
  {
   "cell_type": "markdown",
   "metadata": {
    "id": "KOySdbQlN92Z"
   },
   "source": [
    "Changce Column Title, Ingredients and Steps to lower text"
   ]
  },
  {
   "cell_type": "code",
   "execution_count": 36,
   "metadata": {
    "colab": {
     "base_uri": "https://localhost:8080/",
     "height": 81
    },
    "id": "nF4OBpGbaLMO",
    "outputId": "37e77167-4145-40f8-c4f9-c074b4baf147"
   },
   "outputs": [
    {
     "data": {
      "text/html": [
       "<div>\n",
       "<style scoped>\n",
       "    .dataframe tbody tr th:only-of-type {\n",
       "        vertical-align: middle;\n",
       "    }\n",
       "\n",
       "    .dataframe tbody tr th {\n",
       "        vertical-align: top;\n",
       "    }\n",
       "\n",
       "    .dataframe thead th {\n",
       "        text-align: right;\n",
       "    }\n",
       "</style>\n",
       "<table border=\"1\" class=\"dataframe\">\n",
       "  <thead>\n",
       "    <tr style=\"text-align: right;\">\n",
       "      <th></th>\n",
       "      <th>Title</th>\n",
       "      <th>Ingredients</th>\n",
       "      <th>Steps</th>\n",
       "      <th>Loves</th>\n",
       "      <th>Ingredients_length</th>\n",
       "      <th>Steps_length</th>\n",
       "    </tr>\n",
       "  </thead>\n",
       "  <tbody>\n",
       "    <tr>\n",
       "      <th>0</th>\n",
       "      <td>Ayam Woku Manado</td>\n",
       "      <td>1 Ekor Ayam Kampung (potong 12)--2 Buah Jeruk ...</td>\n",
       "      <td>Cuci bersih ayam dan tiriskan. Lalu peras jeru...</td>\n",
       "      <td>1</td>\n",
       "      <td>271</td>\n",
       "      <td>1127</td>\n",
       "    </tr>\n",
       "  </tbody>\n",
       "</table>\n",
       "</div>"
      ],
      "text/plain": [
       "              Title                                        Ingredients  \\\n",
       "0  Ayam Woku Manado  1 Ekor Ayam Kampung (potong 12)--2 Buah Jeruk ...   \n",
       "\n",
       "                                               Steps  Loves  \\\n",
       "0  Cuci bersih ayam dan tiriskan. Lalu peras jeru...      1   \n",
       "\n",
       "   Ingredients_length  Steps_length  \n",
       "0                 271          1127  "
      ]
     },
     "execution_count": 36,
     "metadata": {},
     "output_type": "execute_result"
    }
   ],
   "source": [
    "def clean_emoji(text):\n",
    "  if text is not None and isinstance(text, str):\n",
    "    emoji_pattern = re.compile(\"[\"\n",
    "        u\"\\U0001F600-\\U0001F64F\"\n",
    "        u\"\\U0001F300-\\U0001F5FF\"\n",
    "        u\"\\U0001F680-\\U0001F6FF\"\n",
    "        u\"\\U0001F700-\\U0001F77F\"\n",
    "        u\"\\U0001F780-\\U0001F7FF\"\n",
    "        u\"\\U0001F800-\\U0001F8FF\"\n",
    "        u\"\\U0001F900-\\U0001F9FF\"\n",
    "        u\"\\U0001FA00-\\U0001FA6F\"\n",
    "        u\"\\U0001FA70-\\U0001FAFF\"\n",
    "        u\"\\U00002702-\\U000027B0\"\n",
    "        u\"\\U000024C2-\\U0001F251\"\n",
    "        \"]+\", flags=re.UNICODE)\n",
    "    return emoji_pattern.sub(r'', text)\n",
    "\n",
    "df['Ingredients'] = df['Ingredients'].apply(lambda x: clean_emoji(x))\n",
    "df['Title'] = df['Title'].apply(lambda x: clean_emoji(x))\n",
    "df['Steps'] = df['Steps'].apply(lambda x: clean_emoji(x))\n",
    "df.head(1)"
   ]
  },
  {
   "cell_type": "code",
   "execution_count": 37,
   "metadata": {
    "colab": {
     "base_uri": "https://localhost:8080/",
     "height": 424
    },
    "id": "NRFGAwQKO8vV",
    "outputId": "a8db6234-ba64-4d63-8d6a-f3fbbfeb8cb0"
   },
   "outputs": [
    {
     "data": {
      "text/html": [
       "<div>\n",
       "<style scoped>\n",
       "    .dataframe tbody tr th:only-of-type {\n",
       "        vertical-align: middle;\n",
       "    }\n",
       "\n",
       "    .dataframe tbody tr th {\n",
       "        vertical-align: top;\n",
       "    }\n",
       "\n",
       "    .dataframe thead th {\n",
       "        text-align: right;\n",
       "    }\n",
       "</style>\n",
       "<table border=\"1\" class=\"dataframe\">\n",
       "  <thead>\n",
       "    <tr style=\"text-align: right;\">\n",
       "      <th></th>\n",
       "      <th>Title</th>\n",
       "      <th>Ingredients</th>\n",
       "      <th>Steps</th>\n",
       "      <th>Loves</th>\n",
       "      <th>Ingredients_length</th>\n",
       "      <th>Steps_length</th>\n",
       "    </tr>\n",
       "  </thead>\n",
       "  <tbody>\n",
       "    <tr>\n",
       "      <th>0</th>\n",
       "      <td>ayam woku manado</td>\n",
       "      <td>1 ekor ayam kampung (potong 12)--2 buah jeruk ...</td>\n",
       "      <td>cuci bersih ayam dan tiriskan. lalu peras jeru...</td>\n",
       "      <td>1</td>\n",
       "      <td>271</td>\n",
       "      <td>1127</td>\n",
       "    </tr>\n",
       "    <tr>\n",
       "      <th>1</th>\n",
       "      <td>ayam goreng tulang lunak</td>\n",
       "      <td>1 kg ayam (dipotong sesuai selera jangan kecil...</td>\n",
       "      <td>haluskan bumbu2nya (baput, ketumbar, kemiri, k...</td>\n",
       "      <td>1</td>\n",
       "      <td>324</td>\n",
       "      <td>651</td>\n",
       "    </tr>\n",
       "    <tr>\n",
       "      <th>2</th>\n",
       "      <td>ayam cabai kawin</td>\n",
       "      <td>1/4 kg ayam--3 buah cabai hijau besar--7 buah ...</td>\n",
       "      <td>panaskan minyak di dalam wajan. setelah minyak...</td>\n",
       "      <td>2</td>\n",
       "      <td>208</td>\n",
       "      <td>420</td>\n",
       "    </tr>\n",
       "    <tr>\n",
       "      <th>3</th>\n",
       "      <td>ayam geprek</td>\n",
       "      <td>250 gr daging ayam (saya pakai fillet)--secuku...</td>\n",
       "      <td>goreng ayam seperti ayam krispi--ulek semua ba...</td>\n",
       "      <td>10</td>\n",
       "      <td>223</td>\n",
       "      <td>180</td>\n",
       "    </tr>\n",
       "    <tr>\n",
       "      <th>4</th>\n",
       "      <td>minyak ayam</td>\n",
       "      <td>400 gr kulit ayam &amp; lemaknya--8 siung bawang p...</td>\n",
       "      <td>cuci bersih kulit ayam. sisihkan--ambil 50 ml ...</td>\n",
       "      <td>4</td>\n",
       "      <td>139</td>\n",
       "      <td>597</td>\n",
       "    </tr>\n",
       "    <tr>\n",
       "      <th>...</th>\n",
       "      <td>...</td>\n",
       "      <td>...</td>\n",
       "      <td>...</td>\n",
       "      <td>...</td>\n",
       "      <td>...</td>\n",
       "      <td>...</td>\n",
       "    </tr>\n",
       "    <tr>\n",
       "      <th>15588</th>\n",
       "      <td>udang saus mentega</td>\n",
       "      <td>1 kg udang segar--1 buah bawang bombay kecil--...</td>\n",
       "      <td>bersihkan udang, siapkan bahan bahan--tumis ba...</td>\n",
       "      <td>46</td>\n",
       "      <td>293</td>\n",
       "      <td>372</td>\n",
       "    </tr>\n",
       "    <tr>\n",
       "      <th>15589</th>\n",
       "      <td>jipang tumis udang</td>\n",
       "      <td>500 gr jipang(saya pk 6bh jipang muda yg kecil...</td>\n",
       "      <td>tumis bawang merah bawang putih hingga harum.-...</td>\n",
       "      <td>6</td>\n",
       "      <td>289</td>\n",
       "      <td>254</td>\n",
       "    </tr>\n",
       "    <tr>\n",
       "      <th>15590</th>\n",
       "      <td>tumis udang tempe</td>\n",
       "      <td>3 siung bawang merah--3 siung bawang putih--2 ...</td>\n",
       "      <td>tiriskan bawang putih, bawang merah dan cabe l...</td>\n",
       "      <td>3</td>\n",
       "      <td>176</td>\n",
       "      <td>327</td>\n",
       "    </tr>\n",
       "    <tr>\n",
       "      <th>15591</th>\n",
       "      <td>tumis kacang panjang terong udang</td>\n",
       "      <td>stgah ikat kacang panjang,ku bli 3ribu d psr--...</td>\n",
       "      <td>potong2 kacang panjang,terong cuci bersih sisi...</td>\n",
       "      <td>12</td>\n",
       "      <td>259</td>\n",
       "      <td>303</td>\n",
       "    </tr>\n",
       "    <tr>\n",
       "      <th>15592</th>\n",
       "      <td>siomay udang ayam</td>\n",
       "      <td>3 bh dada ayam--1/2 kg udang bersih--6 bh bawa...</td>\n",
       "      <td>giling ayam dan udang serta haluskan bawang pu...</td>\n",
       "      <td>28</td>\n",
       "      <td>329</td>\n",
       "      <td>439</td>\n",
       "    </tr>\n",
       "  </tbody>\n",
       "</table>\n",
       "<p>15593 rows × 6 columns</p>\n",
       "</div>"
      ],
      "text/plain": [
       "                                   Title  \\\n",
       "0                       ayam woku manado   \n",
       "1               ayam goreng tulang lunak   \n",
       "2                       ayam cabai kawin   \n",
       "3                            ayam geprek   \n",
       "4                            minyak ayam   \n",
       "...                                  ...   \n",
       "15588                 udang saus mentega   \n",
       "15589                 jipang tumis udang   \n",
       "15590                  tumis udang tempe   \n",
       "15591  tumis kacang panjang terong udang   \n",
       "15592                  siomay udang ayam   \n",
       "\n",
       "                                             Ingredients  \\\n",
       "0      1 ekor ayam kampung (potong 12)--2 buah jeruk ...   \n",
       "1      1 kg ayam (dipotong sesuai selera jangan kecil...   \n",
       "2      1/4 kg ayam--3 buah cabai hijau besar--7 buah ...   \n",
       "3      250 gr daging ayam (saya pakai fillet)--secuku...   \n",
       "4      400 gr kulit ayam & lemaknya--8 siung bawang p...   \n",
       "...                                                  ...   \n",
       "15588  1 kg udang segar--1 buah bawang bombay kecil--...   \n",
       "15589  500 gr jipang(saya pk 6bh jipang muda yg kecil...   \n",
       "15590  3 siung bawang merah--3 siung bawang putih--2 ...   \n",
       "15591  stgah ikat kacang panjang,ku bli 3ribu d psr--...   \n",
       "15592  3 bh dada ayam--1/2 kg udang bersih--6 bh bawa...   \n",
       "\n",
       "                                                   Steps  Loves  \\\n",
       "0      cuci bersih ayam dan tiriskan. lalu peras jeru...      1   \n",
       "1      haluskan bumbu2nya (baput, ketumbar, kemiri, k...      1   \n",
       "2      panaskan minyak di dalam wajan. setelah minyak...      2   \n",
       "3      goreng ayam seperti ayam krispi--ulek semua ba...     10   \n",
       "4      cuci bersih kulit ayam. sisihkan--ambil 50 ml ...      4   \n",
       "...                                                  ...    ...   \n",
       "15588  bersihkan udang, siapkan bahan bahan--tumis ba...     46   \n",
       "15589  tumis bawang merah bawang putih hingga harum.-...      6   \n",
       "15590  tiriskan bawang putih, bawang merah dan cabe l...      3   \n",
       "15591  potong2 kacang panjang,terong cuci bersih sisi...     12   \n",
       "15592  giling ayam dan udang serta haluskan bawang pu...     28   \n",
       "\n",
       "       Ingredients_length  Steps_length  \n",
       "0                     271          1127  \n",
       "1                     324           651  \n",
       "2                     208           420  \n",
       "3                     223           180  \n",
       "4                     139           597  \n",
       "...                   ...           ...  \n",
       "15588                 293           372  \n",
       "15589                 289           254  \n",
       "15590                 176           327  \n",
       "15591                 259           303  \n",
       "15592                 329           439  \n",
       "\n",
       "[15593 rows x 6 columns]"
      ]
     },
     "execution_count": 37,
     "metadata": {},
     "output_type": "execute_result"
    }
   ],
   "source": [
    "def clean_lower(lower_text):\n",
    "  lower_text = lower_text.lower()\n",
    "  return lower_text\n",
    "df['Title'] = df['Title'].apply(clean_lower)\n",
    "df['Ingredients'] = df['Ingredients'].apply(clean_lower)\n",
    "df['Steps'] = df['Steps'].apply(clean_lower)\n",
    "df"
   ]
  },
  {
   "cell_type": "code",
   "execution_count": 38,
   "metadata": {},
   "outputs": [],
   "source": [
    "# Gabung kolom Title, Ingredients, dan Steps menjadi 1\n",
    "df[\"combine_text\"] = df[\"Title\"] + ' ' + df[\"Ingredients\"] + ' ' + df[\"Steps\"]"
   ]
  },
  {
   "cell_type": "markdown",
   "metadata": {
    "id": "3iHUPLvnOE3T"
   },
   "source": [
    "Remove Punctuation"
   ]
  },
  {
   "cell_type": "code",
   "execution_count": 39,
   "metadata": {
    "colab": {
     "base_uri": "https://localhost:8080/"
    },
    "id": "ILwQ_UfX_Vld",
    "outputId": "0136d72b-40f1-42f1-a41c-71a6edd21480"
   },
   "outputs": [
    {
     "name": "stderr",
     "output_type": "stream",
     "text": [
      "[nltk_data] Downloading package punkt to C:\\Users\\Santi\n",
      "[nltk_data]     Susanti\\AppData\\Roaming\\nltk_data...\n",
      "[nltk_data]   Package punkt is already up-to-date!\n",
      "[nltk_data] Downloading package punkt_tab to C:\\Users\\Santi\n",
      "[nltk_data]     Susanti\\AppData\\Roaming\\nltk_data...\n",
      "[nltk_data]   Package punkt_tab is already up-to-date!\n",
      "[nltk_data] Downloading package stopwords to C:\\Users\\Santi\n",
      "[nltk_data]     Susanti\\AppData\\Roaming\\nltk_data...\n",
      "[nltk_data]   Package stopwords is already up-to-date!\n"
     ]
    },
    {
     "data": {
      "text/plain": [
       "True"
      ]
     },
     "execution_count": 39,
     "metadata": {},
     "output_type": "execute_result"
    }
   ],
   "source": [
    "from nltk.tokenize import word_tokenize\n",
    "from nltk.corpus import stopwords\n",
    "nltk.download('punkt')\n",
    "nltk.download('punkt_tab')\n",
    "nltk.download('stopwords')"
   ]
  },
  {
   "cell_type": "code",
   "execution_count": 40,
   "metadata": {
    "id": "yL8LGOjSceW9"
   },
   "outputs": [],
   "source": [
    "# Remove Punctuation with regex\n",
    "import re\n",
    "df['combine_text'] = df['Ingredients'].apply(lambda x: re.sub(r'[^\\w\\s]', '', x.lower()))"
   ]
  },
  {
   "cell_type": "markdown",
   "metadata": {},
   "source": [
    "Stopwords Removal"
   ]
  },
  {
   "cell_type": "code",
   "execution_count": 41,
   "metadata": {},
   "outputs": [
    {
     "data": {
      "text/html": [
       "<div>\n",
       "<style scoped>\n",
       "    .dataframe tbody tr th:only-of-type {\n",
       "        vertical-align: middle;\n",
       "    }\n",
       "\n",
       "    .dataframe tbody tr th {\n",
       "        vertical-align: top;\n",
       "    }\n",
       "\n",
       "    .dataframe thead th {\n",
       "        text-align: right;\n",
       "    }\n",
       "</style>\n",
       "<table border=\"1\" class=\"dataframe\">\n",
       "  <thead>\n",
       "    <tr style=\"text-align: right;\">\n",
       "      <th></th>\n",
       "      <th>Title</th>\n",
       "      <th>Ingredients</th>\n",
       "      <th>Steps</th>\n",
       "      <th>Loves</th>\n",
       "      <th>Ingredients_length</th>\n",
       "      <th>Steps_length</th>\n",
       "      <th>combine_text</th>\n",
       "    </tr>\n",
       "  </thead>\n",
       "  <tbody>\n",
       "    <tr>\n",
       "      <th>0</th>\n",
       "      <td>ayam woku manado</td>\n",
       "      <td>1 ekor ayam kampung (potong 12)--2 buah jeruk ...</td>\n",
       "      <td>cuci bersih ayam dan tiriskan. lalu peras jeru...</td>\n",
       "      <td>1</td>\n",
       "      <td>271</td>\n",
       "      <td>1127</td>\n",
       "      <td>1 ekor ayam kampung potong 122 buah jeruk nipi...</td>\n",
       "    </tr>\n",
       "    <tr>\n",
       "      <th>1</th>\n",
       "      <td>ayam goreng tulang lunak</td>\n",
       "      <td>1 kg ayam (dipotong sesuai selera jangan kecil...</td>\n",
       "      <td>haluskan bumbu2nya (baput, ketumbar, kemiri, k...</td>\n",
       "      <td>1</td>\n",
       "      <td>324</td>\n",
       "      <td>651</td>\n",
       "      <td>1 kg ayam dipotong sesuai selera jangan kecil2...</td>\n",
       "    </tr>\n",
       "    <tr>\n",
       "      <th>2</th>\n",
       "      <td>ayam cabai kawin</td>\n",
       "      <td>1/4 kg ayam--3 buah cabai hijau besar--7 buah ...</td>\n",
       "      <td>panaskan minyak di dalam wajan. setelah minyak...</td>\n",
       "      <td>2</td>\n",
       "      <td>208</td>\n",
       "      <td>420</td>\n",
       "      <td>14 kg ayam3 buah cabai hijau besar7 buah cabai...</td>\n",
       "    </tr>\n",
       "    <tr>\n",
       "      <th>3</th>\n",
       "      <td>ayam geprek</td>\n",
       "      <td>250 gr daging ayam (saya pakai fillet)--secuku...</td>\n",
       "      <td>goreng ayam seperti ayam krispi--ulek semua ba...</td>\n",
       "      <td>10</td>\n",
       "      <td>223</td>\n",
       "      <td>180</td>\n",
       "      <td>250 gr daging ayam saya pakai filletsecukupnya...</td>\n",
       "    </tr>\n",
       "    <tr>\n",
       "      <th>4</th>\n",
       "      <td>minyak ayam</td>\n",
       "      <td>400 gr kulit ayam &amp; lemaknya--8 siung bawang p...</td>\n",
       "      <td>cuci bersih kulit ayam. sisihkan--ambil 50 ml ...</td>\n",
       "      <td>4</td>\n",
       "      <td>139</td>\n",
       "      <td>597</td>\n",
       "      <td>400 gr kulit ayam  lemaknya8 siung bawang puti...</td>\n",
       "    </tr>\n",
       "  </tbody>\n",
       "</table>\n",
       "</div>"
      ],
      "text/plain": [
       "                      Title  \\\n",
       "0          ayam woku manado   \n",
       "1  ayam goreng tulang lunak   \n",
       "2          ayam cabai kawin   \n",
       "3               ayam geprek   \n",
       "4               minyak ayam   \n",
       "\n",
       "                                         Ingredients  \\\n",
       "0  1 ekor ayam kampung (potong 12)--2 buah jeruk ...   \n",
       "1  1 kg ayam (dipotong sesuai selera jangan kecil...   \n",
       "2  1/4 kg ayam--3 buah cabai hijau besar--7 buah ...   \n",
       "3  250 gr daging ayam (saya pakai fillet)--secuku...   \n",
       "4  400 gr kulit ayam & lemaknya--8 siung bawang p...   \n",
       "\n",
       "                                               Steps  Loves  \\\n",
       "0  cuci bersih ayam dan tiriskan. lalu peras jeru...      1   \n",
       "1  haluskan bumbu2nya (baput, ketumbar, kemiri, k...      1   \n",
       "2  panaskan minyak di dalam wajan. setelah minyak...      2   \n",
       "3  goreng ayam seperti ayam krispi--ulek semua ba...     10   \n",
       "4  cuci bersih kulit ayam. sisihkan--ambil 50 ml ...      4   \n",
       "\n",
       "   Ingredients_length  Steps_length  \\\n",
       "0                 271          1127   \n",
       "1                 324           651   \n",
       "2                 208           420   \n",
       "3                 223           180   \n",
       "4                 139           597   \n",
       "\n",
       "                                        combine_text  \n",
       "0  1 ekor ayam kampung potong 122 buah jeruk nipi...  \n",
       "1  1 kg ayam dipotong sesuai selera jangan kecil2...  \n",
       "2  14 kg ayam3 buah cabai hijau besar7 buah cabai...  \n",
       "3  250 gr daging ayam saya pakai filletsecukupnya...  \n",
       "4  400 gr kulit ayam  lemaknya8 siung bawang puti...  "
      ]
     },
     "execution_count": 41,
     "metadata": {},
     "output_type": "execute_result"
    }
   ],
   "source": [
    "df.head()"
   ]
  },
  {
   "cell_type": "code",
   "execution_count": 42,
   "metadata": {},
   "outputs": [],
   "source": [
    "from nltk.corpus import stopwords\n",
    "stop_words = set(stopwords.words('Indonesian'))\n",
    "df['combine_text'] = df['combine_text'].apply(lambda x: [word for word in x if word not in stop_words])"
   ]
  },
  {
   "cell_type": "markdown",
   "metadata": {},
   "source": [
    "# Stemming / Lemmatization Text"
   ]
  },
  {
   "cell_type": "code",
   "execution_count": 43,
   "metadata": {},
   "outputs": [],
   "source": [
    "from nltk.stem import PorterStemmer\n",
    "\n",
    "stemmer = PorterStemmer()\n",
    "\n",
    "def stemming_text(text):\n",
    "    tokens = word_tokenize(text)\n",
    "    stemmed_tokens = [stemmer.stem(token) for token in tokens]\n",
    "    return \" \".join(stemmed_tokens)\n",
    "\n",
    "df['Ingredients'] = df['Ingredients'].apply(stemming_text)\n",
    "df['Steps'] = df['Steps'].apply(stemming_text)"
   ]
  },
  {
   "cell_type": "markdown",
   "metadata": {},
   "source": [
    "Tokenization and Padding"
   ]
  },
  {
   "cell_type": "code",
   "execution_count": 44,
   "metadata": {},
   "outputs": [
    {
     "name": "stdout",
     "output_type": "stream",
     "text": [
      "2.16.0-rc0\n"
     ]
    }
   ],
   "source": [
    "VOCAB_SIZE = 10000\n",
    "PADDING_TYPE = 'post'\n",
    "EMBEDDING_DIM = 16\n",
    "MAX_LENGTH = 120\n",
    "\n",
    "print(tf.__version__)"
   ]
  },
  {
   "cell_type": "code",
   "execution_count": 45,
   "metadata": {},
   "outputs": [],
   "source": [
    "from tensorflow.keras.preprocessing.text import Tokenizer\n",
    "from tensorflow.keras.preprocessing.sequence import pad_sequences\n",
    "from tensorflow.keras.layers import Embedding\n",
    "\n",
    "# Tokenizer\n",
    "tokenizer = Tokenizer(num_words=VOCAB_SIZE, oov_token='<OOV>')\n",
    "tokenizer.fit_on_texts(df['combine_text'])\n",
    "\n",
    "# Ubah teks menjadi urutan angka dengan menggunakan padding\n",
    "sequence = tokenizer.texts_to_sequences(df['combine_text'])\n",
    "padded_sequence = tf.keras.utils.pad_sequences(sequence, padding=PADDING_TYPE)\n",
    "\n",
    "# Embedding\n",
    "embedding = Embedding(input_dim=VOCAB_SIZE, output_dim=EMBEDDING_DIM)\n",
    "embedded_vector = embedding(padded_sequence)"
   ]
  },
  {
   "cell_type": "code",
   "execution_count": 46,
   "metadata": {},
   "outputs": [
    {
     "name": "stdout",
     "output_type": "stream",
     "text": [
      "Tokenized Sequences:\n",
      "Sample 1: [21, 2, 6, 13, 20, 10, 2, 3, 22, 3, 12, 2, 13, 3, 12, 15, 4, 5, 9, 2, 15, 20, 14, 20, 5, 9, 2, 21, 24, 24, 2, 11, 4, 3, 16, 2, 25, 6, 10, 4, 13, 2, 5, 7, 15, 7, 8, 24, 2, 8, 18, 12, 2, 9, 3, 10, 3, 12, 28, 2, 10, 4, 3, 8, 2, 13, 4, 5, 22, 7, 14, 31, 2, 11, 3, 23, 3, 5, 9, 2, 12, 6, 10, 3, 16, 31, 2, 11, 3, 23, 3, 5, 9, 2, 15, 4, 14, 7, 16, 21, 26, 2, 19, 3, 11, 6, 2, 12, 6, 10, 3, 16, 21, 26, 2, 19, 3, 11, 6, 2, 10, 3, 23, 7, 14, 2, 12, 6, 10, 3, 16, 2, 8, 6, 8, 4, 3, 7, 2, 8, 6, 17, 6, 10, 3, 28, 2, 11, 4, 14, 7, 10, 2, 13, 6, 12, 7, 10, 7, 24, 2, 11, 3, 14, 3, 5, 9, 2, 8, 6, 10, 6, 16, 24, 2, 17, 6, 12, 11, 3, 10, 2, 18, 3, 4, 5, 2, 8, 3, 17, 3, 12, 24, 2, 7, 13, 3, 14, 2, 18, 3, 4, 5, 2, 13, 6, 12, 3, 5, 9, 7, 15, 6, 5, 22, 6, 18, 3, 15, 2, 10, 3, 8, 3, 21, 2, 21, 24, 2, 9, 6, 17, 3, 8, 2, 3, 7, 10]\n",
      "Sample 2: [21, 2, 13, 9, 2, 3, 22, 3, 12, 2, 18, 7, 15, 20, 14, 20, 5, 9, 2, 8, 6, 8, 4, 3, 7, 2, 8, 6, 17, 6, 10, 3, 2, 25, 3, 5, 9, 3, 5, 2, 13, 6, 19, 7, 17, 24, 2, 22, 3, 24, 2, 11, 3, 14, 3, 5, 9, 2, 8, 6, 10, 3, 7, 2, 12, 6, 12, 3, 10, 13, 3, 5, 29, 2, 17, 6, 12, 11, 3, 10, 2, 18, 3, 4, 5, 2, 25, 6, 10, 4, 13, 31, 2, 11, 4, 14, 7, 10, 2, 11, 3, 23, 3, 5, 9, 2, 15, 4, 14, 7, 16, 2, 16, 3, 17, 4, 8, 13, 3, 5, 21, 2, 8, 18, 12, 2, 13, 6, 14, 4, 12, 11, 3, 10, 2, 16, 3, 17, 4, 8, 13, 3, 5, 28, 2, 10, 4, 3, 8, 2, 25, 3, 10, 7, 2, 17, 3, 20, 8, 2, 16, 3, 17, 4, 8, 13, 3, 5, 28, 2, 10, 4, 3, 8, 2, 25, 3, 10, 7, 2, 13, 4, 5, 22, 7, 14, 2, 16, 3, 17, 4, 8, 13, 3, 5, 24, 2, 11, 4, 14, 7, 10, 2, 13, 6, 12, 7, 10, 7, 2, 16, 3, 17, 4, 8, 13, 3, 5, 8, 6, 19, 4, 13, 4, 15, 5, 22, 3, 2, 9, 3, 10, 3, 12, 8, 6, 19, 4, 13, 4, 15, 5, 22, 3, 2, 3, 7, 10, 2, 14, 4, 13, 2, 4, 13, 6, 15, 2, 3, 22, 3, 12, 8, 6, 19, 4, 13, 4, 15, 5, 22, 3, 2, 12, 7, 5, 22, 3, 13, 2, 9, 20, 10, 6, 5, 9]\n"
     ]
    }
   ],
   "source": [
    "print(\"Tokenized Sequences:\")\n",
    "for i, seq in enumerate(sequence[:2]): \n",
    "    print(f\"Sample {i+1}: {seq}\")\n"
   ]
  },
  {
   "cell_type": "code",
   "execution_count": 47,
   "metadata": {},
   "outputs": [
    {
     "name": "stdout",
     "output_type": "stream",
     "text": [
      "\n",
      "Padded Sequences:\n",
      "Sample 1: [21  2  6 ...  0  0  0]\n",
      "Sample 2: [21  2 13 ...  0  0  0]\n"
     ]
    }
   ],
   "source": [
    "print(\"\\nPadded Sequences:\")\n",
    "for i, seq in enumerate(padded_sequence[:2]):  \n",
    "    print(f\"Sample {i+1}: {seq}\")\n"
   ]
  },
  {
   "cell_type": "code",
   "execution_count": 48,
   "metadata": {},
   "outputs": [
    {
     "name": "stdout",
     "output_type": "stream",
     "text": [
      "\n",
      "Embedded Vectors:\n",
      "Sample 1:\n",
      "[[-0.02091953  0.00246167 -0.0390998  ...  0.03048309  0.01515369\n",
      "   0.01336319]\n",
      " [ 0.04557637 -0.03528116 -0.0395238  ...  0.03713722  0.03535007\n",
      "   0.00056446]\n",
      " [ 0.0310126  -0.00615199  0.0158737  ... -0.0435845   0.01531993\n",
      "   0.04081586]\n",
      " ...\n",
      " [-0.00980967  0.01875143  0.01740775 ...  0.04772604 -0.04141457\n",
      "   0.03909277]\n",
      " [-0.00980967  0.01875143  0.01740775 ...  0.04772604 -0.04141457\n",
      "   0.03909277]\n",
      " [-0.00980967  0.01875143  0.01740775 ...  0.04772604 -0.04141457\n",
      "   0.03909277]]\n",
      "Sample 2:\n",
      "[[-0.02091953  0.00246167 -0.0390998  ...  0.03048309  0.01515369\n",
      "   0.01336319]\n",
      " [ 0.04557637 -0.03528116 -0.0395238  ...  0.03713722  0.03535007\n",
      "   0.00056446]\n",
      " [ 0.02823379  0.00640761  0.03272667 ... -0.03147116  0.03050191\n",
      "   0.02372568]\n",
      " ...\n",
      " [-0.00980967  0.01875143  0.01740775 ...  0.04772604 -0.04141457\n",
      "   0.03909277]\n",
      " [-0.00980967  0.01875143  0.01740775 ...  0.04772604 -0.04141457\n",
      "   0.03909277]\n",
      " [-0.00980967  0.01875143  0.01740775 ...  0.04772604 -0.04141457\n",
      "   0.03909277]]\n"
     ]
    }
   ],
   "source": [
    "print(\"\\nEmbedded Vectors:\")\n",
    "for i in range(2):  \n",
    "    print(f\"Sample {i+1}:\")\n",
    "    print(embedded_vector[i].numpy())  \n"
   ]
  },
  {
   "cell_type": "markdown",
   "metadata": {},
   "source": [
    "# Train and Validation "
   ]
  },
  {
   "cell_type": "code",
   "execution_count": 49,
   "metadata": {},
   "outputs": [
    {
     "name": "stdout",
     "output_type": "stream",
     "text": [
      "Jumlah Data Training :  12474\n",
      "Jumlah Data Training :  3119\n"
     ]
    }
   ],
   "source": [
    "from sklearn.model_selection import train_test_split\n",
    "\n",
    "X = padded_sequence\n",
    "Y = df['Loves']\n",
    "\n",
    "X_train, X_val, Y_train, Y_val = train_test_split(X, Y, test_size=0.2, random_state=42)\n",
    "\n",
    "print(\"Jumlah Data Training : \", len(X_train))\n",
    "print(\"Jumlah Data Training : \", len(X_val))"
   ]
  },
  {
   "cell_type": "markdown",
   "metadata": {},
   "source": [
    "# Create a Model"
   ]
  },
  {
   "cell_type": "code",
   "execution_count": 50,
   "metadata": {},
   "outputs": [
    {
     "data": {
      "text/html": [
       "<pre style=\"white-space:pre;overflow-x:auto;line-height:normal;font-family:Menlo,'DejaVu Sans Mono',consolas,'Courier New',monospace\"><span style=\"font-weight: bold\">Model: \"sequential_1\"</span>\n",
       "</pre>\n"
      ],
      "text/plain": [
       "\u001b[1mModel: \"sequential_1\"\u001b[0m\n"
      ]
     },
     "metadata": {},
     "output_type": "display_data"
    },
    {
     "data": {
      "text/html": [
       "<pre style=\"white-space:pre;overflow-x:auto;line-height:normal;font-family:Menlo,'DejaVu Sans Mono',consolas,'Courier New',monospace\">┏━━━━━━━━━━━━━━━━━━━━━━━━━━━━━━━━━┳━━━━━━━━━━━━━━━━━━━━━━━━┳━━━━━━━━━━━━━━━┓\n",
       "┃<span style=\"font-weight: bold\"> Layer (type)                    </span>┃<span style=\"font-weight: bold\"> Output Shape           </span>┃<span style=\"font-weight: bold\">       Param # </span>┃\n",
       "┡━━━━━━━━━━━━━━━━━━━━━━━━━━━━━━━━━╇━━━━━━━━━━━━━━━━━━━━━━━━╇━━━━━━━━━━━━━━━┩\n",
       "│ embedding_3 (<span style=\"color: #0087ff; text-decoration-color: #0087ff\">Embedding</span>)         │ (<span style=\"color: #00d7ff; text-decoration-color: #00d7ff\">None</span>, <span style=\"color: #00af00; text-decoration-color: #00af00\">120</span>, <span style=\"color: #00af00; text-decoration-color: #00af00\">16</span>)        │       <span style=\"color: #00af00; text-decoration-color: #00af00\">160,000</span> │\n",
       "├─────────────────────────────────┼────────────────────────┼───────────────┤\n",
       "│ global_average_pooling1d_1      │ (<span style=\"color: #00d7ff; text-decoration-color: #00d7ff\">None</span>, <span style=\"color: #00af00; text-decoration-color: #00af00\">16</span>)             │             <span style=\"color: #00af00; text-decoration-color: #00af00\">0</span> │\n",
       "│ (<span style=\"color: #0087ff; text-decoration-color: #0087ff\">GlobalAveragePooling1D</span>)        │                        │               │\n",
       "├─────────────────────────────────┼────────────────────────┼───────────────┤\n",
       "│ flatten_1 (<span style=\"color: #0087ff; text-decoration-color: #0087ff\">Flatten</span>)             │ (<span style=\"color: #00d7ff; text-decoration-color: #00d7ff\">None</span>, <span style=\"color: #00af00; text-decoration-color: #00af00\">16</span>)             │             <span style=\"color: #00af00; text-decoration-color: #00af00\">0</span> │\n",
       "├─────────────────────────────────┼────────────────────────┼───────────────┤\n",
       "│ dense_2 (<span style=\"color: #0087ff; text-decoration-color: #0087ff\">Dense</span>)                 │ (<span style=\"color: #00d7ff; text-decoration-color: #00d7ff\">None</span>, <span style=\"color: #00af00; text-decoration-color: #00af00\">128</span>)            │         <span style=\"color: #00af00; text-decoration-color: #00af00\">2,176</span> │\n",
       "├─────────────────────────────────┼────────────────────────┼───────────────┤\n",
       "│ dense_3 (<span style=\"color: #0087ff; text-decoration-color: #0087ff\">Dense</span>)                 │ (<span style=\"color: #00d7ff; text-decoration-color: #00d7ff\">None</span>, <span style=\"color: #00af00; text-decoration-color: #00af00\">10</span>)             │         <span style=\"color: #00af00; text-decoration-color: #00af00\">1,290</span> │\n",
       "└─────────────────────────────────┴────────────────────────┴───────────────┘\n",
       "</pre>\n"
      ],
      "text/plain": [
       "┏━━━━━━━━━━━━━━━━━━━━━━━━━━━━━━━━━┳━━━━━━━━━━━━━━━━━━━━━━━━┳━━━━━━━━━━━━━━━┓\n",
       "┃\u001b[1m \u001b[0m\u001b[1mLayer (type)                   \u001b[0m\u001b[1m \u001b[0m┃\u001b[1m \u001b[0m\u001b[1mOutput Shape          \u001b[0m\u001b[1m \u001b[0m┃\u001b[1m \u001b[0m\u001b[1m      Param #\u001b[0m\u001b[1m \u001b[0m┃\n",
       "┡━━━━━━━━━━━━━━━━━━━━━━━━━━━━━━━━━╇━━━━━━━━━━━━━━━━━━━━━━━━╇━━━━━━━━━━━━━━━┩\n",
       "│ embedding_3 (\u001b[38;5;33mEmbedding\u001b[0m)         │ (\u001b[38;5;45mNone\u001b[0m, \u001b[38;5;34m120\u001b[0m, \u001b[38;5;34m16\u001b[0m)        │       \u001b[38;5;34m160,000\u001b[0m │\n",
       "├─────────────────────────────────┼────────────────────────┼───────────────┤\n",
       "│ global_average_pooling1d_1      │ (\u001b[38;5;45mNone\u001b[0m, \u001b[38;5;34m16\u001b[0m)             │             \u001b[38;5;34m0\u001b[0m │\n",
       "│ (\u001b[38;5;33mGlobalAveragePooling1D\u001b[0m)        │                        │               │\n",
       "├─────────────────────────────────┼────────────────────────┼───────────────┤\n",
       "│ flatten_1 (\u001b[38;5;33mFlatten\u001b[0m)             │ (\u001b[38;5;45mNone\u001b[0m, \u001b[38;5;34m16\u001b[0m)             │             \u001b[38;5;34m0\u001b[0m │\n",
       "├─────────────────────────────────┼────────────────────────┼───────────────┤\n",
       "│ dense_2 (\u001b[38;5;33mDense\u001b[0m)                 │ (\u001b[38;5;45mNone\u001b[0m, \u001b[38;5;34m128\u001b[0m)            │         \u001b[38;5;34m2,176\u001b[0m │\n",
       "├─────────────────────────────────┼────────────────────────┼───────────────┤\n",
       "│ dense_3 (\u001b[38;5;33mDense\u001b[0m)                 │ (\u001b[38;5;45mNone\u001b[0m, \u001b[38;5;34m10\u001b[0m)             │         \u001b[38;5;34m1,290\u001b[0m │\n",
       "└─────────────────────────────────┴────────────────────────┴───────────────┘\n"
      ]
     },
     "metadata": {},
     "output_type": "display_data"
    },
    {
     "data": {
      "text/html": [
       "<pre style=\"white-space:pre;overflow-x:auto;line-height:normal;font-family:Menlo,'DejaVu Sans Mono',consolas,'Courier New',monospace\"><span style=\"font-weight: bold\"> Total params: </span><span style=\"color: #00af00; text-decoration-color: #00af00\">163,466</span> (638.54 KB)\n",
       "</pre>\n"
      ],
      "text/plain": [
       "\u001b[1m Total params: \u001b[0m\u001b[38;5;34m163,466\u001b[0m (638.54 KB)\n"
      ]
     },
     "metadata": {},
     "output_type": "display_data"
    },
    {
     "data": {
      "text/html": [
       "<pre style=\"white-space:pre;overflow-x:auto;line-height:normal;font-family:Menlo,'DejaVu Sans Mono',consolas,'Courier New',monospace\"><span style=\"font-weight: bold\"> Trainable params: </span><span style=\"color: #00af00; text-decoration-color: #00af00\">163,466</span> (638.54 KB)\n",
       "</pre>\n"
      ],
      "text/plain": [
       "\u001b[1m Trainable params: \u001b[0m\u001b[38;5;34m163,466\u001b[0m (638.54 KB)\n"
      ]
     },
     "metadata": {},
     "output_type": "display_data"
    },
    {
     "data": {
      "text/html": [
       "<pre style=\"white-space:pre;overflow-x:auto;line-height:normal;font-family:Menlo,'DejaVu Sans Mono',consolas,'Courier New',monospace\"><span style=\"font-weight: bold\"> Non-trainable params: </span><span style=\"color: #00af00; text-decoration-color: #00af00\">0</span> (0.00 B)\n",
       "</pre>\n"
      ],
      "text/plain": [
       "\u001b[1m Non-trainable params: \u001b[0m\u001b[38;5;34m0\u001b[0m (0.00 B)\n"
      ]
     },
     "metadata": {},
     "output_type": "display_data"
    }
   ],
   "source": [
    "def create_model():\n",
    "    model = tf.keras.Sequential([\n",
    "        tf.keras.Input(shape=(MAX_LENGTH,)),\n",
    "        tf.keras.layers.Embedding(input_dim=VOCAB_SIZE, output_dim=EMBEDDING_DIM),\n",
    "        tf.keras.layers.GlobalAveragePooling1D(),\n",
    "        tf.keras.layers.Flatten(),\n",
    "        tf.keras.layers.Dense(128, activation='relu'),\n",
    "        tf.keras.layers.Dense(10, activation='softmax')\n",
    "    ])\n",
    "\n",
    "    model.compile(\n",
    "        loss='categorical_crossentropy',\n",
    "        optimizer=tf.keras.optimizers.Adam(learning_rate=0.001),\n",
    "        metrics=['accuracy']\n",
    "    )\n",
    "\n",
    "    return model\n",
    "\n",
    "model = create_model()\n",
    "\n",
    "model.summary()"
   ]
  },
  {
   "cell_type": "code",
   "execution_count": 51,
   "metadata": {},
   "outputs": [
    {
     "name": "stdout",
     "output_type": "stream",
     "text": [
      "Epoch 1/10\n"
     ]
    },
    {
     "ename": "ValueError",
     "evalue": "Arguments `target` and `output` must have the same shape. Received: target.shape=(None, 1), output.shape=(None, 10)",
     "output_type": "error",
     "traceback": [
      "\u001b[1;31m---------------------------------------------------------------------------\u001b[0m",
      "\u001b[1;31mValueError\u001b[0m                                Traceback (most recent call last)",
      "Cell \u001b[1;32mIn[51], line 2\u001b[0m\n\u001b[0;32m      1\u001b[0m \u001b[38;5;66;03m# Melatih model \u001b[39;00m\n\u001b[1;32m----> 2\u001b[0m history \u001b[38;5;241m=\u001b[39m \u001b[43mmodel\u001b[49m\u001b[38;5;241;43m.\u001b[39;49m\u001b[43mfit\u001b[49m\u001b[43m(\u001b[49m\n\u001b[0;32m      3\u001b[0m \u001b[43m    \u001b[49m\u001b[43mX_train\u001b[49m\u001b[43m,\u001b[49m\u001b[43m \u001b[49m\u001b[43mY_train\u001b[49m\u001b[43m,\u001b[49m\n\u001b[0;32m      4\u001b[0m \u001b[43m    \u001b[49m\u001b[43mepochs\u001b[49m\u001b[38;5;241;43m=\u001b[39;49m\u001b[38;5;241;43m10\u001b[39;49m\u001b[43m,\u001b[49m\n\u001b[0;32m      5\u001b[0m \u001b[43m    \u001b[49m\u001b[43mbatch_size\u001b[49m\u001b[38;5;241;43m=\u001b[39;49m\u001b[38;5;241;43m32\u001b[39;49m\u001b[43m,\u001b[49m\n\u001b[0;32m      6\u001b[0m \u001b[43m    \u001b[49m\u001b[43mvalidation_data\u001b[49m\u001b[38;5;241;43m=\u001b[39;49m\u001b[43m(\u001b[49m\u001b[43mX_val\u001b[49m\u001b[43m,\u001b[49m\u001b[43m \u001b[49m\u001b[43mY_val\u001b[49m\u001b[43m)\u001b[49m\n\u001b[0;32m      7\u001b[0m \u001b[43m)\u001b[49m\n",
      "File \u001b[1;32m~\\AppData\\Local\\Programs\\Python\\Python312\\Lib\\site-packages\\keras\\src\\utils\\traceback_utils.py:123\u001b[0m, in \u001b[0;36mfilter_traceback.<locals>.error_handler\u001b[1;34m(*args, **kwargs)\u001b[0m\n\u001b[0;32m    120\u001b[0m     filtered_tb \u001b[38;5;241m=\u001b[39m _process_traceback_frames(e\u001b[38;5;241m.\u001b[39m__traceback__)\n\u001b[0;32m    121\u001b[0m     \u001b[38;5;66;03m# To get the full stack trace, call:\u001b[39;00m\n\u001b[0;32m    122\u001b[0m     \u001b[38;5;66;03m# `keras.config.disable_traceback_filtering()`\u001b[39;00m\n\u001b[1;32m--> 123\u001b[0m     \u001b[38;5;28;01mraise\u001b[39;00m e\u001b[38;5;241m.\u001b[39mwith_traceback(filtered_tb) \u001b[38;5;28;01mfrom\u001b[39;00m \u001b[38;5;28;01mNone\u001b[39;00m\n\u001b[0;32m    124\u001b[0m \u001b[38;5;28;01mfinally\u001b[39;00m:\n\u001b[0;32m    125\u001b[0m     \u001b[38;5;28;01mdel\u001b[39;00m filtered_tb\n",
      "File \u001b[1;32m~\\AppData\\Local\\Programs\\Python\\Python312\\Lib\\site-packages\\keras\\src\\backend\\tensorflow\\nn.py:553\u001b[0m, in \u001b[0;36mcategorical_crossentropy\u001b[1;34m(target, output, from_logits, axis)\u001b[0m\n\u001b[0;32m    551\u001b[0m \u001b[38;5;28;01mfor\u001b[39;00m e1, e2 \u001b[38;5;129;01min\u001b[39;00m \u001b[38;5;28mzip\u001b[39m(target\u001b[38;5;241m.\u001b[39mshape, output\u001b[38;5;241m.\u001b[39mshape):\n\u001b[0;32m    552\u001b[0m     \u001b[38;5;28;01mif\u001b[39;00m e1 \u001b[38;5;129;01mis\u001b[39;00m \u001b[38;5;129;01mnot\u001b[39;00m \u001b[38;5;28;01mNone\u001b[39;00m \u001b[38;5;129;01mand\u001b[39;00m e2 \u001b[38;5;129;01mis\u001b[39;00m \u001b[38;5;129;01mnot\u001b[39;00m \u001b[38;5;28;01mNone\u001b[39;00m \u001b[38;5;129;01mand\u001b[39;00m e1 \u001b[38;5;241m!=\u001b[39m e2:\n\u001b[1;32m--> 553\u001b[0m         \u001b[38;5;28;01mraise\u001b[39;00m \u001b[38;5;167;01mValueError\u001b[39;00m(\n\u001b[0;32m    554\u001b[0m             \u001b[38;5;124m\"\u001b[39m\u001b[38;5;124mArguments `target` and `output` must have the same shape. \u001b[39m\u001b[38;5;124m\"\u001b[39m\n\u001b[0;32m    555\u001b[0m             \u001b[38;5;124m\"\u001b[39m\u001b[38;5;124mReceived: \u001b[39m\u001b[38;5;124m\"\u001b[39m\n\u001b[0;32m    556\u001b[0m             \u001b[38;5;124mf\u001b[39m\u001b[38;5;124m\"\u001b[39m\u001b[38;5;124mtarget.shape=\u001b[39m\u001b[38;5;132;01m{\u001b[39;00mtarget\u001b[38;5;241m.\u001b[39mshape\u001b[38;5;132;01m}\u001b[39;00m\u001b[38;5;124m, output.shape=\u001b[39m\u001b[38;5;132;01m{\u001b[39;00moutput\u001b[38;5;241m.\u001b[39mshape\u001b[38;5;132;01m}\u001b[39;00m\u001b[38;5;124m\"\u001b[39m\n\u001b[0;32m    557\u001b[0m         )\n\u001b[0;32m    559\u001b[0m output, from_logits \u001b[38;5;241m=\u001b[39m _get_logits(\n\u001b[0;32m    560\u001b[0m     output, from_logits, \u001b[38;5;124m\"\u001b[39m\u001b[38;5;124mSoftmax\u001b[39m\u001b[38;5;124m\"\u001b[39m, \u001b[38;5;124m\"\u001b[39m\u001b[38;5;124mcategorical_crossentropy\u001b[39m\u001b[38;5;124m\"\u001b[39m\n\u001b[0;32m    561\u001b[0m )\n\u001b[0;32m    562\u001b[0m \u001b[38;5;28;01mif\u001b[39;00m from_logits:\n",
      "\u001b[1;31mValueError\u001b[0m: Arguments `target` and `output` must have the same shape. Received: target.shape=(None, 1), output.shape=(None, 10)"
     ]
    }
   ],
   "source": [
    "# Melatih model \n",
    "history = model.fit(\n",
    "    X_train, Y_train,\n",
    "    epochs=10,\n",
    "    batch_size=32,\n",
    "    validation_data=(X_val, Y_val)\n",
    ")"
   ]
  },
  {
   "cell_type": "code",
   "execution_count": null,
   "metadata": {},
   "outputs": [],
   "source": [
    "# Plot hasil\n",
    "def plot_graph(history, string):\n",
    "    plt.plot(history.history[string])\n",
    "    plt.plot(history.history['val_'+string])\n",
    "    plt.xlabel(\"Epochs\")\n",
    "    plt.ylabel(string)\n",
    "    plt.legend([string, \"val_\"+string])\n",
    "    plt.show()\n",
    "\n",
    "plot_graph(history, \"accuracy\")\n",
    "plot_graph(history, \"loss\")"
   ]
  },
  {
   "cell_type": "code",
   "execution_count": null,
   "metadata": {},
   "outputs": [],
   "source": []
  }
 ],
 "metadata": {
  "colab": {
   "provenance": []
  },
  "kernelspec": {
   "display_name": "Python 3 (ipykernel)",
   "language": "python",
   "name": "python3"
  },
  "language_info": {
   "codemirror_mode": {
    "name": "ipython",
    "version": 3
   },
   "file_extension": ".py",
   "mimetype": "text/x-python",
   "name": "python",
   "nbconvert_exporter": "python",
   "pygments_lexer": "ipython3",
   "version": "3.12.1"
  }
 },
 "nbformat": 4,
 "nbformat_minor": 4
}
