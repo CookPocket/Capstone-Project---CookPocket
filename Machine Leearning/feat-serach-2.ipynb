{
 "cells": [
  {
   "cell_type": "code",
<<<<<<< HEAD
   "execution_count": 1,
=======
   "execution_count": 203,
>>>>>>> 91bb1452e962976921a7ef862507ecfe05c55e9a
   "id": "7ca37852-b52a-4144-aba6-917c16a7f9ed",
   "metadata": {},
   "outputs": [],
   "source": [
    "import json\n",
    "import pandas as pd\n",
    "import re\n",
    "import nltk\n",
    "import tensorflow as tf\n",
    "import numpy as np\n",
    "from nltk.corpus import stopwords\n",
    "from nltk.stem import WordNetLemmatizer\n",
    "from gensim.models import Word2Vec\n",
    "from sklearn.metrics.pairwise import cosine_similarity\n",
<<<<<<< HEAD
=======
    "from sklearn.feature_extraction.text import TfidfVectorizer\n",
>>>>>>> 91bb1452e962976921a7ef862507ecfe05c55e9a
    "from sklearn.model_selection import train_test_split\n",
    "from tensorflow.keras.models import Sequential\n",
    "from tensorflow.keras.layers import Dense, Dropout\n",
    "from tensorflow.keras import layers, models, regularizers\n",
    "from tensorflow.keras.callbacks import EarlyStopping, ReduceLROnPlateau\n",
    "from Sastrawi.StopWordRemover.StopWordRemoverFactory import StopWordRemoverFactory\n",
    "\n",
    "# Load dataset\n",
    "file_path = './Data/all_data_resep.csv'\n",
    "data = pd.read_csv(file_path)\n",
    "\n",
    "# Gabungkan kolom-kolom yang relevan \n",
    "data['Combined_Text'] = data['Title'] + \" \" + data['Ingredients'] + \" \" + data['Steps']\n",
    "\n",
    "# Tambahkan threshold untuk kolom 'Loves'\n",
<<<<<<< HEAD
    "threshold = 50\n",
=======
    "threshold = 59\n",
>>>>>>> 91bb1452e962976921a7ef862507ecfe05c55e9a
    "data['Label'] = (data['Loves'] >= threshold).astype(int)"
   ]
  },
  {
   "cell_type": "code",
<<<<<<< HEAD
   "execution_count": 2,
=======
   "execution_count": 226,
>>>>>>> 91bb1452e962976921a7ef862507ecfe05c55e9a
   "id": "f9caac9e-5387-4686-8bbf-ebf5e473d541",
   "metadata": {},
   "outputs": [
    {
     "name": "stderr",
     "output_type": "stream",
     "text": [
      "[nltk_data] Downloading package wordnet to C:\\Users\\Santi\n",
      "[nltk_data]     Susanti\\AppData\\Roaming\\nltk_data...\n",
      "[nltk_data]   Package wordnet is already up-to-date!\n",
      "[nltk_data] Downloading package stopwords to C:\\Users\\Santi\n",
      "[nltk_data]     Susanti\\AppData\\Roaming\\nltk_data...\n",
      "[nltk_data]   Package stopwords is already up-to-date!\n"
     ]
    }
   ],
   "source": [
    "# Bersihkan teks\n",
    "nltk.download('wordnet')\n",
    "nltk.download('stopwords')\n",
    "\n",
    "factory = StopWordRemoverFactory()\n",
    "stopword = factory.create_stop_word_remover()\n",
    "\n",
<<<<<<< HEAD
    "def replace_hyphens(text):\n",
    "    return text.replace('--', ',')\n",
    "\n",
    "def clean_text(text):\n",
    "    text = text.lower()\n",
=======
    "def clean_text(text):\n",
    "    text = text.lower()\n",
    "    text = text.replace('--', ',')  \n",
>>>>>>> 91bb1452e962976921a7ef862507ecfe05c55e9a
    "    # text = re.sub(r'[^a-zA-Z\\s]', '', text)\n",
    "    text = stopword.remove(text)\n",
    "    words = text.split()\n",
    "    lemmatizer = WordNetLemmatizer()\n",
    "    words = [lemmatizer.lemmatize(word) for word in words]\n",
    "    return ' '.join(words)\n",
    "\n",
    "# data['Ingredients'] = data['Ingredients'].fillna('').apply(clean_text)\n",
<<<<<<< HEAD
    "data['Ingredients'] = data['Ingredients'].fillna('').apply(replace_hyphens)\n",
    "data['Steps'] = data['Steps'].fillna('').apply(replace_hyphens)\n",
=======
    "data['Ingredients'] = data['Ingredients'].fillna('').apply(clean_text)\n",
    "data['Steps'] = data['Steps'].fillna('').apply(clean_text)\n",
>>>>>>> 91bb1452e962976921a7ef862507ecfe05c55e9a
    "data['Cleaned_Text'] = data['Combined_Text'].apply(clean_text)"
   ]
  },
  {
   "cell_type": "code",
<<<<<<< HEAD
   "execution_count": 3,
=======
   "execution_count": 227,
>>>>>>> 91bb1452e962976921a7ef862507ecfe05c55e9a
   "id": "f63ec4a6-c9b7-47ce-8fe2-642d09ba9767",
   "metadata": {},
   "outputs": [
    {
     "data": {
      "text/html": [
       "<div>\n",
       "<style scoped>\n",
       "    .dataframe tbody tr th:only-of-type {\n",
       "        vertical-align: middle;\n",
       "    }\n",
       "\n",
       "    .dataframe tbody tr th {\n",
       "        vertical-align: top;\n",
       "    }\n",
       "\n",
       "    .dataframe thead th {\n",
       "        text-align: right;\n",
       "    }\n",
       "</style>\n",
       "<table border=\"1\" class=\"dataframe\">\n",
       "  <thead>\n",
       "    <tr style=\"text-align: right;\">\n",
       "      <th></th>\n",
       "      <th>Title</th>\n",
       "      <th>Ingredients</th>\n",
       "      <th>Steps</th>\n",
       "      <th>Loves</th>\n",
       "      <th>URL</th>\n",
       "      <th>Combined_Text</th>\n",
       "      <th>Label</th>\n",
       "      <th>Cleaned_Text</th>\n",
<<<<<<< HEAD
=======
       "      <th>Tokenized_Text</th>\n",
       "      <th>Embedding</th>\n",
>>>>>>> 91bb1452e962976921a7ef862507ecfe05c55e9a
       "    </tr>\n",
       "  </thead>\n",
       "  <tbody>\n",
       "    <tr>\n",
       "      <th>0</th>\n",
       "      <td>Ayam Woku Manado</td>\n",
<<<<<<< HEAD
       "      <td>1 Ekor Ayam Kampung (potong 12),2 Buah Jeruk N...</td>\n",
       "      <td>Cuci bersih ayam dan tiriskan. Lalu peras jeru...</td>\n",
=======
       "      <td>ekor ayam kampung potong buah jeruk nipis sdm ...</td>\n",
       "      <td>cuci bersih ayam tiriskan lalu peras jeruk nip...</td>\n",
>>>>>>> 91bb1452e962976921a7ef862507ecfe05c55e9a
       "      <td>1</td>\n",
       "      <td>/id/resep/4473027-ayam-woku-manado</td>\n",
       "      <td>Ayam Woku Manado 1 Ekor Ayam Kampung (potong 1...</td>\n",
       "      <td>0</td>\n",
       "      <td>ayam woku manado 1 ekor ayam kampung (potong 1...</td>\n",
<<<<<<< HEAD
=======
       "      <td>[ayam, woku, manado, ekor, ayam, kampung, poto...</td>\n",
       "      <td>[-0.00032549343, -0.29343486, 0.09454221, -0.0...</td>\n",
>>>>>>> 91bb1452e962976921a7ef862507ecfe05c55e9a
       "    </tr>\n",
       "  </tbody>\n",
       "</table>\n",
       "</div>"
      ],
      "text/plain": [
       "              Title                                        Ingredients  \\\n",
<<<<<<< HEAD
       "0  Ayam Woku Manado  1 Ekor Ayam Kampung (potong 12),2 Buah Jeruk N...   \n",
       "\n",
       "                                               Steps  Loves  \\\n",
       "0  Cuci bersih ayam dan tiriskan. Lalu peras jeru...      1   \n",
=======
       "0  Ayam Woku Manado  ekor ayam kampung potong buah jeruk nipis sdm ...   \n",
       "\n",
       "                                               Steps  Loves  \\\n",
       "0  cuci bersih ayam tiriskan lalu peras jeruk nip...      1   \n",
>>>>>>> 91bb1452e962976921a7ef862507ecfe05c55e9a
       "\n",
       "                                  URL  \\\n",
       "0  /id/resep/4473027-ayam-woku-manado   \n",
       "\n",
       "                                       Combined_Text  Label  \\\n",
       "0  Ayam Woku Manado 1 Ekor Ayam Kampung (potong 1...      0   \n",
       "\n",
<<<<<<< HEAD
       "                                        Cleaned_Text  \n",
       "0  ayam woku manado 1 ekor ayam kampung (potong 1...  "
      ]
     },
     "execution_count": 3,
=======
       "                                        Cleaned_Text  \\\n",
       "0  ayam woku manado 1 ekor ayam kampung (potong 1...   \n",
       "\n",
       "                                      Tokenized_Text  \\\n",
       "0  [ayam, woku, manado, ekor, ayam, kampung, poto...   \n",
       "\n",
       "                                           Embedding  \n",
       "0  [-0.00032549343, -0.29343486, 0.09454221, -0.0...  "
      ]
     },
     "execution_count": 227,
>>>>>>> 91bb1452e962976921a7ef862507ecfe05c55e9a
     "metadata": {},
     "output_type": "execute_result"
    }
   ],
   "source": [
    "# Menghapus emoji \n",
    "def clean_emoji(text):\n",
    "  if text is not None and isinstance(text, str):\n",
    "    emoji_pattern = re.compile(\"[\"\n",
    "        u\"\\U0001F600-\\U0001F64F\"\n",
    "        u\"\\U0001F300-\\U0001F5FF\"\n",
    "        u\"\\U0001F680-\\U0001F6FF\"\n",
    "        u\"\\U0001F700-\\U0001F77F\"\n",
    "        u\"\\U0001F780-\\U0001F7FF\"\n",
    "        u\"\\U0001F800-\\U0001F8FF\"\n",
    "        u\"\\U0001F900-\\U0001F9FF\"\n",
    "        u\"\\U0001FA00-\\U0001FA6F\"\n",
    "        u\"\\U0001FA70-\\U0001FAFF\"\n",
    "        u\"\\U00002702-\\U000027B0\"\n",
    "        u\"\\U000024C2-\\U0001F251\"\n",
    "        \"]+\", flags=re.UNICODE)\n",
    "    return emoji_pattern.sub(r'', text)\n",
    "\n",
    "data['Title'] = data['Title'].apply(clean_emoji)\n",
    "data['Ingredients'] = data['Ingredients'].apply(clean_emoji)\n",
    "data['Steps'] = data['Steps'].apply(clean_emoji)\n",
    "data['Combined_Text'] = data['Combined_Text'].apply(clean_emoji)\n",
    "data.head(1)"
   ]
  },
  {
   "cell_type": "code",
<<<<<<< HEAD
   "execution_count": 4,
=======
   "execution_count": 228,
>>>>>>> 91bb1452e962976921a7ef862507ecfe05c55e9a
   "id": "5b3ae9cd-d330-413b-8ae7-433aa602a9ec",
   "metadata": {},
   "outputs": [],
   "source": [
    "# Tokenisasi data teks yang sudah dibersihkan\n",
    "data['Tokenized_Text'] = data['Cleaned_Text'].apply(lambda x: x.split())\n",
    "\n",
    "word2vec_model = Word2Vec(\n",
    "    sentences=data['Tokenized_Text'], \n",
    "    vector_size=100, \n",
    "    window=5, \n",
    "    min_count=1, \n",
    "    workers=4, \n",
    "    sg=1\n",
    ")\n",
    "\n",
    "# Simpan model untuk digunakan kembali\n",
    "# word2vec_model.save(\"word2vec_resep.model\")"
   ]
  },
  {
   "cell_type": "code",
<<<<<<< HEAD
   "execution_count": 5,
=======
   "execution_count": 229,
>>>>>>> 91bb1452e962976921a7ef862507ecfe05c55e9a
   "id": "996e66b7-0531-4aef-ab8b-d1e78cd64b1b",
   "metadata": {},
   "outputs": [],
   "source": [
    "# Fungsi untuk menghitung rata-rata embedding sebuah dokumen\n",
    "def document_embedding(text, model, vector_size=100):\n",
    "    words = text.split()\n",
    "    word_vectors = [model.wv[word] for word in words if word in model.wv]\n",
    "    if len(word_vectors) > 0:\n",
    "        return np.mean(word_vectors, axis=0)\n",
    "    else:\n",
    "        return np.zeros(vector_size)\n",
    "\n",
    "data['Embedding'] = data['Cleaned_Text'].apply(\n",
    "    lambda x: document_embedding(x, word2vec_model, vector_size=100)\n",
    ")\n"
   ]
  },
  {
   "cell_type": "code",
<<<<<<< HEAD
   "execution_count": 6,
=======
   "execution_count": 230,
>>>>>>> 91bb1452e962976921a7ef862507ecfe05c55e9a
   "id": "f2acbe26-e852-40f2-950f-a79fc0595036",
   "metadata": {},
   "outputs": [
    {
     "data": {
      "text/html": [
       "<div>\n",
       "<style scoped>\n",
       "    .dataframe tbody tr th:only-of-type {\n",
       "        vertical-align: middle;\n",
       "    }\n",
       "\n",
       "    .dataframe tbody tr th {\n",
       "        vertical-align: top;\n",
       "    }\n",
       "\n",
       "    .dataframe thead th {\n",
       "        text-align: right;\n",
       "    }\n",
       "</style>\n",
       "<table border=\"1\" class=\"dataframe\">\n",
       "  <thead>\n",
       "    <tr style=\"text-align: right;\">\n",
       "      <th></th>\n",
       "      <th>Title</th>\n",
       "      <th>Ingredients</th>\n",
       "      <th>Steps</th>\n",
       "      <th>Loves</th>\n",
       "      <th>URL</th>\n",
       "      <th>Combined_Text</th>\n",
       "      <th>Label</th>\n",
       "      <th>Cleaned_Text</th>\n",
       "      <th>Tokenized_Text</th>\n",
       "      <th>Embedding</th>\n",
       "    </tr>\n",
       "  </thead>\n",
       "  <tbody>\n",
       "    <tr>\n",
       "      <th>0</th>\n",
       "      <td>Ayam Woku Manado</td>\n",
<<<<<<< HEAD
       "      <td>1 Ekor Ayam Kampung (potong 12),2 Buah Jeruk N...</td>\n",
       "      <td>Cuci bersih ayam dan tiriskan. Lalu peras jeru...</td>\n",
=======
       "      <td>ekor ayam kampung potong buah jeruk nipis sdm ...</td>\n",
       "      <td>cuci bersih ayam tiriskan lalu peras jeruk nip...</td>\n",
>>>>>>> 91bb1452e962976921a7ef862507ecfe05c55e9a
       "      <td>1</td>\n",
       "      <td>/id/resep/4473027-ayam-woku-manado</td>\n",
       "      <td>Ayam Woku Manado 1 Ekor Ayam Kampung (potong 1...</td>\n",
       "      <td>0</td>\n",
       "      <td>ayam woku manado 1 ekor ayam kampung (potong 1...</td>\n",
       "      <td>[ayam, woku, manado, 1, ekor, ayam, kampung, (...</td>\n",
<<<<<<< HEAD
       "      <td>[-0.023722041, 0.59770894, 0.16852401, -0.1150...</td>\n",
=======
       "      <td>[-0.039545916, 0.3990877, 0.20446321, -0.17988...</td>\n",
>>>>>>> 91bb1452e962976921a7ef862507ecfe05c55e9a
       "    </tr>\n",
       "    <tr>\n",
       "      <th>1</th>\n",
       "      <td>Ayam goreng tulang lunak</td>\n",
<<<<<<< HEAD
       "      <td>1 kg ayam (dipotong sesuai selera jangan kecil...</td>\n",
       "      <td>Haluskan bumbu2nya (BaPut, ketumbar, kemiri, k...</td>\n",
=======
       "      <td>kg ayam dipotong sesuai selera jangan kecil ba...</td>\n",
       "      <td>haluskan bumbunya baput ketumbar kemiri kunyit...</td>\n",
>>>>>>> 91bb1452e962976921a7ef862507ecfe05c55e9a
       "      <td>1</td>\n",
       "      <td>/id/resep/4471956-ayam-goreng-tulang-lunak</td>\n",
       "      <td>Ayam goreng tulang lunak 1 kg ayam (dipotong s...</td>\n",
       "      <td>0</td>\n",
       "      <td>ayam goreng tulang lunak 1 kg ayam (dipotong s...</td>\n",
       "      <td>[ayam, goreng, tulang, lunak, 1, kg, ayam, (di...</td>\n",
<<<<<<< HEAD
       "      <td>[-0.15513903, 0.5601635, 0.106817074, -0.17861...</td>\n",
=======
       "      <td>[-0.036649704, 0.39709675, 0.20317523, -0.1755...</td>\n",
>>>>>>> 91bb1452e962976921a7ef862507ecfe05c55e9a
       "    </tr>\n",
       "    <tr>\n",
       "      <th>2</th>\n",
       "      <td>Ayam cabai kawin</td>\n",
<<<<<<< HEAD
       "      <td>1/4 kg ayam,3 buah cabai hijau besar,7 buah ca...</td>\n",
       "      <td>Panaskan minyak di dalam wajan. Setelah minyak...</td>\n",
=======
       "      <td>kg ayam buah cabai hijau besar buah cabai mera...</td>\n",
       "      <td>panaskan minyak wajan minyak panas masukkan ay...</td>\n",
>>>>>>> 91bb1452e962976921a7ef862507ecfe05c55e9a
       "      <td>2</td>\n",
       "      <td>/id/resep/4473057-ayam-cabai-kawin</td>\n",
       "      <td>Ayam cabai kawin 1/4 kg ayam--3 buah cabai hij...</td>\n",
       "      <td>0</td>\n",
<<<<<<< HEAD
       "      <td>ayam cabai kawin 1/4 kg ayam--3 buah cabai hij...</td>\n",
       "      <td>[ayam, cabai, kawin, 1/4, kg, ayam--3, buah, c...</td>\n",
       "      <td>[-0.11829103, 0.65531814, 0.09266335, -0.12293...</td>\n",
=======
       "      <td>ayam cabai kawin 1/4 kg ayam,3 buah cabai hija...</td>\n",
       "      <td>[ayam, cabai, kawin, 1/4, kg, ayam,3, buah, ca...</td>\n",
       "      <td>[-0.040915906, 0.59941554, 0.2732402, -0.06511...</td>\n",
>>>>>>> 91bb1452e962976921a7ef862507ecfe05c55e9a
       "    </tr>\n",
       "    <tr>\n",
       "      <th>3</th>\n",
       "      <td>Ayam Geprek</td>\n",
<<<<<<< HEAD
       "      <td>250 gr daging ayam (saya pakai fillet),Secukup...</td>\n",
       "      <td>Goreng ayam seperti ayam krispi,Ulek semua bah...</td>\n",
=======
       "      <td>gr daging ayam pakai filletsecukupnya gula gar...</td>\n",
       "      <td>goreng ayam ayam krispiulek semua bahan sambal...</td>\n",
>>>>>>> 91bb1452e962976921a7ef862507ecfe05c55e9a
       "      <td>10</td>\n",
       "      <td>/id/resep/4473023-ayam-geprek</td>\n",
       "      <td>Ayam Geprek 250 gr daging ayam (saya pakai fil...</td>\n",
       "      <td>0</td>\n",
       "      <td>ayam geprek 250 gr daging ayam (saya pakai fil...</td>\n",
       "      <td>[ayam, geprek, 250, gr, daging, ayam, (saya, p...</td>\n",
<<<<<<< HEAD
       "      <td>[-0.19516218, 0.3897892, 0.07253408, -0.171631...</td>\n",
=======
       "      <td>[-0.21806882, 0.4888682, 0.11595681, -0.130565...</td>\n",
>>>>>>> 91bb1452e962976921a7ef862507ecfe05c55e9a
       "    </tr>\n",
       "    <tr>\n",
       "      <th>4</th>\n",
       "      <td>Minyak Ayam</td>\n",
<<<<<<< HEAD
       "      <td>400 gr kulit ayam &amp; lemaknya,8 siung bawang pu...</td>\n",
       "      <td>Cuci bersih kulit ayam. Sisihkan,Ambil 50 ml m...</td>\n",
=======
       "      <td>gr kulit ayam lemaknya siung bawang putih kati...</td>\n",
       "      <td>cuci bersih kulit ayam sisihkanambil ml minyak...</td>\n",
>>>>>>> 91bb1452e962976921a7ef862507ecfe05c55e9a
       "      <td>4</td>\n",
       "      <td>/id/resep/4427438-minyak-ayam</td>\n",
       "      <td>Minyak Ayam 400 gr kulit ayam &amp; lemaknya--8 si...</td>\n",
       "      <td>0</td>\n",
<<<<<<< HEAD
       "      <td>minyak ayam 400 gr kulit ayam &amp; lemaknya--8 si...</td>\n",
       "      <td>[minyak, ayam, 400, gr, kulit, ayam, &amp;, lemakn...</td>\n",
       "      <td>[-0.14296913, 0.48159727, 0.05704384, -0.20455...</td>\n",
=======
       "      <td>minyak ayam 400 gr kulit ayam &amp; lemaknya,8 siu...</td>\n",
       "      <td>[minyak, ayam, 400, gr, kulit, ayam, &amp;, lemakn...</td>\n",
       "      <td>[-0.03594042, 0.46321857, 0.102890916, -0.1635...</td>\n",
>>>>>>> 91bb1452e962976921a7ef862507ecfe05c55e9a
       "    </tr>\n",
       "  </tbody>\n",
       "</table>\n",
       "</div>"
      ],
      "text/plain": [
       "                      Title  \\\n",
       "0          Ayam Woku Manado   \n",
       "1  Ayam goreng tulang lunak   \n",
       "2          Ayam cabai kawin   \n",
       "3               Ayam Geprek   \n",
       "4               Minyak Ayam   \n",
       "\n",
       "                                         Ingredients  \\\n",
<<<<<<< HEAD
       "0  1 Ekor Ayam Kampung (potong 12),2 Buah Jeruk N...   \n",
       "1  1 kg ayam (dipotong sesuai selera jangan kecil...   \n",
       "2  1/4 kg ayam,3 buah cabai hijau besar,7 buah ca...   \n",
       "3  250 gr daging ayam (saya pakai fillet),Secukup...   \n",
       "4  400 gr kulit ayam & lemaknya,8 siung bawang pu...   \n",
       "\n",
       "                                               Steps  Loves  \\\n",
       "0  Cuci bersih ayam dan tiriskan. Lalu peras jeru...      1   \n",
       "1  Haluskan bumbu2nya (BaPut, ketumbar, kemiri, k...      1   \n",
       "2  Panaskan minyak di dalam wajan. Setelah minyak...      2   \n",
       "3  Goreng ayam seperti ayam krispi,Ulek semua bah...     10   \n",
       "4  Cuci bersih kulit ayam. Sisihkan,Ambil 50 ml m...      4   \n",
=======
       "0  ekor ayam kampung potong buah jeruk nipis sdm ...   \n",
       "1  kg ayam dipotong sesuai selera jangan kecil ba...   \n",
       "2  kg ayam buah cabai hijau besar buah cabai mera...   \n",
       "3  gr daging ayam pakai filletsecukupnya gula gar...   \n",
       "4  gr kulit ayam lemaknya siung bawang putih kati...   \n",
       "\n",
       "                                               Steps  Loves  \\\n",
       "0  cuci bersih ayam tiriskan lalu peras jeruk nip...      1   \n",
       "1  haluskan bumbunya baput ketumbar kemiri kunyit...      1   \n",
       "2  panaskan minyak wajan minyak panas masukkan ay...      2   \n",
       "3  goreng ayam ayam krispiulek semua bahan sambal...     10   \n",
       "4  cuci bersih kulit ayam sisihkanambil ml minyak...      4   \n",
>>>>>>> 91bb1452e962976921a7ef862507ecfe05c55e9a
       "\n",
       "                                          URL  \\\n",
       "0          /id/resep/4473027-ayam-woku-manado   \n",
       "1  /id/resep/4471956-ayam-goreng-tulang-lunak   \n",
       "2          /id/resep/4473057-ayam-cabai-kawin   \n",
       "3               /id/resep/4473023-ayam-geprek   \n",
       "4               /id/resep/4427438-minyak-ayam   \n",
       "\n",
       "                                       Combined_Text  Label  \\\n",
       "0  Ayam Woku Manado 1 Ekor Ayam Kampung (potong 1...      0   \n",
       "1  Ayam goreng tulang lunak 1 kg ayam (dipotong s...      0   \n",
       "2  Ayam cabai kawin 1/4 kg ayam--3 buah cabai hij...      0   \n",
       "3  Ayam Geprek 250 gr daging ayam (saya pakai fil...      0   \n",
       "4  Minyak Ayam 400 gr kulit ayam & lemaknya--8 si...      0   \n",
       "\n",
       "                                        Cleaned_Text  \\\n",
       "0  ayam woku manado 1 ekor ayam kampung (potong 1...   \n",
       "1  ayam goreng tulang lunak 1 kg ayam (dipotong s...   \n",
<<<<<<< HEAD
       "2  ayam cabai kawin 1/4 kg ayam--3 buah cabai hij...   \n",
       "3  ayam geprek 250 gr daging ayam (saya pakai fil...   \n",
       "4  minyak ayam 400 gr kulit ayam & lemaknya--8 si...   \n",
=======
       "2  ayam cabai kawin 1/4 kg ayam,3 buah cabai hija...   \n",
       "3  ayam geprek 250 gr daging ayam (saya pakai fil...   \n",
       "4  minyak ayam 400 gr kulit ayam & lemaknya,8 siu...   \n",
>>>>>>> 91bb1452e962976921a7ef862507ecfe05c55e9a
       "\n",
       "                                      Tokenized_Text  \\\n",
       "0  [ayam, woku, manado, 1, ekor, ayam, kampung, (...   \n",
       "1  [ayam, goreng, tulang, lunak, 1, kg, ayam, (di...   \n",
<<<<<<< HEAD
       "2  [ayam, cabai, kawin, 1/4, kg, ayam--3, buah, c...   \n",
=======
       "2  [ayam, cabai, kawin, 1/4, kg, ayam,3, buah, ca...   \n",
>>>>>>> 91bb1452e962976921a7ef862507ecfe05c55e9a
       "3  [ayam, geprek, 250, gr, daging, ayam, (saya, p...   \n",
       "4  [minyak, ayam, 400, gr, kulit, ayam, &, lemakn...   \n",
       "\n",
       "                                           Embedding  \n",
<<<<<<< HEAD
       "0  [-0.023722041, 0.59770894, 0.16852401, -0.1150...  \n",
       "1  [-0.15513903, 0.5601635, 0.106817074, -0.17861...  \n",
       "2  [-0.11829103, 0.65531814, 0.09266335, -0.12293...  \n",
       "3  [-0.19516218, 0.3897892, 0.07253408, -0.171631...  \n",
       "4  [-0.14296913, 0.48159727, 0.05704384, -0.20455...  "
      ]
     },
     "execution_count": 6,
=======
       "0  [-0.039545916, 0.3990877, 0.20446321, -0.17988...  \n",
       "1  [-0.036649704, 0.39709675, 0.20317523, -0.1755...  \n",
       "2  [-0.040915906, 0.59941554, 0.2732402, -0.06511...  \n",
       "3  [-0.21806882, 0.4888682, 0.11595681, -0.130565...  \n",
       "4  [-0.03594042, 0.46321857, 0.102890916, -0.1635...  "
      ]
     },
     "execution_count": 230,
>>>>>>> 91bb1452e962976921a7ef862507ecfe05c55e9a
     "metadata": {},
     "output_type": "execute_result"
    }
   ],
   "source": [
    "data.head()"
   ]
  },
  {
   "cell_type": "code",
<<<<<<< HEAD
   "execution_count": 7,
=======
   "execution_count": 231,
>>>>>>> 91bb1452e962976921a7ef862507ecfe05c55e9a
   "id": "a63d93f9-1330-42fb-9caf-3db4c4de496f",
   "metadata": {},
   "outputs": [],
   "source": [
    "X = np.array(data['Embedding'].tolist())  \n",
    "y = data['Label']\n",
    "\n",
    "X_train, X_val, y_train, y_val = train_test_split(X, y, test_size=0.2, random_state=42)\n",
    "\n",
    "# Konversi ke TensorFlow Tensor\n",
    "X_train_tensor = tf.convert_to_tensor(X_train, dtype=tf.int32)\n",
    "X_val_tensor = tf.convert_to_tensor(X_val, dtype=tf.int32)\n",
    "y_train_tensor = tf.convert_to_tensor(y_train.values, dtype=tf.int32)\n",
    "y_val_tensor = tf.convert_to_tensor(y_val.values, dtype=tf.int32)\n"
   ]
  },
  {
   "cell_type": "code",
<<<<<<< HEAD
   "execution_count": 8,
=======
   "execution_count": 232,
>>>>>>> 91bb1452e962976921a7ef862507ecfe05c55e9a
   "id": "ad635995-cf77-425c-b078-3166f89b8870",
   "metadata": {},
   "outputs": [
    {
     "name": "stderr",
     "output_type": "stream",
     "text": [
      "C:\\Users\\Santi Susanti\\AppData\\Local\\Programs\\Python\\Python312\\Lib\\site-packages\\keras\\src\\layers\\core\\dense.py:87: UserWarning: Do not pass an `input_shape`/`input_dim` argument to a layer. When using Sequential models, prefer using an `Input(shape)` object as the first layer in the model instead.\n",
      "  super().__init__(activity_regularizer=activity_regularizer, **kwargs)\n"
     ]
    },
    {
     "data": {
      "text/html": [
<<<<<<< HEAD
       "<pre style=\"white-space:pre;overflow-x:auto;line-height:normal;font-family:Menlo,'DejaVu Sans Mono',consolas,'Courier New',monospace\"><span style=\"font-weight: bold\">Model: \"sequential\"</span>\n",
       "</pre>\n"
      ],
      "text/plain": [
       "\u001b[1mModel: \"sequential\"\u001b[0m\n"
=======
       "<pre style=\"white-space:pre;overflow-x:auto;line-height:normal;font-family:Menlo,'DejaVu Sans Mono',consolas,'Courier New',monospace\"><span style=\"font-weight: bold\">Model: \"sequential_14\"</span>\n",
       "</pre>\n"
      ],
      "text/plain": [
       "\u001b[1mModel: \"sequential_14\"\u001b[0m\n"
>>>>>>> 91bb1452e962976921a7ef862507ecfe05c55e9a
      ]
     },
     "metadata": {},
     "output_type": "display_data"
    },
    {
     "data": {
      "text/html": [
       "<pre style=\"white-space:pre;overflow-x:auto;line-height:normal;font-family:Menlo,'DejaVu Sans Mono',consolas,'Courier New',monospace\">┏━━━━━━━━━━━━━━━━━━━━━━━━━━━━━━━━━┳━━━━━━━━━━━━━━━━━━━━━━━━┳━━━━━━━━━━━━━━━┓\n",
       "┃<span style=\"font-weight: bold\"> Layer (type)                    </span>┃<span style=\"font-weight: bold\"> Output Shape           </span>┃<span style=\"font-weight: bold\">       Param # </span>┃\n",
       "┡━━━━━━━━━━━━━━━━━━━━━━━━━━━━━━━━━╇━━━━━━━━━━━━━━━━━━━━━━━━╇━━━━━━━━━━━━━━━┩\n",
<<<<<<< HEAD
       "│ dense (<span style=\"color: #0087ff; text-decoration-color: #0087ff\">Dense</span>)                   │ (<span style=\"color: #00d7ff; text-decoration-color: #00d7ff\">None</span>, <span style=\"color: #00af00; text-decoration-color: #00af00\">128</span>)            │        <span style=\"color: #00af00; text-decoration-color: #00af00\">12,928</span> │\n",
       "├─────────────────────────────────┼────────────────────────┼───────────────┤\n",
       "│ dropout (<span style=\"color: #0087ff; text-decoration-color: #0087ff\">Dropout</span>)               │ (<span style=\"color: #00d7ff; text-decoration-color: #00d7ff\">None</span>, <span style=\"color: #00af00; text-decoration-color: #00af00\">128</span>)            │             <span style=\"color: #00af00; text-decoration-color: #00af00\">0</span> │\n",
       "├─────────────────────────────────┼────────────────────────┼───────────────┤\n",
       "│ dense_1 (<span style=\"color: #0087ff; text-decoration-color: #0087ff\">Dense</span>)                 │ (<span style=\"color: #00d7ff; text-decoration-color: #00d7ff\">None</span>, <span style=\"color: #00af00; text-decoration-color: #00af00\">64</span>)             │         <span style=\"color: #00af00; text-decoration-color: #00af00\">8,256</span> │\n",
       "├─────────────────────────────────┼────────────────────────┼───────────────┤\n",
       "│ dropout_1 (<span style=\"color: #0087ff; text-decoration-color: #0087ff\">Dropout</span>)             │ (<span style=\"color: #00d7ff; text-decoration-color: #00d7ff\">None</span>, <span style=\"color: #00af00; text-decoration-color: #00af00\">64</span>)             │             <span style=\"color: #00af00; text-decoration-color: #00af00\">0</span> │\n",
       "├─────────────────────────────────┼────────────────────────┼───────────────┤\n",
       "│ dense_2 (<span style=\"color: #0087ff; text-decoration-color: #0087ff\">Dense</span>)                 │ (<span style=\"color: #00d7ff; text-decoration-color: #00d7ff\">None</span>, <span style=\"color: #00af00; text-decoration-color: #00af00\">32</span>)             │         <span style=\"color: #00af00; text-decoration-color: #00af00\">2,080</span> │\n",
       "├─────────────────────────────────┼────────────────────────┼───────────────┤\n",
       "│ dropout_2 (<span style=\"color: #0087ff; text-decoration-color: #0087ff\">Dropout</span>)             │ (<span style=\"color: #00d7ff; text-decoration-color: #00d7ff\">None</span>, <span style=\"color: #00af00; text-decoration-color: #00af00\">32</span>)             │             <span style=\"color: #00af00; text-decoration-color: #00af00\">0</span> │\n",
       "├─────────────────────────────────┼────────────────────────┼───────────────┤\n",
       "│ dense_3 (<span style=\"color: #0087ff; text-decoration-color: #0087ff\">Dense</span>)                 │ (<span style=\"color: #00d7ff; text-decoration-color: #00d7ff\">None</span>, <span style=\"color: #00af00; text-decoration-color: #00af00\">1</span>)              │            <span style=\"color: #00af00; text-decoration-color: #00af00\">33</span> │\n",
=======
       "│ dense_43 (<span style=\"color: #0087ff; text-decoration-color: #0087ff\">Dense</span>)                │ (<span style=\"color: #00d7ff; text-decoration-color: #00d7ff\">None</span>, <span style=\"color: #00af00; text-decoration-color: #00af00\">128</span>)            │        <span style=\"color: #00af00; text-decoration-color: #00af00\">12,928</span> │\n",
       "├─────────────────────────────────┼────────────────────────┼───────────────┤\n",
       "│ dropout_29 (<span style=\"color: #0087ff; text-decoration-color: #0087ff\">Dropout</span>)            │ (<span style=\"color: #00d7ff; text-decoration-color: #00d7ff\">None</span>, <span style=\"color: #00af00; text-decoration-color: #00af00\">128</span>)            │             <span style=\"color: #00af00; text-decoration-color: #00af00\">0</span> │\n",
       "├─────────────────────────────────┼────────────────────────┼───────────────┤\n",
       "│ dense_44 (<span style=\"color: #0087ff; text-decoration-color: #0087ff\">Dense</span>)                │ (<span style=\"color: #00d7ff; text-decoration-color: #00d7ff\">None</span>, <span style=\"color: #00af00; text-decoration-color: #00af00\">64</span>)             │         <span style=\"color: #00af00; text-decoration-color: #00af00\">8,256</span> │\n",
       "├─────────────────────────────────┼────────────────────────┼───────────────┤\n",
       "│ dropout_30 (<span style=\"color: #0087ff; text-decoration-color: #0087ff\">Dropout</span>)            │ (<span style=\"color: #00d7ff; text-decoration-color: #00d7ff\">None</span>, <span style=\"color: #00af00; text-decoration-color: #00af00\">64</span>)             │             <span style=\"color: #00af00; text-decoration-color: #00af00\">0</span> │\n",
       "├─────────────────────────────────┼────────────────────────┼───────────────┤\n",
       "│ dense_45 (<span style=\"color: #0087ff; text-decoration-color: #0087ff\">Dense</span>)                │ (<span style=\"color: #00d7ff; text-decoration-color: #00d7ff\">None</span>, <span style=\"color: #00af00; text-decoration-color: #00af00\">32</span>)             │         <span style=\"color: #00af00; text-decoration-color: #00af00\">2,080</span> │\n",
       "├─────────────────────────────────┼────────────────────────┼───────────────┤\n",
       "│ dropout_31 (<span style=\"color: #0087ff; text-decoration-color: #0087ff\">Dropout</span>)            │ (<span style=\"color: #00d7ff; text-decoration-color: #00d7ff\">None</span>, <span style=\"color: #00af00; text-decoration-color: #00af00\">32</span>)             │             <span style=\"color: #00af00; text-decoration-color: #00af00\">0</span> │\n",
       "├─────────────────────────────────┼────────────────────────┼───────────────┤\n",
       "│ dense_46 (<span style=\"color: #0087ff; text-decoration-color: #0087ff\">Dense</span>)                │ (<span style=\"color: #00d7ff; text-decoration-color: #00d7ff\">None</span>, <span style=\"color: #00af00; text-decoration-color: #00af00\">1</span>)              │            <span style=\"color: #00af00; text-decoration-color: #00af00\">33</span> │\n",
>>>>>>> 91bb1452e962976921a7ef862507ecfe05c55e9a
       "└─────────────────────────────────┴────────────────────────┴───────────────┘\n",
       "</pre>\n"
      ],
      "text/plain": [
       "┏━━━━━━━━━━━━━━━━━━━━━━━━━━━━━━━━━┳━━━━━━━━━━━━━━━━━━━━━━━━┳━━━━━━━━━━━━━━━┓\n",
       "┃\u001b[1m \u001b[0m\u001b[1mLayer (type)                   \u001b[0m\u001b[1m \u001b[0m┃\u001b[1m \u001b[0m\u001b[1mOutput Shape          \u001b[0m\u001b[1m \u001b[0m┃\u001b[1m \u001b[0m\u001b[1m      Param #\u001b[0m\u001b[1m \u001b[0m┃\n",
       "┡━━━━━━━━━━━━━━━━━━━━━━━━━━━━━━━━━╇━━━━━━━━━━━━━━━━━━━━━━━━╇━━━━━━━━━━━━━━━┩\n",
<<<<<<< HEAD
       "│ dense (\u001b[38;5;33mDense\u001b[0m)                   │ (\u001b[38;5;45mNone\u001b[0m, \u001b[38;5;34m128\u001b[0m)            │        \u001b[38;5;34m12,928\u001b[0m │\n",
       "├─────────────────────────────────┼────────────────────────┼───────────────┤\n",
       "│ dropout (\u001b[38;5;33mDropout\u001b[0m)               │ (\u001b[38;5;45mNone\u001b[0m, \u001b[38;5;34m128\u001b[0m)            │             \u001b[38;5;34m0\u001b[0m │\n",
       "├─────────────────────────────────┼────────────────────────┼───────────────┤\n",
       "│ dense_1 (\u001b[38;5;33mDense\u001b[0m)                 │ (\u001b[38;5;45mNone\u001b[0m, \u001b[38;5;34m64\u001b[0m)             │         \u001b[38;5;34m8,256\u001b[0m │\n",
       "├─────────────────────────────────┼────────────────────────┼───────────────┤\n",
       "│ dropout_1 (\u001b[38;5;33mDropout\u001b[0m)             │ (\u001b[38;5;45mNone\u001b[0m, \u001b[38;5;34m64\u001b[0m)             │             \u001b[38;5;34m0\u001b[0m │\n",
       "├─────────────────────────────────┼────────────────────────┼───────────────┤\n",
       "│ dense_2 (\u001b[38;5;33mDense\u001b[0m)                 │ (\u001b[38;5;45mNone\u001b[0m, \u001b[38;5;34m32\u001b[0m)             │         \u001b[38;5;34m2,080\u001b[0m │\n",
       "├─────────────────────────────────┼────────────────────────┼───────────────┤\n",
       "│ dropout_2 (\u001b[38;5;33mDropout\u001b[0m)             │ (\u001b[38;5;45mNone\u001b[0m, \u001b[38;5;34m32\u001b[0m)             │             \u001b[38;5;34m0\u001b[0m │\n",
       "├─────────────────────────────────┼────────────────────────┼───────────────┤\n",
       "│ dense_3 (\u001b[38;5;33mDense\u001b[0m)                 │ (\u001b[38;5;45mNone\u001b[0m, \u001b[38;5;34m1\u001b[0m)              │            \u001b[38;5;34m33\u001b[0m │\n",
=======
       "│ dense_43 (\u001b[38;5;33mDense\u001b[0m)                │ (\u001b[38;5;45mNone\u001b[0m, \u001b[38;5;34m128\u001b[0m)            │        \u001b[38;5;34m12,928\u001b[0m │\n",
       "├─────────────────────────────────┼────────────────────────┼───────────────┤\n",
       "│ dropout_29 (\u001b[38;5;33mDropout\u001b[0m)            │ (\u001b[38;5;45mNone\u001b[0m, \u001b[38;5;34m128\u001b[0m)            │             \u001b[38;5;34m0\u001b[0m │\n",
       "├─────────────────────────────────┼────────────────────────┼───────────────┤\n",
       "│ dense_44 (\u001b[38;5;33mDense\u001b[0m)                │ (\u001b[38;5;45mNone\u001b[0m, \u001b[38;5;34m64\u001b[0m)             │         \u001b[38;5;34m8,256\u001b[0m │\n",
       "├─────────────────────────────────┼────────────────────────┼───────────────┤\n",
       "│ dropout_30 (\u001b[38;5;33mDropout\u001b[0m)            │ (\u001b[38;5;45mNone\u001b[0m, \u001b[38;5;34m64\u001b[0m)             │             \u001b[38;5;34m0\u001b[0m │\n",
       "├─────────────────────────────────┼────────────────────────┼───────────────┤\n",
       "│ dense_45 (\u001b[38;5;33mDense\u001b[0m)                │ (\u001b[38;5;45mNone\u001b[0m, \u001b[38;5;34m32\u001b[0m)             │         \u001b[38;5;34m2,080\u001b[0m │\n",
       "├─────────────────────────────────┼────────────────────────┼───────────────┤\n",
       "│ dropout_31 (\u001b[38;5;33mDropout\u001b[0m)            │ (\u001b[38;5;45mNone\u001b[0m, \u001b[38;5;34m32\u001b[0m)             │             \u001b[38;5;34m0\u001b[0m │\n",
       "├─────────────────────────────────┼────────────────────────┼───────────────┤\n",
       "│ dense_46 (\u001b[38;5;33mDense\u001b[0m)                │ (\u001b[38;5;45mNone\u001b[0m, \u001b[38;5;34m1\u001b[0m)              │            \u001b[38;5;34m33\u001b[0m │\n",
>>>>>>> 91bb1452e962976921a7ef862507ecfe05c55e9a
       "└─────────────────────────────────┴────────────────────────┴───────────────┘\n"
      ]
     },
     "metadata": {},
     "output_type": "display_data"
    },
    {
     "data": {
      "text/html": [
       "<pre style=\"white-space:pre;overflow-x:auto;line-height:normal;font-family:Menlo,'DejaVu Sans Mono',consolas,'Courier New',monospace\"><span style=\"font-weight: bold\"> Total params: </span><span style=\"color: #00af00; text-decoration-color: #00af00\">23,297</span> (91.00 KB)\n",
       "</pre>\n"
      ],
      "text/plain": [
       "\u001b[1m Total params: \u001b[0m\u001b[38;5;34m23,297\u001b[0m (91.00 KB)\n"
      ]
     },
     "metadata": {},
     "output_type": "display_data"
    },
    {
     "data": {
      "text/html": [
       "<pre style=\"white-space:pre;overflow-x:auto;line-height:normal;font-family:Menlo,'DejaVu Sans Mono',consolas,'Courier New',monospace\"><span style=\"font-weight: bold\"> Trainable params: </span><span style=\"color: #00af00; text-decoration-color: #00af00\">23,297</span> (91.00 KB)\n",
       "</pre>\n"
      ],
      "text/plain": [
       "\u001b[1m Trainable params: \u001b[0m\u001b[38;5;34m23,297\u001b[0m (91.00 KB)\n"
      ]
     },
     "metadata": {},
     "output_type": "display_data"
    },
    {
     "data": {
      "text/html": [
       "<pre style=\"white-space:pre;overflow-x:auto;line-height:normal;font-family:Menlo,'DejaVu Sans Mono',consolas,'Courier New',monospace\"><span style=\"font-weight: bold\"> Non-trainable params: </span><span style=\"color: #00af00; text-decoration-color: #00af00\">0</span> (0.00 B)\n",
       "</pre>\n"
      ],
      "text/plain": [
       "\u001b[1m Non-trainable params: \u001b[0m\u001b[38;5;34m0\u001b[0m (0.00 B)\n"
      ]
     },
     "metadata": {},
     "output_type": "display_data"
    }
   ],
   "source": [
    "def create_embedding_model(input_shape):\n",
    "    model = models.Sequential()\n",
    "    \n",
    "    # Layer pertama (Dense dengan L2 Regularization dan Dropout)\n",
    "    model.add(layers.Dense(128, activation='relu', input_shape=input_shape,\n",
    "                           kernel_regularizer=regularizers.l2(0.01)))\n",
    "    model.add(layers.Dropout(0.5))\n",
    "    \n",
    "    # Layer kedua\n",
    "    model.add(layers.Dense(64, activation='relu', kernel_regularizer=regularizers.l2(0.01)))\n",
    "    model.add(layers.Dropout(0.5))\n",
    "    \n",
    "    # Layer ketiga\n",
    "    model.add(layers.Dense(32, activation='relu', kernel_regularizer=regularizers.l2(0.01)))\n",
    "    model.add(layers.Dropout(0.5))\n",
    "    \n",
    "    # Layer output\n",
    "    model.add(layers.Dense(1, activation='sigmoid'))  # Untuk klasifikasi biner\n",
    "    \n",
    "    # Kompilasi model\n",
    "    model.compile(optimizer=tf.keras.optimizers.Adam(learning_rate=0.001),\n",
    "                  loss='binary_crossentropy',\n",
    "                  metrics=['accuracy'])\n",
    "    \n",
    "    return model\n",
    "\n",
    "# Input shape harus sesuai dengan ukuran embedding (contoh: 100)\n",
    "embedding_model = create_embedding_model((X_train_tensor.shape[1],))\n",
    "embedding_model.summary()"
   ]
  },
  {
   "cell_type": "code",
<<<<<<< HEAD
   "execution_count": 9,
=======
   "execution_count": 233,
>>>>>>> 91bb1452e962976921a7ef862507ecfe05c55e9a
   "id": "768b7950-5e75-4d83-b9b2-8397242058d4",
   "metadata": {},
   "outputs": [
    {
     "name": "stdout",
     "output_type": "stream",
     "text": [
      "Epoch 1/50\n",
<<<<<<< HEAD
      "\u001b[1m390/390\u001b[0m \u001b[32m━━━━━━━━━━━━━━━━━━━━\u001b[0m\u001b[37m\u001b[0m \u001b[1m9s\u001b[0m 8ms/step - accuracy: 0.9585 - loss: 1.5059 - val_accuracy: 0.9615 - val_loss: 0.5395 - learning_rate: 0.0010\n",
      "Epoch 2/50\n",
      "\u001b[1m390/390\u001b[0m \u001b[32m━━━━━━━━━━━━━━━━━━━━\u001b[0m\u001b[37m\u001b[0m \u001b[1m4s\u001b[0m 6ms/step - accuracy: 0.9631 - loss: 0.5082 - val_accuracy: 0.9615 - val_loss: 0.4292 - learning_rate: 0.0010\n",
      "Epoch 3/50\n",
      "\u001b[1m390/390\u001b[0m \u001b[32m━━━━━━━━━━━━━━━━━━━━\u001b[0m\u001b[37m\u001b[0m \u001b[1m2s\u001b[0m 4ms/step - accuracy: 0.9595 - loss: 0.4096 - val_accuracy: 0.9615 - val_loss: 0.3516 - learning_rate: 0.0010\n",
      "Epoch 4/50\n",
      "\u001b[1m390/390\u001b[0m \u001b[32m━━━━━━━━━━━━━━━━━━━━\u001b[0m\u001b[37m\u001b[0m \u001b[1m3s\u001b[0m 7ms/step - accuracy: 0.9620 - loss: 0.3362 - val_accuracy: 0.9615 - val_loss: 0.2970 - learning_rate: 0.0010\n",
      "Epoch 5/50\n",
      "\u001b[1m390/390\u001b[0m \u001b[32m━━━━━━━━━━━━━━━━━━━━\u001b[0m\u001b[37m\u001b[0m \u001b[1m2s\u001b[0m 5ms/step - accuracy: 0.9608 - loss: 0.2872 - val_accuracy: 0.9615 - val_loss: 0.2579 - learning_rate: 0.0010\n",
      "Epoch 6/50\n",
      "\u001b[1m390/390\u001b[0m \u001b[32m━━━━━━━━━━━━━━━━━━━━\u001b[0m\u001b[37m\u001b[0m \u001b[1m2s\u001b[0m 6ms/step - accuracy: 0.9609 - loss: 0.2513 - val_accuracy: 0.9615 - val_loss: 0.2300 - learning_rate: 0.0010\n",
      "Epoch 7/50\n",
      "\u001b[1m390/390\u001b[0m \u001b[32m━━━━━━━━━━━━━━━━━━━━\u001b[0m\u001b[37m\u001b[0m \u001b[1m2s\u001b[0m 5ms/step - accuracy: 0.9615 - loss: 0.2246 - val_accuracy: 0.9615 - val_loss: 0.2100 - learning_rate: 0.0010\n",
      "Epoch 8/50\n",
      "\u001b[1m390/390\u001b[0m \u001b[32m━━━━━━━━━━━━━━━━━━━━\u001b[0m\u001b[37m\u001b[0m \u001b[1m2s\u001b[0m 5ms/step - accuracy: 0.9591 - loss: 0.2107 - val_accuracy: 0.9615 - val_loss: 0.1955 - learning_rate: 0.0010\n",
      "Epoch 9/50\n",
      "\u001b[1m390/390\u001b[0m \u001b[32m━━━━━━━━━━━━━━━━━━━━\u001b[0m\u001b[37m\u001b[0m \u001b[1m2s\u001b[0m 6ms/step - accuracy: 0.9577 - loss: 0.2008 - val_accuracy: 0.9615 - val_loss: 0.1851 - learning_rate: 0.0010\n",
      "Epoch 10/50\n",
      "\u001b[1m390/390\u001b[0m \u001b[32m━━━━━━━━━━━━━━━━━━━━\u001b[0m\u001b[37m\u001b[0m \u001b[1m2s\u001b[0m 4ms/step - accuracy: 0.9620 - loss: 0.1819 - val_accuracy: 0.9615 - val_loss: 0.1778 - learning_rate: 0.0010\n",
      "Epoch 11/50\n",
      "\u001b[1m390/390\u001b[0m \u001b[32m━━━━━━━━━━━━━━━━━━━━\u001b[0m\u001b[37m\u001b[0m \u001b[1m2s\u001b[0m 5ms/step - accuracy: 0.9628 - loss: 0.1731 - val_accuracy: 0.9615 - val_loss: 0.1727 - learning_rate: 0.0010\n",
      "Epoch 12/50\n",
      "\u001b[1m390/390\u001b[0m \u001b[32m━━━━━━━━━━━━━━━━━━━━\u001b[0m\u001b[37m\u001b[0m \u001b[1m2s\u001b[0m 4ms/step - accuracy: 0.9607 - loss: 0.1740 - val_accuracy: 0.9615 - val_loss: 0.1692 - learning_rate: 0.0010\n",
      "Epoch 13/50\n",
      "\u001b[1m390/390\u001b[0m \u001b[32m━━━━━━━━━━━━━━━━━━━━\u001b[0m\u001b[37m\u001b[0m \u001b[1m2s\u001b[0m 4ms/step - accuracy: 0.9617 - loss: 0.1680 - val_accuracy: 0.9615 - val_loss: 0.1668 - learning_rate: 0.0010\n",
      "Epoch 14/50\n",
      "\u001b[1m390/390\u001b[0m \u001b[32m━━━━━━━━━━━━━━━━━━━━\u001b[0m\u001b[37m\u001b[0m \u001b[1m2s\u001b[0m 6ms/step - accuracy: 0.9614 - loss: 0.1669 - val_accuracy: 0.9615 - val_loss: 0.1653 - learning_rate: 0.0010\n",
      "Epoch 15/50\n",
      "\u001b[1m390/390\u001b[0m \u001b[32m━━━━━━━━━━━━━━━━━━━━\u001b[0m\u001b[37m\u001b[0m \u001b[1m2s\u001b[0m 6ms/step - accuracy: 0.9618 - loss: 0.1642 - val_accuracy: 0.9615 - val_loss: 0.1643 - learning_rate: 0.0010\n",
      "Epoch 16/50\n",
      "\u001b[1m390/390\u001b[0m \u001b[32m━━━━━━━━━━━━━━━━━━━━\u001b[0m\u001b[37m\u001b[0m \u001b[1m2s\u001b[0m 4ms/step - accuracy: 0.9592 - loss: 0.1711 - val_accuracy: 0.9615 - val_loss: 0.1638 - learning_rate: 0.0010\n",
      "Epoch 17/50\n",
      "\u001b[1m390/390\u001b[0m \u001b[32m━━━━━━━━━━━━━━━━━━━━\u001b[0m\u001b[37m\u001b[0m \u001b[1m2s\u001b[0m 5ms/step - accuracy: 0.9623 - loss: 0.1614 - val_accuracy: 0.9615 - val_loss: 0.1635 - learning_rate: 0.0010\n",
      "Epoch 18/50\n",
      "\u001b[1m390/390\u001b[0m \u001b[32m━━━━━━━━━━━━━━━━━━━━\u001b[0m\u001b[37m\u001b[0m \u001b[1m3s\u001b[0m 8ms/step - accuracy: 0.9599 - loss: 0.1684 - val_accuracy: 0.9615 - val_loss: 0.1633 - learning_rate: 0.0010\n",
      "Epoch 19/50\n",
      "\u001b[1m390/390\u001b[0m \u001b[32m━━━━━━━━━━━━━━━━━━━━\u001b[0m\u001b[37m\u001b[0m \u001b[1m2s\u001b[0m 4ms/step - accuracy: 0.9591 - loss: 0.1708 - val_accuracy: 0.9615 - val_loss: 0.1632 - learning_rate: 0.0010\n",
      "Epoch 20/50\n",
      "\u001b[1m390/390\u001b[0m \u001b[32m━━━━━━━━━━━━━━━━━━━━\u001b[0m\u001b[37m\u001b[0m \u001b[1m2s\u001b[0m 5ms/step - accuracy: 0.9627 - loss: 0.1594 - val_accuracy: 0.9615 - val_loss: 0.1631 - learning_rate: 0.0010\n",
      "Epoch 21/50\n",
      "\u001b[1m390/390\u001b[0m \u001b[32m━━━━━━━━━━━━━━━━━━━━\u001b[0m\u001b[37m\u001b[0m \u001b[1m2s\u001b[0m 4ms/step - accuracy: 0.9567 - loss: 0.1784 - val_accuracy: 0.9615 - val_loss: 0.1631 - learning_rate: 0.0010\n",
      "Epoch 22/50\n",
      "\u001b[1m390/390\u001b[0m \u001b[32m━━━━━━━━━━━━━━━━━━━━\u001b[0m\u001b[37m\u001b[0m \u001b[1m1s\u001b[0m 4ms/step - accuracy: 0.9594 - loss: 0.1698 - val_accuracy: 0.9615 - val_loss: 0.1631 - learning_rate: 2.0000e-04\n",
      "Epoch 23/50\n",
      "\u001b[1m390/390\u001b[0m \u001b[32m━━━━━━━━━━━━━━━━━━━━\u001b[0m\u001b[37m\u001b[0m \u001b[1m2s\u001b[0m 6ms/step - accuracy: 0.9605 - loss: 0.1663 - val_accuracy: 0.9615 - val_loss: 0.1631 - learning_rate: 2.0000e-04\n",
      "Epoch 24/50\n",
      "\u001b[1m390/390\u001b[0m \u001b[32m━━━━━━━━━━━━━━━━━━━━\u001b[0m\u001b[37m\u001b[0m \u001b[1m2s\u001b[0m 6ms/step - accuracy: 0.9629 - loss: 0.1586 - val_accuracy: 0.9615 - val_loss: 0.1631 - learning_rate: 4.0000e-05\n",
      "Epoch 25/50\n",
      "\u001b[1m390/390\u001b[0m \u001b[32m━━━━━━━━━━━━━━━━━━━━\u001b[0m\u001b[37m\u001b[0m \u001b[1m2s\u001b[0m 4ms/step - accuracy: 0.9594 - loss: 0.1698 - val_accuracy: 0.9615 - val_loss: 0.1631 - learning_rate: 4.0000e-05\n",
      "Epoch 26/50\n",
      "\u001b[1m390/390\u001b[0m \u001b[32m━━━━━━━━━━━━━━━━━━━━\u001b[0m\u001b[37m\u001b[0m \u001b[1m2s\u001b[0m 6ms/step - accuracy: 0.9610 - loss: 0.1649 - val_accuracy: 0.9615 - val_loss: 0.1631 - learning_rate: 1.0000e-05\n",
      "Epoch 27/50\n",
      "\u001b[1m390/390\u001b[0m \u001b[32m━━━━━━━━━━━━━━━━━━━━\u001b[0m\u001b[37m\u001b[0m \u001b[1m2s\u001b[0m 5ms/step - accuracy: 0.9621 - loss: 0.1613 - val_accuracy: 0.9615 - val_loss: 0.1631 - learning_rate: 1.0000e-05\n",
      "Epoch 28/50\n",
      "\u001b[1m390/390\u001b[0m \u001b[32m━━━━━━━━━━━━━━━━━━━━\u001b[0m\u001b[37m\u001b[0m \u001b[1m2s\u001b[0m 5ms/step - accuracy: 0.9624 - loss: 0.1604 - val_accuracy: 0.9615 - val_loss: 0.1631 - learning_rate: 1.0000e-05\n",
      "Epoch 29/50\n",
      "\u001b[1m390/390\u001b[0m \u001b[32m━━━━━━━━━━━━━━━━━━━━\u001b[0m\u001b[37m\u001b[0m \u001b[1m2s\u001b[0m 5ms/step - accuracy: 0.9610 - loss: 0.1649 - val_accuracy: 0.9615 - val_loss: 0.1631 - learning_rate: 1.0000e-05\n",
      "Epoch 30/50\n",
      "\u001b[1m390/390\u001b[0m \u001b[32m━━━━━━━━━━━━━━━━━━━━\u001b[0m\u001b[37m\u001b[0m \u001b[1m2s\u001b[0m 4ms/step - accuracy: 0.9614 - loss: 0.1634 - val_accuracy: 0.9615 - val_loss: 0.1631 - learning_rate: 1.0000e-05\n",
      "Epoch 31/50\n",
      "\u001b[1m390/390\u001b[0m \u001b[32m━━━━━━━━━━━━━━━━━━━━\u001b[0m\u001b[37m\u001b[0m \u001b[1m2s\u001b[0m 4ms/step - accuracy: 0.9621 - loss: 0.1614 - val_accuracy: 0.9615 - val_loss: 0.1631 - learning_rate: 1.0000e-05\n",
      "Epoch 32/50\n",
      "\u001b[1m390/390\u001b[0m \u001b[32m━━━━━━━━━━━━━━━━━━━━\u001b[0m\u001b[37m\u001b[0m \u001b[1m2s\u001b[0m 6ms/step - accuracy: 0.9599 - loss: 0.1682 - val_accuracy: 0.9615 - val_loss: 0.1631 - learning_rate: 1.0000e-05\n",
      "Epoch 33/50\n",
      "\u001b[1m390/390\u001b[0m \u001b[32m━━━━━━━━━━━━━━━━━━━━\u001b[0m\u001b[37m\u001b[0m \u001b[1m2s\u001b[0m 4ms/step - accuracy: 0.9617 - loss: 0.1625 - val_accuracy: 0.9615 - val_loss: 0.1631 - learning_rate: 1.0000e-05\n",
      "Epoch 34/50\n",
      "\u001b[1m390/390\u001b[0m \u001b[32m━━━━━━━━━━━━━━━━━━━━\u001b[0m\u001b[37m\u001b[0m \u001b[1m2s\u001b[0m 4ms/step - accuracy: 0.9634 - loss: 0.1572 - val_accuracy: 0.9615 - val_loss: 0.1631 - learning_rate: 1.0000e-05\n",
      "Epoch 35/50\n",
      "\u001b[1m390/390\u001b[0m \u001b[32m━━━━━━━━━━━━━━━━━━━━\u001b[0m\u001b[37m\u001b[0m \u001b[1m2s\u001b[0m 5ms/step - accuracy: 0.9604 - loss: 0.1665 - val_accuracy: 0.9615 - val_loss: 0.1631 - learning_rate: 1.0000e-05\n",
      "Epoch 36/50\n",
      "\u001b[1m390/390\u001b[0m \u001b[32m━━━━━━━━━━━━━━━━━━━━\u001b[0m\u001b[37m\u001b[0m \u001b[1m2s\u001b[0m 4ms/step - accuracy: 0.9590 - loss: 0.1710 - val_accuracy: 0.9615 - val_loss: 0.1631 - learning_rate: 1.0000e-05\n",
      "Epoch 37/50\n",
      "\u001b[1m390/390\u001b[0m \u001b[32m━━━━━━━━━━━━━━━━━━━━\u001b[0m\u001b[37m\u001b[0m \u001b[1m3s\u001b[0m 5ms/step - accuracy: 0.9617 - loss: 0.1625 - val_accuracy: 0.9615 - val_loss: 0.1631 - learning_rate: 1.0000e-05\n",
      "Epoch 38/50\n",
      "\u001b[1m390/390\u001b[0m \u001b[32m━━━━━━━━━━━━━━━━━━━━\u001b[0m\u001b[37m\u001b[0m \u001b[1m2s\u001b[0m 5ms/step - accuracy: 0.9613 - loss: 0.1638 - val_accuracy: 0.9615 - val_loss: 0.1631 - learning_rate: 1.0000e-05\n",
      "Epoch 39/50\n",
      "\u001b[1m390/390\u001b[0m \u001b[32m━━━━━━━━━━━━━━━━━━━━\u001b[0m\u001b[37m\u001b[0m \u001b[1m4s\u001b[0m 9ms/step - accuracy: 0.9608 - loss: 0.1655 - val_accuracy: 0.9615 - val_loss: 0.1631 - learning_rate: 1.0000e-05\n",
      "Epoch 40/50\n",
      "\u001b[1m390/390\u001b[0m \u001b[32m━━━━━━━━━━━━━━━━━━━━\u001b[0m\u001b[37m\u001b[0m \u001b[1m4s\u001b[0m 5ms/step - accuracy: 0.9609 - loss: 0.1650 - val_accuracy: 0.9615 - val_loss: 0.1631 - learning_rate: 1.0000e-05\n",
      "Epoch 41/50\n",
      "\u001b[1m390/390\u001b[0m \u001b[32m━━━━━━━━━━━━━━━━━━━━\u001b[0m\u001b[37m\u001b[0m \u001b[1m3s\u001b[0m 7ms/step - accuracy: 0.9597 - loss: 0.1691 - val_accuracy: 0.9615 - val_loss: 0.1631 - learning_rate: 1.0000e-05\n",
      "Epoch 42/50\n",
      "\u001b[1m390/390\u001b[0m \u001b[32m━━━━━━━━━━━━━━━━━━━━\u001b[0m\u001b[37m\u001b[0m \u001b[1m2s\u001b[0m 5ms/step - accuracy: 0.9608 - loss: 0.1653 - val_accuracy: 0.9615 - val_loss: 0.1631 - learning_rate: 1.0000e-05\n",
      "Epoch 43/50\n",
      "\u001b[1m390/390\u001b[0m \u001b[32m━━━━━━━━━━━━━━━━━━━━\u001b[0m\u001b[37m\u001b[0m \u001b[1m2s\u001b[0m 5ms/step - accuracy: 0.9590 - loss: 0.1712 - val_accuracy: 0.9615 - val_loss: 0.1631 - learning_rate: 1.0000e-05\n",
      "Epoch 44/50\n",
      "\u001b[1m390/390\u001b[0m \u001b[32m━━━━━━━━━━━━━━━━━━━━\u001b[0m\u001b[37m\u001b[0m \u001b[1m2s\u001b[0m 4ms/step - accuracy: 0.9633 - loss: 0.1574 - val_accuracy: 0.9615 - val_loss: 0.1631 - learning_rate: 1.0000e-05\n",
      "Epoch 45/50\n",
      "\u001b[1m390/390\u001b[0m \u001b[32m━━━━━━━━━━━━━━━━━━━━\u001b[0m\u001b[37m\u001b[0m \u001b[1m3s\u001b[0m 7ms/step - accuracy: 0.9601 - loss: 0.1675 - val_accuracy: 0.9615 - val_loss: 0.1631 - learning_rate: 1.0000e-05\n",
      "Epoch 46/50\n",
      "\u001b[1m390/390\u001b[0m \u001b[32m━━━━━━━━━━━━━━━━━━━━\u001b[0m\u001b[37m\u001b[0m \u001b[1m2s\u001b[0m 4ms/step - accuracy: 0.9616 - loss: 0.1628 - val_accuracy: 0.9615 - val_loss: 0.1631 - learning_rate: 1.0000e-05\n",
      "Epoch 47/50\n",
      "\u001b[1m390/390\u001b[0m \u001b[32m━━━━━━━━━━━━━━━━━━━━\u001b[0m\u001b[37m\u001b[0m \u001b[1m3s\u001b[0m 6ms/step - accuracy: 0.9608 - loss: 0.1655 - val_accuracy: 0.9615 - val_loss: 0.1631 - learning_rate: 1.0000e-05\n",
      "Epoch 48/50\n",
      "\u001b[1m390/390\u001b[0m \u001b[32m━━━━━━━━━━━━━━━━━━━━\u001b[0m\u001b[37m\u001b[0m \u001b[1m2s\u001b[0m 4ms/step - accuracy: 0.9621 - loss: 0.1613 - val_accuracy: 0.9615 - val_loss: 0.1631 - learning_rate: 1.0000e-05\n",
      "Epoch 49/50\n",
      "\u001b[1m390/390\u001b[0m \u001b[32m━━━━━━━━━━━━━━━━━━━━\u001b[0m\u001b[37m\u001b[0m \u001b[1m2s\u001b[0m 4ms/step - accuracy: 0.9617 - loss: 0.1625 - val_accuracy: 0.9615 - val_loss: 0.1631 - learning_rate: 1.0000e-05\n",
      "Epoch 50/50\n",
      "\u001b[1m390/390\u001b[0m \u001b[32m━━━━━━━━━━━━━━━━━━━━\u001b[0m\u001b[37m\u001b[0m \u001b[1m2s\u001b[0m 5ms/step - accuracy: 0.9626 - loss: 0.1597 - val_accuracy: 0.9615 - val_loss: 0.1631 - learning_rate: 1.0000e-05\n"
=======
      "\u001b[1m390/390\u001b[0m \u001b[32m━━━━━━━━━━━━━━━━━━━━\u001b[0m\u001b[37m\u001b[0m \u001b[1m12s\u001b[0m 12ms/step - accuracy: 0.9710 - loss: 1.3598 - val_accuracy: 0.9740 - val_loss: 0.1382 - learning_rate: 0.0010\n",
      "Epoch 2/50\n",
      "\u001b[1m390/390\u001b[0m \u001b[32m━━━━━━━━━━━━━━━━━━━━\u001b[0m\u001b[37m\u001b[0m \u001b[1m4s\u001b[0m 11ms/step - accuracy: 0.9717 - loss: 0.1552 - val_accuracy: 0.9740 - val_loss: 0.1261 - learning_rate: 0.0010\n",
      "Epoch 3/50\n",
      "\u001b[1m390/390\u001b[0m \u001b[32m━━━━━━━━━━━━━━━━━━━━\u001b[0m\u001b[37m\u001b[0m \u001b[1m4s\u001b[0m 10ms/step - accuracy: 0.9750 - loss: 0.1294 - val_accuracy: 0.9740 - val_loss: 0.1245 - learning_rate: 0.0010\n",
      "Epoch 4/50\n",
      "\u001b[1m390/390\u001b[0m \u001b[32m━━━━━━━━━━━━━━━━━━━━\u001b[0m\u001b[37m\u001b[0m \u001b[1m3s\u001b[0m 8ms/step - accuracy: 0.9723 - loss: 0.1361 - val_accuracy: 0.9740 - val_loss: 0.1218 - learning_rate: 0.0010\n",
      "Epoch 5/50\n",
      "\u001b[1m390/390\u001b[0m \u001b[32m━━━━━━━━━━━━━━━━━━━━\u001b[0m\u001b[37m\u001b[0m \u001b[1m4s\u001b[0m 10ms/step - accuracy: 0.9724 - loss: 0.1346 - val_accuracy: 0.9740 - val_loss: 0.1212 - learning_rate: 0.0010\n",
      "Epoch 6/50\n",
      "\u001b[1m390/390\u001b[0m \u001b[32m━━━━━━━━━━━━━━━━━━━━\u001b[0m\u001b[37m\u001b[0m \u001b[1m4s\u001b[0m 10ms/step - accuracy: 0.9752 - loss: 0.1259 - val_accuracy: 0.9740 - val_loss: 0.1217 - learning_rate: 0.0010\n",
      "Epoch 7/50\n",
      "\u001b[1m390/390\u001b[0m \u001b[32m━━━━━━━━━━━━━━━━━━━━\u001b[0m\u001b[37m\u001b[0m \u001b[1m5s\u001b[0m 9ms/step - accuracy: 0.9743 - loss: 0.1275 - val_accuracy: 0.9740 - val_loss: 0.1209 - learning_rate: 0.0010\n",
      "Epoch 8/50\n",
      "\u001b[1m390/390\u001b[0m \u001b[32m━━━━━━━━━━━━━━━━━━━━\u001b[0m\u001b[37m\u001b[0m \u001b[1m4s\u001b[0m 9ms/step - accuracy: 0.9714 - loss: 0.1397 - val_accuracy: 0.9740 - val_loss: 0.1210 - learning_rate: 0.0010\n",
      "Epoch 9/50\n",
      "\u001b[1m390/390\u001b[0m \u001b[32m━━━━━━━━━━━━━━━━━━━━\u001b[0m\u001b[37m\u001b[0m \u001b[1m4s\u001b[0m 10ms/step - accuracy: 0.9729 - loss: 0.1318 - val_accuracy: 0.9740 - val_loss: 0.1209 - learning_rate: 0.0010\n",
      "Epoch 10/50\n",
      "\u001b[1m390/390\u001b[0m \u001b[32m━━━━━━━━━━━━━━━━━━━━\u001b[0m\u001b[37m\u001b[0m \u001b[1m3s\u001b[0m 6ms/step - accuracy: 0.9725 - loss: 0.1329 - val_accuracy: 0.9740 - val_loss: 0.1207 - learning_rate: 2.0000e-04\n",
      "Epoch 11/50\n",
      "\u001b[1m390/390\u001b[0m \u001b[32m━━━━━━━━━━━━━━━━━━━━\u001b[0m\u001b[37m\u001b[0m \u001b[1m3s\u001b[0m 7ms/step - accuracy: 0.9734 - loss: 0.1290 - val_accuracy: 0.9740 - val_loss: 0.1206 - learning_rate: 2.0000e-04\n",
      "Epoch 12/50\n",
      "\u001b[1m390/390\u001b[0m \u001b[32m━━━━━━━━━━━━━━━━━━━━\u001b[0m\u001b[37m\u001b[0m \u001b[1m5s\u001b[0m 7ms/step - accuracy: 0.9698 - loss: 0.1427 - val_accuracy: 0.9740 - val_loss: 0.1206 - learning_rate: 2.0000e-04\n",
      "Epoch 13/50\n",
      "\u001b[1m390/390\u001b[0m \u001b[32m━━━━━━━━━━━━━━━━━━━━\u001b[0m\u001b[37m\u001b[0m \u001b[1m3s\u001b[0m 8ms/step - accuracy: 0.9724 - loss: 0.1330 - val_accuracy: 0.9740 - val_loss: 0.1206 - learning_rate: 4.0000e-05\n",
      "Epoch 14/50\n",
      "\u001b[1m390/390\u001b[0m \u001b[32m━━━━━━━━━━━━━━━━━━━━\u001b[0m\u001b[37m\u001b[0m \u001b[1m3s\u001b[0m 7ms/step - accuracy: 0.9714 - loss: 0.1385 - val_accuracy: 0.9740 - val_loss: 0.1206 - learning_rate: 4.0000e-05\n",
      "Epoch 15/50\n",
      "\u001b[1m390/390\u001b[0m \u001b[32m━━━━━━━━━━━━━━━━━━━━\u001b[0m\u001b[37m\u001b[0m \u001b[1m3s\u001b[0m 8ms/step - accuracy: 0.9733 - loss: 0.1292 - val_accuracy: 0.9740 - val_loss: 0.1205 - learning_rate: 4.0000e-05\n",
      "Epoch 16/50\n",
      "\u001b[1m390/390\u001b[0m \u001b[32m━━━━━━━━━━━━━━━━━━━━\u001b[0m\u001b[37m\u001b[0m \u001b[1m3s\u001b[0m 7ms/step - accuracy: 0.9733 - loss: 0.1289 - val_accuracy: 0.9740 - val_loss: 0.1205 - learning_rate: 4.0000e-05\n",
      "Epoch 17/50\n",
      "\u001b[1m390/390\u001b[0m \u001b[32m━━━━━━━━━━━━━━━━━━━━\u001b[0m\u001b[37m\u001b[0m \u001b[1m3s\u001b[0m 8ms/step - accuracy: 0.9728 - loss: 0.1327 - val_accuracy: 0.9740 - val_loss: 0.1205 - learning_rate: 1.0000e-05\n",
      "Epoch 18/50\n",
      "\u001b[1m390/390\u001b[0m \u001b[32m━━━━━━━━━━━━━━━━━━━━\u001b[0m\u001b[37m\u001b[0m \u001b[1m3s\u001b[0m 8ms/step - accuracy: 0.9750 - loss: 0.1227 - val_accuracy: 0.9740 - val_loss: 0.1205 - learning_rate: 1.0000e-05\n",
      "Epoch 19/50\n",
      "\u001b[1m390/390\u001b[0m \u001b[32m━━━━━━━━━━━━━━━━━━━━\u001b[0m\u001b[37m\u001b[0m \u001b[1m3s\u001b[0m 7ms/step - accuracy: 0.9725 - loss: 0.1310 - val_accuracy: 0.9740 - val_loss: 0.1205 - learning_rate: 1.0000e-05\n",
      "Epoch 20/50\n",
      "\u001b[1m390/390\u001b[0m \u001b[32m━━━━━━━━━━━━━━━━━━━━\u001b[0m\u001b[37m\u001b[0m \u001b[1m6s\u001b[0m 10ms/step - accuracy: 0.9756 - loss: 0.1205 - val_accuracy: 0.9740 - val_loss: 0.1205 - learning_rate: 1.0000e-05\n",
      "Epoch 21/50\n",
      "\u001b[1m390/390\u001b[0m \u001b[32m━━━━━━━━━━━━━━━━━━━━\u001b[0m\u001b[37m\u001b[0m \u001b[1m6s\u001b[0m 11ms/step - accuracy: 0.9755 - loss: 0.1235 - val_accuracy: 0.9740 - val_loss: 0.1205 - learning_rate: 1.0000e-05\n",
      "Epoch 22/50\n",
      "\u001b[1m390/390\u001b[0m \u001b[32m━━━━━━━━━━━━━━━━━━━━\u001b[0m\u001b[37m\u001b[0m \u001b[1m4s\u001b[0m 9ms/step - accuracy: 0.9714 - loss: 0.1350 - val_accuracy: 0.9740 - val_loss: 0.1205 - learning_rate: 1.0000e-05\n",
      "Epoch 23/50\n",
      "\u001b[1m390/390\u001b[0m \u001b[32m━━━━━━━━━━━━━━━━━━━━\u001b[0m\u001b[37m\u001b[0m \u001b[1m4s\u001b[0m 11ms/step - accuracy: 0.9726 - loss: 0.1370 - val_accuracy: 0.9740 - val_loss: 0.1205 - learning_rate: 1.0000e-05\n",
      "Epoch 24/50\n",
      "\u001b[1m390/390\u001b[0m \u001b[32m━━━━━━━━━━━━━━━━━━━━\u001b[0m\u001b[37m\u001b[0m \u001b[1m4s\u001b[0m 9ms/step - accuracy: 0.9708 - loss: 0.1366 - val_accuracy: 0.9740 - val_loss: 0.1205 - learning_rate: 1.0000e-05\n",
      "Epoch 25/50\n",
      "\u001b[1m390/390\u001b[0m \u001b[32m━━━━━━━━━━━━━━━━━━━━\u001b[0m\u001b[37m\u001b[0m \u001b[1m4s\u001b[0m 9ms/step - accuracy: 0.9731 - loss: 0.1321 - val_accuracy: 0.9740 - val_loss: 0.1205 - learning_rate: 1.0000e-05\n",
      "Epoch 26/50\n",
      "\u001b[1m390/390\u001b[0m \u001b[32m━━━━━━━━━━━━━━━━━━━━\u001b[0m\u001b[37m\u001b[0m \u001b[1m5s\u001b[0m 8ms/step - accuracy: 0.9700 - loss: 0.1423 - val_accuracy: 0.9740 - val_loss: 0.1205 - learning_rate: 1.0000e-05\n",
      "Epoch 27/50\n",
      "\u001b[1m390/390\u001b[0m \u001b[32m━━━━━━━━━━━━━━━━━━━━\u001b[0m\u001b[37m\u001b[0m \u001b[1m3s\u001b[0m 8ms/step - accuracy: 0.9734 - loss: 0.1301 - val_accuracy: 0.9740 - val_loss: 0.1205 - learning_rate: 1.0000e-05\n",
      "Epoch 28/50\n",
      "\u001b[1m390/390\u001b[0m \u001b[32m━━━━━━━━━━━━━━━━━━━━\u001b[0m\u001b[37m\u001b[0m \u001b[1m3s\u001b[0m 8ms/step - accuracy: 0.9744 - loss: 0.1278 - val_accuracy: 0.9740 - val_loss: 0.1205 - learning_rate: 1.0000e-05\n",
      "Epoch 29/50\n",
      "\u001b[1m390/390\u001b[0m \u001b[32m━━━━━━━━━━━━━━━━━━━━\u001b[0m\u001b[37m\u001b[0m \u001b[1m3s\u001b[0m 8ms/step - accuracy: 0.9739 - loss: 0.1267 - val_accuracy: 0.9740 - val_loss: 0.1205 - learning_rate: 1.0000e-05\n",
      "Epoch 30/50\n",
      "\u001b[1m390/390\u001b[0m \u001b[32m━━━━━━━━━━━━━━━━━━━━\u001b[0m\u001b[37m\u001b[0m \u001b[1m4s\u001b[0m 11ms/step - accuracy: 0.9748 - loss: 0.1238 - val_accuracy: 0.9740 - val_loss: 0.1205 - learning_rate: 1.0000e-05\n",
      "Epoch 31/50\n",
      "\u001b[1m390/390\u001b[0m \u001b[32m━━━━━━━━━━━━━━━━━━━━\u001b[0m\u001b[37m\u001b[0m \u001b[1m3s\u001b[0m 9ms/step - accuracy: 0.9706 - loss: 0.1406 - val_accuracy: 0.9740 - val_loss: 0.1205 - learning_rate: 1.0000e-05\n",
      "Epoch 32/50\n",
      "\u001b[1m390/390\u001b[0m \u001b[32m━━━━━━━━━━━━━━━━━━━━\u001b[0m\u001b[37m\u001b[0m \u001b[1m3s\u001b[0m 8ms/step - accuracy: 0.9737 - loss: 0.1286 - val_accuracy: 0.9740 - val_loss: 0.1205 - learning_rate: 1.0000e-05\n",
      "Epoch 33/50\n",
      "\u001b[1m390/390\u001b[0m \u001b[32m━━━━━━━━━━━━━━━━━━━━\u001b[0m\u001b[37m\u001b[0m \u001b[1m6s\u001b[0m 11ms/step - accuracy: 0.9715 - loss: 0.1354 - val_accuracy: 0.9740 - val_loss: 0.1205 - learning_rate: 1.0000e-05\n",
      "Epoch 34/50\n",
      "\u001b[1m390/390\u001b[0m \u001b[32m━━━━━━━━━━━━━━━━━━━━\u001b[0m\u001b[37m\u001b[0m \u001b[1m5s\u001b[0m 12ms/step - accuracy: 0.9719 - loss: 0.1383 - val_accuracy: 0.9740 - val_loss: 0.1205 - learning_rate: 1.0000e-05\n",
      "Epoch 35/50\n",
      "\u001b[1m390/390\u001b[0m \u001b[32m━━━━━━━━━━━━━━━━━━━━\u001b[0m\u001b[37m\u001b[0m \u001b[1m5s\u001b[0m 11ms/step - accuracy: 0.9740 - loss: 0.1277 - val_accuracy: 0.9740 - val_loss: 0.1205 - learning_rate: 1.0000e-05\n",
      "Epoch 36/50\n",
      "\u001b[1m390/390\u001b[0m \u001b[32m━━━━━━━━━━━━━━━━━━━━\u001b[0m\u001b[37m\u001b[0m \u001b[1m4s\u001b[0m 10ms/step - accuracy: 0.9729 - loss: 0.1337 - val_accuracy: 0.9740 - val_loss: 0.1205 - learning_rate: 1.0000e-05\n",
      "Epoch 37/50\n",
      "\u001b[1m390/390\u001b[0m \u001b[32m━━━━━━━━━━━━━━━━━━━━\u001b[0m\u001b[37m\u001b[0m \u001b[1m4s\u001b[0m 10ms/step - accuracy: 0.9702 - loss: 0.1383 - val_accuracy: 0.9740 - val_loss: 0.1205 - learning_rate: 1.0000e-05\n",
      "Epoch 38/50\n",
      "\u001b[1m390/390\u001b[0m \u001b[32m━━━━━━━━━━━━━━━━━━━━\u001b[0m\u001b[37m\u001b[0m \u001b[1m6s\u001b[0m 13ms/step - accuracy: 0.9736 - loss: 0.1282 - val_accuracy: 0.9740 - val_loss: 0.1205 - learning_rate: 1.0000e-05\n",
      "Epoch 39/50\n",
      "\u001b[1m390/390\u001b[0m \u001b[32m━━━━━━━━━━━━━━━━━━━━\u001b[0m\u001b[37m\u001b[0m \u001b[1m5s\u001b[0m 11ms/step - accuracy: 0.9697 - loss: 0.1427 - val_accuracy: 0.9740 - val_loss: 0.1205 - learning_rate: 1.0000e-05\n",
      "Epoch 40/50\n",
      "\u001b[1m390/390\u001b[0m \u001b[32m━━━━━━━━━━━━━━━━━━━━\u001b[0m\u001b[37m\u001b[0m \u001b[1m3s\u001b[0m 8ms/step - accuracy: 0.9720 - loss: 0.1337 - val_accuracy: 0.9740 - val_loss: 0.1205 - learning_rate: 1.0000e-05\n",
      "Epoch 41/50\n",
      "\u001b[1m390/390\u001b[0m \u001b[32m━━━━━━━━━━━━━━━━━━━━\u001b[0m\u001b[37m\u001b[0m \u001b[1m6s\u001b[0m 9ms/step - accuracy: 0.9725 - loss: 0.1320 - val_accuracy: 0.9740 - val_loss: 0.1205 - learning_rate: 1.0000e-05\n",
      "Epoch 42/50\n",
      "\u001b[1m390/390\u001b[0m \u001b[32m━━━━━━━━━━━━━━━━━━━━\u001b[0m\u001b[37m\u001b[0m \u001b[1m7s\u001b[0m 15ms/step - accuracy: 0.9729 - loss: 0.1339 - val_accuracy: 0.9740 - val_loss: 0.1205 - learning_rate: 1.0000e-05\n",
      "Epoch 43/50\n",
      "\u001b[1m390/390\u001b[0m \u001b[32m━━━━━━━━━━━━━━━━━━━━\u001b[0m\u001b[37m\u001b[0m \u001b[1m4s\u001b[0m 11ms/step - accuracy: 0.9726 - loss: 0.1324 - val_accuracy: 0.9740 - val_loss: 0.1205 - learning_rate: 1.0000e-05\n",
      "Epoch 44/50\n",
      "\u001b[1m390/390\u001b[0m \u001b[32m━━━━━━━━━━━━━━━━━━━━\u001b[0m\u001b[37m\u001b[0m \u001b[1m5s\u001b[0m 10ms/step - accuracy: 0.9739 - loss: 0.1293 - val_accuracy: 0.9740 - val_loss: 0.1205 - learning_rate: 1.0000e-05\n",
      "Epoch 45/50\n",
      "\u001b[1m390/390\u001b[0m \u001b[32m━━━━━━━━━━━━━━━━━━━━\u001b[0m\u001b[37m\u001b[0m \u001b[1m5s\u001b[0m 10ms/step - accuracy: 0.9708 - loss: 0.1401 - val_accuracy: 0.9740 - val_loss: 0.1205 - learning_rate: 1.0000e-05\n",
      "Epoch 46/50\n",
      "\u001b[1m390/390\u001b[0m \u001b[32m━━━━━━━━━━━━━━━━━━━━\u001b[0m\u001b[37m\u001b[0m \u001b[1m6s\u001b[0m 12ms/step - accuracy: 0.9710 - loss: 0.1393 - val_accuracy: 0.9740 - val_loss: 0.1205 - learning_rate: 1.0000e-05\n",
      "Epoch 47/50\n",
      "\u001b[1m390/390\u001b[0m \u001b[32m━━━━━━━━━━━━━━━━━━━━\u001b[0m\u001b[37m\u001b[0m \u001b[1m5s\u001b[0m 11ms/step - accuracy: 0.9716 - loss: 0.1371 - val_accuracy: 0.9740 - val_loss: 0.1205 - learning_rate: 1.0000e-05\n",
      "Epoch 48/50\n",
      "\u001b[1m390/390\u001b[0m \u001b[32m━━━━━━━━━━━━━━━━━━━━\u001b[0m\u001b[37m\u001b[0m \u001b[1m5s\u001b[0m 10ms/step - accuracy: 0.9726 - loss: 0.1308 - val_accuracy: 0.9740 - val_loss: 0.1205 - learning_rate: 1.0000e-05\n",
      "Epoch 49/50\n",
      "\u001b[1m390/390\u001b[0m \u001b[32m━━━━━━━━━━━━━━━━━━━━\u001b[0m\u001b[37m\u001b[0m \u001b[1m4s\u001b[0m 9ms/step - accuracy: 0.9720 - loss: 0.1366 - val_accuracy: 0.9740 - val_loss: 0.1205 - learning_rate: 1.0000e-05\n",
      "Epoch 50/50\n",
      "\u001b[1m390/390\u001b[0m \u001b[32m━━━━━━━━━━━━━━━━━━━━\u001b[0m\u001b[37m\u001b[0m \u001b[1m5s\u001b[0m 8ms/step - accuracy: 0.9732 - loss: 0.1313 - val_accuracy: 0.9740 - val_loss: 0.1205 - learning_rate: 1.0000e-05\n"
>>>>>>> 91bb1452e962976921a7ef862507ecfe05c55e9a
     ]
    }
   ],
   "source": [
    "early_stopping = EarlyStopping(monitor='val_loss', patience=3, restore_best_weights=True)\n",
    "lr_scheduler = ReduceLROnPlateau(monitor='val_loss', factor=0.2, patience=2, min_lr=1e-5)\n",
    "\n",
    "history = embedding_model.fit(\n",
    "    X_train_tensor, \n",
    "    y_train_tensor,\n",
    "    epochs=50,\n",
    "    batch_size=32,\n",
    "    validation_data=(X_val_tensor, y_val_tensor),\n",
    "    callbacks=[early_stopping, lr_scheduler]\n",
    ")\n"
   ]
  },
  {
   "cell_type": "code",
<<<<<<< HEAD
   "execution_count": 10,
=======
   "execution_count": 234,
>>>>>>> 91bb1452e962976921a7ef862507ecfe05c55e9a
   "id": "ad1befd9-9fd5-4c27-9581-c477c42866a8",
   "metadata": {},
   "outputs": [
    {
     "data": {
<<<<<<< HEAD
      "image/png": "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",
=======
      "image/png": "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",
>>>>>>> 91bb1452e962976921a7ef862507ecfe05c55e9a
      "text/plain": [
       "<Figure size 1200x400 with 2 Axes>"
      ]
     },
     "metadata": {},
     "output_type": "display_data"
    }
   ],
   "source": [
    "# Menampilkan hasil pelatihan\n",
    "import matplotlib.pyplot as plt\n",
    "\n",
    "# Ploting loss dan accuracy\n",
    "plt.figure(figsize=(12, 4))\n",
    "\n",
    "# Plot Loss\n",
    "plt.subplot(1, 2, 1)\n",
    "plt.plot(history.history['loss'], label='Training Loss')\n",
    "plt.plot(history.history['val_loss'], label='Validation Loss')\n",
    "plt.title('Loss Curve')\n",
    "plt.xlabel('Epochs')\n",
    "plt.ylabel('Loss')\n",
    "plt.legend()\n",
    "\n",
    "# Plot Accuracy\n",
    "plt.subplot(1, 2, 2)\n",
    "plt.plot(history.history['accuracy'], label='Training Accuracy')\n",
    "plt.plot(history.history['val_accuracy'], label='Validation Accuracy')\n",
    "plt.title('Accuracy Curve')\n",
    "plt.xlabel('Epochs')\n",
    "plt.ylabel('Accuracy')\n",
    "plt.legend()\n",
    "\n",
    "plt.show()\n",
    "\n",
    "# # Evaluasi model pada data validasi\n",
    "# val_loss, val_accuracy = model.evaluate(X_val_tensor, y_val_tensor)\n",
    "# print(f'Validation Loss: {val_loss}')\n",
    "# print(f'Validation Accuracy: {val_accuracy}')"
   ]
  },
  {
   "cell_type": "code",
<<<<<<< HEAD
   "execution_count": 11,
=======
   "execution_count": 235,
>>>>>>> 91bb1452e962976921a7ef862507ecfe05c55e9a
   "id": "ceefdde0-6ca8-4eee-a37f-da28d192cf81",
   "metadata": {},
   "outputs": [],
   "source": [
    "def recommend_recipes_with_embedding_sorted(query, word2vec_model, data, top_n=10, vector_size=100):\n",
    "    \"\"\"\n",
    "    Memberikan rekomendasi berdasarkan query menggunakan cosine similarity dari Word2Vec embedding,\n",
    "    dan mengurutkan berdasarkan jumlah Loves secara descending.\n",
    "    \n",
    "    Parameters:\n",
    "        query (str): Input teks query (misal: \"ayam bakar\").\n",
    "        word2vec_model: Model Word2Vec yang digunakan untuk embedding.\n",
    "        data (DataFrame): Dataframe yang berisi kolom 'Embedding' dan 'Cleaned_Text'.\n",
    "        top_n (int): Jumlah rekomendasi yang diinginkan.\n",
    "        vector_size (int): Dimensi embedding Word2Vec.\n",
    "    \n",
    "    Returns:\n",
    "        List[Dict]: Rekomendasi dalam format list of dictionaries.\n",
    "    \"\"\"\n",
    "    # Preprocess query\n",
    "    query_cleaned = clean_text(query)\n",
    "    \n",
    "    # Generate embedding untuk query\n",
    "    query_embedding = document_embedding(query_cleaned, word2vec_model, vector_size=vector_size)\n",
    "    \n",
    "    # Hitung cosine similarity antara query dan semua embedding dalam dataset\n",
    "    doc_embeddings = np.array(data['Embedding'].tolist())\n",
    "    similarities = cosine_similarity([query_embedding], doc_embeddings)[0]\n",
    "    \n",
    "    # Ambil top N rekomendasi berdasarkan similarity\n",
    "    top_indices = similarities.argsort()[-top_n:][::-1] \n",
    "    recommended_recipes = data.iloc[top_indices]\n",
    "    \n",
    "    # Urutkan berdasarkan 'Loves' secara descending\n",
    "    recommended_recipes = recommended_recipes.sort_values(by=['Loves'], ascending=False)\n",
    "    \n",
    "    # Convert hasil ke JSON format serializable\n",
    "    recommendations_json = recommended_recipes[['Title', 'Ingredients', 'Steps', 'Loves']].to_dict(orient='records')\n",
    "    \n",
    "    return recommendations_json\n",
    "    "
   ]
  },
  {
   "cell_type": "code",
<<<<<<< HEAD
   "execution_count": 13,
=======
   "execution_count": 236,
>>>>>>> 91bb1452e962976921a7ef862507ecfe05c55e9a
   "id": "0bb9a294-2352-42bb-abbe-9f60bd6a9ce7",
   "metadata": {},
   "outputs": [
    {
     "name": "stdout",
     "output_type": "stream",
     "text": [
      "[\n",
      "    {\n",
<<<<<<< HEAD
      "        \"Title\": \"Udang goreng simple\",\n",
      "        \"Ingredients\": \"1/2 kg udang segar,3 siung bawang putih,2 mata asam jawa,secukupnya Garam,\",\n",
      "        \"Steps\": \"Cuci bersih udang dan buang kepalanya, sisihkan,Haluskan bawang putih, garam, dan asam jawa,Balurkan bumbu ke udang, diamkan 30 menit, lalu goreng,Sisa udang yg telah berbumbu bisa disimpan di kulkas, dan goreng sesaat sebelum makan,\",\n",
      "        \"Loves\": 18\n",
      "    },\n",
      "    {\n",
      "        \"Title\": \"Tumis bawang rambut udang pape\",\n",
      "        \"Ingredients\": \"1 ikat bawang rambut,20 gram udang pape,4 buah cabe,Garam dan kaldu,\",\n",
      "        \"Steps\": \"Rendam sebentar udang dan cuci bersih. Potong daun bawang dan cabe,Tumis semua bahan hingga harum tambah kan sedikit air berikan garam dan kaldu. Masak hingga air berkurang.,\",\n",
      "        \"Loves\": 12\n",
      "    },\n",
      "    {\n",
      "        \"Title\": \"Sup Iga Sapi\",\n",
      "        \"Ingredients\": \"500 gr tulang iga sapi,2 buah wortel,1 buah kurma kering,4 buah jamur kering, rendam lalu iris panjang,secukupnya Daun seledri,secukupnya Garam,Penyedap bila suka (sya tidak pakai),\",\n",
      "        \"Steps\": \"Cuci bersih tulang iga lalu potong\\\", titiskan...masak air -+2 liter sampai mendidih masukkan semua bahan rebus selama 2 jam tambahkan garam.tes rasa terakhir masukkan seledri.siap disajikan.,\",\n",
      "        \"Loves\": 11\n",
      "    },\n",
      "    {\n",
      "        \"Title\": \"Goreng udang guriiiih\",\n",
      "        \"Ingredients\": \"200 gr udang buang kepala,50 ml minyak sayur,5 siung bawang putih,Sejumput garam,\",\n",
      "        \"Steps\": \"Buang kepala udang lalu cuci sampai bersih. Tiriskan dan beri garam, aduk rata. Diamkan.,Panaskan 50 ml minyak,Tumis bawang putih sampai harum.,Masukan udang, aduk aduk sampai udang berubah warna dan matang,Angkat lalu tiriskan.,Sajikan, udang sudah gurih jd tidak perlu penambahan msg,\",\n",
      "        \"Loves\": 9\n",
      "    },\n",
      "    {\n",
      "        \"Title\": \"Tumis brokoli udang makaroni\",\n",
      "        \"Ingredients\": \"100 gram brokoli,50 gram makaroni,Secukupnya udang (kupas),4 Siung bawang merah,Secukupnya garam,Secukupnya gula pasir,Secukupnya merica,Secukupnya air,\",\n",
      "        \"Steps\": \"Cuci bersih brokoli, potong kecil-kecil (karena saya sekalian buat Mpasi) rendam dalam air garam selama 3menit. Angkat tiriskan.,Rebus makaroni terlebih dahulu, sampai empuk. Angkat tiriskan.,Cuci bersih udang yg telah di kupas potong kecil-kecil atau sesuai selera.,Tumis bawang merah sampai harum. Tambahkan air sedikit saja. Kemudian tunggu mendidih. Lalu masukan udang terlebih dahulu sampai berwarna keorange orangean.,Tambahkan brokoli dan makaroni. Lalu campurkan garam gula dan merica secukupnya. Diamkan sebentar sampai bumbu meresap.,Cicipi rasa. Angkat dan sajikan.,\",\n",
      "        \"Loves\": 8\n",
      "    },\n",
      "    {\n",
      "        \"Title\": \"Memanfaatkan sampah udang\",\n",
      "        \"Ingredients\": \"150 gr kepala udang (bakal sampah),secukupnya garam,\",\n",
      "        \"Steps\": \"Cuci bersih kepala udang. Rebus kepala udang dengan 1/4 gelas sampai keluar saripatinya. Matikan kompor, airnya simpan dalam wadah. Ini bisa buat kuah kaldu udang (untuk Mpasi, atau tomyum).,Kepala udang tadi di tiriskan, Kemudian sangrai kepala udang sampai benar-benar kering (kaku dan garing). Biarkan dingin.,Blender halus kepala udang tadi dengan sejumput garam.,Taruh pada wadah kering, dan bisa dibuat menjadi seperti olahan ebi, campuran nasi goreng, dan lauk lainnya agar terasa seperti makan seafood. Nah, mudah kan. Jadi dirumah bebas dari sampah udang deh. ;),\",\n",
=======
      "        \"Title\": \"Udang goreng garlic\",\n",
      "        \"Ingredients\": \"gr udang pake tiger prawn ukuran sedang siung bawang putih haluskansecukupnya garamsecukupnya ladaperasan jeruk nipisminyak menggoreng\",\n",
      "        \"Steps\": \"bersihkan udang buang kotoran kepala belah punggung potong kumis duri kepala n ekorkucurkan perasan air jeruk nipis taburkan garam lada bumbu halus ratakan diamkan minimal menitpanaskan minyak goreng udang hingga matang seberapa keringnya tergantung selera yaa\",\n",
      "        \"Loves\": 33\n",
      "    },\n",
      "    {\n",
      "        \"Title\": \"Udang goreng simple\",\n",
      "        \"Ingredients\": \"kg udang segar siung bawang putih mata asam jawasecukupnya garam\",\n",
      "        \"Steps\": \"cuci bersih udang buang kepalanya sisihkanhaluskan bawang putih garam asam jawabalurkan bumbu udang diamkan menit lalu gorengsisa udang yg berbumbu disimpan kulkas goreng sesaat makan\",\n",
      "        \"Loves\": 18\n",
      "    },\n",
      "    {\n",
      "        \"Title\": \"Udang goreng ala kadar\",\n",
      "        \"Ingredients\": \"kg udangbuang kepala ekor sdt garam sdt penyedapminyak menggoreng\",\n",
      "        \"Steps\": \"cuci udang yg sdh bersihkanlalu mskkan garam penyedappnskan minyaklalu goreng udang smpi matang\",\n",
      "        \"Loves\": 13\n",
      "    },\n",
      "    {\n",
      "        \"Title\": \"Tumis bawang rambut udang pape\",\n",
      "        \"Ingredients\": \"ikat bawang rambut gram udang pape buah cabegaram kaldu\",\n",
      "        \"Steps\": \"rendam sebentar udang cuci bersih potong daun bawang cabetumis semua bahan hingga harum tambah kan sedikit air berikan garam kaldu masak hingga air berkurang\",\n",
      "        \"Loves\": 12\n",
      "    },\n",
      "    {\n",
      "        \"Title\": \"Goreng udang guriiiih\",\n",
      "        \"Ingredients\": \"gr udang buang kepala ml minyak sayur siung bawang putihsejumput garam\",\n",
      "        \"Steps\": \"buang kepala udang lalu cuci bersih tiriskan beri garam aduk rata diamkanpanaskan ml minyaktumis bawang putih harummasukan udang aduk aduk udang berubah warna matangangkat lalu tiriskansajikan udang gurih jd perlu penambahan msg\",\n",
      "        \"Loves\": 9\n",
      "    },\n",
      "    {\n",
      "        \"Title\": \"Memanfaatkan sampah udang\",\n",
      "        \"Ingredients\": \"gr kepala udang bakal sampahsecukupnya garam\",\n",
      "        \"Steps\": \"cuci bersih kepala udang rebus kepala udang gelas keluar saripatinya matikan kompor airnya simpan wadah buat kuah kaldu udang mpasi tomyumkepala udang tadi tiriskan kemudian sangrai kepala udang benarbenar kering kaku garing biarkan dinginblender halus kepala udang tadi sejumput garamtaruh wadah kering dibuat menjadi olahan ebi campuran nasi goreng lauk lainnya terasa makan seafood nah mudah kan jadi dirumah bebas sampah udang deh\",\n",
>>>>>>> 91bb1452e962976921a7ef862507ecfe05c55e9a
      "        \"Loves\": 8\n",
      "    },\n",
      "    {\n",
      "        \"Title\": \"Cah brokoli udang saus mentega (saori)\",\n",
<<<<<<< HEAD
      "        \"Ingredients\": \"250 gr udang,1 brokoli,1 sachet saori saos mentega,1/4 bawang bombay,1 bawang putih,Margarin,\",\n",
      "        \"Steps\": \"Cuci bersih udang, kupas kulit & buang kepala lalu goreng sebentar sampai warna udang kemerahan,Cuci bersih brokoli, rebus sampai matang,Cincang bawang bombay, geprek bawang putih. Lalu goreng dengan margarin sampai harum,Masukan udang dan brokoli aduk sampai rata,Masukan saos saori, lalu beri sedikit air,Masak sampai kuah mengental,Siap disajikan,\",\n",
      "        \"Loves\": 7\n",
      "    },\n",
      "    {\n",
      "        \"Title\": \"Kikil sapi goreng\",\n",
      "        \"Ingredients\": \"250 gr kikil sapi, cuci bersih lalu potong selera,2 siung bawang putih,1 sdm ketumbar,1 lbr daun salam,Garam,Gula,Lada bubuk,\",\n",
      "        \"Steps\": \"Rebus kikil di air mendidih 10 menit sampai busa kotornya keluar, lalu buang airnya, cuci bersih kikil, rebus kembali dengan daun salam.,Haluskan bumbu, masukkan ke dalam rebusan kikil, beri gula garam lada sesuai selera, lalu ungkep sampai air menyusut.,Goreng kikil sesuai selera. Done! Sajikan.,\",\n",
      "        \"Loves\": 7\n",
      "    },\n",
      "    {\n",
      "        \"Title\": \"Minyak udang\",\n",
      "        \"Ingredients\": \"Kepala dan kulit udang secukupnya,(Me dari 350 gram udang),secukupnya Minyak,secukupnya Garam,4 siung bawang putih,1 buah kemiri,\",\n",
      "        \"Steps\": \"Cuci bersih kepala dan kulit udang kemudian tiriskan,Ulek kasar bawang putih dan Kemiri,Masukkan kepala udang dalam panci + tambahkan minyak sampai tenggelam kepala udang@ + garam, masak dengan api kecil sampai mendidih dan aroma udang@ keluar semerbak,,, emang bunga ,Sediakan botol yg bersih dan kering,,,Angkat minyak saring selagi panas2@ +bumbu ulekan,,, aduk2,,,,Masukan kedalam botol,,, minyak siap digunakan,,,, ,\",\n",
      "        \"Loves\": 4\n",
      "    },\n",
      "    {\n",
      "        \"Title\": \"Soto Daging Iga Sapi\",\n",
      "        \"Ingredients\": \"1/2 kg daging sapi (campur dengan iga sapi),1 sachet bumbu soto ayam indofood,1 buah bawang prei (iris tipis-tipis),\",\n",
      "        \"Steps\": \"Rebus daging sapi dan iga hingga empuk. Jika sudah, buang air rebusannya dan iris tipis daging sapi. Lalu rebus lagi untuk kuah sotonya.,Tumis bumbu instan sachet indofood dan bawang prei,Masukkan tumisan ke dalam rebusan kedua daging dan iga sapi tadi.,Cek rasa.,Siap dihidangkan.,\",\n",
=======
      "        \"Ingredients\": \"gr udang brokoli sachet saori saos mentega bawang bombay bawang putihmargarin\",\n",
      "        \"Steps\": \"cuci bersih udang kupas kulit buang kepala lalu goreng sebentar warna udang kemerahancuci bersih brokoli rebus matangcincang bawang bombay geprek bawang putih lalu goreng margarin harummasukan udang brokoli aduk ratamasukan saos saori lalu beri sedikit airmasak kuah mengentalsiap disajikan\",\n",
      "        \"Loves\": 7\n",
      "    },\n",
      "    {\n",
      "        \"Title\": \"88. Udang Goreng Garlic\",\n",
      "        \"Ingredients\": \"ekor udang galah bersihkan buang kumis kotoran bonggol bawang putih geprek asal siung bawang putih haluskan sdt garam ml air merebusminyak menggoreng\",\n",
      "        \"Steps\": \"lumuri udang galah yg dibersihkan garam bawang putih geprek bawang putih yg dihaluskan diamkan mntdidihkan air masukkan udang galah beserta bumbu bawang putih kemerahan angkat tiriskan step udang makanpanaskan minyak goreng udang galah bawang putihnya sajikan\",\n",
      "        \"Loves\": 7\n",
      "    },\n",
      "    {\n",
      "        \"Title\": \"Oseng udang tanpa cabe\",\n",
      "        \"Ingredients\": \"grm udang buang kepala ekor cm jahe buah bawang putih buah bawang merahsecukupny garamgula\",\n",
      "        \"Steps\": \"iris semua bumbu tumis harummasukkan udang masak smpai berubah warnatambahkan airgulagaramcek rasa sajikan\",\n",
      "        \"Loves\": 6\n",
      "    },\n",
      "    {\n",
      "        \"Title\": \"Udang galah goreng\",\n",
      "        \"Ingredients\": \"gr udang galah siung bawang putihminyak gorengsecukupnya garam\",\n",
      "        \"Steps\": \"bersihkan udangbuang kotoran dikepala udangdan cuci bersihhaluskan bawang putih garamcampurkan udang bumbuaduk bumbu tercampur ratabiarkan bumbu resap dulu selama menitpanaskan penggorengan masukan udanggoreng kemerahanangkat tiriskanudang galah goreng siap dihidangkan\",\n",
>>>>>>> 91bb1452e962976921a7ef862507ecfe05c55e9a
      "        \"Loves\": 2\n",
      "    }\n",
      "]\n"
     ]
    }
   ],
   "source": [
    "query = \"udang rebus\"\n",
    "recommended_recipes_json = recommend_recipes_with_embedding_sorted(query, word2vec_model, data, top_n=10)\n",
    "\n",
    "# Simpan hasil dalam format JSON\n",
    "with open('recommended_recipes_embedding.json', 'w', encoding='utf-8') as json_file:\n",
    "    json.dump(recommended_recipes_json, json_file, ensure_ascii=False, indent=4)\n",
    "\n",
    "# Tampilkan hasil\n",
    "print(json.dumps(recommended_recipes_json, ensure_ascii=False, indent=4))\n"
   ]
  },
  {
   "cell_type": "code",
<<<<<<< HEAD
   "execution_count": 14,
   "id": "20a39ccc-1d60-4458-9039-6f1e605464d0",
   "metadata": {},
   "outputs": [
    {
     "ename": "NameError",
     "evalue": "name 'model' is not defined",
     "output_type": "error",
     "traceback": [
      "\u001b[1;31m---------------------------------------------------------------------------\u001b[0m",
      "\u001b[1;31mNameError\u001b[0m                                 Traceback (most recent call last)",
      "Cell \u001b[1;32mIn[14], line 2\u001b[0m\n\u001b[0;32m      1\u001b[0m \u001b[38;5;66;03m# Save Model ke h5\u001b[39;00m\n\u001b[1;32m----> 2\u001b[0m \u001b[43mmodel\u001b[49m\u001b[38;5;241m.\u001b[39msave(\u001b[38;5;124m'\u001b[39m\u001b[38;5;124mfeat-search-2.h5\u001b[39m\u001b[38;5;124m'\u001b[39m)\n",
      "\u001b[1;31mNameError\u001b[0m: name 'model' is not defined"
     ]
    }
   ],
   "source": [
    "# Save Model ke h5\n",
    "model.save('feat-search-2.h5')"
=======
   "execution_count": 215,
   "id": "eca90cc6-607e-4b7a-9c1e-55f01f9c5b26",
   "metadata": {},
   "outputs": [],
   "source": [
    "# !pip install tensorflowjs"
>>>>>>> 91bb1452e962976921a7ef862507ecfe05c55e9a
   ]
  },
  {
   "cell_type": "code",
<<<<<<< HEAD
   "execution_count": null,
=======
   "execution_count": 216,
   "id": "20a39ccc-1d60-4458-9039-6f1e605464d0",
   "metadata": {},
   "outputs": [],
   "source": [
    "# # Save Model ke h5\n",
    "# model.save('feat-search-2.h5')"
   ]
  },
  {
   "cell_type": "code",
   "execution_count": 217,
>>>>>>> 91bb1452e962976921a7ef862507ecfe05c55e9a
   "id": "5082c504-d0b9-4666-89ae-0c404883f36a",
   "metadata": {},
   "outputs": [],
   "source": [
    "# # Convert to tensorflowjs\n",
    "# tensorflowjs_converter --input_format keras model_recipes.h5 tfjs_model/"
   ]
  },
  {
   "cell_type": "code",
<<<<<<< HEAD
   "execution_count": null,
=======
   "execution_count": 218,
>>>>>>> 91bb1452e962976921a7ef862507ecfe05c55e9a
   "id": "e459b031-28e6-44ee-93c3-eb6f1de915cc",
   "metadata": {},
   "outputs": [],
   "source": [
    "# from flask import Flask, request, jsonify\n",
    "\n",
    "# app = Flask(__name__)\n",
    "\n",
    "# # Endpoint untuk mendapatkan rekomendasi\n",
    "# @app.route('/recommend', methods=['POST'])\n",
    "# def recommend():\n",
    "#     query = request.json.get('query', '')\n",
    "#     top_n = int(request.json.get('top_n', 5))\n",
    "#     recommendations = recommend_recipes(query, data, word2vec_model, top_n)\n",
    "#     response = recommendations[['Title', 'Ingredients', 'Steps', 'Loves']].to_dict(orient='records')\n",
    "#     return jsonify(response)\n",
    "\n",
    "# if __name__ == '__main__':\n",
    "#     app.run(debug=True)\n"
   ]
  },
  {
   "cell_type": "code",
   "execution_count": null,
   "id": "05487870-1b5f-4140-9451-4dc456e798df",
   "metadata": {},
   "outputs": [],
   "source": []
  }
 ],
 "metadata": {
  "kernelspec": {
   "display_name": "Python 3 (ipykernel)",
   "language": "python",
   "name": "python3"
  },
  "language_info": {
   "codemirror_mode": {
    "name": "ipython",
    "version": 3
   },
   "file_extension": ".py",
   "mimetype": "text/x-python",
   "name": "python",
   "nbconvert_exporter": "python",
   "pygments_lexer": "ipython3",
   "version": "3.12.1"
  }
 },
 "nbformat": 4,
 "nbformat_minor": 5
}
